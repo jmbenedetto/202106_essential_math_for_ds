{
 "cells": [
  {
   "cell_type": "code",
   "execution_count": 1,
   "metadata": {
    "execution": {
     "iopub.execute_input": "2021-03-23T10:43:32.985128Z",
     "iopub.status.busy": "2021-03-23T10:43:32.984420Z",
     "iopub.status.idle": "2021-03-23T10:43:33.429561Z",
     "shell.execute_reply": "2021-03-23T10:43:33.430045Z"
    }
   },
   "outputs": [],
   "source": [
    "# Basic imports\n",
    "import numpy as np\n",
    "import pandas as pd\n",
    "import matplotlib.pyplot as plt\n",
    "import matplotlib\n",
    "from mpl_toolkits.mplot3d import Axes3D\n",
    "from matplotlib import ticker\n",
    "\n",
    "# Display options\n",
    "from IPython.display import display\n",
    "pd.options.display.max_columns = None\n",
    "\n",
    "np.set_printoptions(threshold=30)\n",
    "\n",
    "# Plots style\n",
    "from cycler import cycler\n",
    "\n",
    "matplotlib.rcParams['lines.linewidth'] = 3\n",
    "matplotlib.rcParams['lines.markersize'] = 10\n",
    "\n",
    "matplotlib.rcParams['xtick.labelsize'] = 12\n",
    "matplotlib.rcParams['xtick.color'] = '#A9A9A9'\n",
    "matplotlib.rcParams['ytick.labelsize'] = 12\n",
    "matplotlib.rcParams['ytick.color'] = '#A9A9A9'\n",
    "\n",
    "matplotlib.rcParams['grid.color'] = '#ffffff'\n",
    "\n",
    "matplotlib.rcParams['axes.facecolor'] = '#ffffff'\n",
    "\n",
    "matplotlib.rcParams['axes.spines.left'] = False\n",
    "matplotlib.rcParams['axes.spines.right'] = False\n",
    "matplotlib.rcParams['axes.spines.top'] = False\n",
    "matplotlib.rcParams['axes.spines.bottom'] = False\n",
    "\n",
    "matplotlib.rcParams['axes.prop_cycle'] = cycler(color=['#2EBCE7', '#84EE29', '#FF8177'])"
   ]
  },
  {
   "cell_type": "markdown",
   "metadata": {},
   "source": [
    "$$\n",
    "\\def\\var{{\\text{Var}}} % Variance\n",
    "\\def\\corr{{\\text{Corr}}} % Correlation\n",
    "\\def\\cov{{\\text{Cov}}} % Covariance\n",
    "\\def\\expval{{}}\n",
    "\\newcommand\\norm[1]{\\lVert#1\\rVert} % norm\n",
    "\\def\\setR{{\\rm I\\!R}} % Sets\n",
    "\\def\\rx{{\\textrm{X}}} % Scalar random variables\n",
    "\\def\\ry{{\\textrm{Y}}}\n",
    "\\def\\rz{{\\textrm{Z}}}\n",
    "\\def\\rvx{{\\textbf{X}}} % Vector random variables\n",
    "\\def\\rvy{{\\textbf{Y}}}\n",
    "\\def\\rvz{{\\textbf{Z}}}\n",
    "\\def\\vtheta{{\\boldsymbol{\\theta}}} % Vectors\n",
    "\\def\\va{{\\boldsymbol{a}}}\n",
    "\\def\\vb{{\\boldsymbol{b}}}\n",
    "\\def\\vi{{\\boldsymbol{i}}}\n",
    "\\def\\vj{{\\boldsymbol{j}}}\n",
    "\\def\\vp{{\\boldsymbol{p}}}\n",
    "\\def\\vq{{\\boldsymbol{q}}}\n",
    "\\def\\vu{{\\boldsymbol{u}}}\n",
    "\\def\\vv{{\\boldsymbol{v}}}\n",
    "\\def\\vw{{\\boldsymbol{w}}}\n",
    "\\def\\vx{{\\boldsymbol{x}}}\n",
    "\\def\\vy{{\\boldsymbol{y}}}\n",
    "\\def\\vz{{\\boldsymbol{z}}}\n",
    "\\def\\evu{{u}} % Elements of vectors\n",
    "\\def\\evv{{v}}\n",
    "\\def\\evw{{w}}\n",
    "\\def\\evx{{x}}\n",
    "\\def\\evy{{y}}\n",
    "\\def\\evz{{z}}\n",
    "\\def\\mA{{\\boldsymbol{A}}} % Matrices\n",
    "\\def\\mB{{\\boldsymbol{B}}}\n",
    "\\def\\mC{{\\boldsymbol{C}}}\n",
    "\\def\\mD{{\\boldsymbol{D}}}\n",
    "\\def\\mI{{\\boldsymbol{I}}}\n",
    "\\def\\mQ{{\\boldsymbol{Q}}}\n",
    "\\def\\mS{{\\boldsymbol{S}}}\n",
    "\\def\\mT{{\\boldsymbol{T}}}\n",
    "\\def\\mU{{\\boldsymbol{U}}}\n",
    "\\def\\mV{{\\boldsymbol{V}}}\n",
    "\\def\\mW{{\\boldsymbol{W}}}\n",
    "\\def\\mX{{\\boldsymbol{X}}}\n",
    "\\def\\mLambda{{\\boldsymbol{\\Lambda}}}\n",
    "\\def\\mSigma{{\\boldsymbol{\\Sigma}}}\n",
    "\\def\\emA{{A}} % Elements of matrices\n",
    "\\def\\emB{{B}}\n",
    "\\def\\emX{{X}}\n",
    "\\def\\tT{{T}} % Transformations\n",
    "$$\n",
    "\n",
    "\n",
    "\n",
    "Appendix A. Graphical Representation of Equations\n",
    "=================================================\n",
    "\n",
    "In this section, you’ll see a practical introduction to graphical\n",
    "representations of equations with Python.\n",
    "\n",
    "Plotting Equations\n",
    "------------------"
   ]
  },
  {
   "cell_type": "markdown",
   "metadata": {},
   "source": [
    "### Two Variables\n",
    "\n",
    "You’ll use the function `plot()` from Matplotlib to plot the\n",
    "relationship between two variables. The `plot()` function draws lines\n",
    "between points, which are defined by coordinates, so you’ll need at\n",
    "least two points to draw a linear equation.\n",
    "\n",
    "Let’s take an example. If you want to convert meters to feet, you’ll\n",
    "need to know the relationship between these two units. In this case, 1\n",
    "meter is approximately equal to 3.28 feet. If you call $m$ the number of\n",
    "meters and $f$ the number of feet, you can write:\n",
    "\n",
    "$$\n",
    "f = 3.28 m\n",
    "$$\n",
    "\n",
    "For instance, the equation means that two meters corresponds to\n",
    "$3.28 \\cdot 2 = 6.56$ feet. It expresses the relationship between meters\n",
    "and feet. You can also consider it as a *mapping* between the number of\n",
    "meters and the number of feet, that is to say, as a list of pairs of\n",
    "values.\n",
    "\n",
    "| meters   | feet     |\n",
    "|----------|----------|\n",
    "| 1        | 3.28     |\n",
    "| 2        | 6.56     |\n",
    "| 3        | 9.84     |\n",
    "| $\\vdots$ | $\\vdots$ |\n",
    "| 10       | 32.8     |\n",
    "| $\\vdots$ | $\\vdots$ |\n",
    "\n",
    "You can take two points from this mapping and display $m$ on the x-axis\n",
    "and $f$ on the y-axis. For instance:\n",
    "\n",
    "-   The point at $m=0$, that corresponds to $f=3.28 \\times 0 = 0$,\n",
    "    giving coordinates zero on the $x$-axis and zero on the $y$-axis.\n",
    "-   The point at $m=3$, that corresponds to $f=3.28 \\times 3 = 9.84$,\n",
    "    giving coordinates (3, 9.84).\n",
    "\n",
    "Create a variable `x` that contains the $x$ coordinates and a variable\n",
    "`y` that contains the $y$ coordinates:"
   ]
  },
  {
   "cell_type": "code",
   "execution_count": 2,
   "metadata": {
    "execution": {
     "iopub.execute_input": "2021-03-23T10:43:33.433663Z",
     "iopub.status.busy": "2021-03-23T10:43:33.433104Z",
     "iopub.status.idle": "2021-03-23T10:43:33.434861Z",
     "shell.execute_reply": "2021-03-23T10:43:33.435263Z"
    }
   },
   "outputs": [],
   "source": [
    "x = [0, 3]\n",
    "y = [0, 9.84]"
   ]
  },
  {
   "cell_type": "markdown",
   "metadata": {},
   "source": [
    "If you use `plt.plot()` to visualize this two points, Matplotlib will\n",
    "draw a line going from the coordinate (0, 0) to the coordinate (3,\n",
    "9.84)."
   ]
  },
  {
   "cell_type": "code",
   "execution_count": 3,
   "metadata": {
    "execution": {
     "iopub.execute_input": "2021-03-23T10:43:33.462656Z",
     "iopub.status.busy": "2021-03-23T10:43:33.455016Z",
     "iopub.status.idle": "2021-03-23T10:43:33.627177Z",
     "shell.execute_reply": "2021-03-23T10:43:33.627681Z"
    }
   },
   "outputs": [
    {
     "data": {
      "image/png": "[encoded data removed]",
      "text/plain": [
       "<Figure size 432x288 with 1 Axes>"
      ]
     },
     "metadata": {
      "needs_background": "dark"
     },
     "output_type": "display_data"
    }
   ],
   "source": [
    "plt.plot(x, y)\n",
    "# [...] Add axes, styles etc.\n",
    "\n",
    "# Assure that ticks are displayed with a specific step\n",
    "ax = plt.gca()\n",
    "ax.xaxis.set_major_locator(ticker.MultipleLocator(2))\n",
    "ax.yaxis.set_major_locator(ticker.MultipleLocator(2))\n",
    "\n",
    "# draw axes\n",
    "plt.axhline(0, c='#d6d6d6', zorder=0)\n",
    "plt.axvline(0, c='#d6d6d6', zorder=0)\n",
    "\n",
    "# assure x and y axis have the same scale\n",
    "plt.axis('equal')\n",
    "\n",
    "plt.xlim(-2, 10)\n",
    "plt.ylim(-2, 10)\n",
    "plt.show()\n"
   ]
  },
  {
    "cell_type": "markdown",
   "metadata": {},
   "source": [
    "<img src=\"images/blank.png\" id=\"fig:appA_equation_line_points\" alt=\"Figure 197: Equation of the line corresponding to the relationship between feet and meters using two points.\" />\n",
    "Figure 197: Equation of the line corresponding to the relationship between feet and meters using two points.\n",
    "\n",
    "However, this procedure of connecting two points with a line will not\n",
    "work for nonlinear equations (those not represented by a line): you’ll\n",
    "need more points for that.\n",
    "\n",
    "To avoid manually filling in values from the equation mapping, you can\n",
    "create an array representing the $x$ values with the resolution you\n",
    "need, for instance, all values in a range with a step of 0.1. Then, you\n",
    "calculate $y$ for all values of $x$.\n",
    "\n",
    "You can use `np.arange(start, stop, step)` that creates an array with\n",
    "values from `start` to `stop`. Each value is spaced by the value of\n",
    "`step`."
   ]
  },
  {
   "cell_type": "code",
   "execution_count": 4,
   "metadata": {
    "execution": {
     "iopub.execute_input": "2021-03-23T10:43:33.632357Z",
     "iopub.status.busy": "2021-03-23T10:43:33.631629Z",
     "iopub.status.idle": "2021-03-23T10:43:33.635086Z",
     "shell.execute_reply": "2021-03-23T10:43:33.635794Z"
    }
   },
   "outputs": [
    {
     "data": {
      "text/plain": [
       "array([-10,  -9,  -8,  -7,  -6,  -5,  -4,  -3,  -2,  -1,   0,   1,   2,\n",
       "         3,   4,   5,   6,   7,   8,   9,  10])"
      ]
     },
     "execution_count": 1,
     "metadata": {},
     "output_type": "execute_result"
    }
   ],
   "source": [
    "x = np.arange(-10, 11, 1)\n",
    "x"
   ]
  },
  {
   "cell_type": "markdown",
   "metadata": {},
   "source": [
    "The `x` array contains values from -10 to 10 (we stopped at 11 because\n",
    "the `stop` value is excluded) with a step of one.\n",
    "\n",
    "Then, you can create a $y$ that depends on $x$. We will take the example\n",
    "of the nonlinear sinusoid function $\\sin(x)$:"
   ]
  },
  {
   "cell_type": "code",
   "execution_count": 5,
   "metadata": {
    "execution": {
     "iopub.execute_input": "2021-03-23T10:43:33.641590Z",
     "iopub.status.busy": "2021-03-23T10:43:33.640725Z",
     "iopub.status.idle": "2021-03-23T10:43:33.643747Z",
     "shell.execute_reply": "2021-03-23T10:43:33.644260Z"
    }
   },
   "outputs": [
    {
     "data": {
      "text/plain": [
       "array([ 0.54402111, -0.41211849, -0.98935825, -0.6569866 ,  0.2794155 ,\n",
       "        0.95892427,  0.7568025 , -0.14112001, -0.90929743, -0.84147098,\n",
       "        0.        ,  0.84147098,  0.90929743,  0.14112001, -0.7568025 ,\n",
       "       -0.95892427, -0.2794155 ,  0.6569866 ,  0.98935825,  0.41211849,\n",
       "       -0.54402111])"
      ]
     },
     "execution_count": 1,
     "metadata": {},
     "output_type": "execute_result"
    }
   ],
   "source": [
    "y = np.sin(x)\n",
    "y"
   ]
  },
  {
   "cell_type": "markdown",
   "metadata": {},
   "source": [
    "Now you have two arrays that you can plot."
   ]
  },
  {
   "cell_type": "code",
   "execution_count": 6,
   "metadata": {
    "execution": {
     "iopub.execute_input": "2021-03-23T10:43:33.674497Z",
     "iopub.status.busy": "2021-03-23T10:43:33.669565Z",
     "iopub.status.idle": "2021-03-23T10:43:34.005092Z",
     "shell.execute_reply": "2021-03-23T10:43:34.005550Z"
    }
   },
   "outputs": [
    {
     "data": {
      "image/png": "[encoded data removed]",
      "text/plain": [
       "<Figure size 432x288 with 1 Axes>"
      ]
     },
     "metadata": {
      "needs_background": "dark"
     },
     "output_type": "display_data"
    }
   ],
   "source": [
    "plt.plot(x, y)\n",
    "# [...] Add axes, styles etc.\n",
    "\n",
    "\n",
    "# Assure that ticks are displayed with a specific step\n",
    "ax = plt.gca()\n",
    "ax.xaxis.set_major_locator(ticker.MultipleLocator(2))\n",
    "ax.yaxis.set_major_locator(ticker.MultipleLocator(2))\n",
    "\n",
    "# draw axes\n",
    "plt.axhline(0, c='#d6d6d6', zorder=0)\n",
    "plt.axvline(0, c='#d6d6d6', zorder=0)\n",
    "\n",
    "plt.xlabel(\"$x$\")\n",
    "plt.ylabel(\"$y$ = $\\sin(x)$\")\n",
    "plt.show()\n",
    "\n"
   ]
  },
  {
    "cell_type": "markdown",
   "metadata": {},
   "source": [
    "<img src=\"images/blank.png\" id=\"fig:appA_broken_sine_wave\" alt=\"Figure 198: Sinusoid function represented with a low resolution.\" />\n",
    "Figure 198: Sinusoid function represented with a low resolution.\n",
    "\n",
    "Figure [198](#fig:appA_broken_sine_wave) looks like a broken sine\n",
    "function! This is because you did not take enough points and thus the\n",
    "resolution is bad. Let’s do it again with a different step."
   ]
  },
  {
   "cell_type": "code",
   "execution_count": 7,
   "metadata": {
    "execution": {
     "iopub.execute_input": "2021-03-23T10:43:34.010215Z",
     "iopub.status.busy": "2021-03-23T10:43:34.009511Z",
     "iopub.status.idle": "2021-03-23T10:43:34.011494Z",
     "shell.execute_reply": "2021-03-23T10:43:34.012024Z"
    }
   },
   "outputs": [],
   "source": [
    "x = np.arange(-10, 11, 0.1)\n",
    "y = np.sin(x)"
   ]
  },
  {
   "cell_type": "markdown",
   "metadata": {},
   "source": [
    "This time let’s take a step of 0.1, leading to more values in both\n",
    "arrays (see Figure [199](#fig:appA_sine_good_resolution))."
   ]
  },
  {
   "cell_type": "code",
   "execution_count": 8,
   "metadata": {
    "execution": {
     "iopub.execute_input": "2021-03-23T10:43:34.032523Z",
     "iopub.status.busy": "2021-03-23T10:43:34.031368Z",
     "iopub.status.idle": "2021-03-23T10:43:34.189198Z",
     "shell.execute_reply": "2021-03-23T10:43:34.189799Z"
    }
   },
   "outputs": [
    {
     "data": {
      "image/png": "[encoded data removed]",
      "text/plain": [
       "<Figure size 432x288 with 1 Axes>"
      ]
     },
     "metadata": {
      "needs_background": "dark"
     },
     "output_type": "display_data"
    }
   ],
   "source": [
    "plt.plot(x, y)\n",
    "# [...] Add axes, styles etc.\n",
    "\n",
    "# Assure that ticks are displayed with a specific step\n",
    "ax = plt.gca()\n",
    "ax.xaxis.set_major_locator(ticker.MultipleLocator(2))\n",
    "ax.yaxis.set_major_locator(ticker.MultipleLocator(2))\n",
    "\n",
    "# draw axes\n",
    "plt.axhline(0, c='#d6d6d6', zorder=0)\n",
    "plt.axvline(0, c='#d6d6d6', zorder=0)\n",
    "\n",
    "\n",
    "plt.xlabel(\"$x$\")\n",
    "plt.ylabel(\"$y$ = $\\sin(x)$\")\n",
    "plt.show()\n"
   ]
  },
  {
    "cell_type": "markdown",
   "metadata": {},
   "source": [
    "<img src=\"images/blank.png\" id=\"fig:appA_sine_good_resolution\" alt=\"Figure 199: Sinusoid function with a better resolution\" />\n",
    "Figure 199: Sinusoid function with a better resolution\n",
    "\n",
    "Figure [199](#fig:appA_sine_good_resolution) shows the sinusoid function\n",
    "with a better resolution."
   ]
  },
  {
   "cell_type": "markdown",
   "metadata": {},
   "source": [
    "### More Than Two Variables\n",
    "\n",
    "The plots you did in the last section used two axes, meaning that only\n",
    "two variables can be used. How can you do to visualize the relationship\n",
    "between more than two variables?\n",
    "\n",
    "Let’s take an example of an equation with three variables.\n",
    "\n",
    "$$\n",
    "z = 2x + 3y + 8\n",
    "$$\n",
    "\n",
    "Each point of the mapping is this time defined by three values instead\n",
    "of two, and thus you’ll need three dimensions to plot this equation.\n",
    "This also means that you’ll not plot a curve but a plane.\n",
    "\n",
    "Let’s use a 3D plot to represent it, with the function `plot_surface()`\n",
    "from Matplotlib.\n",
    "\n",
    "To do so, you’ll need to draw a grid of values. First, the Numpy\n",
    "function `np.linspace(start, stop, num)` creates array of `num` values\n",
    "from `start` to `stop`:"
   ]
  },
  {
   "cell_type": "code",
   "execution_count": 9,
   "metadata": {
    "execution": {
     "iopub.execute_input": "2021-03-23T10:43:34.194153Z",
     "iopub.status.busy": "2021-03-23T10:43:34.193520Z",
     "iopub.status.idle": "2021-03-23T10:43:34.196070Z",
     "shell.execute_reply": "2021-03-23T10:43:34.196550Z"
    }
   },
   "outputs": [
    {
     "data": {
      "text/plain": [
       "array([-10.        ,  -9.7979798 ,  -9.5959596 ,  -9.39393939,\n",
       "        -9.19191919, ...,   9.19191919,   9.39393939,   9.5959596 ,\n",
       "         9.7979798 ,  10.        ])"
      ]
     },
     "execution_count": 1,
     "metadata": {},
     "output_type": "execute_result"
    }
   ],
   "source": [
    "\n",
    "np.set_printoptions(threshold=30, edgeitems=5)\n",
    "\n",
    "np.linspace(-10, 10, 100)"
   ]
  },
  {
   "cell_type": "markdown",
   "metadata": {},
   "source": [
    "You can use the function `np.meshgrid()` from Numpy to create all\n",
    "possible combinations of these 1D arrays. You give it two\n",
    "one-dimensional arrays and it returns two two-dimensional arrays:"
   ]
  },
  {
   "cell_type": "code",
   "execution_count": 10,
   "metadata": {
    "execution": {
     "iopub.execute_input": "2021-03-23T10:43:34.201086Z",
     "iopub.status.busy": "2021-03-23T10:43:34.200468Z",
     "iopub.status.idle": "2021-03-23T10:43:34.202955Z",
     "shell.execute_reply": "2021-03-23T10:43:34.203376Z"
    }
   },
   "outputs": [
    {
     "data": {
      "text/plain": [
       "(100, 100)"
      ]
     },
     "execution_count": 1,
     "metadata": {},
     "output_type": "execute_result"
    }
   ],
   "source": [
    "x, y = np.meshgrid(np.linspace(-10, 10, 100), np.linspace(-10, 10, 100))\n",
    "x.shape"
   ]
  },
  {
   "cell_type": "markdown",
   "metadata": {},
   "source": [
    "All pairs of values from `x` and `y` gives all combinations of values\n",
    "from -10 to 10. Each combination corresponds to one point of coordinates\n",
    "`x` and `y`, and you can calculate $z$ from these two values according\n",
    "to the equation above."
   ]
  },
  {
   "cell_type": "code",
   "execution_count": 11,
   "metadata": {
    "execution": {
     "iopub.execute_input": "2021-03-23T10:43:34.207562Z",
     "iopub.status.busy": "2021-03-23T10:43:34.206892Z",
     "iopub.status.idle": "2021-03-23T10:43:34.209592Z",
     "shell.execute_reply": "2021-03-23T10:43:34.210035Z"
    }
   },
   "outputs": [
    {
     "data": {
      "text/plain": [
       "(100, 100)"
      ]
     },
     "execution_count": 1,
     "metadata": {},
     "output_type": "execute_result"
    }
   ],
   "source": [
    "z = 2 * x + 3 * y + 8\n",
    "z.shape"
   ]
  },
  {
   "cell_type": "markdown",
   "metadata": {},
   "source": [
    "Let’s try to plot the function:"
   ]
  },
  {
   "cell_type": "code",
   "execution_count": 12,
   "metadata": {
    "execution": {
     "iopub.execute_input": "2021-03-23T10:43:34.229481Z",
     "iopub.status.busy": "2021-03-23T10:43:34.228770Z",
     "iopub.status.idle": "2021-03-23T10:43:34.530588Z",
     "shell.execute_reply": "2021-03-23T10:43:34.530900Z"
    }
   },
   "outputs": [
    {
     "data": {
      "image/png": "[encoded data removed]",
      "text/plain": [
       "<Figure size 432x288 with 1 Axes>"
      ]
     },
     "metadata": {
      "needs_background": "dark"
     },
     "output_type": "display_data"
    }
   ],
   "source": [
    "fig = plt.figure()\n",
    "ax = fig.add_subplot(111, projection='3d')\n",
    "\n",
    "ax.plot_surface(x, y, z)\n",
    "\n",
    "plt.show()\n"
   ]
  },
  {
    "cell_type": "markdown",
   "metadata": {},
   "source": [
    "<img src=\"images/blank.png\" id=\"fig:appA_three_dimensional_plot\" alt=\"Figure 200: Three-dimensional plot of a plane.\" />\n",
    "Figure 200: Three-dimensional plot of a plane.\n",
    "\n",
    "Figure [200](#fig:appA_three_dimensional_plot) shows a plane\n",
    "corresponding to your equation.\n",
    "\n",
    "Note that we represented it with arbitrary limitations (between -10 and\n",
    "10 for $x$ and $y$) but it is infinite, just as with lines.\n",
    "\n",
    "Slope And Intercept\n",
    "-------------------\n",
    "\n",
    "Lines in the Cartesian plane, and thus linear equations, are defined by\n",
    "two parameters. These two parameters correspond graphically to the\n",
    "*slope* and the *$y$-intercept* (the $y$ value when $x=0$) of the line\n",
    "defined by the equation.\n",
    "\n",
    "Let’s take the example of the following equation, $a$ is the slope and\n",
    "$b$ the $y$-intercept:\n",
    "\n",
    "$$\n",
    "y = ax + b\n",
    "$$"
   ]
  },
  {
    "cell_type": "markdown",
   "metadata": {},
   "source": [
    "### Slope\n",
    "\n",
    "The slope $a$ is the parameter multiplied by $x$: it tells you that when\n",
    "you increase $x$ of one unit, $y$ increases of $ax$ units. It tells how\n",
    "much $y$ changes in comparison to $x$. This is the ratio of the change\n",
    "on the $y$-axis over the change on the $x$-axis.\n",
    "\n",
    "<img src=\"images/appA_linear_equation_slope.png\" id=\"fig:appA_linear_equation_slope\" width=\"250\" alt=\"Figure 201: Linear equations with different slopes.\" />\n",
    "Figure 201: Linear equations with different slopes.\n",
    "\n",
    "Figure [201](#fig:appA_linear_equation_slope) shows examples of linear\n",
    "equations with the $y$-intercept equal to zero ($b=0$) and different\n",
    "values of the slope. Note that when the slope equals zero, the function\n",
    "is constant (same $y$ for all $x$).\n",
    "\n",
    "When you go from 0 to 1 on the $x$-axis, $y$ changes accordingly to the\n",
    "slope. For instance, the blue line has a slope equal to 2, meaning that\n",
    "you add 2 on the vertical axis each time you add 1 on the horizontal\n",
    "axis. A negative slope means that you add negative values to $y$ each\n",
    "time you add positive values to $x$."
   ]
  },
  {
    "cell_type": "markdown",
   "metadata": {},
   "source": [
    "### $y$-Intercept\n",
    "\n",
    "The $y$-intercept corresponds to the value on the vertical axis when\n",
    "$x=0$. This value doesn’t affect the slope of the line.\n",
    "\n",
    "<img src=\"images/appA_linear_equation_intercept.png\" id=\"fig:appA_linear_equation_intercept\" width=\"250\" alt=\"Figure 202: Linear equations with different values of y-intercept and a fixed slope of 1.\" />\n",
    "Figure 202: Linear equations with different values of <span class=\"math inline\"><em>y</em></span>-intercept and a fixed slope of 1.\n",
    "\n",
    "Figure [202](#fig:appA_linear_equation_intercept) shows lines\n",
    "corresponding to linear equations with different $y$-intercepts. You can\n",
    "see that the lines are parallel (because the slope is the same) and\n",
    "vertically shifted.\n",
    "\n"
   ]
  }
 ],
 "metadata": {
  "language_info": {
   "codemirror_mode": {
    "name": "ipython",
    "version": 3
   },
   "file_extension": ".py",
   "mimetype": "text/x-python",
   "name": "python",
   "nbconvert_exporter": "python",
   "pygments_lexer": "ipython3",
   "version": "3.8.5"
  }
 },
 "nbformat": 4,
 "nbformat_minor": 5
}

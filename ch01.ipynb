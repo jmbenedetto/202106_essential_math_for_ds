{
 "cells": [
  {
   "cell_type": "code",
   "execution_count": 1,
   "metadata": {
    "execution": {
     "iopub.execute_input": "2021-03-23T10:38:12.352451Z",
     "iopub.status.busy": "2021-03-23T10:38:12.351438Z",
     "iopub.status.idle": "2021-03-23T10:38:13.424540Z",
     "shell.execute_reply": "2021-03-23T10:38:13.425143Z"
    }
   },
   "outputs": [],
   "source": [
    "# Basic imports\n",
    "import numpy as np\n",
    "import pandas as pd\n",
    "import matplotlib.pyplot as plt\n",
    "import matplotlib\n",
    "from mpl_toolkits.mplot3d import Axes3D\n",
    "from matplotlib import ticker\n",
    "\n",
    "# Display options\n",
    "from IPython.display import display\n",
    "pd.options.display.max_columns = None\n",
    "\n",
    "np.set_printoptions(threshold=30)\n",
    "\n",
    "# Plots style\n",
    "from cycler import cycler\n",
    "\n",
    "matplotlib.rcParams['lines.linewidth'] = 3\n",
    "matplotlib.rcParams['lines.markersize'] = 10\n",
    "\n",
    "matplotlib.rcParams['xtick.labelsize'] = 12\n",
    "matplotlib.rcParams['xtick.color'] = '#A9A9A9'\n",
    "matplotlib.rcParams['ytick.labelsize'] = 12\n",
    "matplotlib.rcParams['ytick.color'] = '#A9A9A9'\n",
    "\n",
    "matplotlib.rcParams['grid.color'] = '#ffffff'\n",
    "\n",
    "matplotlib.rcParams['axes.facecolor'] = '#ffffff'\n",
    "\n",
    "matplotlib.rcParams['axes.spines.left'] = False\n",
    "matplotlib.rcParams['axes.spines.right'] = False\n",
    "matplotlib.rcParams['axes.spines.top'] = False\n",
    "matplotlib.rcParams['axes.spines.bottom'] = False\n",
    "\n",
    "matplotlib.rcParams['axes.prop_cycle'] = cycler(color=['#2EBCE7', '#84EE29', '#FF8177'])"
   ]
  },
  {
   "cell_type": "markdown",
   "metadata": {},
   "source": [
    "$$\n",
    "\\def\\var{{\\text{Var}}} % Variance\n",
    "\\def\\corr{{\\text{Corr}}} % Correlation\n",
    "\\def\\cov{{\\text{Cov}}} % Covariance\n",
    "\\newcommand\\norm[1]{\\lVert#1\\rVert} % norm\n",
    "\\def\\setR{{\\rm I\\!R}} % Sets\n",
    "\\def\\rx{{\\textrm{X}}} % Scalar random variables\n",
    "\\def\\ry{{\\textrm{Y}}}\n",
    "\\def\\rz{{\\textrm{Z}}}\n",
    "\\def\\rvx{{\\textbf{X}}} % Vector random variables\n",
    "\\def\\rvy{{\\textbf{Y}}}\n",
    "\\def\\rvz{{\\textbf{Z}}}\n",
    "\\DeclareMathOperator{\\expval}{\\mathbb{E}} % Expected value\n",
    "\\def\\vtheta{{\\boldsymbol{\\theta}}} % Vectors\n",
    "\\def\\va{{\\boldsymbol{a}}}\n",
    "\\def\\vb{{\\boldsymbol{b}}}\n",
    "\\def\\vi{{\\boldsymbol{i}}}\n",
    "\\def\\vj{{\\boldsymbol{j}}}\n",
    "\\def\\vp{{\\boldsymbol{p}}}\n",
    "\\def\\vq{{\\boldsymbol{q}}}\n",
    "\\def\\vu{{\\boldsymbol{u}}}\n",
    "\\def\\vv{{\\boldsymbol{v}}}\n",
    "\\def\\vw{{\\boldsymbol{w}}}\n",
    "\\def\\vx{{\\boldsymbol{x}}}\n",
    "\\def\\vy{{\\boldsymbol{y}}}\n",
    "\\def\\vz{{\\boldsymbol{z}}}\n",
    "\\def\\evu{{u}} % Elements of vectors\n",
    "\\def\\evv{{v}}\n",
    "\\def\\evw{{w}}\n",
    "\\def\\evx{{x}}\n",
    "\\def\\evy{{y}}\n",
    "\\def\\evz{{z}}\n",
    "\\def\\mA{{\\boldsymbol{A}}} % Matrices\n",
    "\\def\\mB{{\\boldsymbol{B}}}\n",
    "\\def\\mC{{\\boldsymbol{C}}}\n",
    "\\def\\mD{{\\boldsymbol{D}}}\n",
    "\\def\\mI{{\\boldsymbol{I}}}\n",
    "\\def\\mQ{{\\boldsymbol{Q}}}\n",
    "\\def\\mS{{\\boldsymbol{S}}}\n",
    "\\def\\mT{{\\boldsymbol{T}}}\n",
    "\\def\\mU{{\\boldsymbol{U}}}\n",
    "\\def\\mV{{\\boldsymbol{V}}}\n",
    "\\def\\mW{{\\boldsymbol{W}}}\n",
    "\\def\\mX{{\\boldsymbol{X}}}\n",
    "\\def\\mLambda{{\\boldsymbol{\\Lambda}}}\n",
    "\\def\\mSigma{{\\boldsymbol{\\Sigma}}}\n",
    "\\def\\emA{{A}} % Elements of matrices\n",
    "\\def\\emB{{B}}\n",
    "\\def\\emX{{X}}\n",
    "\\def\\tT{{T}} % Transformations\n",
    "$$\n",
    "\n",
    "\n",
    "\n",
    "In this part, you’ll learn what you need of calculus for machine\n",
    "learning and data science. The main topics covered in this part are\n",
    "derivatives, partial derivatives, integrals and area under the curve.\n",
    "You will need these essential notions for more advanced parts of the\n",
    "book.\n",
    "\n",
    "Calculus: Derivatives and Integrals\n",
    "===================================\n",
    "\n",
    "Calculus is a branch of mathematics that gives tools to study rate of\n",
    "change of functions trough two main areas: derivatives and integrals. In\n",
    "the context of machine learning and data science, you can for instance\n",
    "use derivatives to optimize the parameters of a model with gradient\n",
    "descent (as you’ll see in the hands-on project at the end of this\n",
    "chapter). You might use integrals to calculate area under the curve (for\n",
    "instance, to evaluate performance of a model with the ROC curve, or to\n",
    "calculate probability from densities, as you’ll see in\n",
    "Section 2.3.2 ).\n",
    "\n",
    "1.1 Derivatives\n",
    "---------------"
   ]
  },
  {
    "cell_type": "markdown",
   "metadata": {},
   "source": [
    "### 1.1.1 Introduction\n",
    "\n",
    "The *derivative* of a function is related to its *rate of change*. The\n",
    "rate of change tells you how much the output of the function changes\n",
    "when a change is done to the input. It is calculated as the ratio\n",
    "between a change in the output and the corresponding change in the\n",
    "input.\n",
    "\n",
    "Graphically, it is the slope of the tangent at a given point of the\n",
    "function.\n",
    "\n",
    "Let’s start with an example. You measure the distance traveled (in\n",
    "meters) of a moving train as a function of time (in seconds), as\n",
    "represented in Figure [1](#fig:ch02_time_distance).\n",
    "\n",
    "<img src=\"images/ch02_time_distance.png\" id=\"fig:ch02_time_distance\" width=\"300\" alt=\"Figure 1: Example of a moving train. Distance is represented as a function of time.\" />\n",
    "Figure 1: Example of a moving train. Distance is represented as a function of time.\n",
    "\n",
    "Think about the rate of change of this function: it corresponds to the\n",
    "distance traveled in a specific unit of time. With the train example, it\n",
    "corresponds to another physical concept: speed.\n",
    "\n",
    "Figure [1](#fig:ch02_time_distance) shows that the distance traveled by\n",
    "the train in one unit of time is smaller at the beginning than at the\n",
    "end. A larger distance was traveled between one and two seconds (in\n",
    "green) in comparison to the distance traveled between zero and one\n",
    "second (in red): the speed increases with time.\n",
    "\n",
    "Now, say that you record the speed of the train.\n",
    "\n",
    "<figure>\n",
    "<img src=\"images/ch02_time_distance_speed.png\" id=\"fig:ch02_time_distance_speed\" width=\"400\" alt=\"Figure 2: The left panel shows the distance (y-axis) as a function of time (x-axis) and the slope of the tangent at different point in time. The right panel shows the speed (y-axis) as a function of time.\" /><figcaption aria-hidden=\"true\">Figure 2: The left panel shows the distance (<span class=\"math inline\"><em>y</em></span>-axis) as a function of time (<span class=\"math inline\"><em>x</em></span>-axis) and the slope of the tangent at different point in time. The right panel shows the speed (<span class=\"math inline\"><em>y</em></span>-axis) as a function of time.</figcaption>\n",
    "</figure>\n",
    "\n",
    "Figure [2](#fig:ch02_time_distance_speed) shows again the distance as a\n",
    "function of time in the left panel and the speed as a function of time\n",
    "in the right panel.\n",
    "\n",
    "Here is how these two functions are related. If you take the point at 1\n",
    "second in the right panel (in red), you get a speed value of two meter\n",
    "per second: this is the slope of the tangent line at 1 second in the\n",
    "left panel (also in red). Similarly, any $y$ value on the right figure\n",
    "gives you the slope of the tangent line for the corresponding $x$ value\n",
    "in the left figure.\n",
    "\n",
    "The slope in the left panel corresponds to the rate of change of the\n",
    "function at this point. For instance, if you take the red slope, you can\n",
    "see that in one unit of time, the distance traveled is 2 meters (for\n",
    "instance, between $x=0$ and $x=1$, you go from $y=-1$ to $y=1$).\n",
    "\n",
    "Mathematically, the plot in the right figure shows the derivative of the\n",
    "function plotted in the left figure. The derivative of a function $f$\n",
    "with respect to $x$ is the rate of change of $f$ as a function of $x$.\n",
    "The derivative of $f$ is another function which takes $x$ as input and\n",
    "returns the slope of the tangent line of $f$ at this value of $x$."
   ]
  },
  {
    "cell_type": "markdown",
   "metadata": {},
   "source": [
    "### 1.1.2 Mathematical Definition of Derivatives\n",
    "\n",
    "#### Limits\n",
    "\n",
    "You saw that the derivative at a point of a function is the slope of the\n",
    "tangent line at this point. The value of the slope corresponds to the\n",
    "*instantaneous rate of change* at this point, which is the rate of\n",
    "change at a specific moment. A change occurs between two points so the\n",
    "rate of change is calculated using two points. We consider that the\n",
    "distance between these two points, usually called $\\Delta x$ (you can\n",
    "find a summary of the Greek letters used in this book at the beginning\n",
    "of Section 12) and\n",
    "pronounced *delta x* approaches zero. Only in this case, the rate of\n",
    "change corresponds to the slope of the tangent at this point, and thus\n",
    "to the derivative of the function at this point.\n",
    "\n",
    "<img src=\"images/ch02_derivatives_tangent.png\" id=\"fig:ch02_derivatives_tangent\" width=\"500\" alt=\"Figure 3: Comparison of the line corresponding to a large \\Delta x (left) and a smaller \\Delta x (right). You can see that the line approaches the tangent when \\Delta x decreases.\" />\n",
    "Figure 3: Comparison of the line corresponding to a large <span class=\"math inline\"><em>Δ</em><em>x</em></span> (left) and a smaller <span class=\"math inline\"><em>Δ</em><em>x</em></span> (right). You can see that the line approaches the tangent when <span class=\"math inline\"><em>Δ</em><em>x</em></span> decreases.\n",
    "\n",
    "Figure [3](#fig:ch02_derivatives_tangent) shows the function $f(x)$ (in\n",
    "blue) and two points on the $x$-axis: $a$ and $a+\\Delta x$. The value\n",
    "$f(a)$ is the output of the function when the input is $a$ and\n",
    "$f(a + \\Delta x)$ when the input is $a + \\Delta x$.\n",
    "\n",
    "In the right plot, $\\Delta x$ is small: when you decrease the difference\n",
    "between the two points used to calculate the rate of change the line\n",
    "approaches the tangent of the curve at $a$.\n",
    "\n",
    "Mathematically, the difference between the two points on the curve when\n",
    "$\\Delta x$ approaches zero is denoted as:\n",
    "\n",
    "$$\n",
    "\\lim_{\\Delta x \\to 0} f(x + \\Delta x) - f(x)\n",
    "$$\n",
    "\n",
    "This is the concept of *limit*: this expression is read as “the limit of\n",
    "$f(x + \\Delta x) - f(x)$ as $\\Delta x$ approaches zero”.\n",
    "\n",
    "#### Calculating Derivatives\n",
    "\n",
    "The rate of change is given by the slope of the tangent line.\n",
    "\n",
    "<figure>\n",
    "<img src=\"images/ch02_slope_delta_ratio.png\" id=\"fig:ch02_slope_delta_ratio\" width=\"500\" alt=\"Figure 4: The slope of the green line is the ratio between \\Delta y and \\Delta x.\" /><figcaption aria-hidden=\"true\">Figure 4: The slope of the green line is the ratio between <span class=\"math inline\"><em>Δ</em><em>y</em></span> and <span class=\"math inline\"><em>Δ</em><em>x</em></span>.</figcaption>\n",
    "</figure>\n",
    "\n",
    "Figure [4](#fig:ch02_slope_delta_ratio) illustrates how the rate of\n",
    "change is calculated: it is the ratio between the change in the $y$-axis\n",
    "($\\Delta y$) and the change in the $x$-axis ($\\Delta x$):\n",
    "\n",
    "$$\n",
    "\\frac{\\Delta y}{\\Delta x} = \\frac{f(a + \\Delta x) - f(a)}{\\Delta x}\n",
    "$$\n",
    "\n",
    "When $\\Delta x$ approaches zero, this is the *differentiation equation*,\n",
    "used to calculate the derivative of the function $f$ with respect to\n",
    "$x$. It is denoted as:\n",
    "\n",
    "$$\n",
    "\\frac{d f(x)}{dx} = \\lim_{\\Delta x \\to 0} \\frac{f(x + \\Delta x) - f(x)}{\\Delta x}\n",
    "\\qquad (1)$$\n",
    "\n",
    "There are several kinds of mathematical notation that you can use to\n",
    "write a derivative.\n",
    "\n",
    "You can use the prime symbol $'$: the derivative of the function $f$ is\n",
    "for instance denoted as $f'$. This is called the *Lagrange notation*.\n",
    "\n",
    "With the *Leibniz notation*, you write:\n",
    "\n",
    "$$\n",
    "\\frac{d f(x)}{dx}\n",
    "$$\n",
    "\n",
    "This refers to the derivative of $f(x)$ with respect to $x$ (the\n",
    "variable $x$ is used for the differentiation). Going from $\\Delta x$ to\n",
    "$dx$ means that you take an infinitely small difference with the limit.\n",
    "Note that this is not really a ratio, but a notation system (see this\n",
    "question on the difference about ratio as notation in derivatives:\n",
    "https://math.stackexchange.com/questions/21199/is-frac-textrmdy-textrmdx-not-a-ratio.)\n",
    ". For instance,\n",
    "\n",
    "$$\n",
    "\\frac{d (x^2 + 3)}{dx}\n",
    "$$\n",
    "\n",
    "corresponds to the derivative of $x^2 + 3$ with respect to $x$.\n",
    "\n",
    "The Leibniz notation makes clear what is the variable over which you\n",
    "differentiate but the Lagrange notation is more compact. In this book,\n",
    "we’ll use both notations."
   ]
  },
  {
   "cell_type": "markdown",
   "metadata": {},
   "source": [
    "### 1.1.3 Derivatives of Linear And Nonlinear Functions\n",
    "\n",
    "You can extract rules from the fact that a function derivative\n",
    "corresponds to its rate of change.\n",
    "\n",
    "#### Constant Function\n",
    "\n",
    "The rate of change of a function is equal to zero when $y$ does not\n",
    "depend on $x$ (when the value of $y$ is the same for any $x$). For\n",
    "instance, take the function $f(x) = 4$:"
   ]
  },
  {
   "cell_type": "code",
   "execution_count": 2,
   "metadata": {
    "execution": {
     "iopub.execute_input": "2021-03-23T10:38:13.482351Z",
     "iopub.status.busy": "2021-03-23T10:38:13.469945Z",
     "iopub.status.idle": "2021-03-23T10:38:13.552158Z",
     "shell.execute_reply": "2021-03-23T10:38:13.552549Z"
    }
   },
   "outputs": [
    {
     "data": {
      "image/png": "[encoded data removed]",
      "text/plain": [
       "<Figure size 432x288 with 1 Axes>"
      ]
     },
     "metadata": {
      "needs_background": "dark"
     },
     "output_type": "display_data"
    }
   ],
   "source": [
    "\n",
    "a = 0\n",
    "b = 4\n",
    "\n",
    "x = np.linspace(-5, 5, 100)\n",
    "y = a * x + b\n",
    "\n",
    "plt.plot(x, y)\n",
    "\n",
    "# Assure that ticks are displayed with a specific step\n",
    "ax = plt.gca()\n",
    "ax.xaxis.set_major_locator(ticker.MultipleLocator(2))\n",
    "ax.yaxis.set_major_locator(ticker.MultipleLocator(2))\n",
    "\n",
    "# draw axes\n",
    "plt.axhline(0, c='#A9A9A9')\n",
    "plt.axvline(0, c='#A9A9A9')\n",
    "\n",
    "# assure x and y axis have the same scale\n",
    "plt.axis('equal')\n",
    "\n",
    "plt.show()\n"
   ]
  },
  {
    "cell_type": "markdown",
   "metadata": {},
   "source": [
    "<img src=\"images/blank.png\" id=\"fig:ch02_constant_function\" alt=\"Figure 5: The constant function f(x) = 4.\" />\n",
    "Figure 5: The constant function <span class=\"math inline\"><em>f</em>(<em>x</em>) = 4</span>.\n",
    "\n",
    "As shown in Figure [5](#fig:ch02_constant_function), the value of $y$ is\n",
    "the same for any $x$. The slope of the function is equal to zero, so its\n",
    "derivative is equal to zero:\n",
    "\n",
    "$$\n",
    "\\frac{d f(x)}{dx} = 0\n",
    "$$\n",
    "\n",
    "The general rule is that the derivative of a constant $a$ is zero:\n",
    "\n",
    "$$\n",
    "\\frac{d a}{dx} = 0\n",
    "$$\n",
    "\n",
    "This makes sense because constants doesn’t impact the slope of a\n",
    "function.\n",
    "\n",
    "#### Derivative of a Linear Function\n",
    "\n",
    "Let’s now consider a linear function that is not constant:\n",
    "$f(x) = 3x + 1$, as represented in Figure\n",
    "[6](#fig:ch02_linear_function)."
   ]
  },
  {
   "cell_type": "code",
   "execution_count": 3,
   "metadata": {
    "execution": {
     "iopub.execute_input": "2021-03-23T10:38:13.591255Z",
     "iopub.status.busy": "2021-03-23T10:38:13.581629Z",
     "iopub.status.idle": "2021-03-23T10:38:13.673386Z",
     "shell.execute_reply": "2021-03-23T10:38:13.672967Z"
    }
   },
   "outputs": [
    {
     "data": {
      "image/png": "[encoded data removed]",
      "text/plain": [
       "<Figure size 432x288 with 1 Axes>"
      ]
     },
     "metadata": {
      "needs_background": "dark"
     },
     "output_type": "display_data"
    }
   ],
   "source": [
    "\n",
    "a = 3\n",
    "b = 1\n",
    "\n",
    "x = np.linspace(-1, 1, 100)\n",
    "y = a * x + b\n",
    "\n",
    "plt.plot(x, y)\n",
    "\n",
    "# Assure that ticks are displayed with a specific step\n",
    "ax = plt.gca()\n",
    "ax.xaxis.set_major_locator(ticker.MultipleLocator(1))\n",
    "ax.yaxis.set_major_locator(ticker.MultipleLocator(1))\n",
    "\n",
    "# draw axes\n",
    "plt.axhline(0, c='#d6d6d6', zorder=0)\n",
    "plt.axvline(0, c='#d6d6d6', zorder=0)\n",
    "\n",
    "# assure x and y axis have the same scale\n",
    "plt.axis('equal')\n",
    "\n",
    "plt.show()\n"
   ]
  },
  {
    "cell_type": "markdown",
   "metadata": {},
   "source": [
    "<img src=\"images/blank.png\" id=\"fig:ch02_linear_function\" alt=\"Figure 6: The linear function f(x) = 3x + 1.\" />\n",
    "Figure 6: The linear function <span class=\"math inline\"><em>f</em>(<em>x</em>) = 3<em>x</em> + 1</span>.\n",
    "\n",
    "To differentiate sums, you can use the *sum rule of differentiation*,\n",
    "which says that the derivative of the sum of two functions is equal to\n",
    "the sum of the derivatives. Mathematically, you have:\n",
    "\n",
    "$$\n",
    "\\frac{d f(x) + g(x)}{dx} = \\frac{d f(x)}{dx} + \\frac{d g(x)}{dx}\n",
    "$$\n",
    "\n",
    "In our example, the derivative of a the term $1$ is equal to zero\n",
    "because it is a constant, so the remaining part is $3x$.\n",
    "\n",
    "As you can see in Figure [6](#fig:ch02_linear_function), you go three\n",
    "steps on the $y$-axis when you go one step on the $x$-axis so the slope\n",
    "is three. The derivative of $f(x)$ is thus:\n",
    "\n",
    "$$\n",
    "\\frac{d f(x)}{dx} = 3\n",
    "$$\n",
    "\n",
    "The general rule is that the derivative of functions with the form\n",
    "$f(x)=ax+b$ is:\n",
    "\n",
    "$$\n",
    "\\frac{d (ax+b)}{dx}=a\n",
    "$$\n",
    "\n",
    "With the derivative with respect to the variable $x$ (as denoted with\n",
    "$dx$), only the values multiplied by $x$ have an effect on the slope.\n",
    "\n",
    "#### Derivatives Of Nonlinear Functions\n",
    "\n",
    "With nonlinear functions, you must characterize the slope of the tangent\n",
    "for each point on the curve because the rate of change depends on $x$.\n",
    "\n",
    "<figure>\n",
    "<img src=\"images/ch02_x2_slope.png\" id=\"fig:ch02_x2_slope\" width=\"200\" alt=\"Figure 7: Slopes at different values of x.\" /><figcaption aria-hidden=\"true\">Figure 7: Slopes at different values of <span class=\"math inline\"><em>x</em></span>.</figcaption>\n",
    "</figure>\n",
    "\n",
    "Look for instance at the function $f(x)=x^2$ in Figure\n",
    "[7](#fig:ch02_x2_slope): the slope of the tangent line is different for\n",
    "each value of $x$. For instance, the slope is zero at $x=0$ and\n",
    "increases when $x$ increases. Similarly, when $x$ is negative, the slope\n",
    "is negative. There is a relation between $x$ and the slope of $f$.\n",
    "\n",
    "Let’s use the differentiation equation (see equation\n",
    "[1](#eq:differentiation)) to calculate the derivative of $x^2$:\n",
    "\n",
    "$$\n",
    "\\begin{aligned}\n",
    "\\frac{d f(x)}{dx} &= \\lim_{\\Delta x \\to 0} \\frac{f(x + \\Delta x) - f(x)}{\\Delta x} \\\\\\\\\n",
    "\\frac{d x^2}{dx} &= \\lim_{\\Delta x \\to 0} \\frac{(x + \\Delta x)^2 - x^2}{\\Delta x} \\\\\\\\\n",
    "&= \\lim_{\\Delta x \\to 0} \\frac{x^2 + 2 x \\Delta x + \\Delta x^2 - x^2}{\\Delta x} \\\\\\\\\n",
    "&= \\lim_{\\Delta x \\to 0} \\frac{2 x \\Delta x + \\Delta x^2}{\\Delta x} \\\\\\\\\n",
    "&= \\lim_{\\Delta x \\to 0} \\frac{\\Delta x (2x + \\Delta x)}{\\Delta x} \\\\\\\\\n",
    "&= \\lim_{\\Delta x \\to 0} 2x + \\Delta x \\\\\\\\\n",
    "&= 2x\n",
    "\\end{aligned}\n",
    "$$\n",
    "\n",
    "The general rule is that derivatives of power functions are given by the\n",
    "following formula:\n",
    "\n",
    "$$\n",
    "\\begin{aligned}\n",
    "f(x) &= x^p\\\\\\\\\n",
    "\\frac{d f(x)}{dx} &= px^{p - 1}\n",
    "\\end{aligned}\n",
    "$$\n",
    "\n",
    "For instance, $\\frac{d x^3}{dx} = 3x^2$."
   ]
  },
  {
   "cell_type": "markdown",
   "metadata": {},
   "source": [
    "### 1.1.4 Derivative Rules\n",
    "\n",
    "It is often the case where the function you want to differentiate is\n",
    "made of multiple functions, multiplied or interleaved. A key idea behind\n",
    "differentiation is that you can use a small number of derivatives\n",
    "calculated with the limit of the difference quotient (as you saw in the\n",
    "last section). You can usually calculate the derivative of a function by\n",
    "using rules such as addition, product, or composition, as you’ll see\n",
    "here.\n",
    "\n",
    "#### Multiplication by Constant\n",
    "\n",
    "Constants can be extracted from derivatives. For instance:\n",
    "\n",
    "$$\n",
    "\\frac{d (2 x^2)}{dx} = 2 \\left(\\frac{d x^2}{dx} \\right) = 2 \\cdot 2x = 4x\n",
    "$$\n",
    "\n",
    "More generally written:\n",
    "\n",
    "$$\n",
    "\\frac{d (a f(x))}{dx} = a \\frac{d f(x)}{dx}\n",
    "$$\n",
    "\n",
    "with $a$ being a constant.\n",
    "\n",
    "#### Function Addition: The Sum Rule\n",
    "\n",
    "The derivative of the sum of functions is equivalent to the sum of the\n",
    "derivatives of these functions:\n",
    "\n",
    "$$\n",
    "\\frac{d (f(x) + g(x))}{dx} = \\frac{d f(x)}{dx} + \\frac{d g(x)}{dx}\n",
    "$$\n",
    "\n",
    "#### Function Multiplication: The Product Rule\n",
    "\n",
    "To differentiate the product of two functions, you must use the *product\n",
    "rule*.\n",
    "\n",
    "Let’s say that you want to differentiate the product of two functions\n",
    "$f(x)$ and $g(x)$. You can’t just take the product of the derivatives:\n",
    "you must use the following formula (you can refer to\n",
    "https://www.khanacademy.org/math/ap-calculus-ab/ab-differentiation-1-new/ab-2-8/a/proving-the-product-rule\n",
    "if you want the proof of the product rule.) :\n",
    "\n",
    "$$\n",
    "\\frac{d (f(x) g(x))}{dx} = \\frac{d f(x)}{dx} \\cdot g(x) + f(x) \\cdot \\frac{d g(x)}{dx}\n",
    "$$\n",
    "\n",
    "Or more compactly with the Lagrange notation:\n",
    "\n",
    "$$\n",
    "(fg)' = f'g + fg'\n",
    "$$\n",
    "\n",
    "In plain English, this means that you add the derivative of $f(x)$\n",
    "multiplied by $g(x)$ to the derivative of $g(x)$ multiplied by $f(x)$.\n",
    "\n",
    "##### Example\n",
    "\n",
    "Let’s take the example of $x^3$. To illustrate the product rule, you can\n",
    "consider $x^3$ as the product of $x$ and $x^2$. This means that in our\n",
    "example, $f(x) = x$ and $g(x) = x^2$. Let’s apply the product rule:\n",
    "\n",
    "$$\n",
    "\\frac{d (x \\cdot x^2)}{dx} = \\frac{d x}{dx} \\cdot x^2 + x \\cdot \\frac{d x^2}{dx}\n",
    "$$\n",
    "\n",
    "Since the derivative of $x$ is one and the derivative of $x^2$ is $2x$,\n",
    "you have:\n",
    "\n",
    "$$\n",
    "\\begin{aligned}\n",
    "\\frac{d x}{dx} \\cdot x^2 + x \\cdot \\frac{d x^2}{dx} &= 1 \\cdot x^2 + x \\cdot 2x\\\\\\\\\n",
    "&= x^2 + 2x^2\\\\\\\\\n",
    "&= 3x^2\n",
    "\\end{aligned}\n",
    "$$\n",
    "\n",
    "#### Function Composition: The Chain Rule\n",
    "\n",
    "Composite function refers to the composition of two functions. As\n",
    "function composition in computer science, one function takes the output\n",
    "of the other as input. Consider for instance the functions $f(x) = x^2$\n",
    "and $g(x) = 2x$. You can compose them as $f(g(x)) = f(2x) = (2x) ^ 2$.\n",
    "\n",
    "To calculate derivatives of composite functions, you need to use the\n",
    "*chain rule*: multiply the derivative of the outer expression with the\n",
    "derivative of the inner expression:\n",
    "\n",
    "$$\n",
    "\\frac{d f(g(x))}{dx} = \\left( \\frac{d f(g(x))}{dg(x)} \\right) \\cdot \\left( \\frac{d g(x)}{dx} \\right)\n",
    "$$\n",
    "\n",
    "Note that the derivative of $f(g(x))$ is with respect to $g(x)$.\n",
    "\n",
    "With the Lagrange notation:\n",
    "\n",
    "$$\n",
    "(f(g(x)))' = f'(g(x)) \\cdot g'(x)\n",
    "$$\n",
    "\n",
    "##### Example\n",
    "\n",
    "Let’s differentiate the following composite function $h(x)$:\n",
    "\n",
    "$$\n",
    "h(x) = f(g(x)) = (2x)^2\n",
    "$$\n",
    "\n",
    "You have the functions $f(x) = x^2$ and $g(x) = 2x$.\n",
    "\n",
    "If you refer to the basic function derivatives (you can find a summary\n",
    "of the rules to calculate basic derivatives here:\n",
    "https://www.mathsisfun.com/calculus/derivatives-rules.html.) , you know\n",
    "that $f'(x) = 2x$ and $g'(x) = 2$.\n",
    "\n",
    "Let’s calculate the derivative of $h(x)$, which is, according to the\n",
    "chain rule:\n",
    "\n",
    "$$\n",
    "h'(x) = f'(g(x)) \\cdot g'(x)\n",
    "$$\n",
    "\n",
    "Since $f(g(x)) = g(x)^2$, you have $f'(g(x)) = 2g(x)$. In addition,\n",
    "$g'(x)=2$, so you have:\n",
    "\n",
    "$$\n",
    "h'(x) = 2g(x) \\cdot 2 = 2 \\cdot 2x \\cdot 2 = 8x\n",
    "$$\n",
    "\n",
    "The goal is to split composite functions into simpler functions and use\n",
    "the known derivatives of these functions.\n",
    "\n",
    "The chain rule is important to understand artificial neural networks:\n",
    "the output of the network is calculated as the composition of multiple\n",
    "nested functions (*forward propagation*). To update the network\n",
    "parameters, the chain rule is used to calculate the derivative of the\n",
    "cost function and update the parameters accordingly (*backpropagation*)."
   ]
  },
  {
   "cell_type": "markdown",
   "metadata": {},
   "source": [
    "### 1.1.5 Partial Derivatives And Gradients\n",
    "\n",
    "When a function has more than one variable, the concept of derivative is\n",
    "a bit different: you need to compute the slope separately for each\n",
    "variable.\n",
    "\n",
    "For instance, in the physical world, you can imagine having a variable\n",
    "corresponding to the direction “east/west” and a variable to the\n",
    "direction “south/north”. It is possible to calculate the slope for each\n",
    "direction. This is the purpose of *partial derivatives*, called\n",
    "*partial* because you calculate the derivatives partially, variable per\n",
    "variable.\n",
    "\n",
    "#### Partial Derivatives\n",
    "\n",
    "You can use the stylized cursive letter *d*, $\\partial$, that can be\n",
    "called “curly d”, to refer to partial derivatives.\n",
    "\n",
    "Let’s take the following function as a first example:\n",
    "\n",
    "$$\n",
    "f(x_0, x_1) = x_0^2 + x_1^3\n",
    "$$\n",
    "\n",
    "The function $f$ takes the two variables $x_0$ and $x_1$ as input. Let’s\n",
    "represent this function graphically. You’ll create a three-dimensional\n",
    "plot because there are three variables (the dependent variable $y$, and\n",
    "the independent variables $x_0$ and $x_1$)."
   ]
  },
  {
   "cell_type": "code",
   "execution_count": 4,
   "metadata": {
    "execution": {
     "iopub.execute_input": "2021-03-23T10:38:13.678079Z",
     "iopub.status.busy": "2021-03-23T10:38:13.677551Z",
     "iopub.status.idle": "2021-03-23T10:38:14.013256Z",
     "shell.execute_reply": "2021-03-23T10:38:14.013676Z"
    }
   },
   "outputs": [
    {
     "data": {
      "image/png": "[encoded data removed]",
      "text/plain": [
       "<Figure size 576x432 with 1 Axes>"
      ]
     },
     "metadata": {
      "needs_background": "dark"
     },
     "output_type": "display_data"
    }
   ],
   "source": [
    "x0, x1 = np.meshgrid(np.linspace(-3,3,100), np.linspace(-3, 3, 100))\n",
    "y =  x0 ** 2 + x1 ** 3\n",
    "\n",
    "fig = plt.figure(figsize=(8, 6))\n",
    "ax = fig.add_subplot(111, projection='3d')\n",
    "\n",
    "ax.plot_surface(x0, x1, y)\n",
    "# [...] Add labels\n",
    "\n",
    "ax.set_xlabel('x0')\n",
    "ax.set_ylabel('x1')\n",
    "ax.set_zlabel('y')\n",
    "plt.show()\n"
   ]
  },
  {
    "cell_type": "markdown",
   "metadata": {},
   "source": [
    "<img src=\"images/blank.png\" id=\"fig:ch02_three_dimensional_function\" alt=\"Figure 8: Three-dimensional representation of the function f(x_0, x_1) = x_0^2 + x_1^3.\" />\n",
    "Figure 8: Three-dimensional representation of the function <span class=\"math inline\"><em>f</em>(<em>x</em><sub>0</sub>, <em>x</em><sub>1</sub>) = <em>x</em><sub>0</sub><sup>2</sup> + <em>x</em><sub>1</sub><sup>3</sup></span>.\n",
    "\n",
    "You can recognize in Figure [8](#fig:ch02_three_dimensional_function) a\n",
    "mix between the function $x^2$ and the function $x^3$. If you run this\n",
    "into a Jupyter Notebook, you can run `%matplotlib notebook` in a cell\n",
    "before to be able to move the shape and have a better understanding of\n",
    "the function.\n",
    "\n",
    "Partial derivatives of $f(x_0, x_1) = x_0^2 + x_1^3$ are derivatives\n",
    "with respect to each independent variable ($x_0$ and $x_1$). To\n",
    "calculate the partial derivative of a function with respect to a single\n",
    "variable, you consider all the other variables as constants (as they\n",
    "don’t affect the slope of the tangent line in the direction you’re\n",
    "considering).\n",
    "\n",
    "Here is the partial derivative of $f(x_0, x_1)$ with respect to $x_0$\n",
    "(considering $x_1$ as a constant):\n",
    "\n",
    "$$\n",
    "\\begin{aligned}\n",
    "\\frac{\\partial}{\\partial x_0}f(x_0, x_1) &= \\frac{\\partial}{\\partial x_0} \\left( x_0^2 + x_1^3 \\right) \\\\\\\\\n",
    "&= 2x_0\n",
    "\\end{aligned}\n",
    "$$\n",
    "\n",
    "Note that the denominator tells you that you differentiate with respect\n",
    "to $x_0$.\n",
    "\n",
    "The partial derivative of $f(x)$ with respect to $x_1$:\n",
    "\n",
    "$$\n",
    "\\begin{aligned}\n",
    "\\frac{\\partial}{\\partial x_1}f(x_0, x_1) &= \\frac{\\partial}{\\partial x_1} \\left( x_0^2 + x_1^3 \\right) \\\\\\\\\n",
    "&= 3x_1^2\n",
    "\\end{aligned}\n",
    "$$\n",
    "\n",
    "#### Gradient\n",
    "\n",
    "If you calculate the derivative with respect to each variable of a\n",
    "function ($f(x_0, x_1, ..., x_n)$):\n",
    "\n",
    "$$\n",
    "\\begin{aligned}\n",
    "\\frac{\\partial}{\\partial x_0}f(x_0&, x_1, \\cdots, x_n)\\\\\\\\\n",
    "\\frac{\\partial}{\\partial x_1}f(x_0&, x_1, \\cdots, x_n)\\\\\\\\\n",
    "&\\vdots \\\\\\\\\n",
    "\\frac{\\partial}{\\partial x_n}f(x_0&, x_1, \\cdots, x_n)\n",
    "\\end{aligned}\n",
    "$$\n",
    "\n",
    "and store all these partial derivatives in a vector (you’ll learn more\n",
    "about vectors in Section 5) named\n",
    "with the symbol $\\nabla$ (“nabla”). It is the gradient of $f$:\n",
    "$\\nabla f$ is pronounced here “gradient of f”, “grad f” or “del f”, and\n",
    "contains the partial derivatives of the function $f$ with respect to\n",
    "each variable:\n",
    "\n",
    "$$\n",
    "\\nabla f = \\begin{bmatrix}\n",
    "\\frac{\\partial}{\\partial x_0}\\\\\\\\\n",
    "\\frac{\\partial}{\\partial x_1}\\\\\\\\\n",
    "\\vdots\\\\\\\\\n",
    "\\frac{\\partial}{\\partial x_n}\n",
    "\\end{bmatrix}\n",
    "$$\n",
    "\n",
    "The gradient of $f$ gives the slope corresponding to each variable. As\n",
    "an analogy, if you are standing on a mountain, the gradient would tell\n",
    "you what is the slope in each direction.\n",
    "\n",
    "1.2 Integrals and the Area Under the Curve\n",
    "------------------------------------------\n",
    "\n",
    "*Integration* is the inverse operation of differentiation. Take a\n",
    "function $f(x)$ and calculate its derivative $f'(x)$, the *indefinite\n",
    "integral* (also called *antiderivative*) of $f'(x)$ gives you back\n",
    "$f(x)$ (up to a constant, as you’ll soon see). (the link between\n",
    "derivatives and integrals is described by what is called the\n",
    "*fundamental theorem of calculus*.)\n",
    "\n",
    "You can use integration to calculate the *area under the curve*, which\n",
    "is the area of the shape delimited by the function, as shown in Figure\n",
    "[9](#fig:ch02_area_under_the_curve).\n",
    "\n",
    "<figure>\n",
    "<img src=\"images/ch02_area_under_the_curve.png\" id=\"fig:ch02_area_under_the_curve\" width=\"100\" alt=\"Figure 9: Area under the curve.\" /><figcaption aria-hidden=\"true\">Figure 9: Area under the curve.</figcaption>\n",
    "</figure>\n",
    "\n",
    "A *definite integral* is the integral over a specific interval. It\n",
    "corresponds to the area under the curve in this interval."
   ]
  },
  {
    "cell_type": "markdown",
   "metadata": {},
   "source": [
    "### 1.2.1 Example\n",
    "\n",
    "You’ll see through this example how to understand the relationship\n",
    "between the integral of a function and the area under the curve. To\n",
    "illustrate the process, you’ll approximate the integral of the function\n",
    "$g(x) = 2x$ using a discretization of the area under the curve.\n",
    "\n",
    "#### Example Description\n",
    "\n",
    "Let’s take again the example of the moving train. You saw that speed as\n",
    "a function of time was the derivative of distance as a function of time.\n",
    "These functions are represented in Figure\n",
    "[10](#fig:ch02_distance_speed).\n",
    "\n",
    "<img src=\"images/ch02_distance_speed.png\" id=\"fig:ch02_distance_speed\" width=\"300\" alt=\"Figure 10: The left panel shows f(x) which is the distance as a function of time, and the right panel its derivative g(x), which is the speed as a function of time.\" />\n",
    "Figure 10: The left panel shows <span class=\"math inline\"><em>f</em>(<em>x</em>)</span> which is the distance as a function of time, and the right panel its derivative <span class=\"math inline\"><em>g</em>(<em>x</em>)</span>, which is the speed as a function of time.\n",
    "\n",
    "The function shown in the left panel of Figure\n",
    "[10](#fig:ch02_distance_speed) is defined as $f(x) = x^2$. Its\n",
    "derivative is defined as $g(x)=2x$.\n",
    "\n",
    "In this example, you’ll learn how to find an approximation of the area\n",
    "under the curve of $g(x)$.\n",
    "\n",
    "#### Slicing the Function\n",
    "\n",
    "To approximate the area of a shape, you can use the slicing method: you\n",
    "cut the shape into small slices with an easy shape like rectangles,\n",
    "calculate the area of each of these slices and sum them.\n",
    "\n",
    "You’ll do exactly that to find an approximation of the area under the\n",
    "curve of $g(x)$.\n",
    "\n",
    "<figure>\n",
    "<img src=\"images/ch02_speed_function_slices.png\" id=\"fig:ch02_speed_function_slices\" width=\"250\" alt=\"Figure 11: Approximation of the area under the curve by discretizing the area under the curve of speed as a function of time.\" /><figcaption aria-hidden=\"true\">Figure 11: Approximation of the area under the curve by discretizing the area under the curve of speed as a function of time.</figcaption>\n",
    "</figure>\n",
    "\n",
    "Figure [11](#fig:ch02_speed_function_slices) shows the area under the\n",
    "curve of $f'(x)$ sliced as one-second rectangles (let’s call this\n",
    "difference $\\Delta x$). Note that we underestimated the area (look at\n",
    "the missing triangles), but we’ll fix that later.\n",
    "\n",
    "Let’s try to understand the meaning of the slices. Take the first one:\n",
    "its area is defined as $2 \\cdot 1$. The height of the slice is the speed\n",
    "at one second (the value is 2). So there are two units of speed by one\n",
    "unit of time for this first slice. The area corresponds to a\n",
    "multiplication between speed and time: this is a distance.\n",
    "\n",
    "For instance, if you drive at 50 miles per hour (speed) for two hour\n",
    "(time), you traveled $50 \\cdot 2 = 100$ miles (distance). This is\n",
    "because the unit of speed corresponds to a ratio between distance and\n",
    "time (like miles *per* hour). You get:\n",
    "\n",
    "$$\n",
    "\\frac{\\text{distance}}{\\text{time}} \\cdot \\text{time} = \\text{distance}\n",
    "$$\n",
    "\n",
    "To summarize, the derivative of the distance by time function is the\n",
    "speed by time function, and the area under the curve of the speed by\n",
    "time function (its integral) gives you a distance. This is how\n",
    "derivatives and integrals are related.\n",
    "\n",
    "#### Implementation\n",
    "\n",
    "Let’s use slicing to approximate the integral of the function $g(x)=2x$.\n",
    "First, let’s define the function $g(x)$:"
   ]
  },
  {
   "cell_type": "code",
   "execution_count": 5,
   "metadata": {
    "execution": {
     "iopub.execute_input": "2021-03-23T10:38:14.017646Z",
     "iopub.status.busy": "2021-03-23T10:38:14.016965Z",
     "iopub.status.idle": "2021-03-23T10:38:14.018762Z",
     "shell.execute_reply": "2021-03-23T10:38:14.019180Z"
    }
   },
   "outputs": [],
   "source": [
    "def g_2x(x):\n",
    "    return 2 * x"
   ]
  },
  {
   "cell_type": "markdown",
   "metadata": {},
   "source": [
    "As illustrated in Figure [11](#fig:ch02_speed_function_slices), you’ll\n",
    "consider that the function is discrete and take a step of\n",
    "$\\Delta x = 1$. You can create an $x$-axis with values from zero to six,\n",
    "and apply the function `g_2x()` for each of these values. You can use\n",
    "the Numpy method `arange(start, stop, step)` to create an array filled\n",
    "with values from `start` to `stop` (not included):"
   ]
  },
  {
   "cell_type": "code",
   "execution_count": 6,
   "metadata": {
    "execution": {
     "iopub.execute_input": "2021-03-23T10:38:14.023071Z",
     "iopub.status.busy": "2021-03-23T10:38:14.022439Z",
     "iopub.status.idle": "2021-03-23T10:38:14.024732Z",
     "shell.execute_reply": "2021-03-23T10:38:14.025246Z"
    }
   },
   "outputs": [
    {
     "data": {
      "text/plain": [
       "array([0, 1, 2, 3, 4, 5, 6])"
      ]
     },
     "execution_count": 1,
     "metadata": {},
     "output_type": "execute_result"
    }
   ],
   "source": [
    "delta_x = 1\n",
    "x = np.arange(0, 7, delta_x)\n",
    "x"
   ]
  },
  {
   "cell_type": "code",
   "execution_count": 7,
   "metadata": {
    "execution": {
     "iopub.execute_input": "2021-03-23T10:38:14.029699Z",
     "iopub.status.busy": "2021-03-23T10:38:14.029025Z",
     "iopub.status.idle": "2021-03-23T10:38:14.031590Z",
     "shell.execute_reply": "2021-03-23T10:38:14.032044Z"
    }
   },
   "outputs": [
    {
     "data": {
      "text/plain": [
       "array([ 0,  2,  4,  6,  8, 10, 12])"
      ]
     },
     "execution_count": 1,
     "metadata": {},
     "output_type": "execute_result"
    }
   ],
   "source": [
    "y = g_2x(x)\n",
    "y"
   ]
  },
  {
   "cell_type": "markdown",
   "metadata": {},
   "source": [
    "You can then calculate the slice’s areas by iterating and multiplying\n",
    "the width ($\\Delta_x$) by the height (the value of $y$ at this point).\n",
    "of the slice. As you saw, this area (`delta_x * y[i-1]` in the code\n",
    "below) corresponds to a distance (the distance of the moving train\n",
    "traveled during the $i$th slice). You can finally append the results to\n",
    "an array (`slice_area_all` in the code below).\n",
    "\n",
    "Note that the index of `y` is `i-1` because the rectangle is on the left\n",
    "of the $x$ value you estimate. For instance, the area is zero for $x=0$\n",
    "and $x=1$."
   ]
  },
  {
   "cell_type": "code",
   "execution_count": 8,
   "metadata": {
    "execution": {
     "iopub.execute_input": "2021-03-23T10:38:14.036553Z",
     "iopub.status.busy": "2021-03-23T10:38:14.035876Z",
     "iopub.status.idle": "2021-03-23T10:38:14.038259Z",
     "shell.execute_reply": "2021-03-23T10:38:14.038753Z"
    }
   },
   "outputs": [
    {
     "data": {
      "text/plain": [
       "array([ 0.,  0.,  2.,  4.,  6.,  8., 10.])"
      ]
     },
     "execution_count": 1,
     "metadata": {},
     "output_type": "execute_result"
    }
   ],
   "source": [
    "slice_area_all = np.zeros(y.shape[0])\n",
    "for i in range(1, len(x)):\n",
    "    slice_area_all[i] = delta_x * y[i-1]\n",
    "slice_area_all"
   ]
  },
  {
   "cell_type": "markdown",
   "metadata": {},
   "source": [
    "These values are the slice’s areas.\n",
    "\n",
    "To calculate the distance traveled from the beginning to the\n",
    "corresponding time point (and not corresponding to each slice), you can\n",
    "calculate the cumulative sum of `slice_area_all` with the Numpy function\n",
    "`cumsum()`:"
   ]
  },
  {
   "cell_type": "code",
   "execution_count": 9,
   "metadata": {
    "execution": {
     "iopub.execute_input": "2021-03-23T10:38:14.042542Z",
     "iopub.status.busy": "2021-03-23T10:38:14.041863Z",
     "iopub.status.idle": "2021-03-23T10:38:14.044395Z",
     "shell.execute_reply": "2021-03-23T10:38:14.044870Z"
    }
   },
   "outputs": [
    {
     "data": {
      "text/plain": [
       "array([ 0.,  0.,  2.,  6., 12., 20., 30.])"
      ]
     },
     "execution_count": 1,
     "metadata": {},
     "output_type": "execute_result"
    }
   ],
   "source": [
    "slice_area_all = slice_area_all.cumsum()\n",
    "slice_area_all"
   ]
  },
  {
   "cell_type": "markdown",
   "metadata": {},
   "source": [
    "These are the estimated values of the area under the curve of $g(x)$ as\n",
    "a function of $x$. You know that the function $g(x)$ is the derivative\n",
    "of $f(x)=x^2$, so you should get back $f(x)$ by the integration of\n",
    "$g(x)$.\n",
    "\n",
    "Let’s plot our estimation and $f(x)$, which we’ll call the “true\n",
    "function”, to compare them:"
   ]
  },
  {
   "cell_type": "code",
   "execution_count": 10,
   "metadata": {
    "execution": {
     "iopub.execute_input": "2021-03-23T10:38:14.121105Z",
     "iopub.status.busy": "2021-03-23T10:38:14.120421Z",
     "iopub.status.idle": "2021-03-23T10:38:14.247244Z",
     "shell.execute_reply": "2021-03-23T10:38:14.247903Z"
    }
   },
   "outputs": [
    {
     "data": {
      "image/png": "[encoded data removed]",
      "text/plain": [
       "<Figure size 432x288 with 1 Axes>"
      ]
     },
     "metadata": {
      "needs_background": "dark"
     },
     "output_type": "display_data"
    }
   ],
   "source": [
    "plt.plot(x, x ** 2, label='True')\n",
    "plt.plot(x, slice_area_all, label='Estimated')\n",
    "\n",
    "plt.legend()\n",
    "plt.show()\n"
   ]
  },
  {
    "cell_type": "markdown",
   "metadata": {},
   "source": [
    "<img src=\"images/blank.png\" id=\"fig:ch02_estimation_integration\" alt=\"Figure 12: Comparison of the estimated and original function.\" />\n",
    "Figure 12: Comparison of the estimated and original function.\n",
    "\n",
    "The estimation represented in Figure\n",
    "[12](#fig:ch02_estimation_integration) shows that the estimation is not\n",
    "bad, but could be improved. This is because we missed all these\n",
    "triangles represented in red in Figure\n",
    "[13](#fig:ch02_speed_function_slices_misses). One way to reduce the\n",
    "error is to take a smaller value for $\\Delta x$, as illustrated in the\n",
    "right panel in Figure [13](#fig:ch02_speed_function_slices_misses).\n",
    "\n",
    "<figure>\n",
    "<img src=\"images/ch02_speed_function_slices_misses.png\" id=\"fig:ch02_speed_function_slices_misses\" width=\"300\" alt=\"Figure 13: Missing parts in slices of the speed function (in red). The error is smaller with a smaller \\Delta x.\" /><figcaption aria-hidden=\"true\">Figure 13: Missing parts in slices of the speed function (in red). The error is smaller with a smaller <span class=\"math inline\"><em>Δ</em><em>x</em></span>.</figcaption>\n",
    "</figure>\n",
    "\n",
    "Let’s estimate the integral function with $\\Delta x = 0.1$:"
   ]
  },
  {
   "cell_type": "code",
   "execution_count": 11,
   "metadata": {
    "execution": {
     "iopub.execute_input": "2021-03-23T10:38:14.290614Z",
     "iopub.status.busy": "2021-03-23T10:38:14.290002Z",
     "iopub.status.idle": "2021-03-23T10:38:14.396716Z",
     "shell.execute_reply": "2021-03-23T10:38:14.397149Z"
    }
   },
   "outputs": [
    {
     "data": {
      "image/png": "[encoded data removed]",
      "text/plain": [
       "<Figure size 432x288 with 1 Axes>"
      ]
     },
     "metadata": {
      "needs_background": "dark"
     },
     "output_type": "display_data"
    }
   ],
   "source": [
    "delta_x = 0.1\n",
    "x = np.arange(0, 7, delta_x)\n",
    "y = g_2x(x)\n",
    "#  [...] Calculate and plot slice_area_all\n",
    "\n",
    "slice_area_all = np.zeros(y.shape[0])\n",
    "for i in range(1, len(x)):\n",
    "    slice_area_all[i] = delta_x * y[i - 1]\n",
    "\n",
    "slice_area_all = slice_area_all.cumsum()\n",
    "\n",
    "plt.plot(x, x ** 2, label='True')\n",
    "plt.plot(x, slice_area_all, label='Estimated')\n",
    "plt.legend()\n",
    "\n",
    "plt.show()\n"
   ]
  },
  {
    "cell_type": "markdown",
   "metadata": {},
   "source": [
    "<img src=\"images/blank.png\" id=\"fig:ch02_better_estimation_integration\" alt=\"Figure 14: Smaller slice widths lead to a better estimation of the original function.\" />\n",
    "Figure 14: Smaller slice widths lead to a better estimation of the original function.\n",
    "\n",
    "As shown in Figure [14](#fig:ch02_better_estimation_integration), you\n",
    "recovered (at least, up to an additive constant) the original function\n",
    "whose derivative you integrated.\n",
    "\n",
    "#### Extension\n",
    "\n",
    "In our previous example, you integrated the function $2x$, which is a\n",
    "linear function, but the principle is the same for any continuous\n",
    "function (see Figure [15](#fig:ch02_integrals_segments_non_linear) for\n",
    "instance).\n",
    "\n",
    "<figure>\n",
    "<img src=\"images/ch02_integrals_segments_non_linear.png\" id=\"fig:ch02_integrals_segments_non_linear\" width=\"200\" alt=\"Figure 15: The slicing method can be used with many linear or nonlinear function, including all continuous functions.\" /><figcaption aria-hidden=\"true\">Figure 15: The slicing method can be used with many linear or nonlinear function, including all continuous functions.</figcaption>\n",
    "</figure>"
   ]
  },
  {
    "cell_type": "markdown",
   "metadata": {},
   "source": [
    "### 1.2.2 Riemann Sum\n",
    "\n",
    "Approximating an integral using this slicing method is called a *Riemann\n",
    "sum*. Riemann sums can be calculated in different ways, as you can see\n",
    "in Figure [16](#fig:ch02_riemann).\n",
    "\n",
    "<img src=\"images/ch02_riemann.png\" id=\"fig:ch02_riemann\" width=\"250\" alt=\"Figure 16: Four kinds of Riemann sums for integral approximation.\" />\n",
    "Figure 16: Four kinds of Riemann sums for integral approximation.\n",
    "\n",
    "As pictured in Figure [16](#fig:ch02_riemann), with the left Riemann\n",
    "sum, the curve is aligned with the left corner of the rectangle. With\n",
    "the right Riemann sum, the curve is aligned with the right corner of the\n",
    "rectangle. With the midpoint rule, the curve is aligned with the center\n",
    "of the rectangle. With the trapezoidal rule, a trapezoidal shape is used\n",
    "instead of a rectangle. The curve crosses both top corners of the\n",
    "trapezoid."
   ]
  },
  {
    "cell_type": "markdown",
   "metadata": {},
   "source": [
    "### 1.2.3 Mathematical Definition\n",
    "\n",
    "In the last section, you saw the relationship between the area under the\n",
    "curve and integration (you got back the original function from the\n",
    "derivative). Let’s see now the mathematical definition of integrals.\n",
    "\n",
    "The integrals of the function $f(x)$ with respect to $x$ is denoted as\n",
    "follows:\n",
    "\n",
    "$$\n",
    "\\int f(x) \\: dx\n",
    "$$\n",
    "\n",
    "The symbol $dx$ is called the *differential* of $x$ and refers to the\n",
    "idea of an infinitesimal change of $x$. It is a difference in $x$ that\n",
    "approaches 0. The main idea of integrals is to sum an infinite number of\n",
    "slices which have an infinitely small width.\n",
    "\n",
    "The symbol $\\int$ is the integral sign and refers to the sum of an\n",
    "infinite number of slices.\n",
    "\n",
    "The height of each slice is the value $f(x)$. The multiplication of\n",
    "$f(x)$ and $dx$ is thus the area of each slice. Finally,\n",
    "$\\int f(x) \\: dx$ is the sum of the slice areas over an infinite number\n",
    "of slices (the width of the slices tending to zero). This is the *area\n",
    "under the curve*.\n",
    "\n",
    "You saw in the last section how to approximate function integrals. But\n",
    "if you know the derivative of a function, you can retrieve the integral\n",
    "knowing that it is the inverse operation. For example, if you know that:\n",
    "\n",
    "$$\n",
    "\\frac{d (x^2)}{dx} = 2x\n",
    "$$\n",
    "\n",
    "You can conclude that the integral of $2x$ is $x^2$. However, there is a\n",
    "problem. If you add a constant to our function the derivative is the\n",
    "same because the derivative of a constant is zero. For instance,\n",
    "\n",
    "$$\n",
    "\\frac{d (x^2 + 3)}{dx} = 2x\n",
    "$$\n",
    "\n",
    "It is impossible to know the value of the constant. For this reason, you\n",
    "need to add an unknown constant to the expression, as follows:\n",
    "\n",
    "$$\n",
    "\\int 2x \\: dx = x^2 + c\n",
    "$$\n",
    "\n",
    "with $c$ being a constant.\n",
    "\n",
    "##### Definite Integrals\n",
    "\n",
    "In the case of *definite integrals*, you denote the interval of\n",
    "integration with numbers below and above the integral symbol, as\n",
    "follows:\n",
    "\n",
    "$$\n",
    "\\int _{a}^{b} f(x) \\: dx\n",
    "$$\n",
    "\n",
    "It corresponds to the area under the curve of the function $f(x)$\n",
    "between $x=a$ and $x=b$, as illustrated in Figure\n",
    "[17](#fig:ch02_integrals_area_under_the_curve).\n",
    "\n",
    "<img src=\"images/ch02_integrals_area_under_the_curve.png\" id=\"fig:ch02_integrals_area_under_the_curve\" width=\"150\" alt=\"Figure 17: Area under the curve between x=a and x=b.\" />\n",
    "Figure 17: Area under the curve between <span class=\"math inline\"><em>x</em> = <em>a</em></span> and <span class=\"math inline\"><em>x</em> = <em>b</em></span>.\n",
    "\n",
    "1.3 Hands-On Project: Gradient Descent\n",
    "--------------------------------------\n",
    "\n",
    "In this hands-on project, you’ll learn the math behind an important\n",
    "method leveraging derivatives to optimize *cost functions* (that is, to\n",
    "find the parameters of the functions associated with the lower error):\n",
    "*gradient descent*.\n",
    "\n",
    "You’ll define a cost function used for linear regression. You’ll learn\n",
    "to implement a prediction function, evaluate the error with a cost\n",
    "function, and use the derivative of this cost function to optimize the\n",
    "parameters of your model. (what you’ll learn here applies to other\n",
    "algorithms, like neural networks. Using different prediction function,\n",
    "cost function, or update rules gives you the possibility to build\n",
    "various algorithms.)"
   ]
  },
  {
    "cell_type": "markdown",
   "metadata": {},
   "source": [
    "### 1.3.1 Cost function\n",
    "\n",
    "As humans, we rely on feedback to learn a new skill. You can try\n",
    "something, use the feedback to see how well or badly you performed, and\n",
    "iterate until the feedback is positive.\n",
    "\n",
    "Training a model is similar. You first need a way to assess its\n",
    "performances. The *loss* is a value that tells you how badly the model\n",
    "performs for a given data sample: it is zero if the estimation is\n",
    "perfect and increases when the prediction is less good. Training the\n",
    "model means changing its parameters to reduce the loss as much as\n",
    "possible.\n",
    "\n",
    "In this hands-on, you’ll see the example of linear regression: data\n",
    "points are fitted with a line, as illustrated with in Figure\n",
    "[18](#fig:ch02_cost_regression).\n",
    "\n",
    "<img src=\"images/ch02_cost_regression.png\" id=\"fig:ch02_cost_regression\" width=\"200\" alt=\"Figure 18: Data points and the regression line. Errors are represented in red: it is the difference between the estimated value (the point on the line) and the true value.\" />\n",
    "Figure 18: Data points and the regression line. Errors are represented in red: it is the difference between the estimated value (the point on the line) and the true value.\n",
    "\n",
    "Figure [18](#fig:ch02_cost_regression) shows five data points and the\n",
    "regression line (the fit of a linear regression). The goal is to find to\n",
    "the value of the parameter (such as the slope of the regression line)\n",
    "that fits the data well. The error of the model is the distance between\n",
    "the data points and the estimated values (every points on the regression\n",
    "line), represented in red on the figure. As you’ll see in\n",
    "Section 5.3, there are multiple ways to\n",
    "calculate a distance. A common choice for linear regression is the\n",
    "Euclidean distance, which corresponds to the *$L^2$ loss*, or *squared\n",
    "loss*.\n",
    "\n",
    "Averaging this loss across all data samples, you get what is called the\n",
    "*Mean Squared Error*, or MSE. It corresponds to the average of the\n",
    "squared differences between estimation and true values across all data\n",
    "points. It is commonly used for linear regression.\n",
    "\n",
    "#### Mathematical Definition of the Cost Function\n",
    "\n",
    "The MSE loss is defined as follows:\n",
    "\n",
    "$$\n",
    "L=(\\hat{y} - y)^2\n",
    "$$\n",
    "\n",
    "with $\\hat{y}$ (pronounced “y hat”) being the estimated value and $y$\n",
    "the true value. So the difference $\\hat{y}-y$ corresponds to the error\n",
    "made by the model.\n",
    "\n",
    "Looking again at Figure [18](#fig:ch02_cost_regression), you can observe\n",
    "that some errors are positive (data points below the estimated value)\n",
    "and some are negative. Squaring the errors allows you to take both into\n",
    "account to evaluate the error.\n",
    "\n",
    "Loss functions and cost functions are intimately related, but usually,\n",
    "loss functions refer to the error calculated on one training example,\n",
    "whereas the cost function is over the entire training dataset.\n",
    "\n",
    "##### Prediction Function\n",
    "\n",
    "In the case of linear regression, the predicted value $\\hat{y}$ is\n",
    "calculated with a linear function (the assumption is that a line could\n",
    "fit our data well):\n",
    "\n",
    "$$\n",
    "\\hat{y}=ax+b\n",
    "$$\n",
    "\n",
    "It is called the *prediction function*, *hypothesis function*, or simply\n",
    "the *model*. You can refer to\n",
    "Section 11\n",
    "for more details on the parameters of a line. The slope parameter is $a$\n",
    "(the parameter multiplied by $x$) and the intercept is $b$. This\n",
    "prediction function takes $x$ as input and returns an estimation\n",
    "$\\hat{y}$ according to your model’s parameters ($a$ and $b$).\n",
    "\n",
    "##### Loss Function\n",
    "\n",
    "If you replace $\\hat{y}$ in the loss function, you get:\n",
    "\n",
    "$$\n",
    "L = (\\hat{y} - y)^2 = ((ax+b) - y)^2\n",
    "$$\n",
    "\n",
    "For now, we’ll simplify the model and use only one parameter: the slope\n",
    "parameter $\\hat{y} = ax$. Intuitively, this means that you force the\n",
    "line to pass through zero (because the $y$-intercept is $b = 0$). The\n",
    "loss becomes:\n",
    "\n",
    "$$\n",
    "L = (ax - y)^2\n",
    "$$\n",
    "\n",
    "Conventionally, the model parameters are called $\\theta$ (the Greek\n",
    "letter “theta”), as in the following expression:\n",
    "\n",
    "$$\n",
    "L = (\\theta x - y)^2\n",
    "$$\n",
    "\n",
    "##### Cost Function\n",
    "\n",
    "To calculate the Mean Squared Error, let’s calculate the averaged loss\n",
    "across data samples. Mathematically, the cost function, usually denoted\n",
    "as $J(\\theta)$, is written as:\n",
    "\n",
    "$$\n",
    "J(\\theta) = \\frac{1}{2m}\\sum_{i=1} ^m (\\theta \\vx^{(i)} - \\vy^{(i)})^2\n",
    "$$\n",
    "\n",
    "with $m$ being the number of training examples, $\\vx^{(i)}$ the $i$th\n",
    "sample of the dataset, and $\\vy^{(i)}$ the true value of the $i$th\n",
    "sample.\n",
    "\n",
    "As you’ll see in Section 5, we’ll\n",
    "denote vectors with lowercase, boldface letters. For now, consider these\n",
    "vectors as arrays of values. For instance, $\\vx$ is an array with all\n",
    "data samples.\n",
    "\n",
    "Dividing by $2m$ instead of $m$ is done only to simplify the final\n",
    "result of the cost function derivative. $J(\\theta)$ is thus proportional\n",
    "to the average of the squared loss since you calculate the sum of the\n",
    "losses and divide by the number of data samples multiplied by two.\n",
    "\n",
    "The Sigma notation ($\\sum$) means that you take the sum over every $i$\n",
    "training example until $m$.\n",
    "\n",
    "#### Implementation\n",
    "\n",
    "Let’s write an implementation of the MSE (feel free to try to write it\n",
    "before looking at the solution: it is a good way to go from mathematical\n",
    "notation to code and the other way around):"
   ]
  },
  {
   "cell_type": "code",
   "execution_count": 12,
   "metadata": {
    "execution": {
     "iopub.execute_input": "2021-03-23T10:38:14.401136Z",
     "iopub.status.busy": "2021-03-23T10:38:14.400560Z",
     "iopub.status.idle": "2021-03-23T10:38:14.402449Z",
     "shell.execute_reply": "2021-03-23T10:38:14.402855Z"
    }
   },
   "outputs": [],
   "source": [
    "def MSE(x, y, theta):\n",
    "    m = y.shape[0]\n",
    "    cost = (1 / (2 * m)) * np.sum((theta * x - y) ** 2)\n",
    "    return cost"
   ]
  },
  {
    "cell_type": "markdown",
   "metadata": {},
   "source": [
    "You can get the number of data samples with the shape of `y`: this array\n",
    "contains one value per data sample. The variable `x` is an array\n",
    "containing the data samples, and thus `theta * x - y` is also an array\n",
    "of the same size.\n",
    "\n",
    "To summarize, the cost function takes $x$, $y$ and $\\theta$ as inputs\n",
    "and returns the cost.\n",
    "\n",
    "Let’s illustrate the cost function with the example of three\n",
    "observations.\n",
    "\n",
    "<img src=\"images/ch02_cost_mse_theta.png\" id=\"fig:ch02_cost_mse_theta\" width=\"500\" alt=\"Figure 19: The cost function corresponds to the error of the fit as a function of the parameter \\theta (here, the slope), as shown in the bottom figures.\" />\n",
    "Figure 19: The cost function corresponds to the error of the fit as a function of the parameter <span class=\"math inline\"><em>θ</em></span> (here, the slope), as shown in the bottom figures.\n",
    "\n",
    "Figure [19](#fig:ch02_cost_mse_theta) illustrates four different values\n",
    "of $\\theta$ from left to right. The top figures show the three data\n",
    "points in red and the regression line with a slope of $\\theta$. The\n",
    "bottom figures show the cost as a function of $\\theta$. This cost is\n",
    "calculated as the error of the fit (the dotted red lines in the top\n",
    "figures). For instance, you can see that the cost is zero when\n",
    "$\\theta=2$ because the fit is perfect.\n",
    "\n",
    "When you consider the different values of $\\theta$, you see the shape of\n",
    "the MSE the cost function, as in the bottom right panel. However, the\n",
    "goal of gradient descent is to avoid to calculate the cost for every\n",
    "parameters (or combinations of parameters, which would be\n",
    "computationally very difficult)."
   ]
  },
  {
   "cell_type": "markdown",
   "metadata": {},
   "source": [
    "### 1.3.2 Derivative of the Cost Function\n",
    "\n",
    "Since derivatives correspond to the slope of a function, it indicates\n",
    "the direction of $x$ needed to maximize or minimize the function. If the\n",
    "function has multiple parameters, you need to know how to move in\n",
    "multiple directions and calculate the derivative with respect to each of\n",
    "these directions: the partial derivatives (see\n",
    "Section 1.1.5). The gradient is\n",
    "a vector containing the partial derivatives for all directions and\n",
    "gradient descent is the method used to find the minimum of cost\n",
    "functions.\n",
    "\n",
    "Let’s differentiate the MSE cost function defined in the last section.\n",
    "You want to find:\n",
    "\n",
    "$$\n",
    "\\frac{d J(\\theta)}{d\\theta} = \\frac{d}{d\\theta} \\left(\\frac{1}{2m}\\sum_{i=1} ^m \\left( \\theta x^{(i)} - y^{(i)} \\right)^2 \\right)\n",
    "$$\n",
    "\n",
    "The expression $\\frac{d J(\\theta)}{d\\theta}$ corresponds to the\n",
    "derivative of the cost function $J(\\theta)$ with respect to $d\\theta$.\n",
    "\n",
    "First, you can get $\\frac{1}{2m}$ out from the derivative because of the\n",
    "multiplication by constant rule. The sum can also be extracted because\n",
    "of the sum rule. You get:\n",
    "\n",
    "$$\n",
    "\\frac{d J(\\theta)}{d\\theta} = \\frac{1}{2m}\\sum_{i=1} ^m \\frac{d}{d \\theta} \\left((\\theta x^{(i)} - y^{(i)})^2\\right)\n",
    "$$\n",
    "\n",
    "You’ll need the chain rule\n",
    "(Section 1.1.4.4)\n",
    "to differentiate this composite function. Let’s use the Lagrange\n",
    "notation and create an intermediate function $g(\\theta)$ such as:\n",
    "\n",
    "$$g(\\theta)=\\theta x - y$$\n",
    "\n",
    "We omitted the index $i$ for clarity. Let’s also denote $f(g(x))$ or\n",
    "simply $f(g)$:\n",
    "\n",
    "$$f(g) = g^2$$\n",
    "\n",
    "From the derivatives rules, the derivatives of these two functions are:\n",
    "\n",
    "$$g'(\\theta) = x$$\n",
    "\n",
    "$$f'(g)= 2g$$\n",
    "\n",
    "Using the chain rule from\n",
    "Section 1.1.4.4,\n",
    "you get:\n",
    "\n",
    "$$\n",
    "\\begin{aligned}\n",
    "(f(g))' &= f'(g) \\cdot g' \\\\\\\\\n",
    "&= 2g \\cdot x \\\\\\\\\n",
    "&= 2 (\\theta x - y ) \\cdot x\n",
    "\\end{aligned}\n",
    "$$\n",
    "\n",
    "So the derivative of the MSE cost function is defined as:\n",
    "\n",
    "$$\n",
    "\\begin{aligned}\n",
    "\\frac{d J(\\theta)}{d\\theta} &= \\frac{1}{2m}\\sum_{i=1} ^m 2 (\\theta x^{(i)} - y^{(i)}) \\cdot x^{(i)} \\\\\\\\\n",
    "&= \\frac{1}{m}\\sum_{i=1} ^m (\\theta x^{(i)} - y^{(i)}) \\cdot x^{(i)}\n",
    "\\end{aligned}\n",
    "$$\n",
    "\n",
    "The function $\\frac{d J}{d\\theta}$ takes the parameter $\\theta$ as input\n",
    "and returns the slope of the tangent of the cost function for this value\n",
    "of $\\theta$. The slope tells you the direction that you must take to\n",
    "minimize the cost. Look back at the cost function pictured in green in\n",
    "Figure [19](#fig:ch02_cost_mse_theta): for instance, the slope of the\n",
    "tangent line at $\\theta = 0$ is negative. It means that you need to\n",
    "increase the value of $\\theta$ to reach the minimum of the cost\n",
    "function. Conversely, the slope of the tangent is positive for\n",
    "$\\theta = 3$, meaning that the value of $\\theta$ that minimizes the cost\n",
    "is smaller than three.\n",
    "\n",
    "You can now implement the derivative of the cost function (try to do it\n",
    "yourself, and then look at the solution):"
   ]
  },
  {
   "cell_type": "code",
   "execution_count": 13,
   "metadata": {
    "execution": {
     "iopub.execute_input": "2021-03-23T10:38:14.406431Z",
     "iopub.status.busy": "2021-03-23T10:38:14.405854Z",
     "iopub.status.idle": "2021-03-23T10:38:14.407843Z",
     "shell.execute_reply": "2021-03-23T10:38:14.408296Z"
    }
   },
   "outputs": [],
   "source": [
    "def MSE_derivative(x, y, theta):\n",
    "    m = y.shape[0]\n",
    "    cost_derivative = (1 / m) * np.sum((theta * x - y) * x)\n",
    "    return cost_derivative\n"
   ]
  },
  {
   "cell_type": "markdown",
   "metadata": {},
   "source": [
    "You give a value of $\\theta$ and arrays containing the $x$ values and\n",
    "the $y$ values, and the function returns the slope of the tangent of the\n",
    "cost function for this $\\theta$."
   ]
  },
  {
    "cell_type": "markdown",
   "metadata": {},
   "source": [
    "### 1.3.3 Implementing Gradient Descent\n",
    "\n",
    "Now that you have the cost function derivative, you’ll be able to\n",
    "optimize the parameter $\\theta$ (the slope of the fitting line).\n",
    "\n",
    "Here are the steps:\n",
    "\n",
    "-   Start with the parameter (the slope) equals to 0.\n",
    "-   Calculate the derivative for this parameter.\n",
    "-   Update the parameter in the direction that decreases the cost.\n",
    "\n",
    "You can then repeat the steps 1 and 2.\n",
    "\n",
    "<img src=\"images/ch02_convex_functions.png\" id=\"fig:ch02_convex_functions\" width=\"200\" alt=\"Figure 20: The left figures shows a convex function: all lines between pairs of points are above the curve. The right panel shows a non-convex function with an example of line that lies below the curve.\" />\n",
    "Figure 20: The left figures shows a convex function: all lines between pairs of points are above the curve. The right panel shows a non-convex function with an example of line that lies below the curve.\n",
    "\n",
    "This process can’t work if your cost function is not *convex*. A convex\n",
    "function has the shape of a bowl and is defined as follows: if you draw\n",
    "a line between any pair of points in the curve, this line will be above\n",
    "or on the curve (see Figure [20](#fig:ch02_convex_functions)).\n",
    "\n",
    "#### Dataset\n",
    "\n",
    "You’ll implement gradient descent on a dataset on red wine quality,\n",
    "where various chemical properties of wines are described (the dataset\n",
    "comes from here: https://archive.ics.uci.edu/ml/datasets/wine+quality.\n",
    "The related paper is Cortez, Paulo, et al. “Modeling wine preferences by\n",
    "data mining from physicochemical properties.” Decision Support Systems\n",
    "47.4 (2009): 547-553.) .\n",
    "\n",
    "Let’s load the data and have a look at the first rows and columns:"
   ]
  },
  {
   "cell_type": "code",
   "execution_count": 14,
   "metadata": {
    "execution": {
     "iopub.execute_input": "2021-03-23T10:38:14.411704Z",
     "iopub.status.busy": "2021-03-23T10:38:14.411153Z",
     "iopub.status.idle": "2021-03-23T10:38:14.423829Z",
     "shell.execute_reply": "2021-03-23T10:38:14.424249Z"
    }
   },
   "outputs": [
    {
     "data": {
      "text/html": [
       "<div>\n",
       "<style scoped>\n",
       "    .dataframe tbody tr th:only-of-type {\n",
       "        vertical-align: middle;\n",
       "    }\n",
       "\n",
       "    .dataframe tbody tr th {\n",
       "        vertical-align: top;\n",
       "    }\n",
       "\n",
       "    .dataframe thead th {\n",
       "        text-align: right;\n",
       "    }\n",
       "</style>\n",
       "<table border=\"1\" class=\"dataframe\">\n",
       "  <thead>\n",
       "    <tr style=\"text-align: right;\">\n",
       "      <th></th>\n",
       "      <th>fixed acidity</th>\n",
       "      <th>volatile acidity</th>\n",
       "      <th>citric acid</th>\n",
       "      <th>residual sugar</th>\n",
       "      <th>chlorides</th>\n",
       "    </tr>\n",
       "  </thead>\n",
       "  <tbody>\n",
       "    <tr>\n",
       "      <th>0</th>\n",
       "      <td>7.4</td>\n",
       "      <td>0.70</td>\n",
       "      <td>0.00</td>\n",
       "      <td>1.9</td>\n",
       "      <td>0.076</td>\n",
       "    </tr>\n",
       "    <tr>\n",
       "      <th>1</th>\n",
       "      <td>7.8</td>\n",
       "      <td>0.88</td>\n",
       "      <td>0.00</td>\n",
       "      <td>2.6</td>\n",
       "      <td>0.098</td>\n",
       "    </tr>\n",
       "    <tr>\n",
       "      <th>2</th>\n",
       "      <td>7.8</td>\n",
       "      <td>0.76</td>\n",
       "      <td>0.04</td>\n",
       "      <td>2.3</td>\n",
       "      <td>0.092</td>\n",
       "    </tr>\n",
       "    <tr>\n",
       "      <th>3</th>\n",
       "      <td>11.2</td>\n",
       "      <td>0.28</td>\n",
       "      <td>0.56</td>\n",
       "      <td>1.9</td>\n",
       "      <td>0.075</td>\n",
       "    </tr>\n",
       "    <tr>\n",
       "      <th>4</th>\n",
       "      <td>7.4</td>\n",
       "      <td>0.70</td>\n",
       "      <td>0.00</td>\n",
       "      <td>1.9</td>\n",
       "      <td>0.076</td>\n",
       "    </tr>\n",
       "  </tbody>\n",
       "</table>\n",
       "</div>"
      ],
      "text/plain": [
       "   fixed acidity  volatile acidity  citric acid  residual sugar  chlorides\n",
       "0            7.4              0.70         0.00             1.9      0.076\n",
       "1            7.8              0.88         0.00             2.6      0.098\n",
       "2            7.8              0.76         0.04             2.3      0.092\n",
       "3           11.2              0.28         0.56             1.9      0.075\n",
       "4            7.4              0.70         0.00             1.9      0.076"
      ]
     },
     "execution_count": 1,
     "metadata": {},
     "output_type": "execute_result"
    }
   ],
   "source": [
    "data = pd.read_csv(\"data/winequality-red.csv\", sep=\";\")\n",
    "data.iloc[:5, :5]"
   ]
  },
  {
   "cell_type": "markdown",
   "metadata": {},
   "source": [
    "The goal is to implement linear regression to model the relationship\n",
    "between two features of this dataset: the fixed acidity of the wine and\n",
    "its density. Let’s first look at the scatter plot of these variables:"
   ]
  },
  {
   "cell_type": "code",
   "execution_count": 15,
   "metadata": {
    "execution": {
     "iopub.execute_input": "2021-03-23T10:38:14.442367Z",
     "iopub.status.busy": "2021-03-23T10:38:14.441720Z",
     "iopub.status.idle": "2021-03-23T10:38:14.555401Z",
     "shell.execute_reply": "2021-03-23T10:38:14.555830Z"
    }
   },
   "outputs": [
    {
     "data": {
      "image/png": "[encoded data removed]",
      "text/plain": [
       "<Figure size 432x288 with 1 Axes>"
      ]
     },
     "metadata": {
      "needs_background": "dark"
     },
     "output_type": "display_data"
    }
   ],
   "source": [
    "plt.scatter(data['fixed acidity'], data['density'], alpha=0.4)\n",
    "# [...] Add axes, labels etc.\n",
    "\n",
    "plt.xlabel(\"Fixed Acidity\")\n",
    "plt.ylabel(\"Density\")\n",
    "\n",
    "plt.show()\n"
   ]
  },
  {
    "cell_type": "markdown",
   "metadata": {},
   "source": [
    "<img src=\"images/blank.png\" id=\"fig:ch02_density_fixed_acidity\" alt=\"Figure 21: Density of wines as a function of fixed acidity. Each point corresponds to a data observation.\" />\n",
    "Figure 21: Density of wines as a function of fixed acidity. Each point corresponds to a data observation.\n",
    "\n",
    "Let’s create the variables `X` and `y` from the Pandas dataframe:"
   ]
  },
  {
   "cell_type": "code",
   "execution_count": 16,
   "metadata": {
    "execution": {
     "iopub.execute_input": "2021-03-23T10:38:14.559433Z",
     "iopub.status.busy": "2021-03-23T10:38:14.558866Z",
     "iopub.status.idle": "2021-03-23T10:38:14.561102Z",
     "shell.execute_reply": "2021-03-23T10:38:14.561463Z"
    }
   },
   "outputs": [
    {
     "data": {
      "text/plain": [
       "(1599, 1)"
      ]
     },
     "execution_count": 1,
     "metadata": {},
     "output_type": "execute_result"
    }
   ],
   "source": [
    "X = data['fixed acidity'].to_numpy().reshape(-1, 1)\n",
    "X.shape"
   ]
  },
  {
   "cell_type": "code",
   "execution_count": 17,
   "metadata": {
    "execution": {
     "iopub.execute_input": "2021-03-23T10:38:14.564726Z",
     "iopub.status.busy": "2021-03-23T10:38:14.564082Z",
     "iopub.status.idle": "2021-03-23T10:38:14.566799Z",
     "shell.execute_reply": "2021-03-23T10:38:14.567173Z"
    }
   },
   "outputs": [
    {
     "data": {
      "text/plain": [
       "(1599, 1)"
      ]
     },
     "execution_count": 1,
     "metadata": {},
     "output_type": "execute_result"
    }
   ],
   "source": [
    "y = data['density'].to_numpy().reshape(-1, 1)\n",
    "y.shape"
   ]
  },
  {
   "cell_type": "markdown",
   "metadata": {},
   "source": [
    "You need to reshape the Numpy arrays to use them in the following\n",
    "Sklearn method.\n",
    "\n",
    "You’ll also standardize the data: transforms the variables to have a\n",
    "mean equals to zero and a standard deviation equals to one (you’ll find\n",
    "more details about the mean and the standard deviation in\n",
    "Section 2.1.) :"
   ]
  },
  {
   "cell_type": "code",
   "execution_count": 18,
   "metadata": {
    "execution": {
     "iopub.execute_input": "2021-03-23T10:38:14.570630Z",
     "iopub.status.busy": "2021-03-23T10:38:14.569919Z",
     "iopub.status.idle": "2021-03-23T10:38:15.472972Z",
     "shell.execute_reply": "2021-03-23T10:38:15.473445Z"
    }
   },
   "outputs": [],
   "source": [
    "from sklearn.preprocessing import StandardScaler\n",
    "\n",
    "standard_scaler = StandardScaler()\n",
    "X = standard_scaler.fit_transform(X)\n",
    "y = standard_scaler.fit_transform(y)"
   ]
  },
  {
   "cell_type": "markdown",
   "metadata": {},
   "source": [
    "#### Derivative of the Cost Function\n",
    "\n",
    "You can use your `MSE_derivative` function to calculate the derivative\n",
    "using these data. Let’s try it with $\\theta=0$:"
   ]
  },
  {
   "cell_type": "code",
   "execution_count": 19,
   "metadata": {
    "execution": {
     "iopub.execute_input": "2021-03-23T10:38:15.478653Z",
     "iopub.status.busy": "2021-03-23T10:38:15.477717Z",
     "iopub.status.idle": "2021-03-23T10:38:15.480799Z",
     "shell.execute_reply": "2021-03-23T10:38:15.481324Z"
    }
   },
   "outputs": [
    {
     "data": {
      "text/plain": [
       "-0.6680472921189744"
      ]
     },
     "execution_count": 1,
     "metadata": {},
     "output_type": "execute_result"
    }
   ],
   "source": [
    "MSE_derivative(x=X, y=y, theta=0)"
   ]
  },
  {
   "cell_type": "markdown",
   "metadata": {},
   "source": [
    "This negative value tells you that you need to increase $\\theta$ if you\n",
    "want to reduce the cost (you can still refer to Figure\n",
    "[19](#fig:ch02_cost_mse_theta) and the last section).\n",
    "\n",
    "#### Parameter Update\n",
    "\n",
    "A large derivative value means that the slope is steep. In this case,\n",
    "you want to add or subtract a large value to approach the minimum\n",
    "rapidly. This is why you update the parameters by subtracting the value\n",
    "of the derivative to the parameter: a large value will largely change\n",
    "the parameter and a small value not so much.\n",
    "\n",
    "In addition, a weight, called the *learning rate*, is applied to the\n",
    "derivative allowing you to choose how large are the steps done at each\n",
    "iteration. This is done by multiplying a scalar to the derivative\n",
    "(called `lr` for ‘learning rate’ in the following code):"
   ]
  },
  {
   "cell_type": "code",
   "execution_count": 20,
   "metadata": {
    "execution": {
     "iopub.execute_input": "2021-03-23T10:38:15.486343Z",
     "iopub.status.busy": "2021-03-23T10:38:15.485563Z",
     "iopub.status.idle": "2021-03-23T10:38:15.488387Z",
     "shell.execute_reply": "2021-03-23T10:38:15.488928Z"
    }
   },
   "outputs": [
    {
     "data": {
      "text/plain": [
       "0.006680472921189744"
      ]
     },
     "execution_count": 1,
     "metadata": {},
     "output_type": "execute_result"
    }
   ],
   "source": [
    "lr = 0.01\n",
    "theta = 0\n",
    "theta = theta - lr * MSE_derivative(x=X, y=y, theta=theta)\n",
    "theta"
   ]
  },
  {
   "cell_type": "markdown",
   "metadata": {},
   "source": [
    "This is the value of $\\theta$ after the update. Let’s iteratively update\n",
    "the parameters, store the cost and the parameter value and plot the cost\n",
    "as a function of the parameters:"
   ]
  },
  {
   "cell_type": "code",
   "execution_count": 21,
   "metadata": {
    "execution": {
     "iopub.execute_input": "2021-03-23T10:38:15.495821Z",
     "iopub.status.busy": "2021-03-23T10:38:15.494827Z",
     "iopub.status.idle": "2021-03-23T10:38:16.064691Z",
     "shell.execute_reply": "2021-03-23T10:38:16.065208Z"
    }
   },
   "outputs": [
    {
     "data": {
      "image/png": "[encoded data removed]",
      "text/plain": [
       "<Figure size 432x288 with 2 Axes>"
      ]
     },
     "metadata": {
      "needs_background": "dark"
     },
     "output_type": "display_data"
    }
   ],
   "source": [
    "lr = 0.1\n",
    "theta = 0\n",
    "\n",
    "theta_all = []\n",
    "cost_all = []\n",
    "\n",
    "for i in range(30):\n",
    "    theta = theta - lr * MSE_derivative(x=X, y=y, theta=theta)\n",
    "    cost = MSE(X, y, theta)\n",
    "    \n",
    "    theta_all.append(theta)\n",
    "    cost_all.append(cost)\n",
    "    \n",
    "plt.scatter(theta_all, cost_all, linewidth=1.5, c=np.arange(len(cost_all)))\n",
    "\n",
    "plt.xlabel(r\"Value of the parameter $\\theta$\")\n",
    "plt.ylabel(\"Cost\")\n",
    "clb = plt.colorbar()\n",
    "clb.ax.set_title('Iterations')\n",
    "plt.show()\n"
   ]
  },
  {
    "cell_type": "markdown",
   "metadata": {},
   "source": [
    "<img src=\"images/blank.png\" id=\"fig:ch02_cost_theta_iterations\" alt=\"Figure 22: Cost as a function of the parameter \\theta. The cost decreases at each iteration.\" />\n",
    "Figure 22: Cost as a function of the parameter <span class=\"math inline\"><em>θ</em></span>. The cost decreases at each iteration.\n",
    "\n",
    "You can see in Figure [22](#fig:ch02_cost_theta_iterations) that the\n",
    "cost decreases at each iteration. Let’s see what is the best parameter\n",
    "value that you got and use it to plot the corresponding regression line:"
   ]
  },
  {
   "cell_type": "code",
   "execution_count": 22,
   "metadata": {
    "execution": {
     "iopub.execute_input": "2021-03-23T10:38:16.070106Z",
     "iopub.status.busy": "2021-03-23T10:38:16.069280Z",
     "iopub.status.idle": "2021-03-23T10:38:16.072698Z",
     "shell.execute_reply": "2021-03-23T10:38:16.073244Z"
    }
   },
   "outputs": [
    {
     "data": {
      "text/plain": [
       "0.6397279936234294"
      ]
     },
     "execution_count": 1,
     "metadata": {},
     "output_type": "execute_result"
    }
   ],
   "source": [
    "best_slope = theta_all[-1]\n",
    "best_slope"
   ]
  },
  {
   "cell_type": "code",
   "execution_count": 23,
   "metadata": {
    "execution": {
     "iopub.execute_input": "2021-03-23T10:38:16.097506Z",
     "iopub.status.busy": "2021-03-23T10:38:16.096735Z",
     "iopub.status.idle": "2021-03-23T10:38:16.235270Z",
     "shell.execute_reply": "2021-03-23T10:38:16.234912Z"
    }
   },
   "outputs": [
    {
     "data": {
      "image/png": "[encoded data removed]",
      "text/plain": [
       "<Figure size 432x288 with 1 Axes>"
      ]
     },
     "metadata": {
      "needs_background": "dark"
     },
     "output_type": "display_data"
    }
   ],
   "source": [
    "x_axis = np.arange(-2, 4, 0.1)\n",
    "y_axis = best_slope * x_axis\n",
    "plt.scatter(X, y, alpha=0.4, zorder=0)\n",
    "plt.plot(x_axis, y_axis, c='#FF8177')\n",
    "\n",
    "plt.xlabel(\"Fixed Acidity\")\n",
    "plt.ylabel(\"Density\")\n",
    "plt.show()\n"
   ]
  },
  {
    "cell_type": "markdown",
   "metadata": {},
   "source": [
    "<img src=\"images/blank.png\" id=\"fig:ch02_scatterplot_regression\" alt=\"Figure 23: Density as a function of fixed acidity with the regression line.\" />\n",
    "Figure 23: Density as a function of fixed acidity with the regression line.\n",
    "\n",
    "You can see in Figure [23](#fig:ch02_scatterplot_regression) that after\n",
    "30 iterations you reach a slope that fits the data well.\n",
    "\n",
    "Congratulation, you have learned about one of the core mathematical\n",
    "principles of machine learning: *gradient descent*. In machine learning,\n",
    "algorithms *learn* by minimizing the cost function. Instead of\n",
    "calculating the cost for all combination of parameters, derivatives\n",
    "tells you how to modify the parameter to decrease the cost."
   ]
  },
  {
   "cell_type": "markdown",
   "metadata": {},
   "source": [
    "### 1.3.4 BONUS: MSE Cost Function With Two Parameters\n",
    "\n",
    "You saw in this section how to minimize a cost function for a single\n",
    "parameter model. You’ll see now how to proceed with multiple parameters.\n",
    "\n",
    "#### The Cost Function\n",
    "\n",
    "You’ll calculate the gradient of the MSE cost function for linear\n",
    "regression using two parameters: the $y$-intercept of the line (that\n",
    "we’ll denote $\\theta_0$) and its slope ($\\theta_1$).\n",
    "\n",
    "With both parameters, the cost function is as follows:\n",
    "\n",
    "$$\n",
    "J(\\theta_0, \\theta_1) = \\frac{1}{2m}\\sum_{i=1} ^m (\\theta_0 + \\theta_1 x^{(i)} - y^{(i)})^2\n",
    "$$\n",
    "\n",
    "You can see that the only difference with the cost function with one\n",
    "parameter is that the prediction function is\n",
    "$\\theta_0 + \\theta_1 x^{(i)}$ instead of just $\\theta x^{(i)}$.\n",
    "\n",
    "#### Partial Derivatives\n",
    "\n",
    "With two parameters, you’ll need to calculate the partial derivatives\n",
    "with respect to $\\theta_0$ and $\\theta_1$ independently. Here are the\n",
    "intermediate functions to apply the chain rule, as you had with a single\n",
    "parameter:\n",
    "\n",
    "$$\n",
    "g(\\theta_0, \\theta_1)=\\theta_0 + \\theta_1 x - y\n",
    "$$\n",
    "\n",
    "and\n",
    "\n",
    "$$\n",
    "f(g) = g^2\n",
    "$$\n",
    "\n",
    "You’ll have different derivatives with respect to $\\theta_0$ and\n",
    "$\\theta_1$:\n",
    "\n",
    "$$\n",
    "\\frac{\\partial g}{\\partial \\theta_0} = 1\n",
    "$$\n",
    "\n",
    "and\n",
    "\n",
    "$$\n",
    "\\frac{\\partial g}{\\partial \\theta_1} = x\n",
    "$$\n",
    "\n",
    "You also have:\n",
    "\n",
    "$$\n",
    "\\frac{\\partial f(g)}{\\partial g} = 2g\n",
    "$$\n",
    "\n",
    "Let’s calculate the partial derivatives of the cost function.\n",
    "\n",
    "##### With Respect to $\\theta_0$\n",
    "\n",
    "For the derivative with respect to $\\theta_0$, you have:\n",
    "\n",
    "$$\n",
    "\\begin{aligned}\n",
    "\\frac{\\partial J(\\theta_0, \\theta_1)}{\\partial \\theta_0} &= \\frac{\\partial f(g)}{\\partial g} \\cdot \\frac{\\partial g}{\\partial \\theta_0} \\\\\\\\\n",
    "&= 2g \\cdot 1 \\\\\\\\\n",
    "&= 2(\\theta_0 + \\theta_1 x - y) \\\\\\\\\n",
    "\\end{aligned}\n",
    "$$\n",
    "\n",
    "so you have:\n",
    "\n",
    "$$\n",
    "\\begin{aligned}\n",
    "\\frac{\\partial J(\\theta_0, \\theta_1)}{\\partial \\theta_0} &= \\frac{1}{2m}\\sum_{i=1} ^m 2(\\theta_0 + \\theta_1 x^{(i)} - y^{(i)}) \\\\\\\\\n",
    "&= \\frac{1}{m}\\sum_{i=1} ^m \\theta_0 + \\theta_1 x^{(i)} - y^{(i)}\n",
    "\\end{aligned}\n",
    "$$\n",
    "\n",
    "##### With Respect to $\\theta_1$\n",
    "\n",
    "Finally, for the derivative with respect to $\\theta_1$, you have:\n",
    "\n",
    "$$\n",
    "\\begin{aligned}\n",
    "\\frac{\\partial J(\\theta_0, \\theta_1)}{\\partial \\theta_1} &= \\frac{\\partial f(g)}{\\partial g} \\cdot \\frac{\\partial g}{\\partial \\theta_1} \\\\\\\\\n",
    "&= 2g \\cdot x \\\\\\\\\n",
    "&= 2(\\theta_0 + \\theta_1 x - y) \\cdot x \\\\\\\\\n",
    "\\end{aligned}\n",
    "$$\n",
    "\n",
    "and\n",
    "\n",
    "$$\n",
    "\\begin{aligned}\n",
    "\\frac{\\partial J(\\theta_0, \\theta_1)}{\\partial \\theta_1} &= \\frac{1}{2m}\\sum_{i=1} ^m 2(\\theta_0 + \\theta_1 x^{(i)} - y^{(i)}) \\cdot x^{(i)} \\\\\\\\\n",
    "&= \\frac{1}{m}\\sum_{i=1} ^m (\\theta_0 + \\theta_1 x^{(i)} - y^{(i)}) \\cdot x^{(i)}\n",
    "\\end{aligned}\n",
    "$$\n",
    "\n",
    "These functions allow you to update both parameters. You can calculate\n",
    "the derivative corresponding to each variable separately and update the\n",
    "parameters according to the slope exactly as you did previously.\n",
    "\n",
    "**Conclusion**\n",
    "\n",
    "This concludes this chapter on calculus. You have learned about\n",
    "derivatives and integrals, and this hands-on project showed that these\n",
    "mathematical concepts are very important to understanding the core of\n",
    "machine learning.\n",
    "\n",
    "You can often gain intuition as you learn by trying things out with code\n",
    "and by seeing multiple points of view: for instance, through plots,\n",
    "equations, and examples in the real world. Mathematical notation is just\n",
    "one more tool you’ll have at your belt.\n",
    "\n"
   ]
  }
 ],
 "metadata": {
  "language_info": {
   "codemirror_mode": {
    "name": "ipython",
    "version": 3
   },
   "file_extension": ".py",
   "mimetype": "text/x-python",
   "name": "python",
   "nbconvert_exporter": "python",
   "pygments_lexer": "ipython3",
   "version": "3.8.5"
  }
 },
 "nbformat": 4,
 "nbformat_minor": 5
}

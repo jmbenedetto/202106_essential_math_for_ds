{
 "cells": [
  {
   "cell_type": "code",
   "execution_count": 1,
   "metadata": {
    "execution": {
     "iopub.execute_input": "2021-03-23T10:39:17.268528Z",
     "iopub.status.busy": "2021-03-23T10:39:17.267802Z",
     "iopub.status.idle": "2021-03-23T10:39:17.691754Z",
     "shell.execute_reply": "2021-03-23T10:39:17.692159Z"
    }
   },
   "outputs": [],
   "source": [
    "# Basic imports\n",
    "import numpy as np\n",
    "import pandas as pd\n",
    "import matplotlib.pyplot as plt\n",
    "import matplotlib\n",
    "from mpl_toolkits.mplot3d import Axes3D\n",
    "from matplotlib import ticker\n",
    "\n",
    "# Display options\n",
    "from IPython.display import display\n",
    "pd.options.display.max_columns = None\n",
    "\n",
    "np.set_printoptions(threshold=30)\n",
    "\n",
    "# Plots style\n",
    "from cycler import cycler\n",
    "\n",
    "matplotlib.rcParams['lines.linewidth'] = 3\n",
    "matplotlib.rcParams['lines.markersize'] = 10\n",
    "\n",
    "matplotlib.rcParams['xtick.labelsize'] = 12\n",
    "matplotlib.rcParams['xtick.color'] = '#A9A9A9'\n",
    "matplotlib.rcParams['ytick.labelsize'] = 12\n",
    "matplotlib.rcParams['ytick.color'] = '#A9A9A9'\n",
    "\n",
    "matplotlib.rcParams['grid.color'] = '#ffffff'\n",
    "\n",
    "matplotlib.rcParams['axes.facecolor'] = '#ffffff'\n",
    "\n",
    "matplotlib.rcParams['axes.spines.left'] = False\n",
    "matplotlib.rcParams['axes.spines.right'] = False\n",
    "matplotlib.rcParams['axes.spines.top'] = False\n",
    "matplotlib.rcParams['axes.spines.bottom'] = False\n",
    "\n",
    "matplotlib.rcParams['axes.prop_cycle'] = cycler(color=['#2EBCE7', '#84EE29', '#FF8177'])"
   ]
  },
  {
   "cell_type": "markdown",
   "metadata": {},
   "source": [
    "$$\n",
    "\\def\\var{{\\text{Var}}} % Variance\n",
    "\\def\\corr{{\\text{Corr}}} % Correlation\n",
    "\\def\\cov{{\\text{Cov}}} % Covariance\n",
    "\\def\\expval{{\\mathbb{E}}}\n",
    "\\newcommand\\norm[1]{\\lVert#1\\rVert} % norm\n",
    "\\def\\setR{{\\rm I\\!R}} % Sets\n",
    "\\def\\rx{{\\textrm{X}}} % Scalar random variables\n",
    "\\def\\ry{{\\textrm{Y}}}\n",
    "\\def\\rz{{\\textrm{Z}}}\n",
    "\\def\\rvx{{\\textbf{X}}} % Vector random variables\n",
    "\\def\\rvy{{\\textbf{Y}}}\n",
    "\\def\\rvz{{\\textbf{Z}}}\n",
    "\\def\\vtheta{{\\boldsymbol{\\theta}}} % Vectors\n",
    "\\def\\va{{\\boldsymbol{a}}}\n",
    "\\def\\vb{{\\boldsymbol{b}}}\n",
    "\\def\\vi{{\\boldsymbol{i}}}\n",
    "\\def\\vj{{\\boldsymbol{j}}}\n",
    "\\def\\vp{{\\boldsymbol{p}}}\n",
    "\\def\\vq{{\\boldsymbol{q}}}\n",
    "\\def\\vu{{\\boldsymbol{u}}}\n",
    "\\def\\vv{{\\boldsymbol{v}}}\n",
    "\\def\\vw{{\\boldsymbol{w}}}\n",
    "\\def\\vx{{\\boldsymbol{x}}}\n",
    "\\def\\vy{{\\boldsymbol{y}}}\n",
    "\\def\\vz{{\\boldsymbol{z}}}\n",
    "\\def\\evu{{u}} % Elements of vectors\n",
    "\\def\\evv{{v}}\n",
    "\\def\\evw{{w}}\n",
    "\\def\\evx{{x}}\n",
    "\\def\\evy{{y}}\n",
    "\\def\\evz{{z}}\n",
    "\\def\\mA{{\\boldsymbol{A}}} % Matrices\n",
    "\\def\\mB{{\\boldsymbol{B}}}\n",
    "\\def\\mC{{\\boldsymbol{C}}}\n",
    "\\def\\mD{{\\boldsymbol{D}}}\n",
    "\\def\\mI{{\\boldsymbol{I}}}\n",
    "\\def\\mQ{{\\boldsymbol{Q}}}\n",
    "\\def\\mS{{\\boldsymbol{S}}}\n",
    "\\def\\mT{{\\boldsymbol{T}}}\n",
    "\\def\\mU{{\\boldsymbol{U}}}\n",
    "\\def\\mV{{\\boldsymbol{V}}}\n",
    "\\def\\mW{{\\boldsymbol{W}}}\n",
    "\\def\\mX{{\\boldsymbol{X}}}\n",
    "\\def\\mLambda{{\\boldsymbol{\\Lambda}}}\n",
    "\\def\\mSigma{{\\boldsymbol{\\Sigma}}}\n",
    "\\def\\emA{{A}} % Elements of matrices\n",
    "\\def\\emB{{B}}\n",
    "\\def\\emX{{X}}\n",
    "\\def\\tT{{T}} % Transformations\n",
    "$$\n",
    "\n",
    "\n",
    "\n",
    "Matrices and Tensors\n",
    "====================\n",
    "\n",
    "As you saw in Section 5, vectors\n",
    "are a useful way to store and manipulate data. You can represent them\n",
    "geometrically as arrows, or as arrays of numbers (the coordinates of\n",
    "their ending points). However, it can be helpful to create more\n",
    "complicated data structures – and that is where matrices need to be\n",
    "introduced.\n",
    "\n",
    "6.1 Introduction\n",
    "----------------\n",
    "\n",
    "As vectors, *matrices* are data structures allowing you to organize\n",
    "numbers. They are square or rectangular arrays containing values\n",
    "organized in two dimensions: rows and columns. You can think of them as\n",
    "a spreadsheet. Usually, you’ll see the term *matrix* in the context of\n",
    "math and *two-dimensional array* in the context of Numpy.\n",
    "\n",
    "In the context of matrices, the term *dimension* is different from\n",
    "dimensions of the geometric representation of vectors (the dimensions of\n",
    "the space). When we say that a matrix is a two-dimensional array, it\n",
    "means that there are two *directions* in the array: the rows and the\n",
    "columns."
   ]
  },
  {
   "cell_type": "markdown",
   "metadata": {},
   "source": [
    "### 6.1.1 Matrix Notation\n",
    "\n",
    "In this book, I’ll denote matrices with bold typeface and upper-case\n",
    "letters, like $\\mA$:\n",
    "\n",
    "$$\n",
    "\\mA = \n",
    "\\begin{bmatrix}\n",
    "1 & 0 \\\\\\\\\n",
    "2 & 3\n",
    "\\end{bmatrix}\n",
    "$$\n",
    "\n",
    "The matrix $\\mA$ has two rows and two columns but you can imagine\n",
    "matrices with any shape. More generally, if the matrix has $m$ rows and\n",
    "$n$ columns and contains real values, you can characterize it with the\n",
    "following notation: $\\mA \\in \\setR^{m \\times n}$.\n",
    "\n",
    "You can refer to matrix entries with the name of the matrix with no bold\n",
    "font (because the entries are scalars) followed by the index for the row\n",
    "and the index for the column separated by a comma in subscript. For\n",
    "instance, $\\emA_{1, 2}$ denotes the entry in the first row and the\n",
    "second column.\n",
    "\n",
    "By convention, the first index is for the row and the second for the\n",
    "column. For instance, the entry 2 in the matrix $\\mA$ above is located\n",
    "in the second row and the first column of the matrix $\\mA$, so it is\n",
    "denoted as $\\emA_{2, 1}$ (remember from\n",
    "Section 5.1.1.2.1 that one-based indexing\n",
    "is generally used in mathematical notation).\n",
    "\n",
    "You can write the matrix components as follows:\n",
    "\n",
    "$$\n",
    "\\mA = \n",
    "\\begin{bmatrix}\n",
    "    A_{1,1} & A_{1,2} & \\cdots & A_{1,n} \\\\\\\\\n",
    "    A_{2,1} & A_{2,2} & \\cdots & A_{2,n} \\\\\\\\\n",
    "    \\cdots & \\cdots & \\cdots & \\cdots \\\\\\\\\n",
    "    A_{m,1} & A_{m,2} & \\cdots & A_{m,n}\n",
    "\\end{bmatrix}\n",
    "$$"
   ]
  },
  {
    "cell_type": "markdown",
   "metadata": {},
   "source": [
    "### 6.1.2 Shapes\n",
    "\n",
    "<img src=\"images/ch07_matrix_dimensions.png\" id=\"fig:ch07_matrix_dimensions\" width=\"180\" alt=\"Figure 93: Matrices are two-dimensional arrays. The number of rows is usually denoted as m and the number of columns as n.\" />\n",
    "Figure 93: Matrices are two-dimensional arrays. The number of rows is usually denoted as <span class=\"math inline\"><em>m</em></span> and the number of columns as <span class=\"math inline\"><em>n</em></span>.\n",
    "\n",
    "The *shape* of an array gives you the number of components in each\n",
    "dimension, as illustrated in Figure [93](#fig:ch07_matrix_dimensions).\n",
    "Since this matrix is two-dimensional (rows and columns), you need two\n",
    "values to describe the shape (the number of rows and the number of\n",
    "columns in this order).\n",
    "\n",
    "Let’s start by creating a 2D Numpy array with the method `np.array()`:"
   ]
  },
  {
   "cell_type": "code",
   "execution_count": 2,
   "metadata": {
    "execution": {
     "iopub.execute_input": "2021-03-23T10:39:17.695912Z",
     "iopub.status.busy": "2021-03-23T10:39:17.695350Z",
     "iopub.status.idle": "2021-03-23T10:39:17.697276Z",
     "shell.execute_reply": "2021-03-23T10:39:17.697689Z"
    }
   },
   "outputs": [],
   "source": [
    "A = np.array([[2.1, 7.9, 8.4],\n",
    "              [3.0, 4.5, 2.3],\n",
    "              [12.2, 6.6, 8.9],\n",
    "              [1.8, 1., 8.2]])"
   ]
  },
  {
   "cell_type": "markdown",
   "metadata": {},
   "source": [
    "Note that we use arrays in arrays (`[[]]`) to create the 2D array. This\n",
    "differs from creating a 1D array by the number of square brackets that\n",
    "you use.\n",
    "\n",
    "Like with vectors, it is possible to access the shape property of Numpy\n",
    "arrays:"
   ]
  },
  {
   "cell_type": "code",
   "execution_count": 3,
   "metadata": {
    "execution": {
     "iopub.execute_input": "2021-03-23T10:39:17.702512Z",
     "iopub.status.busy": "2021-03-23T10:39:17.701878Z",
     "iopub.status.idle": "2021-03-23T10:39:17.704767Z",
     "shell.execute_reply": "2021-03-23T10:39:17.705189Z"
    }
   },
   "outputs": [
    {
     "data": {
      "text/plain": [
       "(4, 3)"
      ]
     },
     "execution_count": 1,
     "metadata": {},
     "output_type": "execute_result"
    }
   ],
   "source": [
    "A.shape"
   ]
  },
  {
   "cell_type": "markdown",
   "metadata": {},
   "source": [
    "You can see that the shape contains two numbers: they correspond to the\n",
    "number of rows and columns respectively."
   ]
  },
  {
   "cell_type": "markdown",
   "metadata": {},
   "source": [
    "### 6.1.3 Indexing\n",
    "\n",
    "To get a matrix entry, you need two indexes: one to refer to the row\n",
    "index and one to refer to the column index.\n",
    "\n",
    "Using Numpy, the indexing process is the same that of vectors. You just\n",
    "need to specify two indexes. Let’s take again the following matrix\n",
    "$\\mA$:"
   ]
  },
  {
   "cell_type": "code",
   "execution_count": 4,
   "metadata": {
    "execution": {
     "iopub.execute_input": "2021-03-23T10:39:17.709389Z",
     "iopub.status.busy": "2021-03-23T10:39:17.708778Z",
     "iopub.status.idle": "2021-03-23T10:39:17.710755Z",
     "shell.execute_reply": "2021-03-23T10:39:17.711187Z"
    }
   },
   "outputs": [],
   "source": [
    "A = np.array([[2.1, 7.9, 8.4],\n",
    "              [3.0, 4.5, 2.3],\n",
    "              [12.2, 6.6, 8.9],\n",
    "              [1.8, 1.3, 8.2]])"
   ]
  },
  {
   "cell_type": "markdown",
   "metadata": {},
   "source": [
    "It is possible to get a specific entry with the following syntax:"
   ]
  },
  {
   "cell_type": "code",
   "execution_count": 5,
   "metadata": {
    "execution": {
     "iopub.execute_input": "2021-03-23T10:39:17.714964Z",
     "iopub.status.busy": "2021-03-23T10:39:17.714259Z",
     "iopub.status.idle": "2021-03-23T10:39:17.716575Z",
     "shell.execute_reply": "2021-03-23T10:39:17.716997Z"
    }
   },
   "outputs": [
    {
     "data": {
      "text/plain": [
       "2.3"
      ]
     },
     "execution_count": 1,
     "metadata": {},
     "output_type": "execute_result"
    }
   ],
   "source": [
    "A[1, 2]"
   ]
  },
  {
   "cell_type": "markdown",
   "metadata": {},
   "source": [
    "`A[1, 2]` returns the component with the row index one and the column\n",
    "index two (with zero-based indexing).\n",
    "\n",
    "To get a complete column, it is possible to use a colon:"
   ]
  },
  {
   "cell_type": "code",
   "execution_count": 6,
   "metadata": {
    "execution": {
     "iopub.execute_input": "2021-03-23T10:39:17.720961Z",
     "iopub.status.busy": "2021-03-23T10:39:17.720356Z",
     "iopub.status.idle": "2021-03-23T10:39:17.723282Z",
     "shell.execute_reply": "2021-03-23T10:39:17.722657Z"
    }
   },
   "outputs": [
    {
     "data": {
      "text/plain": [
       "array([ 2.1,  3. , 12.2,  1.8])"
      ]
     },
     "execution_count": 1,
     "metadata": {},
     "output_type": "execute_result"
    }
   ],
   "source": [
    "A[:, 0]"
   ]
  },
  {
   "cell_type": "markdown",
   "metadata": {},
   "source": [
    "This returns the first column (index zero) because the colon says that\n",
    "we want the components from the first to the last rows. Similarly, to\n",
    "get a specific row, you can do:"
   ]
  },
  {
   "cell_type": "code",
   "execution_count": 7,
   "metadata": {
    "execution": {
     "iopub.execute_input": "2021-03-23T10:39:17.727065Z",
     "iopub.status.busy": "2021-03-23T10:39:17.726369Z",
     "iopub.status.idle": "2021-03-23T10:39:17.728710Z",
     "shell.execute_reply": "2021-03-23T10:39:17.729133Z"
    }
   },
   "outputs": [
    {
     "data": {
      "text/plain": [
       "array([3. , 4.5, 2.3])"
      ]
     },
     "execution_count": 1,
     "metadata": {},
     "output_type": "execute_result"
    }
   ],
   "source": [
    "A[1, :]"
   ]
  },
  {
   "cell_type": "markdown",
   "metadata": {},
   "source": [
    "Being able to manipulate matrices containing data is an essential skill\n",
    "for data scientists. Checking the shape of your data is important to be\n",
    "sure that it is organized the way you want. It is also important to know\n",
    "the data shape you’ll need to use libraries like Sklearn or Tensorflow.\n",
    "\n",
    "Note that if you specify a single index from a 2D array, Numpy considers\n",
    "that it is for the first dimension (the rows) and all the values of the\n",
    "other dimension (the columns) are used. For instance"
   ]
  },
  {
   "cell_type": "code",
   "execution_count": 8,
   "metadata": {
    "execution": {
     "iopub.execute_input": "2021-03-23T10:39:17.732569Z",
     "iopub.status.busy": "2021-03-23T10:39:17.731985Z",
     "iopub.status.idle": "2021-03-23T10:39:17.734365Z",
     "shell.execute_reply": "2021-03-23T10:39:17.734779Z"
    }
   },
   "outputs": [
    {
     "data": {
      "text/plain": [
       "array([2.1, 7.9, 8.4])"
      ]
     },
     "execution_count": 1,
     "metadata": {},
     "output_type": "execute_result"
    }
   ],
   "source": [
    "A[0]"
   ]
  },
  {
   "cell_type": "markdown",
   "metadata": {},
   "source": [
    "$\\\\[1\\baselineskip]$ which is similar to:"
   ]
  },
  {
   "cell_type": "code",
   "execution_count": 9,
   "metadata": {
    "execution": {
     "iopub.execute_input": "2021-03-23T10:39:17.738294Z",
     "iopub.status.busy": "2021-03-23T10:39:17.737675Z",
     "iopub.status.idle": "2021-03-23T10:39:17.739898Z",
     "shell.execute_reply": "2021-03-23T10:39:17.740298Z"
    }
   },
   "outputs": [
    {
     "data": {
      "text/plain": [
       "array([2.1, 7.9, 8.4])"
      ]
     },
     "execution_count": 1,
     "metadata": {},
     "output_type": "execute_result"
    }
   ],
   "source": [
    "A[0, :]"
   ]
  },
  {
   "cell_type": "markdown",
   "metadata": {},
   "source": [
    "#### Vectors and Matrices\n",
    "\n",
    "With Numpy, if the array is a vector (1D Numpy array), the shape is a\n",
    "single number:"
   ]
  },
  {
   "cell_type": "code",
   "execution_count": 10,
   "metadata": {
    "execution": {
     "iopub.execute_input": "2021-03-23T10:39:17.743473Z",
     "iopub.status.busy": "2021-03-23T10:39:17.742910Z",
     "iopub.status.idle": "2021-03-23T10:39:17.744992Z",
     "shell.execute_reply": "2021-03-23T10:39:17.745362Z"
    }
   },
   "outputs": [
    {
     "data": {
      "text/plain": [
       "(3,)"
      ]
     },
     "execution_count": 1,
     "metadata": {},
     "output_type": "execute_result"
    }
   ],
   "source": [
    "v = np.array([1, 2, 3])\n",
    "v.shape"
   ]
  },
  {
   "cell_type": "markdown",
   "metadata": {},
   "source": [
    "You can see that $\\vv$ is a vector. If it is a matrix, the shape has two\n",
    "numbers (the number of values in the rows and in the columns\n",
    "respectively). For instance:"
   ]
  },
  {
   "cell_type": "code",
   "execution_count": 11,
   "metadata": {
    "execution": {
     "iopub.execute_input": "2021-03-23T10:39:17.748649Z",
     "iopub.status.busy": "2021-03-23T10:39:17.748015Z",
     "iopub.status.idle": "2021-03-23T10:39:17.750145Z",
     "shell.execute_reply": "2021-03-23T10:39:17.750521Z"
    }
   },
   "outputs": [
    {
     "data": {
      "text/plain": [
       "(1, 3)"
      ]
     },
     "execution_count": 1,
     "metadata": {},
     "output_type": "execute_result"
    }
   ],
   "source": [
    "A = np.array([[2.1, 7.9, 8.4]])\n",
    "A.shape"
   ]
  },
  {
   "cell_type": "markdown",
   "metadata": {},
   "source": [
    "You can see that the matrix has a single row: the first number of the\n",
    "shape is 1. Once again, using two square brackets, `[[` and `]]`, allows\n",
    "you to create a two-dimensional array (a matrix)."
   ]
  },
  {
    "cell_type": "markdown",
   "metadata": {},
   "source": [
    "### 6.1.4 Main Diagonal\n",
    "\n",
    "The *main diagonal* of a matrix is the diagonal starting at the index\n",
    "$(1, 1)$ (the upper left corner).\n",
    "\n",
    "<img src=\"images/ch07_main_diag.png\" id=\"fig:ch07_main_diag\" width=\"200\" alt=\"Figure 94: Main diagonal of rectangle matrices.\" />\n",
    "Figure 94: Main diagonal of rectangle matrices.\n",
    "\n",
    "Figure [94](#fig:ch07_main_diag) illustrates the main diagonal of\n",
    "rectangular matrices (with more columns than rows or more rows than\n",
    "columns).\n",
    "\n",
    "The other diagonal (from the upper right corner to the lower left\n",
    "corner) is called the *anti-diagonal* or *counter-diagonal*."
   ]
  },
  {
    "cell_type": "markdown",
   "metadata": {},
   "source": [
    "### 6.1.5 Tensors\n",
    "\n",
    "*tensors* are multi-dimensional arrays. This means that scalars, vectors\n",
    "or matrices are tensors. Arrays with more than two dimensions are also\n",
    "tensors. The number of indexes needed to get an entry (for instance, two\n",
    "for a matrix: rows and columns) is called the *rank* of the tensor, not\n",
    "to be confused with the rank of a matrix that you will learn about in\n",
    "Section 7.6.1). It is sometimes called *order*\n",
    "for this reason.\n",
    "\n",
    "<img src=\"images/ch07_scalars_to_tensors.png\" id=\"fig:ch07_scalars_to_tensors\" width=\"400\" alt=\"Figure 95: An example of a scalar, a vector, a matrix and a tensor.\" />\n",
    "Figure 95: An example of a scalar, a vector, a matrix and a tensor.\n",
    "\n",
    "The difference between scalars, vectors, matrices and tensors is\n",
    "summarized in Figure [95](#fig:ch07_scalars_to_tensors). Tensors of rank\n",
    "0 are scalars, tensors of rank 1 are vectors, tensors of rank 2 are\n",
    "matrices.\n",
    "\n",
    "Unlike in pure mathematics or physics, the word *tensor* in machine\n",
    "learning, deep learning, or data science simply refers to a\n",
    "multi-dimensional array (you can find nice details about this difference\n",
    "here:\n",
    "https://stats.stackexchange.com/questions/198061/why-the-sudden-fascination-with-tensors)\n",
    ".\n",
    "\n",
    "For instance, as you’ll see in\n",
    "Section 6.5,\n",
    "color images are represented as pixel values. Each pixel is indexed by:\n",
    "\n",
    "-   Its position on the left/right direction.\n",
    "-   Its position on the bottom/up direction.\n",
    "-   Its position in the color list.\n",
    "\n",
    "For instance, the index \\[0, 0, 0\\] corresponds to the luminance of the\n",
    "upper left pixel for the red color (assuming that image is encoded with\n",
    "the RGB color model)."
   ]
  },
  {
   "cell_type": "markdown",
   "metadata": {},
   "source": [
    "### 6.1.6 Frobenius Norm\n",
    "\n",
    "The *Frobenius norm* is a $L^2$ norm (that you have seen in\n",
    "Section 5.3) applied to a matrix. The matrix\n",
    "is first flattened (converted to a one-dimensional vector) and the $L^2$\n",
    "norm is calculated on the resulting vector. The Frobenius norm of the\n",
    "matrix $\\mA$ is denoted as $\\left\\lVert \\mA \\right\\rVert_{\\text{F}}$.\n",
    "Each component of the matrix is squared and the square root of the sum\n",
    "is calculated:\n",
    "\n",
    "$$\n",
    "\\norm{\\mA} = \\sqrt{\\sum_{i,j}A^{2}_{i,j}}\n",
    "$$\n",
    "\n",
    "6.2 Operations and Manipulations on Matrices\n",
    "--------------------------------------------\n",
    "\n",
    "It is important to know how to manipulate matrices in data science and\n",
    "machine learning. In this section, you will see how to use addition,\n",
    "scalar multiplication and transposition with matrices."
   ]
  },
  {
    "cell_type": "markdown",
   "metadata": {},
   "source": [
    "### 6.2.1 Addition and Scalar Multiplication\n",
    "\n",
    "#### Addition\n",
    "\n",
    "As with vecotrs, you can add matrices by adding each component with the\n",
    "same index:\n",
    "\n",
    "<img src=\"images/ch07_matrix_addition.png\" id=\"fig:ch07_matrix_addition\" width=\"300\" alt=\"Figure 96: Addition of two matrices.\" />\n",
    "Figure 96: Addition of two matrices.\n",
    "\n",
    "With Numpy, the addition of matrices is done simply by using the `+`\n",
    "operator, like with scalars:"
   ]
  },
  {
   "cell_type": "code",
   "execution_count": 12,
   "metadata": {
    "execution": {
     "iopub.execute_input": "2021-03-23T10:39:17.754872Z",
     "iopub.status.busy": "2021-03-23T10:39:17.754261Z",
     "iopub.status.idle": "2021-03-23T10:39:17.756478Z",
     "shell.execute_reply": "2021-03-23T10:39:17.756844Z"
    }
   },
   "outputs": [
    {
     "data": {
      "text/plain": [
       "array([[ 5,  8],\n",
       "       [ 7,  9],\n",
       "       [15,  8]])"
      ]
     },
     "execution_count": 1,
     "metadata": {},
     "output_type": "execute_result"
    }
   ],
   "source": [
    "A = np.array([[2, 7],\n",
    "              [3, 4],\n",
    "              [8, 2]])\n",
    "B = np.array([[3, 1],\n",
    "              [4, 5],\n",
    "              [7, 6]])\n",
    "A + B"
   ]
  },
  {
   "cell_type": "markdown",
   "metadata": {},
   "source": [
    "To add matrices, you need to ensure that they have the same shape. The\n",
    "resulting matrix will also have the same shape:"
   ]
  },
  {
   "cell_type": "code",
   "execution_count": 13,
   "metadata": {
    "execution": {
     "iopub.execute_input": "2021-03-23T10:39:17.759801Z",
     "iopub.status.busy": "2021-03-23T10:39:17.759252Z",
     "iopub.status.idle": "2021-03-23T10:39:17.761476Z",
     "shell.execute_reply": "2021-03-23T10:39:17.761807Z"
    }
   },
   "outputs": [
    {
     "data": {
      "text/plain": [
       "(3, 2)"
      ]
     },
     "execution_count": 1,
     "metadata": {},
     "output_type": "execute_result"
    }
   ],
   "source": [
    "(A + B).shape"
   ]
  },
  {
   "cell_type": "markdown",
   "metadata": {},
   "source": [
    "Systematically check the shape of your data, it is a good way to follow\n",
    "the processing and be sure that there is no issue.\n",
    "\n",
    "#### Broadcasting\n",
    "\n",
    "With Numpy, addition can sometimes work even if matrices have different\n",
    "shapes. Look at the following example:"
   ]
  },
  {
   "cell_type": "code",
   "execution_count": 14,
   "metadata": {
    "execution": {
     "iopub.execute_input": "2021-03-23T10:39:17.764769Z",
     "iopub.status.busy": "2021-03-23T10:39:17.764262Z",
     "iopub.status.idle": "2021-03-23T10:39:17.765928Z",
     "shell.execute_reply": "2021-03-23T10:39:17.766290Z"
    }
   },
   "outputs": [],
   "source": [
    "A = np.array([[2, 7],\n",
    "              [3, 4],\n",
    "              [8, 2]])"
   ]
  },
  {
   "cell_type": "code",
   "execution_count": 15,
   "metadata": {
    "execution": {
     "iopub.execute_input": "2021-03-23T10:39:17.768965Z",
     "iopub.status.busy": "2021-03-23T10:39:17.768449Z",
     "iopub.status.idle": "2021-03-23T10:39:17.769918Z",
     "shell.execute_reply": "2021-03-23T10:39:17.770286Z"
    }
   },
   "outputs": [],
   "source": [
    "B = np.array([[7],\n",
    "              [1],\n",
    "              [3]])"
   ]
  },
  {
   "cell_type": "markdown",
   "metadata": {},
   "source": [
    "The matrix $\\mA$ has 3 by 2 entries and the matrix $\\mB$ is 3 by 1.\n",
    "However, you can still perform addition with Numpy:"
   ]
  },
  {
   "cell_type": "code",
   "execution_count": 16,
   "metadata": {
    "execution": {
     "iopub.execute_input": "2021-03-23T10:39:17.773447Z",
     "iopub.status.busy": "2021-03-23T10:39:17.772908Z",
     "iopub.status.idle": "2021-03-23T10:39:17.774851Z",
     "shell.execute_reply": "2021-03-23T10:39:17.775295Z"
    }
   },
   "outputs": [
    {
     "data": {
      "text/plain": [
       "array([[ 9, 14],\n",
       "       [ 4,  5],\n",
       "       [11,  5]])"
      ]
     },
     "execution_count": 1,
     "metadata": {},
     "output_type": "execute_result"
    }
   ],
   "source": [
    "A + B"
   ]
  },
  {
   "cell_type": "markdown",
   "metadata": {},
   "source": [
    "Since $\\mB$ has only one column, it is added to each column of $\\mA$.\n",
    "This is called *broadcasting*. When possible, the smaller matrix will be\n",
    "augmented by duplication to match the shape required for the operation.\n",
    "In our example, the single column vector $\\mB$ was duplicated to match\n",
    "the two columns of $\\mA$. The version of $\\mB$ would look like:\n",
    "\n",
    "$$\n",
    "\\begin{bmatrix}\n",
    "7 & 7 \\\\\\\\\n",
    "1 & 1 \\\\\\\\\n",
    "3 & 3\n",
    "\\end{bmatrix}\n",
    "$$\n",
    "\n",
    "Broadcasting is useful, but you should also be cautious since it can\n",
    "lead to unexpected results if you’re not aware of your data shapes.\n",
    "\n",
    "#### Scalar Multiplication\n",
    "\n",
    "Another major operation is *scalar multiplication* and refers to\n",
    "multiplying a matrix by a scalar. In this case, each entry is multiplied\n",
    "by this scalar:\n",
    "\n",
    "$$\n",
    "c\\mA = c\n",
    "\\begin{bmatrix}\n",
    "\\emA_{1,1} & \\emA_{1,2} \\\\\\\\\n",
    "\\emA_{2,1} & \\emA_{2,2} \\\\\\\\\n",
    "\\emA_{3,1} & \\emA_{3,2}\n",
    "\\end{bmatrix}\n",
    "= \\begin{bmatrix} \n",
    "c \\cdot \\emA_{1,1} & c \\cdot \\emA_{1,2} \\\\\\\\\n",
    "c \\cdot \\emA_{2,1} & c \\cdot \\emA_{2,2} \\\\\\\\\n",
    "c \\cdot \\emA_{3,1} & c \\cdot \\emA_{3,2}\n",
    "\\end{bmatrix}\n",
    "$$\n",
    "\n",
    "Let’s take the example of the following matrix $\\mA$:"
   ]
  },
  {
   "cell_type": "code",
   "execution_count": 17,
   "metadata": {
    "execution": {
     "iopub.execute_input": "2021-03-23T10:39:17.778155Z",
     "iopub.status.busy": "2021-03-23T10:39:17.777654Z",
     "iopub.status.idle": "2021-03-23T10:39:17.779417Z",
     "shell.execute_reply": "2021-03-23T10:39:17.779798Z"
    }
   },
   "outputs": [],
   "source": [
    "A = np.array([[2, 7],\n",
    "              [3, 4],\n",
    "              [8, 2]])"
   ]
  },
  {
   "cell_type": "markdown",
   "metadata": {},
   "source": [
    "Let’s multiply $\\mA$ by a scalar (here -2):"
   ]
  },
  {
   "cell_type": "code",
   "execution_count": 18,
   "metadata": {
    "execution": {
     "iopub.execute_input": "2021-03-23T10:39:17.782878Z",
     "iopub.status.busy": "2021-03-23T10:39:17.782365Z",
     "iopub.status.idle": "2021-03-23T10:39:17.784341Z",
     "shell.execute_reply": "2021-03-23T10:39:17.784710Z"
    }
   },
   "outputs": [
    {
     "data": {
      "text/plain": [
       "array([[ -4, -14],\n",
       "       [ -6,  -8],\n",
       "       [-16,  -4]])"
      ]
     },
     "execution_count": 1,
     "metadata": {},
     "output_type": "execute_result"
    }
   ],
   "source": [
    "-2 * A"
   ]
  },
  {
   "cell_type": "markdown",
   "metadata": {},
   "source": [
    "As you have seen in Section 5,\n",
    "scalar multiplication works the same with matrices than with vectors."
   ]
  },
  {
    "cell_type": "markdown",
   "metadata": {},
   "source": [
    "### 6.2.2 Transposition\n",
    "\n",
    "Transposition is a core manipulation in data science and machine\n",
    "learning. It allows you to exchange the rows and the columns of a\n",
    "matrix.\n",
    "\n",
    "For instance, if your dataset is structured with the observations as the\n",
    "rows but you want to use a machine learning framework where observations\n",
    "must be the columns, you’ll need to transpose it.\n",
    "\n",
    "#### From Vector Transposition\n",
    "\n",
    "Transposing a vector converts a column vector into a row vector or the\n",
    "opposite. This comes from considering vectors as matrices with only one\n",
    "row (row vector) or one column (column vector). As you’ll see, the\n",
    "general rule to transpose matrices is to flip the cells through the main\n",
    "diagonal.\n",
    "\n",
    "It is possible to transpose a Numpy vector with the `T` attribute of\n",
    "arrays only if its number of dimension is larger than one. It is not\n",
    "possible to exchange rows and columns if there is a single dimension, in\n",
    "which case the transposition gives the original vector.\n",
    "\n",
    "#### Matrix Transposition\n",
    "\n",
    "The transposition of vectors can be extended to matrices if you consider\n",
    "one column at a time. For each column, the values below the main\n",
    "diagonal are exchanged with the values on the right of the main\n",
    "diagonal. In other words, for each component of the main diagonal of the\n",
    "matrix, the corresponding row becomes the corresponding column.\n",
    "\n",
    "<img src=\"images/ch07_matrix_transposition.png\" id=\"fig:ch07_matrix_transposition\" width=\"500\" alt=\"Figure 97: Steps of matrix transposition.\" />\n",
    "Figure 97: Steps of matrix transposition.\n",
    "\n",
    "Figure [97](#fig:ch07_matrix_transposition) illustrates these steps. You\n",
    "can see that a 4 by 3 matrix becomes a 3 by 4 matrix because rows and\n",
    "columns are exchanged. More generally, a $m$ by $n$ matrix becomes a $n$\n",
    "by $m$ matrix. In the middle panel, you can see the steps corresponding\n",
    "to each of the three diagonal values, where each row and column are\n",
    "exchanged.\n",
    "\n",
    "Let’s do this transposition with Numpy:"
   ]
  },
  {
   "cell_type": "code",
   "execution_count": 19,
   "metadata": {
    "execution": {
     "iopub.execute_input": "2021-03-23T10:39:17.788377Z",
     "iopub.status.busy": "2021-03-23T10:39:17.787776Z",
     "iopub.status.idle": "2021-03-23T10:39:17.790059Z",
     "shell.execute_reply": "2021-03-23T10:39:17.790569Z"
    }
   },
   "outputs": [
    {
     "data": {
      "text/plain": [
       "array([[ 2.1,  3. , 12.2,  1.8],\n",
       "       [ 7.9,  4.5,  6.6,  1.3],\n",
       "       [ 8.4,  2.1,  8.9,  8.2]])"
      ]
     },
     "execution_count": 1,
     "metadata": {},
     "output_type": "execute_result"
    }
   ],
   "source": [
    "A = np.array([[2.1, 7.9, 8.4],\n",
    "              [3.0, 4.5, 2.1],\n",
    "              [12.2, 6.6, 8.9],\n",
    "              [1.8, 1.3, 8.2]])\n",
    "A.T"
   ]
  },
  {
   "cell_type": "markdown",
   "metadata": {},
   "source": [
    "#### Properties of Transposition\n",
    "\n",
    "Finally, let’s see some properties of the matrix transposition.\n",
    "\n",
    "The transpose of $\\mA + \\mB$ is:\n",
    "\n",
    "$$\n",
    "(\\mA + \\mB)^{\\text{T}} = \\mA^{\\text{T}} + \\mB^{\\text{T}}\n",
    "$$\n",
    "\n",
    "The transpose of a scalar multiplication corresponds to the scalar\n",
    "multiplication of the transpose of the matrix:\n",
    "\n",
    "$$\n",
    "(c \\mA)^\\text{T} = c \\mA^\\text{T}\n",
    "$$\n",
    "\n",
    "However, you’ll see the transpose of a matrix product in\n",
    "Section 6.3.3.\n",
    "\n",
    "6.3 Matrix Product\n",
    "------------------\n",
    "\n",
    "You learn about the dot product in\n",
    "Section 5.4. The equivalent\n",
    "operation for matrices is called the *matrix product*, or *matrix\n",
    "multiplication*. It takes two matrices and returns another matrix. This\n",
    "is a core operation in linear algebra."
   ]
  },
  {
    "cell_type": "markdown",
   "metadata": {},
   "source": [
    "### 6.3.1 Matrices with Vectors\n",
    "\n",
    "The simpler case of matrix product is between a matrix and a vector\n",
    "(that you can consider as a matrix product with one of them having a\n",
    "single column).\n",
    "\n",
    "<img src=\"images/ch07_matrix_vector_dot_product.png\" id=\"fig:ch07_matrix_vector_dot_product\" width=\"350\" alt=\"Figure 98: Steps of the product between a matrix and a vector.\" />\n",
    "Figure 98: Steps of the product between a matrix and a vector.\n",
    "\n",
    "Figure [98](#fig:ch07_matrix_vector_dot_product) illustrates the steps\n",
    "of the product between a matrix and a vector. Let’s consider the first\n",
    "row of the matrix. You do the dot product between the vector (the values\n",
    "3 and 4 in red) and the row you’re considering (the values 1 and 2 in\n",
    "blue). You multiply the values by pairs: the first value in the row with\n",
    "the first in the column vector ($1 \\cdot 3$), and the second in the row\n",
    "with the second in the vector ($2 \\cdot 4$). It gives you the first\n",
    "component of the resulting matrix ($1 \\cdot 3 + 2 \\cdot 4 = 11$).\n",
    "\n",
    "You can see that the matrix-vector product relates to the dot product.\n",
    "It is like splitting the matrix $\\mA$ into three rows and applying the\n",
    "dot product (as in Section 5.4).\n",
    "\n",
    "Let’s see how it works with Numpy."
   ]
  },
  {
   "cell_type": "code",
   "execution_count": 20,
   "metadata": {
    "execution": {
     "iopub.execute_input": "2021-03-23T10:39:17.794193Z",
     "iopub.status.busy": "2021-03-23T10:39:17.793597Z",
     "iopub.status.idle": "2021-03-23T10:39:17.795608Z",
     "shell.execute_reply": "2021-03-23T10:39:17.796034Z"
    }
   },
   "outputs": [
    {
     "data": {
      "text/plain": [
       "array([[11],\n",
       "       [39],\n",
       "       [53]])"
      ]
     },
     "execution_count": 1,
     "metadata": {},
     "output_type": "execute_result"
    }
   ],
   "source": [
    "A = np.array([\n",
    "    [1, 2],\n",
    "    [5, 6],\n",
    "    [7, 8]\n",
    "])\n",
    "v = np.array([3, 4]).reshape(-1, 1)\n",
    "A @ v"
   ]
  },
  {
    "cell_type": "markdown",
   "metadata": {},
   "source": [
    "Note that we used the `reshape()` function to reshape the vector into a\n",
    "2 by 1 matrix (the `-1` tells Numpy to guess the remaining number).\n",
    "Without it, you would end with a one-dimensional array instead of a\n",
    "two-dimensional array here (a matrix with a single column).\n",
    "\n",
    "#### Weighting of the Matrix’s Columns\n",
    "\n",
    "There is another way to think about the matrix product. You can consider\n",
    "that the vector contains values that weight each column of the matrix.\n",
    "(as explained by Gilbert Strang in his introduction to linear algebra\n",
    "that I recommend: Strang, G. “Introduction to linear algebra, 5th edn.\n",
    "Wellesley.”, 2016.) It clearly shows that the length of the vector needs\n",
    "to be equal to the number of columns of the matrix on which the vector\n",
    "is applied.\n",
    "\n",
    "<img src=\"images/ch07_matrix_vector_dot_product_weights.png\" id=\"fig:ch07_matrix_vector_dot_product_weights\" width=\"450\" alt=\"Figure 99: The vectors values are weighting the columns of the matrix.\" />\n",
    "Figure 99: The vectors values are weighting the columns of the matrix.\n",
    "\n",
    "Figure [99](#fig:ch07_matrix_vector_dot_product_weights) might help to\n",
    "visualize this concept. You can consider the vector values (3 and 4) as\n",
    "weights applied to the columns of the matrix. The rules about scalar\n",
    "multiplication that you saw earlier lead to the same results as before.\n",
    "\n",
    "Using the last example, you can write the dot product between $\\mA$ and\n",
    "$\\vv$ as follows:\n",
    "\n",
    "$$\n",
    "\\begin{aligned}\n",
    "\\mA \\vv &=\n",
    "\\begin{bmatrix}\n",
    "    1 & 2 \\\\\\\\\n",
    "    5 & 6 \\\\\\\\\n",
    "    7 & 8\n",
    "\\end{bmatrix}\n",
    "\\begin{bmatrix}\n",
    "    3 \\\\\\\\\n",
    "    4\n",
    "\\end{bmatrix} \\\\\\\\\n",
    "&= 3 \\begin{bmatrix}\n",
    "    1 \\\\\\\\\n",
    "    5 \\\\\\\\\n",
    "    7\n",
    "\\end{bmatrix} + 4 \\begin{bmatrix}\n",
    "    2 \\\\\\\\\n",
    "    6 \\\\\\\\\n",
    "    8\n",
    "\\end{bmatrix}\n",
    "\\end{aligned}\n",
    "$$\n",
    "\n",
    "This is important because, as you’ll see in more details in\n",
    "Section 7.2, it shows that\n",
    "$\\mA \\vv$ is a linear combination of the columns of $\\mA$ with the\n",
    "coefficients being the values from $\\vv$.\n",
    "\n",
    "#### Shapes\n",
    "\n",
    "In addition, you can see that the shapes of the matrix and the vector\n",
    "must match for the dot product to be possible.\n",
    "\n",
    "<figure>\n",
    "<img src=\"images/ch07_matrix_vector_dot_product_shapes.png\" id=\"fig:ch07_matrix_vector_dot_product_shapes\" width=\"200\" alt=\"Figure 100: Shapes needed for the dot product between a matrix and a vector.\" /><figcaption aria-hidden=\"true\">Figure 100: Shapes needed for the dot product between a matrix and a vector.</figcaption>\n",
    "</figure>\n",
    "\n",
    "Figure [100](#fig:ch07_matrix_vector_dot_product_shapes) summarizes the\n",
    "shapes involved in the matrix-vector product and shows that the number\n",
    "of columns of the matrix must be equal to the number of rows of the\n",
    "vector."
   ]
  },
  {
    "cell_type": "markdown",
   "metadata": {},
   "source": [
    "### 6.3.2 Matrices Product\n",
    "\n",
    "The *matrix product* is the equivalent of the dot product operation for\n",
    "two matrices. As you’ll see, it is similar to the matrix-vector product,\n",
    "but applied to each column of the second matrix.\n",
    "\n",
    "<img src=\"images/ch07_matrix_matrix_dot_product.png\" id=\"fig:ch07_matrix_matrix_dot_product\" width=\"350\" alt=\"Figure 101: Matrix product.\" />\n",
    "Figure 101: Matrix product.\n",
    "\n",
    "Figure [101](#fig:ch07_matrix_matrix_dot_product) shows you an example\n",
    "of a matrix product. You can see that the resulting matrix has two\n",
    "columns, as the second matrix. The values of the first column of the\n",
    "second matrix (3 and 4) weight the two columns and the result fills the\n",
    "first column of the resulting matrix. Similarly, the values of the\n",
    "second column of the second matrix (9 and 0) weight the two columns and\n",
    "the result fills the second column of the resulting matrix.\n",
    "\n",
    "With Numpy, you can calculate the matrix product exactly as the dot\n",
    "product:"
   ]
  },
  {
   "cell_type": "code",
   "execution_count": 21,
   "metadata": {
    "execution": {
     "iopub.execute_input": "2021-03-23T10:39:17.799835Z",
     "iopub.status.busy": "2021-03-23T10:39:17.799322Z",
     "iopub.status.idle": "2021-03-23T10:39:17.801282Z",
     "shell.execute_reply": "2021-03-23T10:39:17.801643Z"
    }
   },
   "outputs": [
    {
     "data": {
      "text/plain": [
       "array([[11,  9],\n",
       "       [39, 45],\n",
       "       [53, 63]])"
      ]
     },
     "execution_count": 1,
     "metadata": {},
     "output_type": "execute_result"
    }
   ],
   "source": [
    "A = np.array([\n",
    "    [1, 2],\n",
    "    [5, 6],\n",
    "    [7, 8],\n",
    "])\n",
    "B = np.array([\n",
    "    [3, 9],\n",
    "    [4, 0]\n",
    "])\n",
    "\n",
    "A @ B"
   ]
  },
  {
    "cell_type": "markdown",
   "metadata": {},
   "source": [
    "#### Shapes\n",
    "\n",
    "Like with the matrix-vector product and as illustrated in Figure\n",
    "[102](#fig:ch07_matrix_matrix_dot_product_shapes), the number of columns\n",
    "of the first matrix must match the number of rows of the second matrix.\n",
    "\n",
    "<img src=\"images/ch07_matrix_matrix_dot_product_shapes.png\" id=\"fig:ch07_matrix_matrix_dot_product_shapes\" width=\"200\" alt=\"Figure 102: Shapes must match for the dot product between two matrices.\" />\n",
    "Figure 102: Shapes must match for the dot product between two matrices.\n",
    "\n",
    "The resulting matrix has as many rows as the first matrix and as many\n",
    "columns as the second matrix.\n",
    "\n",
    "Let’s try it."
   ]
  },
  {
   "cell_type": "code",
   "execution_count": 22,
   "metadata": {
    "execution": {
     "iopub.execute_input": "2021-03-23T10:39:17.804576Z",
     "iopub.status.busy": "2021-03-23T10:39:17.804076Z",
     "iopub.status.idle": "2021-03-23T10:39:17.805771Z",
     "shell.execute_reply": "2021-03-23T10:39:17.806136Z"
    }
   },
   "outputs": [],
   "source": [
    "A = np.array([\n",
    "    [1, 4],\n",
    "    [2, 5],\n",
    "    [3, 6],\n",
    "])"
   ]
  },
  {
   "cell_type": "code",
   "execution_count": 23,
   "metadata": {
    "execution": {
     "iopub.execute_input": "2021-03-23T10:39:17.808923Z",
     "iopub.status.busy": "2021-03-23T10:39:17.808420Z",
     "iopub.status.idle": "2021-03-23T10:39:17.810020Z",
     "shell.execute_reply": "2021-03-23T10:39:17.810386Z"
    }
   },
   "outputs": [],
   "source": [
    "B = np.array([\n",
    "    [1, 4, 7],\n",
    "    [2, 5, 2],\n",
    "])"
   ]
  },
  {
   "cell_type": "markdown",
   "metadata": {},
   "source": [
    "The matrices $\\mA$ and $\\mB$ have different shapes. Let’s calculate\n",
    "their dot product:"
   ]
  },
  {
   "cell_type": "code",
   "execution_count": 24,
   "metadata": {
    "execution": {
     "iopub.execute_input": "2021-03-23T10:39:17.813513Z",
     "iopub.status.busy": "2021-03-23T10:39:17.812854Z",
     "iopub.status.idle": "2021-03-23T10:39:17.815023Z",
     "shell.execute_reply": "2021-03-23T10:39:17.815388Z"
    }
   },
   "outputs": [
    {
     "data": {
      "text/plain": [
       "array([[ 9, 24, 15],\n",
       "       [12, 33, 24],\n",
       "       [15, 42, 33]])"
      ]
     },
     "execution_count": 1,
     "metadata": {},
     "output_type": "execute_result"
    }
   ],
   "source": [
    "A @ B"
   ]
  },
  {
   "cell_type": "markdown",
   "metadata": {},
   "source": [
    "You can see the result of $\\mA \\cdot \\mB$ is a 3 by 3 matrix. This shape\n",
    "comes from the number of rows of $\\mA$ (3) and the number of columns of\n",
    "$\\mB$ (3).\n",
    "\n",
    "#### Matrix Product to Calculate the Covariance Matrix\n",
    "\n",
    "You can calculate the covariance matrix (more details about the\n",
    "covariance matrix in\n",
    "Section 2.1.3) of a dataset with\n",
    "the product between the matrix containing the variables and its\n",
    "transpose. Then, you divide by the number of observations (or this\n",
    "number minus one for the Bessel correction). You need to be sure that\n",
    "the variables are centered around zero beforehand (this can be done by\n",
    "subtracting the mean).\n",
    "\n",
    "Let’s simulate the following variables $x$, $y$, and $z$:"
   ]
  },
  {
   "cell_type": "code",
   "execution_count": 25,
   "metadata": {
    "execution": {
     "iopub.execute_input": "2021-03-23T10:39:17.818677Z",
     "iopub.status.busy": "2021-03-23T10:39:17.818175Z",
     "iopub.status.idle": "2021-03-23T10:39:17.819794Z",
     "shell.execute_reply": "2021-03-23T10:39:17.820218Z"
    }
   },
   "outputs": [],
   "source": [
    "x = np.random.normal(10, 2, 100)\n",
    "y = x * 1.5 + np.random.normal(25, 5, 100)\n",
    "z = x * 2 + np.random.normal(0, 1, 100)\n"
   ]
  },
  {
   "cell_type": "markdown",
   "metadata": {},
   "source": [
    "Using Numpy, the covariance matrix is:"
   ]
  },
  {
   "cell_type": "code",
   "execution_count": 26,
   "metadata": {
    "execution": {
     "iopub.execute_input": "2021-03-23T10:39:17.823573Z",
     "iopub.status.busy": "2021-03-23T10:39:17.822982Z",
     "iopub.status.idle": "2021-03-23T10:39:17.825103Z",
     "shell.execute_reply": "2021-03-23T10:39:17.825468Z"
    }
   },
   "outputs": [
    {
     "data": {
      "text/plain": [
       "array([[ 3.9011295 ,  4.92121729,  7.84248498],\n",
       "       [ 4.92121729, 35.65901872,  9.99635921],\n",
       "       [ 7.84248498,  9.99635921, 16.83945275]])"
      ]
     },
     "execution_count": 1,
     "metadata": {},
     "output_type": "execute_result"
    }
   ],
   "source": [
    "np.cov([x, y, z])"
   ]
  },
  {
   "cell_type": "markdown",
   "metadata": {},
   "source": [
    "Now, using the matrix product, you first need to stack the variables as\n",
    "columns of a matrix:"
   ]
  },
  {
   "cell_type": "code",
   "execution_count": 27,
   "metadata": {
    "execution": {
     "iopub.execute_input": "2021-03-23T10:39:17.828468Z",
     "iopub.status.busy": "2021-03-23T10:39:17.827956Z",
     "iopub.status.idle": "2021-03-23T10:39:17.830102Z",
     "shell.execute_reply": "2021-03-23T10:39:17.830465Z"
    }
   },
   "outputs": [
    {
     "data": {
      "text/plain": [
       "(100, 3)"
      ]
     },
     "execution_count": 1,
     "metadata": {},
     "output_type": "execute_result"
    }
   ],
   "source": [
    "X = np.vstack([x, y, z]).T\n",
    "X.shape"
   ]
  },
  {
   "cell_type": "markdown",
   "metadata": {},
   "source": [
    "You can see that the variable `X` is a 100 by 3 matrix: the 100 rows\n",
    "correspond to the observations and the 3 columns to the features. Then,\n",
    "you center this matrix around zero:"
   ]
  },
  {
   "cell_type": "code",
   "execution_count": 28,
   "metadata": {
    "execution": {
     "iopub.execute_input": "2021-03-23T10:39:17.833323Z",
     "iopub.status.busy": "2021-03-23T10:39:17.832818Z",
     "iopub.status.idle": "2021-03-23T10:39:17.834404Z",
     "shell.execute_reply": "2021-03-23T10:39:17.834768Z"
    }
   },
   "outputs": [],
   "source": [
    "X = X - X.mean(axis=0)"
   ]
  },
  {
   "cell_type": "markdown",
   "metadata": {},
   "source": [
    "Finally, you calculate the covariance matrix:"
   ]
  },
  {
   "cell_type": "code",
   "execution_count": 29,
   "metadata": {
    "execution": {
     "iopub.execute_input": "2021-03-23T10:39:17.838166Z",
     "iopub.status.busy": "2021-03-23T10:39:17.837595Z",
     "iopub.status.idle": "2021-03-23T10:39:17.839666Z",
     "shell.execute_reply": "2021-03-23T10:39:17.840150Z"
    }
   },
   "outputs": [
    {
     "data": {
      "text/plain": [
       "array([[ 3.9011295 ,  4.92121729,  7.84248498],\n",
       "       [ 4.92121729, 35.65901872,  9.99635921],\n",
       "       [ 7.84248498,  9.99635921, 16.83945275]])"
      ]
     },
     "execution_count": 1,
     "metadata": {},
     "output_type": "execute_result"
    }
   ],
   "source": [
    "(X.T @ X) / (X.shape[0] - 1)"
   ]
  },
  {
   "cell_type": "markdown",
   "metadata": {},
   "source": [
    "You get a covariance matrix similar to the one from the function\n",
    "`np.cov()`. This is important to keep in mind that the dot product of a\n",
    "matrix with its transpose corresponds to the covariance matrix."
   ]
  },
  {
   "cell_type": "markdown",
   "metadata": {},
   "source": [
    "### 6.3.3 Transpose of a Matrix Product\n",
    "\n",
    "The transpose of the dot product between two matrices is defined as\n",
    "follows:\n",
    "\n",
    "$$\n",
    "(\\mA \\mB)^{\\text{T}} = \\mB^{\\text{T}} \\mA^{\\text{T}}\n",
    "$$\n",
    "\n",
    "For instance, take the following matrices $\\mA$ and $\\mB$:"
   ]
  },
  {
   "cell_type": "code",
   "execution_count": 30,
   "metadata": {
    "execution": {
     "iopub.execute_input": "2021-03-23T10:39:17.843295Z",
     "iopub.status.busy": "2021-03-23T10:39:17.842732Z",
     "iopub.status.idle": "2021-03-23T10:39:17.844339Z",
     "shell.execute_reply": "2021-03-23T10:39:17.844762Z"
    }
   },
   "outputs": [],
   "source": [
    "A = np.array([\n",
    "    [1, 4],\n",
    "    [2, 5],\n",
    "    [3, 6],\n",
    "])\n",
    "B = np.array([\n",
    "    [1, 4, 7],\n",
    "    [2, 5, 2],\n",
    "])"
   ]
  },
  {
   "cell_type": "markdown",
   "metadata": {},
   "source": [
    "You can check the result of $(\\mA \\mB)^{\\text{T}}$ and\n",
    "$\\mB^{\\text{T}} \\mA^{\\text{T}}$:"
   ]
  },
  {
   "cell_type": "code",
   "execution_count": 31,
   "metadata": {
    "execution": {
     "iopub.execute_input": "2021-03-23T10:39:17.847795Z",
     "iopub.status.busy": "2021-03-23T10:39:17.847266Z",
     "iopub.status.idle": "2021-03-23T10:39:17.849351Z",
     "shell.execute_reply": "2021-03-23T10:39:17.849908Z"
    }
   },
   "outputs": [
    {
     "data": {
      "text/plain": [
       "array([[ 9, 12, 15],\n",
       "       [24, 33, 42],\n",
       "       [15, 24, 33]])"
      ]
     },
     "execution_count": 1,
     "metadata": {},
     "output_type": "execute_result"
    }
   ],
   "source": [
    "(A @ B).T"
   ]
  },
  {
   "cell_type": "code",
   "execution_count": 32,
   "metadata": {
    "execution": {
     "iopub.execute_input": "2021-03-23T10:39:17.852870Z",
     "iopub.status.busy": "2021-03-23T10:39:17.852359Z",
     "iopub.status.idle": "2021-03-23T10:39:17.854946Z",
     "shell.execute_reply": "2021-03-23T10:39:17.855387Z"
    }
   },
   "outputs": [
    {
     "data": {
      "text/plain": [
       "array([[ 9, 12, 15],\n",
       "       [24, 33, 42],\n",
       "       [15, 24, 33]])"
      ]
     },
     "execution_count": 1,
     "metadata": {},
     "output_type": "execute_result"
    }
   ],
   "source": [
    "B.T @ A.T"
   ]
  },
  {
    "cell_type": "markdown",
   "metadata": {},
   "source": [
    "This can be surprising at first that the order of the two vectors or\n",
    "matrices in the parentheses must change for the equivalence to be\n",
    "satisfied. Let’s look at the details of the operation.\n",
    "\n",
    "<img src=\"images/ch07_reverse_rule_transpose.png\" id=\"fig:ch07_reverse_rule_transpose\" width=\"250\" alt=\"Figure 103: You must change the order of the vector and the matrix to obtain the transpose of the matrix product.\" />\n",
    "Figure 103: You must change the order of the vector and the matrix to obtain the transpose of the matrix product.\n",
    "\n",
    "Figure [103](#fig:ch07_reverse_rule_transpose) shows that the transpose\n",
    "of a matrix product is equal to the product of the transpose if you\n",
    "change the order of the vector and matrix.\n",
    "\n",
    "#### More than two Matrices or Vectors\n",
    "\n",
    "You can apply this property to more than two matrices or vectors. For\n",
    "instance,\n",
    "\n",
    "$$\n",
    "(\\mA \\mB \\mC)^{\\text{T}} = \\mC^{\\text{T}} \\mB^{\\text{T}} \\mA^{\\text{T}}\n",
    "$$\n",
    "\n",
    "Keep this property in a corner of your mind. It explains many “cosmetic\n",
    "rearrangements” that you can encounter when matrices and vectors are\n",
    "manipulated. Trying these manipulations with code is a great way to\n",
    "learn.\n",
    "\n",
    "To conclude, the matrix product is a key concept of linear algebra, and\n",
    "you will see in Section 7.4 how\n",
    "it relates to space transformation.\n",
    "\n",
    "6.4 Special Matrices\n",
    "--------------------\n",
    "\n",
    "There are few special matrices that are useful to know because they are\n",
    "required to understand more advanced linear algebra concepts."
   ]
  },
  {
   "cell_type": "markdown",
   "metadata": {},
   "source": [
    "### 6.4.1 Square Matrices\n",
    "\n",
    "A *square matrix* has the same number of rows as columns ($m=n$)\n",
    "resulting in a matrix with a square shape. For instance, let’s consider\n",
    "the following square matrix:\n",
    "\n",
    "$$\n",
    "\\mA=\n",
    "\\begin{bmatrix}\n",
    "    1 & 7 & 4 \\\\\\\\\n",
    "    2 & 1 & 2 \\\\\\\\\n",
    "    6 & 9 & 12\n",
    "\\end{bmatrix}\n",
    "$$\n",
    "\n",
    "The matrix $\\mA$ is a square $3 \\times 3$ matrix. It has 3 rows and 3\n",
    "columns."
   ]
  },
  {
    "cell_type": "markdown",
   "metadata": {},
   "source": [
    "### 6.4.2 Diagonal Matrices\n",
    "\n",
    "A *diagonal matrix* is a matrix with zeros everywhere except in the main\n",
    "diagonal.\n",
    "\n",
    "<img src=\"images/ch07_diagonal_matrix.png\" id=\"fig:ch07_diagonal_matrix\" width=\"150\" alt=\"Figure 104: Example of a diagonal matrix.\" />\n",
    "Figure 104: Example of a diagonal matrix.\n",
    "\n",
    "Figure [104](#fig:ch07_diagonal_matrix) shows an example of a 3 by 3\n",
    "diagonal matrix.\n",
    "\n",
    "Diagonal matrices can also be non square. For instance:\n",
    "\n",
    "$$\n",
    "\\mD=\n",
    "\\begin{bmatrix}\n",
    "    0.3 & 0 & 0 \\\\\\\\\n",
    "    0 & 4.9 & 0 \\\\\\\\\n",
    "    0 & 0 & 2.0 \\\\\\\\\n",
    "    0 & 0 & 0\n",
    "\\end{bmatrix}\n",
    "$$\n",
    "\n",
    "or\n",
    "\n",
    "$$\n",
    "\\mD=\n",
    "\\begin{bmatrix}\n",
    "    0.3 & 0 & 0 & 0 \\\\\\\\\n",
    "    0 & 4.9 & 0 & 0 \\\\\\\\\n",
    "    0 & 0 & 2.0 & 0\n",
    "\\end{bmatrix}\n",
    "$$\n",
    "\n",
    "You’ll often encounter diagonal matrices, for instance in the context of\n",
    "Singular Value Decomposition (or SVD), as you’ll learn in\n",
    "Section 10."
   ]
  },
  {
    "cell_type": "markdown",
   "metadata": {},
   "source": [
    "### 6.4.3 Identity Matrices\n",
    "\n",
    "An *identity matrix* is a square matrix filled with ones in the main\n",
    "diagonal and zeros elsewhere.\n",
    "\n",
    "<img src=\"images/ch07_identity_matrix.png\" id=\"fig:ch07_identity_matrix\" width=\"150\" alt=\"Figure 105: Example of a 3 by 3 identity matrix.\" />\n",
    "Figure 105: Example of a 3 by 3 identity matrix.\n",
    "\n",
    "Figure [105](#fig:ch07_identity_matrix) shows an example of a 3 by 3\n",
    "identity matrix. You can denote the $n \\times n$ identity matrix as\n",
    "$\\mI_n$. For instance:\n",
    "\n",
    "$$\n",
    "\\mI_4=\n",
    "\\begin{bmatrix}\n",
    "    1 & 0 & 0 & 0 \\\\\\\\\n",
    "    0 & 1 & 0 & 0 \\\\\\\\\n",
    "    0 & 0 & 1 & 0 \\\\\\\\\n",
    "    0 & 0 & 0 & 1\n",
    "\\end{bmatrix}\n",
    "$$\n",
    "\n",
    "One important property of identity matrices is that when they are\n",
    "multiplied to another matrix, the result is this other matrix unchanged.\n",
    "It is the equivalent to the multiplication by one with scalars.\n",
    "Mathematically, you can write:\n",
    "\n",
    "$$\n",
    "\\mA \\mI = \\mA\n",
    "$$\n",
    "\n",
    "The other way is also true with an identity matrix of the right shape.\n",
    "You would have:\n",
    "\n",
    "$$\n",
    "\\mI \\mA = \\mA\n",
    "$$\n",
    "\n",
    "Let’s see how this is the case.\n",
    "\n",
    "<figure>\n",
    "<img src=\"images/ch07_identity_matrix_product.png\" id=\"fig:ch07_identity_matrix_product\" width=\"400\" alt=\"Figure 106: The identity matrix product.\" /><figcaption aria-hidden=\"true\">Figure 106: The identity matrix product.</figcaption>\n",
    "</figure>\n",
    "\n",
    "Take the example illustrated in Figure\n",
    "[106](#fig:ch07_identity_matrix_product). It shows that you multiply\n",
    "each entry of the matrix by 1 and add the other entries multiplied by 0,\n",
    "resulting in the same matrix.\n",
    "\n",
    "It is possible to create identity matrices with the function `np.eye()`\n",
    "from Numpy. It takes the number of rows and columns as a parameter. For\n",
    "instance, let’s create a three by three identity matrix:"
   ]
  },
  {
   "cell_type": "code",
   "execution_count": 33,
   "metadata": {
    "execution": {
     "iopub.execute_input": "2021-03-23T10:39:17.858734Z",
     "iopub.status.busy": "2021-03-23T10:39:17.858139Z",
     "iopub.status.idle": "2021-03-23T10:39:17.860329Z",
     "shell.execute_reply": "2021-03-23T10:39:17.860696Z"
    }
   },
   "outputs": [
    {
     "data": {
      "text/plain": [
       "array([[1., 0., 0.],\n",
       "       [0., 1., 0.],\n",
       "       [0., 0., 1.]])"
      ]
     },
     "execution_count": 1,
     "metadata": {},
     "output_type": "execute_result"
    }
   ],
   "source": [
    "np.eye(3)"
   ]
  },
  {
   "cell_type": "markdown",
   "metadata": {},
   "source": [
    "### 6.4.4 Inverse Matrices\n",
    "\n",
    "A matrix $\\mA$ is *invertible* if a matrix $\\mB$ exists that gives the\n",
    "identity matrix when it is multiplied by $\\mA$. In this case, $\\mB$ is\n",
    "said to be the *inverse* of $\\mA$. The relationship between $\\mA$ and\n",
    "$\\mB$ is as follows:\n",
    "\n",
    "$$\n",
    "\\mA \\mB = \\mB \\mA = \\mI\n",
    "$$\n",
    "\n",
    "The inverse of a matrix $\\mA$ is denoted $\\mA^{-1}$ (pronounced “A\n",
    "inverse”). So you can write:\n",
    "\n",
    "$$\n",
    "\\mA \\mA^{-1} = \\mA^{-1}\\mA = \\mI\n",
    "$$\n",
    "\n",
    "Only square matrices have an inverse. In addition, square matrices that\n",
    "are not invertible are called *singular matrices*.\n",
    "\n",
    "Here is an example of a singular matrix:"
   ]
  },
  {
   "cell_type": "code",
   "execution_count": 34,
   "metadata": {
    "execution": {
     "iopub.execute_input": "2021-03-23T10:39:17.863742Z",
     "iopub.status.busy": "2021-03-23T10:39:17.863228Z",
     "iopub.status.idle": "2021-03-23T10:39:17.864638Z",
     "shell.execute_reply": "2021-03-23T10:39:17.865004Z"
    }
   },
   "outputs": [],
   "source": [
    "A = np.array([\n",
    "    [0, 0],\n",
    "    [0, 1],\n",
    "])"
   ]
  },
  {
   "cell_type": "markdown",
   "metadata": {},
   "source": [
    "It is possible to calculate the inverse of a matrix using the Numpy\n",
    "function `np.linalg.inv()`. (if you’re interested in learning how to\n",
    "manually calculate the inverse of a matrix, you can refer for instance\n",
    "to Chapter 2.5 in Strang, Gilbert, et al. Introduction to linear\n",
    "algebra, 5th Edition. Wellesley, MA: Wellesley-Cambridge Press, 2016.)\n",
    "\n",
    "For instance, take the following matrix $\\mA$:"
   ]
  },
  {
   "cell_type": "code",
   "execution_count": 35,
   "metadata": {
    "execution": {
     "iopub.execute_input": "2021-03-23T10:39:17.867925Z",
     "iopub.status.busy": "2021-03-23T10:39:17.867421Z",
     "iopub.status.idle": "2021-03-23T10:39:17.869048Z",
     "shell.execute_reply": "2021-03-23T10:39:17.869496Z"
    }
   },
   "outputs": [],
   "source": [
    "A = np.array([\n",
    "    [1, -4, 5],\n",
    "    [8, 5, -3],\n",
    "    [3, 2, 12]\n",
    "])"
   ]
  },
  {
   "cell_type": "markdown",
   "metadata": {},
   "source": [
    "Calculate its inverse:"
   ]
  },
  {
   "cell_type": "code",
   "execution_count": 36,
   "metadata": {
    "execution": {
     "iopub.execute_input": "2021-03-23T10:39:17.873627Z",
     "iopub.status.busy": "2021-03-23T10:39:17.872845Z",
     "iopub.status.idle": "2021-03-23T10:39:17.875513Z",
     "shell.execute_reply": "2021-03-23T10:39:17.875921Z"
    }
   },
   "outputs": [
    {
     "data": {
      "text/plain": [
       "array([[ 0.13441955,  0.11812627, -0.02647658],\n",
       "       [-0.21384929, -0.00610998,  0.08757637],\n",
       "       [ 0.00203666, -0.02851324,  0.07535642]])"
      ]
     },
     "execution_count": 1,
     "metadata": {},
     "output_type": "execute_result"
    }
   ],
   "source": [
    "A_inv = np.linalg.inv(A)\n",
    "A_inv"
   ]
  },
  {
   "cell_type": "markdown",
   "metadata": {},
   "source": [
    "You can check that $\\mA \\mA^{-1}=I$:"
   ]
  },
  {
   "cell_type": "code",
   "execution_count": 37,
   "metadata": {
    "execution": {
     "iopub.execute_input": "2021-03-23T10:39:17.879351Z",
     "iopub.status.busy": "2021-03-23T10:39:17.878745Z",
     "iopub.status.idle": "2021-03-23T10:39:17.880949Z",
     "shell.execute_reply": "2021-03-23T10:39:17.881435Z"
    }
   },
   "outputs": [
    {
     "data": {
      "text/plain": [
       "array([[ 1.00000000e+00,  6.93889390e-18,  2.77555756e-17],\n",
       "       [-7.02563008e-17,  1.00000000e+00,  0.00000000e+00],\n",
       "       [-5.20417043e-17, -2.77555756e-17,  1.00000000e+00]])"
      ]
     },
     "execution_count": 1,
     "metadata": {},
     "output_type": "execute_result"
    }
   ],
   "source": [
    "A @ A_inv"
   ]
  },
  {
   "cell_type": "markdown",
   "metadata": {},
   "source": [
    "Note that, in the context of the diagonal values (ones), small numbers\n",
    "like `6.93889390e-18` can be neglected. You can use the function\n",
    "`np.allclose` from Numpy to check if two arrays are equal within a\n",
    "tolerance (that you can choose as a parameter):"
   ]
  },
  {
   "cell_type": "code",
   "execution_count": 38,
   "metadata": {
    "execution": {
     "iopub.execute_input": "2021-03-23T10:39:17.884981Z",
     "iopub.status.busy": "2021-03-23T10:39:17.884355Z",
     "iopub.status.idle": "2021-03-23T10:39:17.886855Z",
     "shell.execute_reply": "2021-03-23T10:39:17.887261Z"
    }
   },
   "outputs": [
    {
     "data": {
      "text/plain": [
       "True"
      ]
     },
     "execution_count": 1,
     "metadata": {},
     "output_type": "execute_result"
    }
   ],
   "source": [
    "np.allclose(np.eye(3), A @ A_inv)"
   ]
  },
  {
   "cell_type": "markdown",
   "metadata": {},
   "source": [
    "Similarly, you can check that $\\mA^{-1} \\mA = \\mI$:"
   ]
  },
  {
   "cell_type": "code",
   "execution_count": 39,
   "metadata": {
    "execution": {
     "iopub.execute_input": "2021-03-23T10:39:17.890753Z",
     "iopub.status.busy": "2021-03-23T10:39:17.890119Z",
     "iopub.status.idle": "2021-03-23T10:39:17.892258Z",
     "shell.execute_reply": "2021-03-23T10:39:17.892726Z"
    }
   },
   "outputs": [
    {
     "data": {
      "text/plain": [
       "True"
      ]
     },
     "execution_count": 1,
     "metadata": {},
     "output_type": "execute_result"
    }
   ],
   "source": [
    "np.allclose(np.eye(3), A_inv @ A)"
   ]
  },
  {
   "cell_type": "markdown",
   "metadata": {},
   "source": [
    "You’ll see in\n",
    "Section 8.3.1 how to\n",
    "use the inverse of a matrix to solve systems of linear equations.\n",
    "\n",
    "#### Inverse of a Matrix Product\n",
    "\n",
    "Similarly to the transposition of a product of two matrices, the inverse\n",
    "of the product of two matrices $\\mA$ and $\\mB$ is defined as:\n",
    "\n",
    "$$\n",
    "(\\mA \\mB)^{-1} = \\mB^{-1} \\mA^{-1}\n",
    "$$\n",
    "\n",
    "#### Inverse of a Diagonal Matrix\n",
    "\n",
    "Consider a diagonal matrix $\\mD$ with no zero on the diagonal:\n",
    "\n",
    "$$\n",
    "\\mD = \\begin{bmatrix}\n",
    "    d_1 & 0 & 0 \\\\\\\\\n",
    "    0 & d_2 & 0 \\\\\\\\\n",
    "    0 & 0 & d_3\n",
    "\\end{bmatrix}\n",
    "$$\n",
    "\n",
    "has the following inverse:\n",
    "\n",
    "$$\n",
    "\\mD^{-1} = \\begin{bmatrix}\n",
    "    \\frac{1}{d_{1}} & 0 & 0 \\\\\\\\\n",
    "    0 & \\frac{1}{d_{2}} & 0 \\\\\\\\\n",
    "    0 & 0 & \\frac{1}{d_{3}}\n",
    "\\end{bmatrix}\n",
    "$$\n",
    "\n",
    "This property makes the inverse of diagonal matrices computationally\n",
    "very easy to calculate."
   ]
  },
  {
    "cell_type": "markdown",
   "metadata": {},
   "source": [
    "### 6.4.5 Orthogonal Matrices\n",
    "\n",
    "As illustrated in Figure [107](#fig:ch07_orthogonal_matrix), an\n",
    "*orthogonal matrix* is a square matrix with orthonormal rows and columns\n",
    "(refer to Section 5.1.3.4 if you\n",
    "need a reminder about orthonormal vectors.) .\n",
    "\n",
    "<img src=\"images/ch07_orthogonal_matrix.png\" id=\"fig:ch07_orthogonal_matrix\" width=\"200\" alt=\"Figure 107: Illustration of an orthogonal matrix.\" />\n",
    "Figure 107: Illustration of an orthogonal matrix.\n",
    "\n",
    "Any pairs of the matrix rows or columns are orthonormal vectors.\n",
    "(interestingly, orthogonality of rows implies orthogonality of columns\n",
    "and *vice versa*.) The first consequence is that the dot product between\n",
    "each row or between each column gives zero.\n",
    "\n",
    "Since the vectors are also unit vectors, the dot product of a row or a\n",
    "column with itself gives one.\n",
    "\n",
    "This results in the fact that the matrix product between an orthogonal\n",
    "matrix $\\mQ$ and its transpose $\\mQ^\\text{T}$ gives the identity matrix.\n",
    "Mathematically, you have:\n",
    "\n",
    "$$\n",
    "\\mQ \\mQ^\\text{T} = \\mQ^\\text{T} \\mQ = \\mI_n\n",
    "$$\n",
    "\n",
    "It corresponds to the dot product of each row with itself for the\n",
    "diagonals of the resulting matrix. Since the rows are unit vectors, the\n",
    "diagonal are ones. In addition, the values outside of the diagonal are\n",
    "calculated with the dot product of pairs of rows, which results in zeros\n",
    "since the vectors are orthogonal.\n",
    "\n",
    "Finally, a matrix is orthogonal if its transpose is equal to its\n",
    "inverse. You saw in Section 6.4.4\n",
    "that:\n",
    "\n",
    "$$\n",
    "\\mQ \\mQ^{-1} = \\mI\n",
    "$$\n",
    "\n",
    "And you just saw that:\n",
    "\n",
    "$$\n",
    "\\mQ \\mQ^{\\text{T}} = \\mI\n",
    "$$\n",
    "\n",
    "This implies that the transpose equals the inverse:\n",
    "\n",
    "$$\n",
    "\\begin{aligned}\n",
    "\\mQ \\mQ^{\\text{T}} &= \\mQ \\mQ^{-1} \\\\\\\\\n",
    "\\mQ^{\\text{T}} &= \\mQ^{-1}\n",
    "\\end{aligned}\n",
    "$$\n",
    "\n",
    "As diagonal matrices, you’ll need orthogonal matrices in the context of\n",
    "matrix decomposition in\n",
    "Section 10."
   ]
  },
  {
    "cell_type": "markdown",
   "metadata": {},
   "source": [
    "### 6.4.6 Symmetric Matrices\n",
    "\n",
    "*Symmetric matrices* are matrices that are equal to their own transpose.\n",
    "\n",
    "<img src=\"images/ch07_symmetric_matrix.png\" id=\"fig:ch07_symmetric_matrix\" width=\"150\" alt=\"Figure 108: Illustration of a symmetric matrix.\" />\n",
    "Figure 108: Illustration of a symmetric matrix.\n",
    "\n",
    "This means that, as shown in Figure [108](#fig:ch07_symmetric_matrix),\n",
    "they are symmetric with respect to the main diagonal.\n",
    "\n",
    "Let’s take the example of the following matrix $\\mS$:\n",
    "\n",
    "$$\n",
    "\\mS=\n",
    "\\begin{bmatrix}\n",
    "    0.4 & -2.3 & 7.5 \\\\\\\\\n",
    "    -2.3 & 1.9 & 4.3 \\\\\\\\\n",
    "    7.5 & 4.3 & 1.0\n",
    "\\end{bmatrix}\n",
    "$$\n",
    "\n",
    "Let’s create the corresponding Numpy array and calculate its transpose:"
   ]
  },
  {
   "cell_type": "code",
   "execution_count": 40,
   "metadata": {
    "execution": {
     "iopub.execute_input": "2021-03-23T10:39:17.897062Z",
     "iopub.status.busy": "2021-03-23T10:39:17.896446Z",
     "iopub.status.idle": "2021-03-23T10:39:17.898808Z",
     "shell.execute_reply": "2021-03-23T10:39:17.899203Z"
    }
   },
   "outputs": [
    {
     "data": {
      "text/plain": [
       "array([[ 0.4, -2.3,  7.5],\n",
       "       [-2.3,  1.9,  4.3],\n",
       "       [ 7.5,  4.3,  1. ]])"
      ]
     },
     "execution_count": 1,
     "metadata": {},
     "output_type": "execute_result"
    }
   ],
   "source": [
    "S = np.array([\n",
    "    [0.4, -2.3, 7.5],\n",
    "    [-2.3, 1.9, 4.3],\n",
    "    [7.5, 4.3, 1.0],\n",
    "])\n",
    "S.T"
   ]
  },
  {
   "cell_type": "markdown",
   "metadata": {},
   "source": [
    "You can see that transposing the matrix $\\mS$ doesn’t modify it.\n",
    "\n",
    "In addition, the product of a matrix with its transpose gives a\n",
    "symmetric matrix:\n",
    "\n",
    "$$\n",
    "\\mA^{\\text{T}} \\mA = \\mS\n",
    "$$\n",
    "\n",
    "This is because, from the reverse order of the matrices that you saw in\n",
    "Section 6.3.3, you have:\n",
    "\n",
    "$$\n",
    "(\\mA^{\\text{T}}\\mA)^{\\text{T}}=\\mA^{\\text{T}}(\\mA^{\\text{T}})^{\\text{T}}=\\mA^{\\text{T}}\\mA\n",
    "$$\n",
    "\n",
    "Some matrices you saw earlier in this section are symmetric. For\n",
    "instance, square identity matrices are symmetric:\n",
    "\n",
    "$$\n",
    "\\mI=\n",
    "\\begin{bmatrix}\n",
    "    1 & 0 & 0 \\\\\\\\\n",
    "    0 & 1 & 0 \\\\\\\\\n",
    "    0 & 0 & 1\n",
    "\\end{bmatrix}\n",
    "$$\n",
    "\n",
    "Other examples of symmetric matrices are correlation matrices or\n",
    "covariance matrices. You’ll see in\n",
    "Section 9 that\n",
    "symmetric matrices have useful decomposition properties."
   ]
  },
  {
    "cell_type": "markdown",
   "metadata": {},
   "source": [
    "### 6.4.7 Triangular Matrices\n",
    "\n",
    "*Triangular matrices* are matrices in which the non-zero values form a\n",
    "triangle shape, as illustrated in Figure\n",
    "[109](#fig:ch07_triangular_matrices).\n",
    "\n",
    "<img src=\"images/ch07_triangular_matrices.png\" id=\"fig:ch07_triangular_matrices\" width=\"250\" alt=\"Figure 109: Upper and lower triangular matrices.\" />\n",
    "Figure 109: Upper and lower triangular matrices.\n",
    "\n",
    "*Upper triangular matrices* are matrices with zeros for all entries\n",
    "except for the upper triangle (up to the main diagonal). *Lower\n",
    "triangular matrices* have zeros except in the lower triangle (lower to\n",
    "the main diagonal).\n",
    "\n",
    "As a fun fact, when upper triangular matrices are multiplied or added\n",
    "among themselves, they are still upper triangular matrices. This holds\n",
    "also for lower triangular matrices.\n",
    "\n",
    "6.5 Hands-on Project: Image Classifier\n",
    "--------------------------------------\n",
    "\n",
    "In this hands-on project, you’ll see how to manipulate images and put\n",
    "them into a shape understandable by machine learning and deep learning\n",
    "libraries. As a bonus, I have pre-trained a small neural network that\n",
    "you’ll use on the data."
   ]
  },
  {
   "cell_type": "markdown",
   "metadata": {},
   "source": [
    "### 6.5.1 Images as Multi-dimensional Arrays\n",
    "\n",
    "To use images as input of machine learning models, you need to encode\n",
    "them in a proper way. Color images are luminance values for each pixel\n",
    "and each color, so you can encode them as tensors with the following\n",
    "dimensions: height, width and color. Usually, color is encoded as three\n",
    "values per pixel (red, green and blue), leading to arrays that have a\n",
    "shape of (height, width, 3).\n",
    "\n",
    "To give multiple images to a model you can stack the images: you get\n",
    "four-dimensional arrays (image, height, width, 3). You’ll see here how\n",
    "it works in practice.\n",
    "\n",
    "Let’s use the CIFAR10 dataset (this is a classic dataset used for a lot\n",
    "of benchmarks. You can refer to the initial paper: Krizhevsky, Alex, and\n",
    "Geoffrey Hinton. “Learning multiple layers of features from tiny\n",
    "images.”, 2009: 7.) to play with the manipulation of images as\n",
    "multi-dimensional arrays. There are 60,000 color images that have 32 by\n",
    "32 pixels, each of them is labelized as one of ten categories (“birds”,\n",
    "“trucks” etc.) according to the content of the image.\n",
    "\n",
    "You can load this dataset using the function `cifar10` from the deep\n",
    "learning library Keras:"
   ]
  },
  {
   "cell_type": "code",
   "execution_count": 41,
   "metadata": {
    "execution": {
     "iopub.execute_input": "2021-03-23T10:39:17.902573Z",
     "iopub.status.busy": "2021-03-23T10:39:17.901997Z",
     "iopub.status.idle": "2021-03-23T10:39:22.343458Z",
     "shell.execute_reply": "2021-03-23T10:39:22.343975Z"
    }
   },
   "outputs": [],
   "source": [
    "from keras.datasets import cifar10\n",
    "\n",
    "(X_train, y_train), (X_test, y_test) = cifar10.load_data()"
   ]
  },
  {
   "cell_type": "markdown",
   "metadata": {},
   "source": [
    "You can see that the function `load_data()` returns multiple variables.\n",
    "The training set (`X_train`) is the data that you use to train your\n",
    "model and the test set (`X_test`) the data that you’ll use to evaluate\n",
    "it. This separation is done to be sure that your model doesn’t work only\n",
    "on the specific data you trained your model on, but generalizes to new\n",
    "data. (for more details about training vs test set, you can for instance\n",
    "refer to the section “Testing and Validating” in Géron, Aurélien.\n",
    "Hands-On Machine Learning with Scikit-Learn, Keras, and TensorFlow:\n",
    "Concepts, Tools, and Techniques to Build Intelligent Systems. O’Reilly\n",
    "Media, 2019.)\n",
    "\n",
    "Look at the shape of `X_train` that contains the images:"
   ]
  },
  {
   "cell_type": "code",
   "execution_count": 42,
   "metadata": {
    "execution": {
     "iopub.execute_input": "2021-03-23T10:39:22.348498Z",
     "iopub.status.busy": "2021-03-23T10:39:22.347689Z",
     "iopub.status.idle": "2021-03-23T10:39:22.350514Z",
     "shell.execute_reply": "2021-03-23T10:39:22.351009Z"
    }
   },
   "outputs": [
    {
     "data": {
      "text/plain": [
       "(50000, 32, 32, 3)"
      ]
     },
     "execution_count": 1,
     "metadata": {},
     "output_type": "execute_result"
    }
   ],
   "source": [
    "X_train.shape"
   ]
  },
  {
   "cell_type": "markdown",
   "metadata": {},
   "source": [
    "The shape of `X_train` tells you first that the array has four\n",
    "dimensions. There are 50,000 images and each image is 32 by 32 pixels\n",
    "with three colors for each pixel. This means that there are\n",
    "$32 \\cdot 32 \\cdot 3 = 3072$ values for each image. This is the number\n",
    "of features of the dataset and you can consider each of the 50,000\n",
    "images as a data sample.\n",
    "\n",
    "The labels of data are in `y_train` (50,000 labels) and `y_test` (10,000\n",
    "labels). They are numbers between 0 and 9, each corresponding to a\n",
    "category like airplane, automobile, bird, etc.\n",
    "\n",
    "You can now use what you learned on Numpy arrays to manipulate\n",
    "`X_train`. Let’s start by displaying a few images:"
   ]
  },
  {
   "cell_type": "code",
   "execution_count": 43,
   "metadata": {
    "execution": {
     "iopub.execute_input": "2021-03-23T10:39:22.385334Z",
     "iopub.status.busy": "2021-03-23T10:39:22.384738Z",
     "iopub.status.idle": "2021-03-23T10:39:23.047792Z",
     "shell.execute_reply": "2021-03-23T10:39:23.048191Z"
    }
   },
   "outputs": [
    {
     "data": {
      "image/png": "[encoded data removed]",
      "text/plain": [
       "<Figure size 432x432 with 25 Axes>"
      ]
     },
     "metadata": {
      "needs_background": "dark"
     },
     "output_type": "display_data"
    }
   ],
   "source": [
    "fig, axes = plt.subplots(5, 5, figsize=(6, 6))\n",
    "for i, ax in zip(np.arange(25), axes.flatten()):\n",
    "    ax.imshow(X_train[i])\n",
    "    # [...] Remove grid and axes\n",
    "    \n",
    "    ax.grid(None)\n",
    "    ax.axis('off')\n",
    "    \n"
   ]
  },
  {
    "cell_type": "markdown",
   "metadata": {},
   "source": [
    "<img src=\"images/blank.png\" id=\"fig:ch07_images_cifar10\" alt=\"Figure 110: Images from the CIFAR10 dataset.\" />\n",
    "Figure 110: Images from the CIFAR10 dataset.\n",
    "\n",
    "See how you can index the array (`X_train[i]`) as you would do with\n",
    "vectors or matrices? There is a single index for the four dimensions:\n",
    "when you provide a single value for the indexing, Numpy uses the first\n",
    "dimension. Here it returns the $i$th image. But you can also be more\n",
    "specific and write the four indexes as follows:"
   ]
  },
  {
   "cell_type": "code",
   "execution_count": 44,
   "metadata": {
    "execution": {
     "iopub.execute_input": "2021-03-23T10:39:23.077528Z",
     "iopub.status.busy": "2021-03-23T10:39:23.077009Z",
     "iopub.status.idle": "2021-03-23T10:39:23.151694Z",
     "shell.execute_reply": "2021-03-23T10:39:23.152058Z"
    }
   },
   "outputs": [
    {
     "data": {
      "image/png": "[encoded data removed]",
      "text/plain": [
       "<Figure size 432x288 with 1 Axes>"
      ]
     },
     "metadata": {
      "needs_background": "dark"
     },
     "output_type": "display_data"
    }
   ],
   "source": [
    "plt.imshow(X_train[0, :, :, :])\n",
    "plt.show()"
   ]
  },
  {
    "cell_type": "markdown",
   "metadata": {},
   "source": [
    "<img src=\"images/blank.png\" id=\"fig:ch07_image_cifar10\" alt=\"Figure 111: One image from the CIFAR10 dataset.\" />\n",
    "Figure 111: One image from the CIFAR10 dataset.\n",
    "\n",
    "It returns the image with the index zero, and all the height pixels, all\n",
    "the width pixels, and all the colors using the colons.\n",
    "\n",
    "The goal of this hands-on is to create a model that takes images as\n",
    "input and returns the estimated class. I have used the 50,000 images\n",
    "from `X_train` and their labels in `y_train` to train a deep learning\n",
    "model. Then, you’ll assess the model performance by predicting the class\n",
    "for each of the 10,000 images in `X_test` and check the results with the\n",
    "ground truth (`y_test`)."
   ]
  },
  {
   "cell_type": "markdown",
   "metadata": {},
   "source": [
    "### 6.5.2 Data Preparation\n",
    "\n",
    "#### Normalization\n",
    "\n",
    "It is important that the features have the same scale before you use the\n",
    "data to train a model. Let’s normalize the values to keep them between\n",
    "zero and one. Since the maximum luminance value is 255, you just need to\n",
    "divide by 255."
   ]
  },
  {
   "cell_type": "code",
   "execution_count": 45,
   "metadata": {
    "execution": {
     "iopub.execute_input": "2021-03-23T10:39:23.155160Z",
     "iopub.status.busy": "2021-03-23T10:39:23.154646Z",
     "iopub.status.idle": "2021-03-23T10:39:23.636892Z",
     "shell.execute_reply": "2021-03-23T10:39:23.637362Z"
    }
   },
   "outputs": [],
   "source": [
    "X_train_rescaled = X_train.astype(np.float32) / 255.0\n",
    "X_test_rescaled = X_test.astype(np.float32) / 255.0\n"
   ]
  },
  {
   "cell_type": "markdown",
   "metadata": {},
   "source": [
    "#### Encoding\n",
    "\n",
    "You can encode categorical variables in multiple ways. The labels in\n",
    "CIFAR10 are image categories like ‘birds’, ‘airplanes’ and so one, and\n",
    "they must be numerically encoded. When you load the dataset with Keras,\n",
    "the encoding is what is called *label encoding*, meaning that each class\n",
    "corresponds to a number between 0 and 9. Look at `y_train`:"
   ]
  },
  {
   "cell_type": "code",
   "execution_count": 46,
   "metadata": {
    "execution": {
     "iopub.execute_input": "2021-03-23T10:39:23.641443Z",
     "iopub.status.busy": "2021-03-23T10:39:23.640772Z",
     "iopub.status.idle": "2021-03-23T10:39:23.643012Z",
     "shell.execute_reply": "2021-03-23T10:39:23.643671Z"
    }
   },
   "outputs": [
    {
     "data": {
      "text/plain": [
       "array([[6],\n",
       "       [9],\n",
       "       [9],\n",
       "       ...,\n",
       "       [9],\n",
       "       [1],\n",
       "       [1]], dtype=uint8)"
      ]
     },
     "execution_count": 1,
     "metadata": {},
     "output_type": "execute_result"
    }
   ],
   "source": [
    "y_train"
   ]
  },
  {
   "cell_type": "markdown",
   "metadata": {},
   "source": [
    "However, Keras needs *one-hot encoding*, that is to say, one vector for\n",
    "each image, containing ten values (one per possible class) filled with\n",
    "zeros except for the category of the image. The position (index) in the\n",
    "vector corresponds to the category.\n",
    "\n",
    "You can go from label encoding to one-hot encoding using the utility\n",
    "function `np_utils.to_categorical` from Keras:"
   ]
  },
  {
   "cell_type": "code",
   "execution_count": 47,
   "metadata": {
    "execution": {
     "iopub.execute_input": "2021-03-23T10:39:23.647363Z",
     "iopub.status.busy": "2021-03-23T10:39:23.646613Z",
     "iopub.status.idle": "2021-03-23T10:39:23.652600Z",
     "shell.execute_reply": "2021-03-23T10:39:23.652997Z"
    }
   },
   "outputs": [],
   "source": [
    "from keras.utils import np_utils\n",
    "n_classes = 10\n",
    "y_train = np_utils.to_categorical(y_train, n_classes)\n",
    "y_test = np_utils.to_categorical(y_test, n_classes)"
   ]
  },
  {
   "cell_type": "markdown",
   "metadata": {},
   "source": [
    "Let’s look at the new encoding:"
   ]
  },
  {
   "cell_type": "code",
   "execution_count": 48,
   "metadata": {
    "execution": {
     "iopub.execute_input": "2021-03-23T10:39:23.658120Z",
     "iopub.status.busy": "2021-03-23T10:39:23.657526Z",
     "iopub.status.idle": "2021-03-23T10:39:23.660114Z",
     "shell.execute_reply": "2021-03-23T10:39:23.660651Z"
    }
   },
   "outputs": [
    {
     "data": {
      "text/plain": [
       "array([[0., 0., 0., ..., 0., 0., 0.],\n",
       "       [0., 0., 0., ..., 0., 0., 1.],\n",
       "       [0., 0., 0., ..., 0., 0., 1.],\n",
       "       ...,\n",
       "       [0., 0., 0., ..., 0., 0., 1.],\n",
       "       [0., 1., 0., ..., 0., 0., 0.],\n",
       "       [0., 1., 0., ..., 0., 0., 0.]], dtype=float32)"
      ]
     },
     "execution_count": 1,
     "metadata": {},
     "output_type": "execute_result"
    }
   ],
   "source": [
    "y_train"
   ]
  },
  {
   "cell_type": "code",
   "execution_count": 49,
   "metadata": {
    "execution": {
     "iopub.execute_input": "2021-03-23T10:39:23.664505Z",
     "iopub.status.busy": "2021-03-23T10:39:23.663847Z",
     "iopub.status.idle": "2021-03-23T10:39:23.666267Z",
     "shell.execute_reply": "2021-03-23T10:39:23.666726Z"
    }
   },
   "outputs": [
    {
     "data": {
      "text/plain": [
       "(50000, 10)"
      ]
     },
     "execution_count": 1,
     "metadata": {},
     "output_type": "execute_result"
    }
   ],
   "source": [
    "y_train.shape"
   ]
  },
  {
   "cell_type": "markdown",
   "metadata": {},
   "source": [
    "You can see that the shape of `y_train` is now 50,000 by 10 because\n",
    "there are ten values (nine zeros and a one) per image.\n",
    "\n",
    "You saw in this example how to manipulate multi-dimensional arrays to\n",
    "put images in a shape digestible by machine learning libraries.\n",
    "\n",
    "Just for the fun, let’s add one more step and use what you did to\n",
    "classify images. It would be out of the scope of the book to cover the\n",
    "details of *Convolutional Neural Networks* (CNN), so I trained it so you\n",
    "can use it to do predictions."
   ]
  },
  {
   "cell_type": "code",
   "execution_count": 50,
   "metadata": {
    "execution": {
     "iopub.execute_input": "2021-03-23T10:39:23.674998Z",
     "iopub.status.busy": "2021-03-23T10:39:23.674384Z",
     "iopub.status.idle": "2021-03-23T10:39:24.005903Z",
     "shell.execute_reply": "2021-03-23T10:39:24.006348Z"
    }
   },
   "outputs": [],
   "source": [
    "from keras.models import Sequential\n",
    "from keras.layers.convolutional import Convolution2D, MaxPooling2D\n",
    "from keras.layers import Activation, Flatten, Dense, Dropout, Conv2D\n",
    "from keras.layers.normalization import BatchNormalization\n",
    "\n",
    "model = Sequential()\n",
    "# [...] Create the model architecture with Keras\n",
    "\n",
    "model.add(Conv2D(32, (3,3), padding='same', input_shape=X_train.shape[1:]))\n",
    "model.add(Activation('relu'))\n",
    "model.add(BatchNormalization())\n",
    "model.add(Conv2D(32, (3,3), padding='same'))\n",
    "model.add(Activation('relu'))\n",
    "model.add(BatchNormalization())\n",
    "model.add(MaxPooling2D(pool_size=(2,2)))\n",
    "model.add(Dropout(0.2))\n",
    " \n",
    "model.add(Conv2D(64, (3,3), padding='same'))\n",
    "model.add(Activation('relu'))\n",
    "model.add(BatchNormalization())\n",
    "model.add(Conv2D(64, (3,3), padding='same'))\n",
    "model.add(Activation('relu'))\n",
    "model.add(BatchNormalization())\n",
    "model.add(MaxPooling2D(pool_size=(2,2)))\n",
    "model.add(Dropout(0.3))\n",
    "\n",
    "model.add(Conv2D(128, (3,3), padding='same'))\n",
    "model.add(Activation('relu'))\n",
    "model.add(BatchNormalization())\n",
    "model.add(Conv2D(128, (3,3), padding='same'))\n",
    "model.add(Activation('relu'))\n",
    "model.add(BatchNormalization())\n",
    "model.add(MaxPooling2D(pool_size=(2,2)))\n",
    "model.add(Dropout(0.4))\n",
    " \n",
    "model.add(Flatten())\n",
    "model.add(Dense(10, activation='softmax'))\n",
    "\n",
    "model.compile(optimizer='adam', loss='categorical_crossentropy', metrics=['accuracy'])\n",
    "\n",
    "\n",
    "# load weights (model already trained)\n",
    "model.load_weights(\"data/model.h5\")\n"
   ]
  },
  {
   "cell_type": "markdown",
   "metadata": {},
   "source": [
    "You can use the model to evaluate the test dataset:"
   ]
  },
  {
   "cell_type": "code",
   "execution_count": 51,
   "metadata": {
    "execution": {
     "iopub.execute_input": "2021-03-23T10:39:24.010801Z",
     "iopub.status.busy": "2021-03-23T10:39:24.010181Z",
     "iopub.status.idle": "2021-03-23T10:39:28.486749Z",
     "shell.execute_reply": "2021-03-23T10:39:28.487381Z"
    }
   },
   "outputs": [
    {
     "name": "stdout",
     "output_type": "stream",
     "text": [
      "79/79 [==============================] - 4s 49ms/step - loss: 0.4670 - accuracy: 0.8507\n"
     ]
    },
    {
     "data": {
      "text/plain": [
       "0.8507000207901001"
      ]
     },
     "execution_count": 1,
     "metadata": {},
     "output_type": "execute_result"
    }
   ],
   "source": [
    "scores = model.evaluate(X_test_rescaled, y_test, batch_size=128, verbose=1)\n",
    "scores[1]"
   ]
  },
  {
   "cell_type": "markdown",
   "metadata": {},
   "source": [
    "The accuracy of the model is around 85% correct.\n",
    "\n",
    "The goal of this hands-on was to demonstrate that vectors, matrices and\n",
    "tensors, used as multi-dimensional arrays with Numpy, are the core of\n",
    "machine learning and deep learning. You saw that batches of images can\n",
    "be represented as 4D arrays and used under this form with libraries like\n",
    "Keras.\n",
    "\n"
   ]
  }
 ],
 "metadata": {
  "language_info": {
   "codemirror_mode": {
    "name": "ipython",
    "version": 3
   },
   "file_extension": ".py",
   "mimetype": "text/x-python",
   "name": "python",
   "nbconvert_exporter": "python",
   "pygments_lexer": "ipython3",
   "version": "3.8.5"
  }
 },
 "nbformat": 4,
 "nbformat_minor": 5
}

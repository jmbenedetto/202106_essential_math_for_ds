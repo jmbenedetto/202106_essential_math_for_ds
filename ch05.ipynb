{
 "cells": [
  {
   "cell_type": "code",
   "execution_count": 1,
   "metadata": {
    "execution": {
     "iopub.execute_input": "2021-03-23T10:39:08.007742Z",
     "iopub.status.busy": "2021-03-23T10:39:08.005469Z",
     "iopub.status.idle": "2021-03-23T10:39:08.465163Z",
     "shell.execute_reply": "2021-03-23T10:39:08.465605Z"
    }
   },
   "outputs": [],
   "source": [
    "# Basic imports\n",
    "import numpy as np\n",
    "import pandas as pd\n",
    "import matplotlib.pyplot as plt\n",
    "import matplotlib\n",
    "from mpl_toolkits.mplot3d import Axes3D\n",
    "from matplotlib import ticker\n",
    "\n",
    "# Display options\n",
    "from IPython.display import display\n",
    "pd.options.display.max_columns = None\n",
    "\n",
    "np.set_printoptions(threshold=30)\n",
    "\n",
    "# Plots style\n",
    "from cycler import cycler\n",
    "\n",
    "matplotlib.rcParams['lines.linewidth'] = 3\n",
    "matplotlib.rcParams['lines.markersize'] = 10\n",
    "\n",
    "matplotlib.rcParams['xtick.labelsize'] = 12\n",
    "matplotlib.rcParams['xtick.color'] = '#A9A9A9'\n",
    "matplotlib.rcParams['ytick.labelsize'] = 12\n",
    "matplotlib.rcParams['ytick.color'] = '#A9A9A9'\n",
    "\n",
    "matplotlib.rcParams['grid.color'] = '#ffffff'\n",
    "\n",
    "matplotlib.rcParams['axes.facecolor'] = '#ffffff'\n",
    "\n",
    "matplotlib.rcParams['axes.spines.left'] = False\n",
    "matplotlib.rcParams['axes.spines.right'] = False\n",
    "matplotlib.rcParams['axes.spines.top'] = False\n",
    "matplotlib.rcParams['axes.spines.bottom'] = False\n",
    "\n",
    "matplotlib.rcParams['axes.prop_cycle'] = cycler(color=['#2EBCE7', '#84EE29', '#FF8177'])"
   ]
  },
  {
   "cell_type": "markdown",
   "metadata": {},
   "source": [
    "$$\n",
    "\\def\\var{{\\text{Var}}} % Variance\n",
    "\\def\\corr{{\\text{Corr}}} % Correlation\n",
    "\\def\\cov{{\\text{Cov}}} % Covariance\n",
    "\\def\\expval{{\\mathbb{E}}}\n",
    "\\newcommand\\norm[1]{\\lVert#1\\rVert} % norm\n",
    "\\def\\setR{{\\rm I\\!R}} % Sets\n",
    "\\def\\rx{{\\textrm{X}}} % Scalar random variables\n",
    "\\def\\ry{{\\textrm{Y}}}\n",
    "\\def\\rz{{\\textrm{Z}}}\n",
    "\\def\\rvx{{\\textbf{X}}} % Vector random variables\n",
    "\\def\\rvy{{\\textbf{Y}}}\n",
    "\\def\\rvz{{\\textbf{Z}}}\n",
    "\\def\\vtheta{{\\boldsymbol{\\theta}}} % Vectors\n",
    "\\def\\va{{\\boldsymbol{a}}}\n",
    "\\def\\vb{{\\boldsymbol{b}}}\n",
    "\\def\\vi{{\\boldsymbol{i}}}\n",
    "\\def\\vj{{\\boldsymbol{j}}}\n",
    "\\def\\vp{{\\boldsymbol{p}}}\n",
    "\\def\\vq{{\\boldsymbol{q}}}\n",
    "\\def\\vu{{\\boldsymbol{u}}}\n",
    "\\def\\vv{{\\boldsymbol{v}}}\n",
    "\\def\\vw{{\\boldsymbol{w}}}\n",
    "\\def\\vx{{\\boldsymbol{x}}}\n",
    "\\def\\vy{{\\boldsymbol{y}}}\n",
    "\\def\\vz{{\\boldsymbol{z}}}\n",
    "\\def\\evu{{u}} % Elements of vectors\n",
    "\\def\\evv{{v}}\n",
    "\\def\\evw{{w}}\n",
    "\\def\\evx{{x}}\n",
    "\\def\\evy{{y}}\n",
    "\\def\\evz{{z}}\n",
    "\\def\\mA{{\\boldsymbol{A}}} % Matrices\n",
    "\\def\\mB{{\\boldsymbol{B}}}\n",
    "\\def\\mC{{\\boldsymbol{C}}}\n",
    "\\def\\mD{{\\boldsymbol{D}}}\n",
    "\\def\\mI{{\\boldsymbol{I}}}\n",
    "\\def\\mQ{{\\boldsymbol{Q}}}\n",
    "\\def\\mS{{\\boldsymbol{S}}}\n",
    "\\def\\mT{{\\boldsymbol{T}}}\n",
    "\\def\\mU{{\\boldsymbol{U}}}\n",
    "\\def\\mV{{\\boldsymbol{V}}}\n",
    "\\def\\mW{{\\boldsymbol{W}}}\n",
    "\\def\\mX{{\\boldsymbol{X}}}\n",
    "\\def\\mLambda{{\\boldsymbol{\\Lambda}}}\n",
    "\\def\\mSigma{{\\boldsymbol{\\Sigma}}}\n",
    "\\def\\emA{{A}} % Elements of matrices\n",
    "\\def\\emB{{B}}\n",
    "\\def\\emX{{X}}\n",
    "\\def\\tT{{T}} % Transformations\n",
    "$$\n",
    "\n",
    "\n",
    "\n",
    "Machines only understand numbers. For instance, if you want to create a\n",
    "spam detector, you have first to convert your text data into numbers\n",
    "(for instance, through *word embeddings*). Data can then be stored in\n",
    "vectors, matrices, and tensors. For instance, images are represented as\n",
    "matrices of values between 0 and 255 representing the luminosity of each\n",
    "color for each pixel. It is possible to leverage the tools and concepts\n",
    "from the field of linear algebra to manipulate these vectors, matrices\n",
    "and tensors.\n",
    "\n",
    "Linear algebra is the branch of mathematics that studies *vector\n",
    "spaces*. You’ll see how vectors constitute vector spaces and how linear\n",
    "algebra applies linear transformations to these spaces. You’ll also\n",
    "learn the powerful relationship between sets of linear equations and\n",
    "vector equations, related to important data science concepts like *least\n",
    "squares approximation*. You’ll finally learn important matrix\n",
    "decomposition methods: *eigendecomposition* and *Singular Value\n",
    "Decomposition* (SVD), important to understand unsupervised learning\n",
    "methods like *Principal Component Analysis* (PCA).\n",
    "\n",
    "Scalars and Vectors\n",
    "===================\n",
    "\n",
    "5.1 What are Vectors?\n",
    "---------------------\n",
    "\n",
    "Linear algebra deals with *vectors*. Other mathematical entities in the\n",
    "field can be defined by their relationship to vectors: *scalars*, for\n",
    "example, are single numbers that *scale* vectors (stretching or\n",
    "contracting) when they are multiplied by them.\n",
    "\n",
    "However, vectors refer to various concepts according to the field they\n",
    "are used in. In the context of data science, they are a way to store\n",
    "values from your data. For instance, take the height and weight of\n",
    "people: since they are distinct values with different meanings, you need\n",
    "to store them separately, for instance using two vectors. You can then\n",
    "do operations on vectors to manipulate these features without loosing\n",
    "the fact that the values correspond to different attributes.\n",
    "\n",
    "You can also use vectors to store data samples, for instance, store the\n",
    "height of ten people as a vector containing ten values.\n",
    "\n",
    "##### Notation\n",
    "\n",
    "We’ll use lowercase, boldface letters to name vectors (such as $\\vv$).\n",
    "(in other ressources, you might also encounter a letter with an arrow,\n",
    "like $\\vec v$, especially for handwriting, where boldface is not\n",
    "possible.) As usual, refer to the Appendix\n",
    "Section 12 to have the\n",
    "summary of the notations used in this book."
   ]
  },
  {
    "cell_type": "markdown",
   "metadata": {},
   "source": [
    "### 5.1.1 Geometric and Coordinate Vectors\n",
    "\n",
    "The word *vector* can refer to multiple concepts. Let’s learn more about\n",
    "geometric and coordinate vectors.\n",
    "\n",
    "*Coordinates* are values describing a position. For instance, any\n",
    "position on earth can be specified by geographical coordinates\n",
    "(latitude, longitude, and elevation).\n",
    "\n",
    "#### Geometric Vectors\n",
    "\n",
    "*Geometric vectors*, also called *Euclidean vectors*, are mathematical\n",
    "objects defined by their magnitude (the length) and their direction.\n",
    "These properties allow you to describe the displacement from a location\n",
    "to another.\n",
    "\n",
    "<img src=\"images/ch06_geometric_vector.png\" id=\"fig:ch06_geometric_vector\" width=\"200\" alt=\"Figure 73: A geometric vector running from A to B.\" />\n",
    "Figure 73: A geometric vector running from <span class=\"math inline\"><em>A</em></span> to <span class=\"math inline\"><em>B</em></span>.\n",
    "\n",
    "For instance, Figure [73](#fig:ch06_geometric_vector) shows that the\n",
    "point $A$ has coordinates (1, 1) and the point $B$ has coordinates (3,\n",
    "2). The geometric vector $\\vv$ describes the displacement from $A$ to\n",
    "$B$, but since vectors are defined by their magnitude and direction, you\n",
    "can also represent $\\vv$ as starting from the origin.\n",
    "\n",
    "In Figure [73](#fig:ch06_geometric_vector), we used a coordinate system\n",
    "called the *Cartesian plane*. The horizontal and vertical lines are the\n",
    "*coordinate axes*, usually labeled respectively $x$ and $y$. The\n",
    "intersection of the two coordinates is called the *origin* and\n",
    "corresponds to the coordinate 0 for each axis.\n",
    "\n",
    "In a Cartesian plane, any position can be specified by the $x$ and the\n",
    "$y$ coordinates. The Cartesian coordinate system can be extended to more\n",
    "dimensions: the position of a point in a $n$-dimensional space is\n",
    "specified by $n$ coordinates. The real coordinate $n$-dimensional space,\n",
    "containing $n$-tuples of real numbers, is named $\\setR^n$. For instance,\n",
    "the space $\\setR^2$ is the two-dimensional space containing pairs of\n",
    "real numbers (the coordinates). In three dimensions ($\\setR^3$), a point\n",
    "in space is represented by three real numbers.\n",
    "\n",
    "#### Coordinate Vectors\n",
    "\n",
    "*Coordinate vectors* are ordered lists of numbers corresponding to the\n",
    "vector coordinates. Since vector initial points are at the origin, you\n",
    "need to encode only the coordinates of the terminal point.\n",
    "\n",
    "<figure>\n",
    "<img src=\"images/ch06_coordinate_vector.png\" id=\"fig:ch06_coordinate_vector\" width=\"200\" alt=\"Figure 74: The vector \\vv has coordinates (3, 2) corresponding to three units from the origin on the x-axis and two on the y-axis.\" /><figcaption aria-hidden=\"true\">Figure 74: The vector <span class=\"math inline\">$\\vv$</span> has coordinates (3, 2) corresponding to three units from the origin on the <span class=\"math inline\"><em>x</em></span>-axis and two on the <span class=\"math inline\"><em>y</em></span>-axis.</figcaption>\n",
    "</figure>\n",
    "\n",
    "For instance, let’s take the vector $\\vv$ represented in Figure\n",
    "[74](#fig:ch06_coordinate_vector). The corresponding coordinate vector\n",
    "is as follows:\n",
    "\n",
    "$$\n",
    "\\vv = \\begin{bmatrix}\n",
    "3 \\\\\\\\\n",
    "2\n",
    "\\end{bmatrix}\n",
    "$$\n",
    "\n",
    "Each value is associated with a direction: in this case, the first value\n",
    "corresponds to the $x$-axis direction and the second number to the\n",
    "$y$-axis.\n",
    "\n",
    "<figure>\n",
    "<img src=\"images/ch06_vector_component.png\" id=\"fig:ch06_vector_component\" width=\"200\" alt=\"Figure 75: Components of a coordinate vector.\" /><figcaption aria-hidden=\"true\">Figure 75: Components of a coordinate vector.</figcaption>\n",
    "</figure>\n",
    "\n",
    "As illustrated in Figure [75](#fig:ch06_vector_component), these values\n",
    "are called *components* or *entries* of the vector.\n",
    "\n",
    "<figure>\n",
    "<img src=\"images/ch06_vectors_as_points.png\" id=\"fig:ch06_vectors_as_points\" width=\"200\" alt=\"Figure 76: Vectors can be represented as points in the Cartesian plane.\" /><figcaption aria-hidden=\"true\">Figure 76: Vectors can be represented as points in the Cartesian plane.</figcaption>\n",
    "</figure>\n",
    "\n",
    "In addition, as represented in Figure [76](#fig:ch06_vectors_as_points),\n",
    "you can simply represent the terminal point of the arrow: this is a\n",
    "scatter-plot.\n",
    "\n",
    "##### Indexing\n",
    "\n",
    "*Indexing* refers to the process of getting a vector component (one of\n",
    "the values from the vector) using its position (its index).\n",
    "\n",
    "Python uses zero-based indexing, meaning that the first index is zero.\n",
    "However mathematically, the convention is to use one-based indexing.\n",
    "I’ll denote the component $i$ of the vector $\\vv$ with a subscript, as\n",
    "$v_i$, without bold font because the component of the vector is a\n",
    "scalar.\n",
    "\n",
    "##### Numpy\n",
    "\n",
    "In Numpy, vectors are called *one-dimensional arrays*. You can use the\n",
    "function `np.array()` to create one:"
   ]
  },
  {
   "cell_type": "code",
   "execution_count": 2,
   "metadata": {
    "execution": {
     "iopub.execute_input": "2021-03-23T10:39:08.471524Z",
     "iopub.status.busy": "2021-03-23T10:39:08.470827Z",
     "iopub.status.idle": "2021-03-23T10:39:08.473770Z",
     "shell.execute_reply": "2021-03-23T10:39:08.474266Z"
    }
   },
   "outputs": [
    {
     "data": {
      "text/plain": [
       "array([3, 2])"
      ]
     },
     "execution_count": 1,
     "metadata": {},
     "output_type": "execute_result"
    }
   ],
   "source": [
    "v = np.array([3, 2])\n",
    "v"
   ]
  },
  {
    "cell_type": "markdown",
   "metadata": {},
   "source": [
    "##### More Components\n",
    "\n",
    "Let’s take the example of $\\vv$, a three-dimensional vector defined as\n",
    "follows:\n",
    "\n",
    "$$\n",
    "\\vv = \\begin{bmatrix}\n",
    "3 \\\\\\\\\n",
    "4 \\\\\\\\\n",
    "2\n",
    "\\end{bmatrix}\n",
    "$$\n",
    "\n",
    "As shown in Figure [77](#fig:ch06_vector_3d), you can reach the endpoint\n",
    "of the vector by traveling 3 units on the $x$-axis, 4 on the $y$-axis,\n",
    "and 2 on the $z$-axis.\n",
    "\n",
    "<img src=\"images/ch06_vector_3d.png\" id=\"fig:ch06_vector_3d\" width=\"200\" alt=\"Figure 77: Three-dimensional representation of the origin at (0, 0, 0) and the point at (3, 4, 2).\" />\n",
    "Figure 77: Three-dimensional representation of the origin at (0, 0, 0) and the point at (3, 4, 2).\n",
    "\n",
    "More generally, in a $n$-dimensional space, the position of a terminal\n",
    "point is described by $n$ components.\n",
    "\n",
    "#### Dimensions\n",
    "\n",
    "You can denote the dimensionality of a vector using the *set* notation\n",
    "$\\setR^n$. It expresses the *real coordinate space*: this is the\n",
    "$n$-dimensional space with real numbers as coordinate values.\n",
    "\n",
    "For instance, vectors in $\\setR^3$ have three components, as the\n",
    "following vector $\\vv$ for example:\n",
    "\n",
    "$$\n",
    "\\vv = \\begin{bmatrix}\n",
    "2.0 \\\\\\\\\n",
    "1.1 \\\\\\\\\n",
    "-2.5\n",
    "\\end{bmatrix}\n",
    "$$\n",
    "\n",
    "#### Vectors in Data Science\n",
    "\n",
    "In the context of data science, you can use coordinate vectors to\n",
    "represent your data.\n",
    "\n",
    "You can represent data samples as vectors with each component\n",
    "corresponding to a feature. For instance, in a real estate dataset, you\n",
    "could have a vector corresponding to an apartment with its features as\n",
    "different components (like the number of rooms, the location, etc.).\n",
    "\n",
    "Another way to do it is to create one vector per feature, each\n",
    "containing all observations.\n",
    "\n",
    "Storing data in vectors allows you to leverage linear algebra tools.\n",
    "Note that, even if you can’t visualize vectors with a large number of\n",
    "components, you can still apply the same operations on them. This means\n",
    "that you can get insights about linear algebra using two or three\n",
    "dimensions, and then, use what you learn with a larger number of\n",
    "dimensions."
   ]
  },
  {
   "cell_type": "markdown",
   "metadata": {},
   "source": [
    "### 5.1.2 Vector Spaces\n",
    "\n",
    "A *vector space* is a collection of vectors. You can use uppercase\n",
    "letters to refer to vector spaces, as $V$ for instance. Mathematically,\n",
    "any vector in a vector space must satisfy the following statements\n",
    "(these rules are called *axioms*).\n",
    "\n",
    "#### Axioms\n",
    "\n",
    "For all $\\vu, \\vv, \\vw \\in V$ (the symbol $\\in$ is pronounced “in”,\n",
    "meaning that the vectors are in the space $V$ and thus that the\n",
    "following axioms must holds for each vector in the space $V$):\n",
    "\n",
    "-   $\\vu + \\vv = \\vv + \\vu$.\n",
    "-   $(\\vu + \\vv) + \\vw = \\vu + (\\vv + \\vw)$.\n",
    "-   There exists an element 0 so that $\\vu + 0 = \\vu$ for all $\\vu$.\n",
    "-   For all $\\vu$, there exists an element $-\\vu$ so that:\n",
    "    $\\vu + (-\\vu) = 0$.\n",
    "-   $(c + d)\\vu = c\\vu + d\\vu$.\n",
    "-   $c(\\vu + \\vv) = c\\vu + c\\vv$.\n",
    "-   $c(d\\vu) = (cd)\\vu$.\n",
    "-   There exists an element $1 \\cdot \\vu = \\vu$.\n",
    "\n",
    "A set (that is, a collection of elements) that satisfies these axioms is\n",
    "called a vector space, and its elements are called vectors. You can\n",
    "imagine various vector spaces, the vectors only have to satisfy the\n",
    "axioms."
   ]
  },
  {
   "cell_type": "markdown",
   "metadata": {},
   "source": [
    "### 5.1.3 Special Vectors\n",
    "\n",
    "There are some special vectors important to know in linear algebra and\n",
    "data science.\n",
    "\n",
    "#### Row and Columns Vectors\n",
    "\n",
    "You can distinguish vectors according to their shape. Numbers are\n",
    "organized as a column in *column vectors*, as in the following vector\n",
    "$\\vu$ :\n",
    "\n",
    "$$\n",
    "\\vu = \\begin{bmatrix}\n",
    "2 \\\\\\\\\n",
    "1\n",
    "\\end{bmatrix}\n",
    "$$\n",
    "\n",
    "They are organized as a row in *row vectors*, as in the following vector\n",
    "$\\vv$:\n",
    "\n",
    "$$\n",
    "\\vv = \\begin{bmatrix}\n",
    "2 & 1\n",
    "\\end{bmatrix}\n",
    "$$\n",
    "\n",
    "And what about this difference in Numpy’s vectors? Let’s create a vector\n",
    "with Numpy:"
   ]
  },
  {
   "cell_type": "code",
   "execution_count": 3,
   "metadata": {
    "execution": {
     "iopub.execute_input": "2021-03-23T10:39:08.478287Z",
     "iopub.status.busy": "2021-03-23T10:39:08.477638Z",
     "iopub.status.idle": "2021-03-23T10:39:08.480056Z",
     "shell.execute_reply": "2021-03-23T10:39:08.480487Z"
    }
   },
   "outputs": [
    {
     "data": {
      "text/plain": [
       "array([1, 2, 3])"
      ]
     },
     "execution_count": 1,
     "metadata": {},
     "output_type": "execute_result"
    }
   ],
   "source": [
    "v_row = np.array([1, 2, 3])\n",
    "v_row"
   ]
  },
  {
   "cell_type": "markdown",
   "metadata": {},
   "source": [
    "You can use the property `shape` to check the shape of the array:"
   ]
  },
  {
   "cell_type": "code",
   "execution_count": 4,
   "metadata": {
    "execution": {
     "iopub.execute_input": "2021-03-23T10:39:08.484437Z",
     "iopub.status.busy": "2021-03-23T10:39:08.483765Z",
     "iopub.status.idle": "2021-03-23T10:39:08.486174Z",
     "shell.execute_reply": "2021-03-23T10:39:08.486596Z"
    }
   },
   "outputs": [
    {
     "data": {
      "text/plain": [
       "(3,)"
      ]
     },
     "execution_count": 1,
     "metadata": {},
     "output_type": "execute_result"
    }
   ],
   "source": [
    "v_row.shape"
   ]
  },
  {
    "cell_type": "markdown",
   "metadata": {},
   "source": [
    "You can see that there is only one dimension (the shape has one number).\n",
    "This is because Numpy doesn’t distinguish between row and column\n",
    "vectors. To make this distinction, you need to create a matrix with one\n",
    "column or one row (as you’ll see in\n",
    "Section 6).\n",
    "\n",
    "#### Unit Vectors\n",
    "\n",
    "*Unit vectors* are vectors with a length of one. You’ll see the concept\n",
    "of vector length in Section 5.3.\n",
    "\n",
    "#### Zero Vectors\n",
    "\n",
    "A *zero vector* is a vector such that adding it to another vector\n",
    "doesn’t change this vector.\n",
    "\n",
    "#### Orthogonal Vectors\n",
    "\n",
    "Two vectors are called *orthogonal* when they run in perpendicular\n",
    "directions. You can see a geometric example of two orthogonal vectors in\n",
    "Figure [78](#fig:ch06_orthogonal_vectors).\n",
    "\n",
    "<img src=\"images/ch06_orthogonal_vectors.png\" id=\"fig:ch06_orthogonal_vectors\" width=\"150\" alt=\"Figure 78: Two orthogonal vectors.\" />\n",
    "Figure 78: Two orthogonal vectors.\n",
    "\n",
    "If the length of both orthogonal vectors is one (that is, if they are\n",
    "unit vectors), then they are called *orthonormal*.\n",
    "\n",
    "5.2 Operations and Manipulations on Vectors\n",
    "-------------------------------------------\n",
    "\n",
    "Addition and scalar multiplication are the two major operations in\n",
    "linear algebra."
   ]
  },
  {
    "cell_type": "markdown",
   "metadata": {},
   "source": [
    "### 5.2.1 Scalar Multiplication\n",
    "\n",
    "Scalar multiplication is the operation of multiplying a vector with a\n",
    "scalar. When multiplied by a scalar, a vector gives another vector,\n",
    "which is a *scaled* version of the initial vector. It rescales the\n",
    "vector.\n",
    "\n",
    "#### Example\n",
    "\n",
    "Let’s have the following vector $\\vv$:\n",
    "\n",
    "$$\n",
    "\\vv=\n",
    "\\begin{bmatrix}\n",
    "2 \\\\\\\\\n",
    "1\n",
    "\\end{bmatrix}\n",
    "$$\n",
    "\n",
    "<img src=\"images/ch06_geometric_vector_multiplication_scalar.png\" id=\"fig:ch06_geometric_vector_multiplication_scalar\" width=\"250\" alt=\"Figure 79: Multiplication of the vector \\vv by scalars (1.3 in red and -0.5 in green).\" />\n",
    "Figure 79: Multiplication of the vector <span class=\"math inline\">$\\vv$</span> by scalars (1.3 in red and -0.5 in green).\n",
    "\n",
    "The vector $\\vv$ is represented in Figure\n",
    "[79](#fig:ch06_geometric_vector_multiplication_scalar) (in blue) with\n",
    "two rescaled versions (multiplied by 1.3 and -0.5). You can also see\n",
    "that the scalar multiplication is done by multiplying each component of\n",
    "the vector by the scalar:\n",
    "\n",
    "$$\n",
    "1.3\\vv =\n",
    "1.3\\begin{bmatrix}\n",
    "2 \\\\\\\\\n",
    "1\n",
    "\\end{bmatrix} =\n",
    "\\begin{bmatrix}\n",
    "1.3 \\cdot 2 \\\\\\\\\n",
    "1.3 \\cdot 1\n",
    "\\end{bmatrix}\n",
    "=\n",
    "\\begin{bmatrix}\n",
    "2.6 \\\\\\\\\n",
    "1.3\n",
    "\\end{bmatrix}\n",
    "$$\n",
    "\n",
    "You can do it using Numpy:"
   ]
  },
  {
   "cell_type": "code",
   "execution_count": 5,
   "metadata": {
    "execution": {
     "iopub.execute_input": "2021-03-23T10:39:08.490312Z",
     "iopub.status.busy": "2021-03-23T10:39:08.489719Z",
     "iopub.status.idle": "2021-03-23T10:39:08.492107Z",
     "shell.execute_reply": "2021-03-23T10:39:08.492528Z"
    }
   },
   "outputs": [
    {
     "data": {
      "text/plain": [
       "array([2, 1])"
      ]
     },
     "execution_count": 1,
     "metadata": {},
     "output_type": "execute_result"
    }
   ],
   "source": [
    "v = np.array([2, 1])\n",
    "v"
   ]
  },
  {
   "cell_type": "code",
   "execution_count": 6,
   "metadata": {
    "execution": {
     "iopub.execute_input": "2021-03-23T10:39:08.496094Z",
     "iopub.status.busy": "2021-03-23T10:39:08.495418Z",
     "iopub.status.idle": "2021-03-23T10:39:08.497664Z",
     "shell.execute_reply": "2021-03-23T10:39:08.498036Z"
    }
   },
   "outputs": [
    {
     "data": {
      "text/plain": [
       "array([2.6, 1.3])"
      ]
     },
     "execution_count": 1,
     "metadata": {},
     "output_type": "execute_result"
    }
   ],
   "source": [
    "1.3 * v"
   ]
  },
  {
   "cell_type": "markdown",
   "metadata": {},
   "source": [
    "Numpy implements what is called *vectorized operations*, meaning that\n",
    "under the hood, it uses compiled C code, making the computations way\n",
    "faster than for loops. (you can for instance read\n",
    "https://www.pythonlikeyoumeanit.com/Module3_IntroducingNumpy/VectorizedOperations.html\\#Vectorized-Operations)"
   ]
  },
  {
    "cell_type": "markdown",
   "metadata": {},
   "source": [
    "### 5.2.2 Vector Addition\n",
    "\n",
    "When you add two vectors, you get a third vector. Consider the two\n",
    "vectors $\\vu$ and $\\vv$ illustrated in Figure\n",
    "[80](#fig:ch06_vector_addition_steps).\n",
    "\n",
    "<img src=\"images/ch06_vector_addition_steps.png\" id=\"fig:ch06_vector_addition_steps\" width=\"250\" alt=\"Figure 80: Adding the vectors \\vu and \\vv gives a new vector.\" />\n",
    "Figure 80: Adding the vectors <span class=\"math inline\">$\\vu$</span> and <span class=\"math inline\">$\\vv$</span> gives a new vector.\n",
    "\n",
    "If you take $\\vv$ and put it at the end of $\\vu$ as represented with the\n",
    "dotted green line, you get the sum of the two vectors (the other way\n",
    "works as well: $\\vu + \\vv = \\vv + \\vu$).\n",
    "\n",
    "Let’s consider the coordinates of these geometric vectors. The vectors\n",
    "$\\vu$ and $\\vv$ are defined as follows:\n",
    "\n",
    "$$\n",
    "\\vu = \\begin{bmatrix}\n",
    "2 \\\\\\\\\n",
    "1\n",
    "\\end{bmatrix}\n",
    "$$\n",
    "\n",
    "and\n",
    "\n",
    "$$\n",
    "\\vv = \\begin{bmatrix}\n",
    "2 \\\\\\\\\n",
    "0\n",
    "\\end{bmatrix}\n",
    "$$\n",
    "\n",
    "You can sum these vectors by adding their respective coordinates:\n",
    "\n",
    "$$\n",
    "\\vu + \\vv = \\begin{bmatrix}\n",
    "2 \\\\\\\\\n",
    "1\n",
    "\\end{bmatrix} +\n",
    "\\begin{bmatrix}\n",
    "2 \\\\\\\\\n",
    "0\n",
    "\\end{bmatrix} = \n",
    "\\begin{bmatrix}\n",
    "2 + 2 \\\\\\\\\n",
    "1 + 0\n",
    "\\end{bmatrix}\n",
    "= \\begin{bmatrix}\n",
    "4 \\\\\\\\\n",
    "1\n",
    "\\end{bmatrix}\n",
    "$$\n",
    "\n",
    "Let’s do this vector addition with Numpy:"
   ]
  },
  {
   "cell_type": "code",
   "execution_count": 7,
   "metadata": {
    "execution": {
     "iopub.execute_input": "2021-03-23T10:39:08.502243Z",
     "iopub.status.busy": "2021-03-23T10:39:08.501626Z",
     "iopub.status.idle": "2021-03-23T10:39:08.503850Z",
     "shell.execute_reply": "2021-03-23T10:39:08.504330Z"
    }
   },
   "outputs": [
    {
     "data": {
      "text/plain": [
       "array([4, 1])"
      ]
     },
     "execution_count": 1,
     "metadata": {},
     "output_type": "execute_result"
    }
   ],
   "source": [
    "v1 = np.array([2, 1])\n",
    "v2 = np.array([2, 0])\n",
    "v1 + v2"
   ]
  },
  {
   "cell_type": "markdown",
   "metadata": {},
   "source": [
    "### 5.2.3 Transposition\n",
    "\n",
    "The *transposition* of a vector transforms a row vector into a column\n",
    "vector and vice versa. It is denoted as the superscript letter\n",
    "$\\text{T}$. For instance, $\\vv^{\\text{T}}$ corresponds to the transpose\n",
    "of the vector $\\vv$:\n",
    "\n",
    "$$\n",
    "\\begin{bmatrix}\n",
    "x \\\\\\\\\n",
    "y\n",
    "\\end{bmatrix}^\\text{T}\n",
    "=\n",
    "\\begin{bmatrix}\n",
    "x & y\n",
    "\\end{bmatrix}\n",
    "$$\n",
    "\n",
    "and\n",
    "\n",
    "$$\n",
    "\\begin{bmatrix}\n",
    "x & y\n",
    "\\end{bmatrix}^\\text{T}\n",
    "=\n",
    "\\begin{bmatrix}\n",
    "x \\\\\\\\\n",
    "y\n",
    "\\end{bmatrix}\n",
    "$$\n",
    "\n",
    "With Numpy, the transpose of a vector is given by the simple letter `T`.\n",
    "However, since Numpy doesn’t discriminate between row and column\n",
    "vectors, transposition will have no effect on one-dimensional arrays\n",
    "(but, as you’ll see, it is useful with matrices):\n",
    "\n",
    "5.3 Norms\n",
    "---------\n",
    "\n",
    "A *norm* is a function that takes a vector and returns a single number\n",
    "and which satisfies the rules you’ll see in this section. You can think\n",
    "of the norm of a vector as its length. It is denoted with double\n",
    "vertical bars:\n",
    "\n",
    "$$\n",
    "\\norm{\\vu}\n",
    "$$\n",
    "\n",
    "Don’t confuse the norm notation with the absolute values notation which\n",
    "uses single vertical bars ($\\left| a \\right|$). (the similarity between\n",
    "these symbols comes from the fact that the absolute value can be\n",
    "considered as an special case of norm:\n",
    "https://math.stackexchange.com/a/16167/484100)\n",
    "\n",
    "It is common to use norms to evaluate the distance between two vectors\n",
    "$\\vu$ and $\\vv$. You calculate the differences between them\n",
    "($\\vw = \\vu - \\vv$) and calculate the norm of the new vector $\\vw$. For\n",
    "this reason, norms are crucial in machine learning and deep learning.\n",
    "More specifically it is used in:\n",
    "\n",
    "-   Cost function: you can use the norm of a vector containing error\n",
    "    values (for instance differences between true values and estimated\n",
    "    values).\n",
    "-   Regularization: as you’ll see in\n",
    "    Section 5.5, you can\n",
    "    use the norm of the vector containing the model parameters as a way\n",
    "    to estimate how large they are. Adding this term to the cost\n",
    "    function helps avoiding large parameter values, which is known to\n",
    "    reduce overfitting."
   ]
  },
  {
    "cell_type": "markdown",
   "metadata": {},
   "source": [
    "### 5.3.1 Definitions\n",
    "\n",
    "There are various ways to calculate the length of a vector, and thus,\n",
    "multiple kinds of norms. You can call a mathematical entity a norm only\n",
    "if it satisfies the following rules:\n",
    "\n",
    "1.  Non-negativity: norms must be non-negative. If you interpret the\n",
    "    norm of a vector as its length, you can see that there is no such\n",
    "    things as negative length.\n",
    "2.  Zero-vector norm: the norm of vector is zero if and only if the\n",
    "    vector is a zero-vector (vectors that don’t modify other vectors\n",
    "    when added to them, as you saw in\n",
    "    Section 5.1.3.3).\n",
    "3.  Scalar multiplication: the norm of a vector multiplied by a scalar\n",
    "    corresponds to the absolute value of this scalar multiplied by the\n",
    "    norm of the vector. For instance, with the scalar $k$ and the vector\n",
    "    $\\vu$, you have\n",
    "    $\\norm{k \\cdot \\vu} = \\left| k \\right| \\cdot \\norm{\\vu}$.\n",
    "4.  Triangle inequality: the norm of the sum of two vectors is less than\n",
    "    or equal to the sum of their norms. You can write this\n",
    "    mathematically as follows:\n",
    "\n",
    "$$\n",
    "\\norm{\\vu + \\vv} \\leq \\norm{\\vu} + \\norm{\\vv}\n",
    "$$\n",
    "\n",
    "As shown graphically in Figure [81](#fig:ch06_triangle_inequality),\n",
    "triangle inequality simply means that the shortest path between two\n",
    "points is a line.\n",
    "\n",
    "<img src=\"images/ch06_triangle_inequality.png\" id=\"fig:ch06_triangle_inequality\" width=\"300\" alt=\"Figure 81: Illustration of the triangle inequality.\" />\n",
    "Figure 81: Illustration of the triangle inequality."
   ]
  },
  {
   "cell_type": "markdown",
   "metadata": {},
   "source": [
    "### 5.3.2 Common Vector Norms\n",
    "\n",
    "In machine learning and deep learning, it is important to be able to\n",
    "compare vectors. Norms provide a way to do that and is used as a metric\n",
    "quantifying the difference between them. The kind of norm that you use\n",
    "change how these differences are weighted in the metric (for instance,\n",
    "if you consider the large differences as much as the small ones).\n",
    "\n",
    "As you’ll see, many norms fall into the category of *p-norms*, which are\n",
    "calculated as the sum of the absolute value of each component raised to\n",
    "the power of $p$. The result of this sum is then raised to the power of\n",
    "$\\frac{1}{p}$. It may be easier to read the mathematical formula:\n",
    "\n",
    "$$\n",
    "\\norm{\\vx}_p= \\left(\\sum_{i=1}^m \\left| \\evx_i \\right|^p \\right)^{\\frac{1}{p}}\n",
    "$$\n",
    "\n",
    "with $\\vx$ a vector, $m$ its number of components, $i$ the index of the\n",
    "current vector component.\n",
    "\n",
    "Different values of $p$ give different norms. Let’s see the more common.\n",
    "\n",
    "#### $L^2$ Norm\n",
    "\n",
    "The *$L^2$ norm* is extensively used in machine learning and deep\n",
    "learning. It is also called *weight decay* in the context of\n",
    "regularization of deep neural networks.\n",
    "\n",
    "The vector length measured with the $L^2$ norm corresponds to an\n",
    "*Euclidean distance*, that is, the physical distance in the real world,\n",
    "which is a consequence of the Pythagorean theorem. The formula is as\n",
    "follows:\n",
    "\n",
    "$$\n",
    "\\begin{aligned}\n",
    "\\norm{\\vx}_2 &= \\left(\\sum_{i=1}^m \\left| \\evx_i \\right|^2 \\right)^{\\frac{1}{2}}\n",
    "= \\sqrt{\\sum_{i=1}^m \\left| \\evx_i \\right|^2}\n",
    "= \\sqrt{\\sum_{i=1}^m\\evx_i^2}\n",
    "\\end{aligned}\n",
    "$$\n",
    "\n",
    "with $\\vx$ the vector, $m$ its number of components, and $i$ the index\n",
    "of current component. Note that you don’t need to take the absolute\n",
    "value of coordinates since they are raised to the power of two.\n",
    "\n",
    "You can use the function `np.linalg.norm` from Numpy with the parameter\n",
    "`ord` set to 2 to calculate the $L^2$ norm:"
   ]
  },
  {
   "cell_type": "code",
   "execution_count": 8,
   "metadata": {
    "execution": {
     "iopub.execute_input": "2021-03-23T10:39:08.508315Z",
     "iopub.status.busy": "2021-03-23T10:39:08.507632Z",
     "iopub.status.idle": "2021-03-23T10:39:08.509946Z",
     "shell.execute_reply": "2021-03-23T10:39:08.510369Z"
    }
   },
   "outputs": [
    {
     "data": {
      "text/plain": [
       "2.23606797749979"
      ]
     },
     "execution_count": 1,
     "metadata": {},
     "output_type": "execute_result"
    }
   ],
   "source": [
    "u = np.array([2, 1])\n",
    "np.linalg.norm(u, ord=2)"
   ]
  },
  {
    "cell_type": "markdown",
   "metadata": {},
   "source": [
    "#### Squared L2 Norm\n",
    "\n",
    "For computation reasons, the squared $L^2$ norm can be preferred over\n",
    "the $L^2$ norm. For instance, in the context of minimizing a cost\n",
    "function, squaring the function doesn’t change its minimum. Squaring the\n",
    "$L^2$ norm allows you to get rid of the square root in the formula.\n",
    "\n",
    "$$\n",
    "\\begin{aligned}\n",
    "\\norm{\\vx}_2^2 &= \\left(\\sqrt{\\sum_{i=1}^m\\evx_i^2} \\right)^2\n",
    "= \\sum_{i=1}^m\\evx_i^2\n",
    "\\end{aligned}\n",
    "$$\n",
    "\n",
    "The resulting norm function is the sum of the squared vector components.\n",
    "\n",
    "In addition, as you’ll see in\n",
    "Section 5.4 the squared $L^2$\n",
    "norm can be calculated using the dot product, which is computationally\n",
    "advantageous.\n",
    "\n",
    "The Mean Squared Error (MSE; as you used in\n",
    "Section 1.3.1) resembles the squared\n",
    "$L^2$ norm. The difference is that you take the average of the squared\n",
    "errors with the MSE and the sum of the squared errors with the squared\n",
    "$L^2$ norm.\n",
    "\n",
    "With neural networks, you calculate the cost and its derivative (as you\n",
    "saw in Section 1.3), so it is\n",
    "advantageous to use cost functions that are easily calculated and simple\n",
    "to differentiate from a computing perspective. The squared $L^2$ norm\n",
    "can be easily vectorized, which is highly desirable since it permits\n",
    "faster computations and parallelizations. At the hardware level,\n",
    "vectorized code can be optimized and computations can be ran in parallel\n",
    "(here is more details about why vectorized code is faster:\n",
    "https://stackoverflow.com/questions/35091979/why-is-vectorization-faster-in-general-than-loops)\n",
    ".\n",
    "\n",
    "#### $L^1$ Norm\n",
    "\n",
    "The *$L^1$ norm* is a function returning the sum of the absolute value\n",
    "of the components:\n",
    "\n",
    "$$\n",
    "\\begin{aligned}\n",
    "\\norm{\\vx}_1 &= \\left(\\sum_{i=1}^m \\left| \\evx_i \\right| ^1 \\right)^{\\frac{1}{1}}\n",
    "= \\sum_{i=1}^m \\left| \\evx_i \\right|\n",
    "\\end{aligned}\n",
    "$$\n",
    "\n",
    "with $\\vx$ the vector, $m$ its number of components, and $i$ the index\n",
    "of the current component.\n",
    "\n",
    "The $L^1$ norm is also called the *Manhattan distance* or the *taxicab\n",
    "distance* because of the displacement of a taxi in a street grid, like\n",
    "in Manhattan.\n",
    "\n",
    "As illustrated in Figure [82](#fig:ch06_taxi_cab), a taxi driver going\n",
    "from A to B would prefer to take the yellow diagonal path if she could.\n",
    "It is because the $L^2$ norm represents the physical world. This is\n",
    "different with the $L^1$ norm: the three paths have the same length. For\n",
    "instance, the $L^1$ length of the diagonal vector is 6 (because it is\n",
    "the sum of its $x$ and $y$ component: $3+3=6$), which is identical to\n",
    "the other paths.\n",
    "\n",
    "<img src=\"images/ch06_taxi_cab.png\" id=\"fig:ch06_taxi_cab\" width=\"250\" alt=\"Figure 82: With the Manhattan distance, each path has the same length.\" />\n",
    "Figure 82: With the Manhattan distance, each path has the same length.\n",
    "\n",
    "The $L^1$ norm of $\\vu$ can be calculated with Numpy as follows:"
   ]
  },
  {
   "cell_type": "code",
   "execution_count": 9,
   "metadata": {
    "execution": {
     "iopub.execute_input": "2021-03-23T10:39:08.514018Z",
     "iopub.status.busy": "2021-03-23T10:39:08.513445Z",
     "iopub.status.idle": "2021-03-23T10:39:08.515933Z",
     "shell.execute_reply": "2021-03-23T10:39:08.516374Z"
    }
   },
   "outputs": [
    {
     "data": {
      "text/plain": [
       "3.0"
      ]
     },
     "execution_count": 1,
     "metadata": {},
     "output_type": "execute_result"
    }
   ],
   "source": [
    "np.linalg.norm(u, ord=1)"
   ]
  },
  {
   "cell_type": "markdown",
   "metadata": {},
   "source": [
    "#### Max Norm\n",
    "\n",
    "The $L^\\infty$, or *max norm* (also called the *Chebyshev norm*) is a\n",
    "function returning the largest component of the vector.\n",
    "\n",
    "Max norms are typically used as a constraint on the weights of neural\n",
    "networks (for instance in association with dropout: Srivastava, Nitish,\n",
    "et al. “Dropout: a simple way to prevent neural networks from\n",
    "overfitting.” The journal of machine learning research 15.1 (2014):\n",
    "1929-1958.) . Weight constraints differs from weight penalties: with\n",
    "weight penalties, a regularization term is added to the cost function,\n",
    "while with weight constraints, the weights are forced to be lower than a\n",
    "threshold. (weight constraints allows you to use large learning rates.\n",
    "See for instance, Hinton, Geoffrey E., et al. “Improving neural networks\n",
    "by preventing co-adaptation of feature detectors.” arXiv preprint\n",
    "arXiv:1207.0580 (2012).)\n",
    "\n",
    "This norm is mathematically denoted as:\n",
    "\n",
    "$$\n",
    "\\norm{\\vx}_\\infty = \\max\\limits_i \\left| \\evx_i \\right|\n",
    "$$\n",
    "\n",
    "It can be calculated with Numpy:"
   ]
  },
  {
   "cell_type": "code",
   "execution_count": 10,
   "metadata": {
    "execution": {
     "iopub.execute_input": "2021-03-23T10:39:08.520603Z",
     "iopub.status.busy": "2021-03-23T10:39:08.519938Z",
     "iopub.status.idle": "2021-03-23T10:39:08.523157Z",
     "shell.execute_reply": "2021-03-23T10:39:08.523673Z"
    }
   },
   "outputs": [
    {
     "data": {
      "text/plain": [
       "230.0"
      ]
     },
     "execution_count": 1,
     "metadata": {},
     "output_type": "execute_result"
    }
   ],
   "source": [
    "u = np.array([1, 0, 0, -1.532, 230, 0.23, 1.7])\n",
    "np.linalg.norm(u, ord=np.inf)"
   ]
  },
  {
    "cell_type": "markdown",
   "metadata": {},
   "source": [
    "### 5.3.3 Norm Representations\n",
    "\n",
    "You can visualize the differences between norms by looking at the *unit\n",
    "circle*. The unit circle is a representation of all the unit vectors\n",
    "(the vectors with a norm equals to 1). So, the unit circle is a shape\n",
    "where every point has a distance of one from the center. According to\n",
    "the kind of distance you use ($L^1$, $L^2$, or max norm), this shape is\n",
    "different.\n",
    "\n",
    "<img src=\"images/ch06_unit_circle_all.png\" id=\"fig:ch06_unit_circle_all\" width=\"300\" alt=\"Figure 83: Comparison of the unit shapes corresponding to the L^1, L^2 and max norm.\" />\n",
    "Figure 83: Comparison of the unit shapes corresponding to the <span class=\"math inline\"><em>L</em><sup>1</sup></span>, <span class=\"math inline\"><em>L</em><sup>2</sup></span> and max norm.\n",
    "\n",
    "Figure [83](#fig:ch06_unit_circle_all) shows that different norms gives\n",
    "you different unit shapes: a diamond shape for the $L^1$ norm, a circle\n",
    "for the $L^2$ norm and a square for the max norm. When used as\n",
    "regularization, these shapes have an effect on how the weights are\n",
    "penalized.\n",
    "\n",
    "For instance, the corners of the diamond correspond to the case where\n",
    "one of the vector component equals zero, which leads to the model\n",
    "sparsity associated with the $L^1$ norm (you’ll see more about this in\n",
    "Section 5.5). The circle\n",
    "corresponding to the $L^2$ norm is what you expect in the physical\n",
    "world: every point on a circle has the same distance from the center.\n",
    "For the max norm, the maximum of the two components is one for each\n",
    "point on the unit shape.\n",
    "\n",
    "5.4 The Dot Product\n",
    "-------------------\n",
    "\n",
    "The *dot product* (referring to the dot symbol used to characterize this\n",
    "operation), also called *scalar product*, is an operation done on\n",
    "vectors. It takes two vectors, but unlike addition and scalar\n",
    "multiplication, it returns a single number (a scalar, hence the name).\n",
    "It is an example of a more general operation called the *inner product*.\n",
    "\n",
    "<figure>\n",
    "<img src=\"images/ch06_dot_product_vectors.png\" id=\"fig:ch06_dot_product_vectors\" width=\"300\" alt=\"Figure 84: Illustration of the dot product.\" /><figcaption aria-hidden=\"true\">Figure 84: Illustration of the dot product.</figcaption>\n",
    "</figure>\n",
    "\n",
    "Figure [84](#fig:ch06_dot_product_vectors) shows an illustration of how\n",
    "the dot product works. You can see that it corresponds to the sum of the\n",
    "multiplication of the components with the same index."
   ]
  },
  {
   "cell_type": "markdown",
   "metadata": {},
   "source": [
    "### 5.4.1 Definition\n",
    "\n",
    "The dot product between two vectors $\\vu$ and $\\vv$, denoted by the\n",
    "symbol $\\cdot$, is defined as the sum of the product of each pair of\n",
    "components. More formally, it is expressed as:\n",
    "\n",
    "$$\n",
    "\\vu \\cdot \\vv = \\sum_{i=1}^m \\evu_i\\evv_i\n",
    "$$\n",
    "\n",
    "with $m$ the number of components of the vectors $\\vu$ and $\\vv$ (they\n",
    "must have the same number of components), and $i$ the index of the\n",
    "current vector component.\n",
    "\n",
    "Note that the symbol of the dot product is the same as the dot used to\n",
    "refer to multiplication between scalars. The context (if the elements\n",
    "are scalars or vectors) tells you which one it is.\n",
    "\n",
    "Let’s take an example. You have the following vectors:\n",
    "\n",
    "$$\n",
    "\\vu =\n",
    "\\begin{bmatrix}\n",
    "2 \\\\\\\\\n",
    "4 \\\\\\\\\n",
    "7\n",
    "\\end{bmatrix}\n",
    "$$\n",
    "\n",
    "and\n",
    "\n",
    "$$\n",
    "\\vv =\n",
    "\\begin{bmatrix}\n",
    "5 \\\\\\\\\n",
    "1 \\\\\\\\\n",
    "3\n",
    "\\end{bmatrix}\n",
    "$$\n",
    "\n",
    "The dot product of these two vectors is defined as:\n",
    "\n",
    "$$\n",
    "\\vu \\cdot \\vv =\n",
    "\\begin{bmatrix}\n",
    "2 \\\\\\\\\n",
    "4 \\\\\\\\\n",
    "7\n",
    "\\end{bmatrix}\n",
    "\\cdot\n",
    "\\begin{bmatrix}\n",
    "5 \\\\\\\\\n",
    "1 \\\\\\\\\n",
    "3\n",
    "\\end{bmatrix} =\n",
    "2 \\times 5 + 4 \\times 1 + 7 \\times 3 = 35\n",
    "$$\n",
    "\n",
    "The dot product between $\\vu$ and $\\vv$ is 35. It converts the two\n",
    "vectors $\\vu$ and $\\vv$ into a scalar.\n",
    "\n",
    "Let’s use Numpy to calculate the dot product of these vectors. You can\n",
    "use the method `dot()` of Numpy arrays:"
   ]
  },
  {
   "cell_type": "code",
   "execution_count": 11,
   "metadata": {
    "execution": {
     "iopub.execute_input": "2021-03-23T10:39:08.527893Z",
     "iopub.status.busy": "2021-03-23T10:39:08.527215Z",
     "iopub.status.idle": "2021-03-23T10:39:08.529613Z",
     "shell.execute_reply": "2021-03-23T10:39:08.530040Z"
    }
   },
   "outputs": [
    {
     "data": {
      "text/plain": [
       "35"
      ]
     },
     "execution_count": 1,
     "metadata": {},
     "output_type": "execute_result"
    }
   ],
   "source": [
    "u = np.array([2, 4, 7])\n",
    "v = np.array([5, 1, 3])\n",
    "u.dot(v)"
   ]
  },
  {
   "cell_type": "markdown",
   "metadata": {},
   "source": [
    "It is also possible to use the following equivalent syntax:"
   ]
  },
  {
   "cell_type": "code",
   "execution_count": 12,
   "metadata": {
    "execution": {
     "iopub.execute_input": "2021-03-23T10:39:08.533789Z",
     "iopub.status.busy": "2021-03-23T10:39:08.533170Z",
     "iopub.status.idle": "2021-03-23T10:39:08.535508Z",
     "shell.execute_reply": "2021-03-23T10:39:08.535934Z"
    }
   },
   "outputs": [
    {
     "data": {
      "text/plain": [
       "35"
      ]
     },
     "execution_count": 1,
     "metadata": {},
     "output_type": "execute_result"
    }
   ],
   "source": [
    "np.dot(u, v)"
   ]
  },
  {
   "cell_type": "markdown",
   "metadata": {},
   "source": [
    "Or, with Python 3.5+, it is also possible to use the `@` operator:"
   ]
  },
  {
   "cell_type": "code",
   "execution_count": 13,
   "metadata": {
    "execution": {
     "iopub.execute_input": "2021-03-23T10:39:08.540034Z",
     "iopub.status.busy": "2021-03-23T10:39:08.539229Z",
     "iopub.status.idle": "2021-03-23T10:39:08.542305Z",
     "shell.execute_reply": "2021-03-23T10:39:08.541888Z"
    }
   },
   "outputs": [
    {
     "data": {
      "text/plain": [
       "35"
      ]
     },
     "execution_count": 1,
     "metadata": {},
     "output_type": "execute_result"
    }
   ],
   "source": [
    "u @ v"
   ]
  },
  {
   "cell_type": "markdown",
   "metadata": {},
   "source": [
    "Note that the dot product is different from the *element-wise*\n",
    "multiplication, also called the *Hadamard product*, which returns\n",
    "another vector. The symbol $\\odot$ is generally used to characterize\n",
    "this operation. For instance:\n",
    "\n",
    "$$\n",
    "\\vu \\odot \\vv =\n",
    "\\begin{bmatrix}\n",
    "2 \\\\\\\\\n",
    "4 \\\\\\\\\n",
    "7\n",
    "\\end{bmatrix}\n",
    "\\odot\n",
    "\\begin{bmatrix}\n",
    "5 \\\\\\\\\n",
    "1 \\\\\\\\\n",
    "3\n",
    "\\end{bmatrix} =\n",
    "\\begin{bmatrix}\n",
    "2 \\cdot 5 \\\\\\\\\n",
    "4 \\cdot 1 \\\\\\\\\n",
    "7 \\cdot 3\n",
    "\\end{bmatrix} =\n",
    "\\begin{bmatrix}\n",
    "10 \\\\\\\\\n",
    "4 \\\\\\\\\n",
    "21\n",
    "\\end{bmatrix}\n",
    "$$\n",
    "\n",
    "#### Dot Product and Vector Length\n",
    "\n",
    "The squared $L^2$ norm can be calculated using the dot product of the\n",
    "vector with itself ($\\vu \\cdot \\vu$):\n",
    "\n",
    "$$\n",
    "\\norm{\\vu}_2^2 = \\vu \\cdot \\vu\n",
    "$$\n",
    "\n",
    "This is an important property in machine learning, as you saw in\n",
    "Section 5.3.2.2.\n",
    "\n",
    "#### Special Cases\n",
    "\n",
    "The dot product between two orthogonal vectors is equal to 0. In\n",
    "addition, the dot product between a unit vector and itself is equal to\n",
    "1."
   ]
  },
  {
    "cell_type": "markdown",
   "metadata": {},
   "source": [
    "### 5.4.2 Geometric interpretation: Projections\n",
    "\n",
    "How can you interpret the dot product operation with geometric vectors?\n",
    "You have seen in\n",
    "Section 5.2 the\n",
    "geometric interpretation of the addition and scalar multiplication of\n",
    "vectors, but what about the dot product?\n",
    "\n",
    "Let’s take the two following vectors:\n",
    "\n",
    "$$\n",
    "\\vu =\n",
    "\\begin{bmatrix}\n",
    "1 \\\\\\\\\n",
    "2\n",
    "\\end{bmatrix}\n",
    "$$\n",
    "\n",
    "and\n",
    "\n",
    "$$\n",
    "\\vv =\n",
    "\\begin{bmatrix}\n",
    "2 \\\\\\\\\n",
    "2\n",
    "\\end{bmatrix}\n",
    "$$\n",
    "\n",
    "First, let’s calculate the dot product of $\\vu$ and $\\vv$:\n",
    "\n",
    "$$\n",
    "\\vu \\cdot \\vv = \\begin{bmatrix}\n",
    "1 \\\\\\\\\n",
    "2\n",
    "\\end{bmatrix}\n",
    "\\cdot\n",
    "\\begin{bmatrix}\n",
    "2 \\\\\\\\\n",
    "2\n",
    "\\end{bmatrix}\n",
    "= 2 \\cdot 1 + 2 \\cdot 2 = 6\n",
    "$$\n",
    "\n",
    "What is the meaning of this scalar? Well, it is related to the idea of\n",
    "projecting $\\vu$ onto $\\vv$.\n",
    "\n",
    "<img src=\"images/ch06_dot_product_vectors_geo.png\" id=\"fig:ch06_dot_product_vectors_geo\" width=\"200\" alt=\"Figure 85: The dot product can be seen as the length of \\vv multiplied by the length of the projection (the vector \\vu_{\\text{proj}}).\" />\n",
    "Figure 85: The dot product can be seen as the length of <span class=\"math inline\">$\\vv$</span> multiplied by the length of the projection (the vector <span class=\"math inline\">$\\vu_{\\text{proj}}$</span>).\n",
    "\n",
    "As shown in Figure [85](#fig:ch06_dot_product_vectors_geo), the\n",
    "projection of $\\vu$ on the line with the direction of $\\vv$ is like the\n",
    "shadow of the vector $\\vu$ on this line. The value of the dot product (6\n",
    "in our example) corresponds to the multiplication of the length of $\\vv$\n",
    "(the $L^2$ norm $\\norm{\\vv}$) and the length of the projection of $\\vu$\n",
    "on $\\vv$ (the $L^2$ norm $\\norm{\\vu_{\\text{proj}}}$). You want to\n",
    "calculate:\n",
    "\n",
    "$$\n",
    "\\norm{\\vu_{\\text{proj}}}_2 \\cdot \\norm{\\vv}_2 \\phantom{s}\n",
    "$$\n",
    "\n",
    "Note that the elements are scalars, so the dot symbol refers to a\n",
    "multiplication of these values. And you have:\n",
    "\n",
    "$$\n",
    "\\norm{\\vv}_2 = \\sqrt{2^2 + 2^2} = \\sqrt{8}\n",
    "$$\n",
    "\n",
    "The projection of $\\vu$ onto $\\vv$ is defined as follows (you can refer\n",
    "to Section 8.3.3 to see the\n",
    "mathematical details about the projection of a vector onto a line):\n",
    "\n",
    "$$\n",
    "\\vu_{\\text{proj}} = \\frac{\\vu^{\\text{T}}\\vv}{\\vv^{\\text{T}}\\vv}\\vv = \\frac{6}{8}\\vv = 0.75\\vv\n",
    "$$\n",
    "\n",
    "So the $L^2$ norm of $\\vu_{\\text{proj}}$ is the $L^2$ norm of 0.75 times\n",
    "$\\vv$:\n",
    "\n",
    "$$\n",
    "\\norm{\\vu_{\\text{proj}}}_2 = 0.75 \\norm{\\vv}_2 = 0.75 \\cdot \\sqrt{8}\n",
    "$$\n",
    "\n",
    "Finally, the multiplication of the length of $\\vv$ and the length of the\n",
    "projection is:\n",
    "\n",
    "$$\n",
    "\\norm{\\vv}_2 \\cdot \\norm{\\vu_{\\text{proj}}}_2 = 0.75 \\cdot \\sqrt{8} \\cdot \\sqrt{8} = 0.75 \\cdot 8 = 6\n",
    "$$\n",
    "\n",
    "This shows that you can think of the dot product on geometric vectors as\n",
    "a projection. Using the projection gives you the same result as with the\n",
    "dot product formula.\n",
    "\n",
    "Furthermore, the value that you obtain with the dot product tells you\n",
    "the relationship between the two vectors. If this value is positive, the\n",
    "angle between the vectors is less than 90 degrees, if it is negative,\n",
    "the angle is greater than 90 degrees, if it is zero, the vectors are\n",
    "orthogonal and the angle is 90 degrees."
   ]
  },
  {
   "cell_type": "markdown",
   "metadata": {},
   "source": [
    "### 5.4.3 Properties\n",
    "\n",
    "Let’s review some properties of the dot product.\n",
    "\n",
    "##### Distributive\n",
    "\n",
    "The dot product is *distributive*. This means that, for instance, with\n",
    "the three vectors $\\vu$, $\\vv$ and $\\vw$, you have:\n",
    "\n",
    "$$\n",
    "\\vu \\cdot (\\vv + \\vw) = \\vu \\cdot \\vv + \\vu \\cdot \\vw\n",
    "$$\n",
    "\n",
    "##### Associative\n",
    "\n",
    "The dot product is not *associative*, meaning that the order of the\n",
    "operations matters. For instance:\n",
    "\n",
    "$$\n",
    "\\vu \\cdot (\\vv \\cdot \\vw) \\neq (\\vu \\cdot \\vv) \\cdot \\vw\n",
    "$$\n",
    "\n",
    "The dot product is not a binary operator: the result of the dot product\n",
    "between two vectors is not another vector (but a scalar).\n",
    "\n",
    "##### Commutative\n",
    "\n",
    "The dot product between vectors is said to be *commutative*. This means\n",
    "that the order of the vectors around the dot product doesn’t matter. You\n",
    "have:\n",
    "\n",
    "$$\n",
    "\\vu \\cdot \\vv = \\vv \\cdot \\vu\n",
    "$$\n",
    "\n",
    "However, be careful, because this is not necessarily true for matrices.\n",
    "\n",
    "5.5 Hands-on Project: Regularization\n",
    "------------------------------------"
   ]
  },
  {
   "cell_type": "markdown",
   "metadata": {},
   "source": [
    "### 5.5.1 Introduction\n",
    "\n",
    "In machine learning and deep learning, it happens that your model\n",
    "performs well on your training data but fails to generalize to new data.\n",
    "It can be that the training data are very well described by the model\n",
    "and that even the noise or the specificities of the dataset are\n",
    "considered.\n",
    "\n",
    "This is called *overfitting*. Models that overfit have large parameter\n",
    "values (as explained in Bishop, Christopher M. Pattern recognition and\n",
    "machine learning. springer, 2006 on page 8.) . You want to avoid that\n",
    "because large parameter values means hight sensitivity of the model,\n",
    "which leads to overfitting and unstable networks (you can find more\n",
    "details here:\n",
    "https://machinelearningmastery.com/dropout-for-regularizing-deep-neural-networks.)\n",
    ".\n",
    "\n",
    "One way to reduce overfitting is to increase the size of the training\n",
    "dataset to compensate this sensitivity. Another way is to constraint the\n",
    "parameters to be small to avoid too sensitive models. It gives machine\n",
    "learning algorithms a preference for a solution that may be suboptimal\n",
    "on the training set but that generalizes better.\n",
    "\n",
    "The various strategies used to constraint model’s parameters in order to\n",
    "improve the generalization of the performances (even if this means\n",
    "decrease the performance in the training set) are called\n",
    "*regularization*.\n",
    "\n",
    "How does it work? The model learns the best parameter values according\n",
    "to the loss function. With regularization, you punish large parameter\n",
    "values by adding a extra term to the loss function. You construct this\n",
    "term to consider the values of the parameters. Large parameter values\n",
    "will increases the loss, and thus the model will try to fit the data\n",
    "while keeping the parameters small.\n",
    "\n",
    "This extra term is constructed as the norm of the vector containing all\n",
    "the parameter values. You’ll compare here two regularization methods\n",
    "using the $L^1$ norm and the $L^2$ norm.\n",
    "\n",
    "Note that there is no one best regularization strategy but that it\n",
    "depends on the problem your trying to solve. This is called the *no free\n",
    "lunch theorem*. (see Goodfellow, Ian, Yoshua Bengio, and Aaron\n",
    "Courville. Deep learning. MIT press, 2016., p.118)\n",
    "\n",
    "#### Loss Functions and Regularization\n",
    "\n",
    "Let’s first clarify the difference between the norms used in loss\n",
    "functions and in regularization. It can be confusing at first to see\n",
    "norms like $L^1$ or $L^2$ used in these two contexts.\n",
    "\n",
    "For cost functions, you calculate the norm of an “error vector”. What we\n",
    "loosely call an error vector here is a vector containing the errors of a\n",
    "model (the differences between the values estimated by the model and the\n",
    "true values). The length of this vector tells you the overall quality of\n",
    "the fit.\n",
    "\n",
    "With regularization, you calculate the norm of the “parameter vector”\n",
    "(the vector that contains all parameter values). The norm of this vector\n",
    "tells you how large the overall parameter values are.\n",
    "\n",
    "Each norm for lost function is associated with pros and cons. For\n",
    "instance, a model using the $L^1$ norm as a loss function has the\n",
    "advantage to be more robust to outliers in comparison to $L^2$, where\n",
    "the extreme values are weighted more than the low values (because of the\n",
    "squaring).\n",
    "\n",
    "#### Regularization rate\n",
    "\n",
    "You can modulate the importance of the regularization by an\n",
    "*hyperparameter* (a parameter not optimized during the training) which\n",
    "is multiplied by the regularization term. It is usually referred to as\n",
    "$\\alpha$ (a Greek letter pronounced “alpha”) and sometimes called\n",
    "*regularization parameter* or *regularization rate*.\n",
    "\n",
    "A large value of $\\alpha$ implies that the solution found by the\n",
    "algorithm will be largely influenced by the regularization term, while a\n",
    "value of $\\alpha$ equals to zero means that there is no regularization\n",
    "at all.\n",
    "\n",
    "This hands-on project assume that you have some understanding of cost\n",
    "functions, more specifically to the MSE cost function for linear\n",
    "regression (you can refer to\n",
    "Section 1.3.1).\n",
    "\n",
    "##### Regularization Using the $L^1$ Norm\n",
    "\n",
    "In the case of regularization, the $L^1$ norm tends to produce sparse\n",
    "weights (with a small number of non-zero values), meaning that some\n",
    "parameters will be weighted to zero. This can be considered as feature\n",
    "selection, as you can discard the corresponding parameters. Let’s see\n",
    "how to create the regularized cost function using the MSE cost function\n",
    "(you can refer to Section 1.3.1 ).\n",
    "\n",
    "You saw in Section 5.3.2.3 that the $L^1$\n",
    "norm of a vector $\\vx$ is defined as the sum of the absolute values of\n",
    "the vector components:\n",
    "\n",
    "$$\n",
    "\\norm{\\vx}_1 = \\sum_{i=1}^m \\left| \\evx_i \\right|\n",
    "$$\n",
    "\n",
    "with $\\vx$ the vector, $m$ the number of entries in this vector, and $i$\n",
    "the current index.\n",
    "\n",
    "In the case of linear regression, you optimize two parameters (here\n",
    "called $\\theta_0$ and $\\theta_1$). You saw in\n",
    "Section 1.3.1 that the cost function\n",
    "is defined as:\n",
    "\n",
    "$$\n",
    "J(\\theta_0, \\theta_1) = \\frac{1}{2m}\\sum_{i=1} ^m (\\theta_0 + \\theta_1 x^{(i)} - y^{(i)})^2\n",
    "$$\n",
    "\n",
    "This is for the case of a single feature $x$, leading to a model with\n",
    "two parameters (intercept and slope). The scalar $m$ is the number of\n",
    "data samples. The errors are the differences between the prediction of\n",
    "the model ($\\theta_0 + \\theta_1 x^{(i)}$) and the true values $y^{(i)}$.\n",
    "\n",
    "To apply a $L^1$ regularization to your model, you add the sum of the\n",
    "absolute values of the parameter vector to the cost function:\n",
    "\n",
    "$$\n",
    "J(\\theta_0, \\theta_1) = \\frac{1}{2m}\\sum_{i=1} ^m (\\theta_0 + \\theta_1 x^{(i)} - y^{(i)})^2 + \\alpha \\sum_{i=1}^n \\left| \\theta_i \\right|\n",
    "$$\n",
    "\n",
    "With $n$ being the number of parameters (here, two: $\\theta_0$ and\n",
    "$\\theta_1$). You can see that the extra term\n",
    "$\\sum_{i=1}^n \\left| \\theta_i \\right|$ is multiplied by the\n",
    "regularization parameter $\\alpha$.\n",
    "\n",
    "##### Regularization Using the $L^2$ Norm\n",
    "\n",
    "Similarly, you can regularize the MSE cost function using the squared\n",
    "$L^2$ norm. We denote this regularization as the $L^2$ regularization:\n",
    "\n",
    "$$\n",
    "J(\\theta_0, \\theta_1) = \\frac{1}{2m}\\sum_{i=1} ^m (\\theta_0 + \\theta_1 x^{(i)} - y^{(i)})^2 + \\alpha \\sum_{i=1}^n\\theta_i^2\n",
    "$$\n",
    "\n",
    "The principle is the same as with the $L^1$ norm: you add a\n",
    "regularization term that will constraint the parameter values to be\n",
    "small. You’ll see next the differences between $L^1$ and $L^2$\n",
    "regularization."
   ]
  },
  {
   "cell_type": "markdown",
   "metadata": {},
   "source": [
    "### 5.5.2 Effect of Regularization on Polynomial Regression\n",
    "\n",
    "To see the effect of regularization, let’s see the case of *polynomial\n",
    "regression*, which is a form of regression combining the powers of the\n",
    "features to create new features. For instance, if your only feature is\n",
    "$x$, the degree-3 polynomials features are $x^2$ and $x^3$. Instead of\n",
    "having the linear equation $y=ax + b$, you’ll have\n",
    "$y=ax + b + cx^2 + dx^3$, meaning that you now have four parameters to\n",
    "optimize.\n",
    "\n",
    "#### Data\n",
    "\n",
    "In this hands-on, you’ll use polynomial regression to model the total\n",
    "number of cases of COVID-19 in France (Ile-de-France area) in March 2020\n",
    "(the data comes from\n",
    "https://www.data.gouv.fr/en/datasets/cas-confirmes-dinfection-au-covid-19-par-region/)\n",
    ". Since the growth of the number of cases is (unfortunately) not linear,\n",
    "you’ll use polynomials features to model the data.\n",
    "\n",
    "Let’s first load and plot the data:"
   ]
  },
  {
   "cell_type": "code",
   "execution_count": 14,
   "metadata": {
    "execution": {
     "iopub.execute_input": "2021-03-23T10:39:08.547189Z",
     "iopub.status.busy": "2021-03-23T10:39:08.546468Z",
     "iopub.status.idle": "2021-03-23T10:39:09.002620Z",
     "shell.execute_reply": "2021-03-23T10:39:09.003026Z"
    }
   },
   "outputs": [
    {
     "data": {
      "image/png": "[encoded data removed]",
      "text/plain": [
       "<Figure size 432x288 with 1 Axes>"
      ]
     },
     "metadata": {
      "needs_background": "dark"
     },
     "output_type": "display_data"
    }
   ],
   "source": [
    "data_covid = pd.read_csv(\"https://raw.githubusercontent.com/hadrienj/\" \\\n",
    "    \"essential_math_for_data_science/master/data/covid19.csv\")\n",
    "data_covid['days'] = data_covid[\"Date\"].str.split(\"/\").apply(lambda x: x[2]).astype(int)\n",
    "\n",
    "plt.scatter(data_covid['days'], data_covid[\"Ile-de-France\"])\n",
    "\n",
    "plt.xlabel(\"Days from the 04th of March 2020\")\n",
    "plt.ylabel(\"Number of cases of COVID-19\")\n",
    "plt.show()\n"
   ]
  },
  {
    "cell_type": "markdown",
   "metadata": {},
   "source": [
    "<img src=\"images/blank.png\" id=\"fig:ch06_output_covid_cases\" alt=\"Figure 86: Number of cases of COVID19 in France (Ile-de-France area) in March 2020.\" />\n",
    "Figure 86: Number of cases of COVID19 in France (Ile-de-France area) in March 2020.\n",
    "\n",
    "You can see in Figure [86](#fig:ch06_output_covid_cases) that the number\n",
    "of cases increases in a non-linear way. Few days are missing at the\n",
    "beginning but it is not important here.\n",
    "\n",
    "Let’s create the variables you need to do polynomial regression. The\n",
    "only feature is the number of day since the first day (the 04th of\n",
    "March), represented as integers. The number of cases is the dependent\n",
    "variable. You can use the function `reshape(-1, 1)` to have the features\n",
    "in the right shape for Sklearn (it doesn’t want one-dimensional arrays):"
   ]
  },
  {
   "cell_type": "code",
   "execution_count": 15,
   "metadata": {
    "execution": {
     "iopub.execute_input": "2021-03-23T10:39:09.006915Z",
     "iopub.status.busy": "2021-03-23T10:39:09.006133Z",
     "iopub.status.idle": "2021-03-23T10:39:09.007776Z",
     "shell.execute_reply": "2021-03-23T10:39:09.008264Z"
    }
   },
   "outputs": [],
   "source": [
    "X = data_covid['days'].to_numpy().reshape(-1, 1)\n",
    "y = data_covid[\"Ile-de-France\"].to_numpy()"
   ]
  },
  {
   "cell_type": "markdown",
   "metadata": {},
   "source": [
    "When your train a model that fits your training data very well, it can\n",
    "be the case that it is overfitting, meaning that even the noise of the\n",
    "dataset is taken into consideration, leading to lack of generalization\n",
    "to unseen data.\n",
    "\n",
    "To observe this effect, and how regularization can fix it, let’s add\n",
    "some random noise to the data. It simulates noisy measurements, and will\n",
    "allow you to see how overfitting can be encountered and handled. You can\n",
    "use `np.random.normal` to add a normally distributed noise to the data,\n",
    "however, you’ll also weight the noise we add to have more noise\n",
    "associated with the large value of `X`."
   ]
  },
  {
   "cell_type": "code",
   "execution_count": 16,
   "metadata": {
    "execution": {
     "iopub.execute_input": "2021-03-23T10:39:09.012001Z",
     "iopub.status.busy": "2021-03-23T10:39:09.011343Z",
     "iopub.status.idle": "2021-03-23T10:39:09.012868Z",
     "shell.execute_reply": "2021-03-23T10:39:09.013440Z"
    }
   },
   "outputs": [],
   "source": [
    "np.random.seed(1)\n",
    "y_noise = y + (np.random.normal(0, 100, X.shape[0]) * X.flatten()).flatten()"
   ]
  },
  {
   "cell_type": "code",
   "execution_count": 17,
   "metadata": {
    "execution": {
     "iopub.execute_input": "2021-03-23T10:39:09.048573Z",
     "iopub.status.busy": "2021-03-23T10:39:09.048050Z",
     "iopub.status.idle": "2021-03-23T10:39:09.130386Z",
     "shell.execute_reply": "2021-03-23T10:39:09.130810Z"
    }
   },
   "outputs": [
    {
     "data": {
      "image/png": "[encoded data removed]",
      "text/plain": [
       "<Figure size 432x288 with 1 Axes>"
      ]
     },
     "metadata": {
      "needs_background": "dark"
     },
     "output_type": "display_data"
    }
   ],
   "source": [
    "plt.scatter(X, y_noise)\n",
    "\n",
    "plt.xlabel(\"Days from the 04th of March 2020\")\n",
    "plt.ylabel(\"Number of cases of COVID-19\")\n",
    "plt.show()\n"
   ]
  },
  {
    "cell_type": "markdown",
   "metadata": {},
   "source": [
    "<img src=\"images/blank.png\" id=\"fig:ch06_output_covid_cases_noisy\" alt=\"Figure 87: Noisy data will allow you to see the effect of overfitting and regularization.\" />\n",
    "Figure 87: Noisy data will allow you to see the effect of overfitting and regularization.\n",
    "\n",
    "Figure [87](#fig:ch06_output_covid_cases_noisy) shows the data after the\n",
    "addition of noise. It will allow you to visualize regularization\n",
    "effects, as you’ll soon see.\n",
    "\n",
    "Regularized models are often sensitive to differences in scale in the\n",
    "data, so you need to normalize the data. You can use standardization (it\n",
    "transforms the data such as the mean is equals to 0 and the standard\n",
    "deviation is equals to 1) using the `StandardScaler` from Sklearn:"
   ]
  },
  {
   "cell_type": "code",
   "execution_count": 18,
   "metadata": {
    "execution": {
     "iopub.execute_input": "2021-03-23T10:39:09.135438Z",
     "iopub.status.busy": "2021-03-23T10:39:09.134821Z",
     "iopub.status.idle": "2021-03-23T10:39:09.670990Z",
     "shell.execute_reply": "2021-03-23T10:39:09.671481Z"
    }
   },
   "outputs": [],
   "source": [
    "from sklearn.preprocessing import StandardScaler\n",
    "scaler = StandardScaler()\n",
    "\n",
    "scaler.fit(X)\n",
    "X_transformed = scaler.transform(X)\n",
    "y_noise_transformed = scaler.transform(y_noise.reshape(-1, 1)).flatten()\n",
    "y_transformed = scaler.transform(y.reshape(-1, 1)).flatten()"
   ]
  },
  {
   "cell_type": "markdown",
   "metadata": {},
   "source": [
    "You now need to create the powers of the feature $x$. An easy way to do\n",
    "it is to use Sklearn `PolynomialFeatures` that adds all polynomial\n",
    "combinations. In this example, you have a single feature, and thus,\n",
    "there is no combination: it will add the additional features $x^2$,\n",
    "$x^3$ etc.\n",
    "\n",
    "To observe overfitting, you’ll use a degree-10 of polynomial features\n",
    "(high degree polynomials create complex models that can easily overfit):"
   ]
  },
  {
   "cell_type": "code",
   "execution_count": 19,
   "metadata": {
    "execution": {
     "iopub.execute_input": "2021-03-23T10:39:09.676042Z",
     "iopub.status.busy": "2021-03-23T10:39:09.675336Z",
     "iopub.status.idle": "2021-03-23T10:39:09.677385Z",
     "shell.execute_reply": "2021-03-23T10:39:09.677868Z"
    }
   },
   "outputs": [],
   "source": [
    "import numpy as np\n",
    "from sklearn.preprocessing import PolynomialFeatures\n",
    "\n",
    "poly = PolynomialFeatures(10, include_bias=False)\n",
    "X_poly = poly.fit_transform(X_transformed)\n"
   ]
  },
  {
   "cell_type": "markdown",
   "metadata": {},
   "source": [
    "The option `include_bias=False` avoids the column of 1 created by\n",
    "`Polynomialfeatures` corresponding to the feature $x^0$. The variable\n",
    "`X_poly` contains now your new features. Here are, for instance, the two\n",
    "first rows:"
   ]
  },
  {
   "cell_type": "code",
   "execution_count": 20,
   "metadata": {
    "execution": {
     "iopub.execute_input": "2021-03-23T10:39:09.681848Z",
     "iopub.status.busy": "2021-03-23T10:39:09.681213Z",
     "iopub.status.idle": "2021-03-23T10:39:09.683999Z",
     "shell.execute_reply": "2021-03-23T10:39:09.683591Z"
    }
   },
   "outputs": [
    {
     "data": {
      "text/plain": [
       "array([[  -1.74873638,    3.05807893,   -5.34777387,    9.35184673,\n",
       "         -16.3539146 ,   28.59868542,  -50.01156162,   87.45703723,\n",
       "        -152.93930272,  267.45052265],\n",
       "       [  -1.59119256,    2.53189377,   -4.02873054,    6.41048606,\n",
       "         -10.20031774,   16.23066973,  -25.82612095,   41.09433157,\n",
       "         -65.38899474,  104.04648209]])"
      ]
     },
     "execution_count": 1,
     "metadata": {},
     "output_type": "execute_result"
    }
   ],
   "source": [
    "X_poly[:2]"
   ]
  },
  {
   "cell_type": "markdown",
   "metadata": {},
   "source": [
    "The ten columns correspond respectively to the following features:\n",
    "$x^0, x^1, x^2 \\cdots x^{10}$. The first column $x^0$ is thus a column\n",
    "filled with 1 (which is not included with `include_bias=False`) and the\n",
    "second column contains the values of $x^1$ which is just $x$.\n",
    "\n",
    "You’ll now do a linear regression using the polynomial features as\n",
    "input. It will optimize the weight of each feature ($x$, $x^2$, $x^3$\n",
    "etc).\n",
    "\n",
    "To see the effect of the regularization you’ll use a linear model using\n",
    "a MSE cost function with $L^2$ regularization, which is called *ridge\n",
    "regression*.\n",
    "\n",
    "Let’s use the class `Ridge` from Sklearn and iterate over different\n",
    "values of the regularization parameter $\\alpha$. At each iteration,\n",
    "you’ll fit a new model with the corresponding value of $\\alpha$, do the\n",
    "prediction on a range of values, and finally use these predictions to\n",
    "plot the regression curve."
   ]
  },
  {
   "cell_type": "code",
   "execution_count": 21,
   "metadata": {
    "execution": {
     "iopub.execute_input": "2021-03-23T10:39:09.690005Z",
     "iopub.status.busy": "2021-03-23T10:39:09.689358Z",
     "iopub.status.idle": "2021-03-23T10:39:10.557431Z",
     "shell.execute_reply": "2021-03-23T10:39:10.557951Z"
    }
   },
   "outputs": [
    {
     "data": {
      "image/png": "[encoded data removed]",
      "text/plain": [
       "<Figure size 1152x288 with 5 Axes>"
      ]
     },
     "metadata": {
      "needs_background": "dark"
     },
     "output_type": "display_data"
    }
   ],
   "source": [
    "from sklearn.linear_model import Ridge\n",
    "\n",
    "X_axis = np.arange(-1.7, 1.65, 0.01)\n",
    "X_axis_poly = poly.fit_transform(X_axis.reshape(-1, 1))\n",
    "\n",
    "f, axes = plt.subplots(1, 5, figsize=(16, 4), sharey=True)\n",
    "\n",
    "\n",
    "count = 0\n",
    "\n",
    "for alpha, ax in zip([0.00001, 0.001, 0.01, 1, 1e5], axes.flatten()):\n",
    "    ridge = Ridge(alpha=alpha)\n",
    "    ridge.fit(X_poly, y_noise_transformed)\n",
    "    y_axis_ridge = ridge.predict(X_axis_poly)\n",
    "\n",
    "    ax.plot(X_axis_poly[:, 0], y_axis_ridge, c=\"#F57F53\")\n",
    "    ax.scatter(X_transformed, y_transformed,\n",
    "                alpha=0.6, s=60, label=\"Data\")\n",
    "    ax.scatter(X_transformed, y_noise_transformed,\n",
    "                alpha=0.6, s=60, label=\"Data with noise\")\n",
    "    ax.set_title(r\"$\\alpha$\" + f\" = {alpha}\")\n",
    "    # [...] Figure titles, legend...\n",
    "    \n",
    "    if count ==  0:\n",
    "        ax.legend()\n",
    "    count += 1\n",
    "    \n"
   ]
  },
  {
    "cell_type": "markdown",
   "metadata": {},
   "source": [
    "<img src=\"images/blank.png\" id=\"fig:ch06_output_regularization_rate\" alt=\"Figure 88: Effect of the regularization rate \\alpha.\" />\n",
    "Figure 88: Effect of the regularization rate <span class=\"math inline\"><em>α</em></span>.\n",
    "\n",
    "You can see the effect of regularization in Figure\n",
    "[88](#fig:ch06_output_regularization_rate). Raw data is shown in blue\n",
    "and data with noise in green. The red curve is the regression curve.\n",
    "\n",
    "In the first plot, the hyperparameter $\\alpha$ is very small, leading to\n",
    "almost no regularization. You can see that the model is overfitting\n",
    "because the oscillations fit also the noise. When you increase $\\alpha$,\n",
    "the regularization is more important and the curve is smoother. Finally,\n",
    "with $\\alpha=1$, the fit is simpler and ignore a good part of the noise.\n",
    "However, if the value of $\\alpha$ is too large, the model becomes too\n",
    "simple and the regression curve is almost an horizontal line.\n",
    "\n",
    "You can see how the mathematical concept of norm explains how\n",
    "regularization works. As you see in Figure\n",
    "[88](#fig:ch06_output_regularization_rate), adding a term with the norm\n",
    "of the parameter vector has the effect to constrain the model to be\n",
    "simpler, which often leads to reducing overfitting."
   ]
  },
  {
   "cell_type": "markdown",
   "metadata": {},
   "source": [
    "### 5.5.3 Differences between $L^1$ and $L^2$ Regularization\n",
    "\n",
    "In this last part, you’ll visualize how the parameters are optimized and\n",
    "how they are changing during the training (using gradient descent), and\n",
    "what are the differences between the $L^1$ and the $L^2$ norms.\n",
    "\n",
    "In the previous section, you used the class `Ridge` from Sklearn, which\n",
    "uses the closed-form solution of the ridge regression expression (you’ll\n",
    "learn more about it in\n",
    "Section 8.4).\n",
    "The other way to find the best parameters is to use gradient descent, as\n",
    "you saw in Section 1.3. You’ll use\n",
    "this method to visualize how the parameters change from their initial\n",
    "value (0 because of *zero-initialization*) to the best combination\n",
    "during the training, and look at how the parameters update epoch by\n",
    "epoch.\n",
    "\n",
    "#### Creating the Polynomial Features\n",
    "\n",
    "To visualize the parameters, you’ll use degree-2 polynomials to be able\n",
    "to visualize the *parameter space* in two dimensions (one parameter in\n",
    "each axis). (the intercept of the model is also learned, but it is not\n",
    "influenced by regularization so we can’t use it for the purpose of this\n",
    "hands-on project.)\n",
    "\n",
    "Let’s create the features, as you did before:"
   ]
  },
  {
   "cell_type": "code",
   "execution_count": 22,
   "metadata": {
    "execution": {
     "iopub.execute_input": "2021-03-23T10:39:10.561969Z",
     "iopub.status.busy": "2021-03-23T10:39:10.561387Z",
     "iopub.status.idle": "2021-03-23T10:39:10.563254Z",
     "shell.execute_reply": "2021-03-23T10:39:10.563672Z"
    }
   },
   "outputs": [],
   "source": [
    "poly = PolynomialFeatures(2, include_bias=False)\n",
    "X_poly = poly.fit_transform(X_transformed)"
   ]
  },
  {
   "cell_type": "markdown",
   "metadata": {},
   "source": [
    "Here are the first three rows of your features (the first column is $x$\n",
    "and the second $x^2$):"
   ]
  },
  {
   "cell_type": "code",
   "execution_count": 23,
   "metadata": {
    "execution": {
     "iopub.execute_input": "2021-03-23T10:39:10.567688Z",
     "iopub.status.busy": "2021-03-23T10:39:10.567014Z",
     "iopub.status.idle": "2021-03-23T10:39:10.569520Z",
     "shell.execute_reply": "2021-03-23T10:39:10.569943Z"
    }
   },
   "outputs": [
    {
     "data": {
      "text/plain": [
       "array([[-1.74873638,  3.05807893],\n",
       "       [-1.59119256,  2.53189377],\n",
       "       [-1.43364874,  2.05534872]])"
      ]
     },
     "execution_count": 1,
     "metadata": {},
     "output_type": "execute_result"
    }
   ],
   "source": [
    "X_poly[:3]"
   ]
  },
  {
   "cell_type": "markdown",
   "metadata": {},
   "source": [
    "Let’s start by finding the best parameters for an unregularized model\n",
    "using the class `LinearRegression`:"
   ]
  },
  {
   "cell_type": "code",
   "execution_count": 24,
   "metadata": {
    "execution": {
     "iopub.execute_input": "2021-03-23T10:39:10.574266Z",
     "iopub.status.busy": "2021-03-23T10:39:10.573518Z",
     "iopub.status.idle": "2021-03-23T10:39:10.577574Z",
     "shell.execute_reply": "2021-03-23T10:39:10.577989Z"
    }
   },
   "outputs": [
    {
     "data": {
      "text/plain": [
       "LinearRegression()"
      ]
     },
     "execution_count": 1,
     "metadata": {},
     "output_type": "execute_result"
    }
   ],
   "source": [
    "from sklearn.linear_model import LinearRegression\n",
    "\n",
    "reg_poly = LinearRegression()\n",
    "reg_poly.fit(X_poly, y_transformed)"
   ]
  },
  {
   "cell_type": "markdown",
   "metadata": {},
   "source": [
    "Note that we used the raw data and not the data with added noise. The\n",
    "parameters are stored in the attribute named `.coef_` and the intercept\n",
    "in `.intercept_`:"
   ]
  },
  {
   "cell_type": "code",
   "execution_count": 25,
   "metadata": {
    "execution": {
     "iopub.execute_input": "2021-03-23T10:39:10.581610Z",
     "iopub.status.busy": "2021-03-23T10:39:10.580986Z",
     "iopub.status.idle": "2021-03-23T10:39:10.584103Z",
     "shell.execute_reply": "2021-03-23T10:39:10.583681Z"
    }
   },
   "outputs": [
    {
     "data": {
      "text/plain": [
       "array([382.47220015, 157.18454754])"
      ]
     },
     "execution_count": 1,
     "metadata": {},
     "output_type": "execute_result"
    }
   ],
   "source": [
    "reg_poly.coef_"
   ]
  },
  {
   "cell_type": "code",
   "execution_count": 26,
   "metadata": {
    "execution": {
     "iopub.execute_input": "2021-03-23T10:39:10.587885Z",
     "iopub.status.busy": "2021-03-23T10:39:10.587040Z",
     "iopub.status.idle": "2021-03-23T10:39:10.589439Z",
     "shell.execute_reply": "2021-03-23T10:39:10.589919Z"
    }
   },
   "outputs": [
    {
     "data": {
      "text/plain": [
       "228.15975420975187"
      ]
     },
     "execution_count": 1,
     "metadata": {},
     "output_type": "execute_result"
    }
   ],
   "source": [
    "reg_poly.intercept_"
   ]
  },
  {
   "cell_type": "markdown",
   "metadata": {},
   "source": [
    "Keep in mind the mathematical meaning of this. It means that the model\n",
    "is mathematically defined as the following equation:\n",
    "\n",
    "$$\n",
    "y = 382.47220015 x + 157.18454754 x^2 + 228.15975420975187\n",
    "$$\n",
    "\n",
    "#### Using Gradient Descent\n",
    "\n",
    "##### Progression of Parameter Values Without Regularization\n",
    "\n",
    "Now that you know the best parameters, let’s use gradient descent to see\n",
    "how the parameters are learned. Let’s start by initializing the class\n",
    "`SGDRegressor` (the Sklearn implementation of gradient descent) without\n",
    "regularization. This will allow you to visualize the progression of the\n",
    "parameters from the initial values to the best combination."
   ]
  },
  {
   "cell_type": "code",
   "execution_count": 27,
   "metadata": {
    "execution": {
     "iopub.execute_input": "2021-03-23T10:39:10.593685Z",
     "iopub.status.busy": "2021-03-23T10:39:10.593108Z",
     "iopub.status.idle": "2021-03-23T10:39:10.594676Z",
     "shell.execute_reply": "2021-03-23T10:39:10.595263Z"
    }
   },
   "outputs": [],
   "source": [
    "from sklearn.linear_model import SGDRegressor\n",
    "\n",
    "sgd_reg = SGDRegressor(max_iter=10000, random_state=123,\n",
    "                       learning_rate='constant', eta0=0.01, penalty=None)\n"
   ]
  },
  {
   "cell_type": "markdown",
   "metadata": {},
   "source": [
    "By default, `SGDRegressor` uses a $L^2$ regularization so you need to\n",
    "use `penalty=None` to have no regularization. The parameter\n",
    "`learning_rate` tells how the weights are updated and `eta0` corresponds\n",
    "to the initial value of the learning rate (with\n",
    "`learning_rate='constant'`, it will be the only value).\n",
    "\n",
    "Now, you’ll run epochs using `partial_fit`, which updates parameters\n",
    "only once. You can store parameter values at each epoch to be able to\n",
    "visualize the process of the training:"
   ]
  },
  {
   "cell_type": "code",
   "execution_count": 28,
   "metadata": {
    "execution": {
     "iopub.execute_input": "2021-03-23T10:39:10.599800Z",
     "iopub.status.busy": "2021-03-23T10:39:10.599089Z",
     "iopub.status.idle": "2021-03-23T10:39:10.614526Z",
     "shell.execute_reply": "2021-03-23T10:39:10.615008Z"
    }
   },
   "outputs": [],
   "source": [
    "history_theta_0 = [0]\n",
    "history_theta_1 = [0]\n",
    "for i in range(30):\n",
    "    sgd_reg.partial_fit(X_poly, y_transformed)\n",
    "    \n",
    "    history_theta_0.append(sgd_reg.coef_[0].copy())\n",
    "    history_theta_1.append(sgd_reg.coef_[1].copy())\n"
   ]
  },
  {
   "cell_type": "markdown",
   "metadata": {},
   "source": [
    "##### Best Parameters with $L^1$ and $L^2$ and Various $\\alpha$\n",
    "\n",
    "Let’s use $L^1$ and $L^2$ regularization with different values of the\n",
    "regularization rate $\\alpha$ to see its influence.\n",
    "\n",
    "Let’s start with $L^1$ regularization:"
   ]
  },
  {
   "cell_type": "code",
   "execution_count": 29,
   "metadata": {
    "execution": {
     "iopub.execute_input": "2021-03-23T10:39:10.620436Z",
     "iopub.status.busy": "2021-03-23T10:39:10.619854Z",
     "iopub.status.idle": "2021-03-23T10:39:10.672567Z",
     "shell.execute_reply": "2021-03-23T10:39:10.673055Z"
    }
   },
   "outputs": [],
   "source": [
    "alpha_theta_0_l1 = []\n",
    "alpha_theta_1_l1 = []\n",
    "\n",
    "\n",
    "all_alpha_l1 = np.arange(0, 500, 20)\n",
    "for alpha in all_alpha_l1:\n",
    "    sgd_reg_l1 = SGDRegressor(max_iter=10000, verbose=0, random_state=123,\n",
    "                       learning_rate='constant', eta0=0.0001, penalty='l1', alpha=alpha)\n",
    "    sgd_reg_l1.fit(X_poly, y_transformed)\n",
    "    \n",
    "    alpha_theta_0_l1.append(sgd_reg_l1.coef_[0].copy())\n",
    "    alpha_theta_1_l1.append(sgd_reg_l1.coef_[1].copy())\n"
   ]
  },
  {
   "cell_type": "markdown",
   "metadata": {},
   "source": [
    "The array `all_alpha_l1` contains various values of the regularization\n",
    "rate $\\alpha$ used in `SGDRegressor`. For each value of $\\alpha$, a new\n",
    "model is created, fitted to the data, and the model coefficients are\n",
    "stored.\n",
    "\n",
    "Let’s do the same for $L^2$ regularization:"
   ]
  },
  {
   "cell_type": "code",
   "execution_count": 30,
   "metadata": {
    "execution": {
     "iopub.execute_input": "2021-03-23T10:39:10.678063Z",
     "iopub.status.busy": "2021-03-23T10:39:10.677502Z",
     "iopub.status.idle": "2021-03-23T10:39:10.926041Z",
     "shell.execute_reply": "2021-03-23T10:39:10.926416Z"
    }
   },
   "outputs": [],
   "source": [
    "alpha_theta_0_l2 = []\n",
    "alpha_theta_1_l2 = []\n",
    "\n",
    "all_alpha_l2 = np.arange(0, 50, 0.2)\n",
    "for alpha in all_alpha_l2:\n",
    "    sgd_reg_l2 = SGDRegressor(max_iter=10000, verbose=0, random_state=123,\n",
    "                       learning_rate='constant', eta0=0.0001, penalty='l2', alpha=alpha)\n",
    "    sgd_reg_l2.fit(X_poly, y_transformed)\n",
    "    \n",
    "    alpha_theta_0_l2.append(sgd_reg_l2.coef_[0].copy())\n",
    "    alpha_theta_1_l2.append(sgd_reg_l2.coef_[1].copy())\n",
    "    "
   ]
  },
  {
   "cell_type": "code",
   "execution_count": 31,
   "metadata": {
    "execution": {
     "iopub.execute_input": "2021-03-23T10:39:10.932063Z",
     "iopub.status.busy": "2021-03-23T10:39:10.931336Z",
     "iopub.status.idle": "2021-03-23T10:39:10.933311Z",
     "shell.execute_reply": "2021-03-23T10:39:10.933853Z"
    }
   },
   "outputs": [],
   "source": [
    "\n",
    "x_space = np.linspace(-400, 400, 100)\n",
    "y_space = np.linspace(-400, 400, 100)\n",
    "\n",
    "X_space, Y_space = np.meshgrid(x_space, y_space)\n",
    "\n",
    "def cost_function_l1(X, Y):\n",
    "    Z = np.abs(X) + np.abs(Y)\n",
    "    return Z\n",
    "    \n",
    "def cost_function_l2(X, Y):\n",
    "    Z = np.sqrt(np.square(X) + np.square(Y))\n",
    "    return Z\n",
    "\n",
    "def cost_function_max(X, Y):\n",
    "    Z = np.maximum(np.abs(X), np.abs(Y))\n",
    "    return Z\n",
    "\n",
    "    \n",
    "Z_1 = cost_function_l1(X_space, Y_space)\n",
    "Z_2 = cost_function_l2(X_space, Y_space)\n",
    "Z_3 = cost_function_max(X_space, Y_space)\n",
    "\n"
   ]
  },
  {
   "cell_type": "markdown",
   "metadata": {},
   "source": [
    "That’s good, you can now plot all of how the parameters change for $L^1$\n",
    "and $L^2$ regularization."
   ]
  },
  {
   "cell_type": "code",
   "execution_count": 32,
   "metadata": {
    "execution": {
     "iopub.execute_input": "2021-03-23T10:39:10.945335Z",
     "iopub.status.busy": "2021-03-23T10:39:10.944724Z",
     "iopub.status.idle": "2021-03-23T10:39:11.437365Z",
     "shell.execute_reply": "2021-03-23T10:39:11.437867Z"
    }
   },
   "outputs": [
    {
     "data": {
      "image/png": "[encoded data removed]",
      "text/plain": [
       "<Figure size 432x648 with 4 Axes>"
      ]
     },
     "metadata": {
      "needs_background": "dark"
     },
     "output_type": "display_data"
    }
   ],
   "source": [
    "\n",
    "from mpl_toolkits.axes_grid1 import make_axes_locatable\n",
    "import matplotlib.colors\n",
    "\n",
    "custom_cmap = matplotlib.colors.LinearSegmentedColormap.from_list(\"\", [\"#2EBCE7\",\"#F57F53\"])\n",
    "\n",
    "f, axes = plt.subplots(nrows=2, ncols=1, figsize=(6, 9))\n",
    "axes = axes.flatten()\n",
    "\n",
    "for i in range(axes.shape[0]):\n",
    "    axes[i].quiver(np.array(history_theta_0)[:-1],\n",
    "                   np.array(history_theta_1)[:-1],\n",
    "                   np.array(history_theta_0)[1:] - np.array(history_theta_0)[:-1],\n",
    "                   np.array(history_theta_1)[1:] - np.array(history_theta_1)[:-1], \n",
    "                   angles='xy', scale_units='xy', scale=1, color=\"gray\")\n",
    "    axes[i].scatter(history_theta_0[0], history_theta_1[0], c=\"gray\", s=200, marker=\"+\", linewidth=2)\n",
    "    axes[i].scatter(reg_poly.coef_[0], reg_poly.coef_[1], c=\"gray\", marker=\"+\", s=400, zorder=0)\n",
    "    axes[i].text(history_theta_0[0] - 20,\n",
    "                 history_theta_1[0] + 20,\n",
    "                 r'Start', color=\"gray\", size=16)\n",
    "    axes[i].text(history_theta_0[-1] + (history_theta_0[-1] / 20),\n",
    "                 history_theta_1[-1] + (history_theta_1[-1] / 7),\n",
    "                 'Unregularized\\nsolution', color=\"gray\", size=16, horizontalalignment=\"right\")\n",
    "    \n",
    "    # draw axes\n",
    "    axes[i].axhline(0, c='#d6d6d6', zorder=-1)\n",
    "    axes[i].axvline(0, c='#d6d6d6', zorder=-1)\n",
    "\n",
    "    axes[i].set_xlabel(r\"$\\theta_0$\")\n",
    "    axes[i].set_ylabel(r\"$\\theta_1$\")\n",
    "    \n",
    "    axes[i].set_xlim(-20, 415)\n",
    "    axes[i].set_ylim(-20, 270)\n",
    "\n",
    "\n",
    "scatter0 = axes[0].scatter(alpha_theta_0_l1, alpha_theta_1_l1, c=np.arange(len(alpha_theta_1_l1)),\n",
    "                cmap=custom_cmap, s=80, marker=\"x\", linewidth=2)\n",
    "\n",
    "divider = make_axes_locatable(axes[0])\n",
    "cax = divider.append_axes('right', size='5%', pad=0.05)\n",
    "cbar = f.colorbar(scatter0, cax=cax, orientation='vertical')\n",
    "cbar.ax.get_yaxis().labelpad = 15\n",
    "cbar.ax.set_ylabel(r'$\\alpha$', rotation=270)\n",
    "axes[0].set_title(\"$L^1$ regularization\")\n",
    "\n",
    "\n",
    "scatter1 = axes[1].scatter(alpha_theta_0_l2, alpha_theta_1_l2, c=np.arange(len(alpha_theta_1_l2)),\n",
    "                cmap=custom_cmap, s=80, marker=\"x\", linewidth=2)\n",
    "\n",
    "divider = make_axes_locatable(axes[1])\n",
    "cax = divider.append_axes('right', size='5%', pad=0.05)\n",
    "cbar = f.colorbar(scatter1, cax=cax, orientation='vertical')\n",
    "cbar.ax.get_yaxis().labelpad = 15\n",
    "cbar.ax.set_ylabel(r'$\\alpha$', rotation=270)\n",
    "axes[1].set_title(\"$L^2$ regularization\")\n",
    "\n",
    "\n",
    "\n",
    "plt.tight_layout(pad=0.4, w_pad=0.5, h_pad=1.0)\n",
    "plt.show()\n"
   ]
  },
  {
    "cell_type": "markdown",
   "metadata": {},
   "source": [
    "<img src=\"images/blank.png\" id=\"fig:ch06_output_regularization\" alt=\"Figure 89: Visualization of the effect of L^1 (left) and L^2 regularization in the parameter space (\\theta_1 as a function of \\theta_0). The gray arrows shows the path in the case of no regularization. The crosses correspond to solutions with regularization, and the color shows the amount of regularization (values of \\alpha).\" />\n",
    "Figure 89: Visualization of the effect of <span class=\"math inline\"><em>L</em><sup>1</sup></span> (left) and <span class=\"math inline\"><em>L</em><sup>2</sup></span> regularization in the parameter space (<span class=\"math inline\"><em>θ</em><sub>1</sub></span> as a function of <span class=\"math inline\"><em>θ</em><sub>0</sub></span>). The gray arrows shows the path in the case of no regularization. The crosses correspond to solutions with regularization, and the color shows the amount of regularization (values of <span class=\"math inline\"><em>α</em></span>).\n",
    "\n",
    "Figure [89](#fig:ch06_output_regularization) shows the parameters\n",
    "$\\theta_1$ ($y$-axis) as a function of $\\theta_0$ ($x$-axis) in the\n",
    "context of gradient descent. The learning path without regularization is\n",
    "shown as the gray arrows (each arrow corresponds to one epoch). They go\n",
    "from the initial point (zero for both parameters) to the best solution\n",
    "when there is no regularization.\n",
    "\n",
    "The solution found with gradient descent is different if you use\n",
    "regularization. The cross symbols correspond to the solutions found with\n",
    "a specific value of $\\alpha$ (this value is given by the color of the\n",
    "symbol). When $\\alpha$ equals zero (blue cross symbols), the\n",
    "regularization term equals zero, so you’re in the case of no\n",
    "regularization and the point is close to the unregularized solution.\n",
    "When $\\alpha$ is larger, the regularization is stronger, until the\n",
    "solution approaches zero (red cross symbols) because the model wants\n",
    "only minimize the norm of the parameter vector.\n",
    "\n",
    "You can then compare the positions of the cross symbols with $L^1$\n",
    "(left) and $L^2$ (right). With $L^1$ regularization, one of the two\n",
    "parameters ($\\theta_0$) is pulled toward zero when regularization gets\n",
    "stronger, and only then, the other parameter ($\\theta_1$) goes to zero.\n",
    "This shows a major characteristic of the $L^1$ regularization: it\n",
    "enforces the sparsity of the parameters. This means that the parameters\n",
    "are constraints to be small with the strategy to set some of the\n",
    "parameters to zero instead of reducing all of them. This can be use as\n",
    "feature selection.\n",
    "\n",
    "With $L^2$ regularization, both $\\theta_0$ and $\\theta_1$ are similarly\n",
    "pulled toward zero when $\\alpha$ increases: it prefers parameters near\n",
    "but different than zero (you can see this page of the machine learning\n",
    "crash course by Google to have an idea of the distribution of the\n",
    "parameters with the $L^2$ regularization:\n",
    "https://developers.google.com/machine-learning/crash-course/regularization-for-simplicity/lambda.)\n",
    ".\n",
    "\n",
    "#### Visualizing Regularized Cost Functions\n",
    "\n",
    "To finish the hands-on project, you’ll create contour plots of cost\n",
    "functions regularized with $L^1$ and $L^2$. You’ll see that the cost\n",
    "function depends heavily on the regularization parameter $\\alpha$.\n",
    "\n",
    "To create these plots, you need to calculate the cost for any\n",
    "combinations of parameters in the range you want to visualize. This is a\n",
    "job for the Numpy function `np.meshgrid`: you input one-dimensional\n",
    "arrays (vectors) corresponding to the ranges of $\\theta_0$ and\n",
    "$\\theta_1$ and it returns two two-dimensional arrays organized such that\n",
    "if you take pairs of values from them, you get all possible\n",
    "combinations."
   ]
  },
  {
   "cell_type": "code",
   "execution_count": 33,
   "metadata": {
    "execution": {
     "iopub.execute_input": "2021-03-23T10:39:11.441703Z",
     "iopub.status.busy": "2021-03-23T10:39:11.441083Z",
     "iopub.status.idle": "2021-03-23T10:39:11.442949Z",
     "shell.execute_reply": "2021-03-23T10:39:11.443372Z"
    }
   },
   "outputs": [],
   "source": [
    "theta_0_space = np.linspace(-300, 550, 100)\n",
    "theta_1_space = np.linspace(-300, 550, 100)\n",
    "\n",
    "theta_0_mesh, theta_1_mesh = np.meshgrid(theta_0_space, theta_1_space)"
   ]
  },
  {
   "cell_type": "markdown",
   "metadata": {},
   "source": [
    "Next, you’ll create the MSE cost function that takes the data (`X` and\n",
    "`y`), the weights (`theta_0`, `theta_1` and `intercept`), and the\n",
    "regularization parameter $\\alpha$. Note that the computation is not\n",
    "fully vectorized to be easier to understand.\n",
    "\n",
    "You’ll also implement the $L^1$ and $L^2$ norms:"
   ]
  },
  {
   "cell_type": "code",
   "execution_count": 34,
   "metadata": {
    "execution": {
     "iopub.execute_input": "2021-03-23T10:39:11.447965Z",
     "iopub.status.busy": "2021-03-23T10:39:11.447349Z",
     "iopub.status.idle": "2021-03-23T10:39:11.449145Z",
     "shell.execute_reply": "2021-03-23T10:39:11.449619Z"
    }
   },
   "outputs": [],
   "source": [
    "def J(X, y, theta_0, theta_1, intercept):\n",
    "    m = X.shape[0]\n",
    "    sum_cost = 0\n",
    "    for i in range(m):\n",
    "        sum_cost += (((intercept + theta_0 * X[i, 0] + theta_1 * X[i, 1])) - y[i]) ** 2\n",
    "            \n",
    "    return (1 / (2 * m)) * sum_cost\n",
    "\n",
    "def l1(theta_0, theta_1, alpha):\n",
    "    return alpha * (np.abs(theta_0) + np.abs(theta_1))\n",
    "    \n",
    "def l2(theta_0, theta_1, alpha):\n",
    "    return alpha * (theta_0 ** 2 + theta_1 ** 2)"
   ]
  },
  {
   "cell_type": "markdown",
   "metadata": {},
   "source": [
    "Finally, let’s use the function `contourf` from Matplotlib to visualize\n",
    "the cost function associated with various values of $\\alpha$ for the\n",
    "$L^1$ and $L^2$ regularizations:"
   ]
  },
  {
   "cell_type": "code",
   "execution_count": 35,
   "metadata": {
    "execution": {
     "iopub.execute_input": "2021-03-23T10:39:11.501959Z",
     "iopub.status.busy": "2021-03-23T10:39:11.501401Z",
     "iopub.status.idle": "2021-03-23T10:39:11.921535Z",
     "shell.execute_reply": "2021-03-23T10:39:11.921890Z"
    }
   },
   "outputs": [
    {
     "data": {
      "image/png": "[encoded data removed]",
      "text/plain": [
       "<Figure size 1224x288 with 5 Axes>"
      ]
     },
     "metadata": {
      "needs_background": "dark"
     },
     "output_type": "display_data"
    }
   ],
   "source": [
    "f, axes = plt.subplots(nrows=1, ncols=4, figsize=(17, 4), sharey=True)\n",
    "\n",
    "alpha_values = [20, 150, 230, 500]\n",
    "\n",
    "for alpha, ax in zip(alpha_values, axes.flatten()):\n",
    "    cost_contour = J(X=X_poly, y=y_transformed, theta_0=theta_0_mesh, theta_1=theta_1_mesh,\n",
    "                 intercept=reg_poly.intercept_) + l1(theta_0_mesh, theta_1_mesh, alpha=alpha)\n",
    "\n",
    "    contour_plot = ax.contourf(theta_0_mesh, theta_1_mesh, cost_contour, levels=10, zorder=0, cmap=\"inferno\")\n",
    "    ax.scatter(reg_poly.coef_[0], reg_poly.coef_[1], c=\"gray\", marker=\"+\", s=200, zorder=0)\n",
    "    \n",
    "    # [...] Add axes, limits, titles, etc.\n",
    "    \n",
    "    ax.set_xlim(-200, 450)\n",
    "    ax.set_ylim(-200, 450)\n",
    "    \n",
    "    ax.set_title(r\"$\\alpha$ = \" + f\"{alpha}\")\n",
    "    \n",
    "    ax.set_xlabel(r\"$\\theta_0$\")\n",
    "    ax.set_ylabel(r\"$\\theta_1$\")\n",
    "    \n",
    "    ax.axhline(0, c='#a9a9a9', zorder=1, linewidth=1)\n",
    "    ax.axvline(0, c='#a9a9a9', zorder=1, linewidth=1)\n",
    "    \n",
    "\n",
    "\n",
    "divider = make_axes_locatable(ax)\n",
    "cax = divider.append_axes('right', size='5%', pad=0.05)\n",
    "cbar = f.colorbar(contour_plot, cax=cax, orientation='vertical', format='%.0e')\n",
    "cbar.ax.get_yaxis().labelpad = 15\n",
    "cbar.ax.set_ylabel(r'Cost', rotation=270)\n",
    "plt.show()\n"
   ]
  },
  {
    "cell_type": "markdown",
   "metadata": {},
   "source": [
    "<img src=\"images/blank.png\" id=\"fig:ch06_output_regularization_l1\" alt=\"Figure 90: The MSE cost function with L^1 regularization. The cost (dark colors corresponds to small costs) is represented for each pair of parameters \\theta_0 and \\theta_1, and for different value of \\alpha.\" />\n",
    "Figure 90: The MSE cost function with <span class=\"math inline\"><em>L</em><sup>1</sup></span> regularization. The cost (dark colors corresponds to small costs) is represented for each pair of parameters <span class=\"math inline\"><em>θ</em><sub>0</sub></span> and <span class=\"math inline\"><em>θ</em><sub>1</sub></span>, and for different value of <span class=\"math inline\"><em>α</em></span>.\n",
    "\n",
    "You can see in Figure [90](#fig:ch06_output_regularization_l1) that the\n",
    "cost function changes when the regularization parameter increases. It\n",
    "tends to have the shape of the $L^1$ regularization term (you can look\n",
    "in Figure [91](#fig:ch06_output_contour_l1_l2) at the $L^1$ and $L^2$\n",
    "regularization terms alone)."
   ]
  },
  {
   "cell_type": "code",
   "execution_count": 36,
   "metadata": {
    "execution": {
     "iopub.execute_input": "2021-03-23T10:39:11.950074Z",
     "iopub.status.busy": "2021-03-23T10:39:11.949527Z",
     "iopub.status.idle": "2021-03-23T10:39:12.156067Z",
     "shell.execute_reply": "2021-03-23T10:39:12.156437Z"
    }
   },
   "outputs": [
    {
     "data": {
      "image/png": "[encoded data removed]",
      "text/plain": [
       "<Figure size 648x288 with 3 Axes>"
      ]
     },
     "metadata": {
      "needs_background": "dark"
     },
     "output_type": "display_data"
    }
   ],
   "source": [
    "theta_0_space_reg = np.linspace(-200, 200, 100)\n",
    "theta_1_space_reg = np.linspace(-200, 200, 100)\n",
    "\n",
    "theta_0_mesh_reg, theta_1_mesh_reg = np.meshgrid(theta_0_space_reg, theta_1_space_reg)\n",
    "\n",
    "f, axes = plt.subplots(nrows=1, ncols=2, figsize=(9, 4), sharey=True)\n",
    "\n",
    "contour_plot = axes[0].contourf(theta_0_mesh_reg, theta_1_mesh_reg, l1(theta_0_mesh_reg, theta_1_mesh_reg, alpha=1),\n",
    "                           levels=10, zorder=0, cmap=\"inferno\")\n",
    "\n",
    "contour_plot = axes[1].contourf(theta_0_mesh_reg, theta_1_mesh_reg, l2(theta_0_mesh_reg, theta_1_mesh_reg, alpha=1),\n",
    "                           levels=10, zorder=0, cmap=\"inferno\")\n",
    "\n",
    "for ax in axes.flatten():\n",
    "    ax.set_xlim(-200, 200)\n",
    "    ax.set_ylim(-200, 200)\n",
    "    \n",
    "    \n",
    "    ax.axhline(0, c='#a9a9a9', zorder=1, linewidth=1)\n",
    "    ax.axvline(0, c='#a9a9a9', zorder=1, linewidth=1)\n",
    "    \n",
    "\n",
    "\n",
    "divider = make_axes_locatable(ax)\n",
    "cax = divider.append_axes('right', size='5%', pad=0.05)\n",
    "cbar = f.colorbar(contour_plot, cax=cax, orientation='vertical', format='%.0e')\n",
    "cbar.ax.get_yaxis().labelpad = 15\n",
    "cbar.ax.set_ylabel(r'Cost', rotation=270)\n",
    "plt.show()\n"
   ]
  },
  {
    "cell_type": "markdown",
   "metadata": {},
   "source": [
    "<img src=\"images/blank.png\" id=\"fig:ch06_output_contour_l1_l2\" alt=\"Figure 91: Regularization terms: L^1 in the left plot and L^2 in the right plot. Dark colors correspond to a smaller cost.\" />\n",
    "Figure 91: Regularization terms: <span class=\"math inline\"><em>L</em><sup>1</sup></span> in the left plot and <span class=\"math inline\"><em>L</em><sup>2</sup></span> in the right plot. Dark colors correspond to a smaller cost.\n",
    "\n",
    "Figure [91](#fig:ch06_output_contour_l1_l2) shows the contour plot of\n",
    "the regularization term alone, without cost function.\n",
    "\n",
    "Let’s now have a look at the $L^2$ regularized MSE cost function:"
   ]
  },
  {
   "cell_type": "code",
   "execution_count": 37,
   "metadata": {
    "execution": {
     "iopub.execute_input": "2021-03-23T10:39:12.208056Z",
     "iopub.status.busy": "2021-03-23T10:39:12.207501Z",
     "iopub.status.idle": "2021-03-23T10:39:12.610582Z",
     "shell.execute_reply": "2021-03-23T10:39:12.611004Z"
    }
   },
   "outputs": [
    {
     "data": {
      "image/png": "[encoded data removed]",
      "text/plain": [
       "<Figure size 1224x288 with 5 Axes>"
      ]
     },
     "metadata": {
      "needs_background": "dark"
     },
     "output_type": "display_data"
    }
   ],
   "source": [
    "f, axes = plt.subplots(nrows=1, ncols=4, figsize=(17, 4), sharey=True)\n",
    "    \n",
    "for alpha, ax in zip([0.01, 0.3, 1, 10.0], axes.flatten()):\n",
    "    cost_contour = J(X=X_poly, y=y_transformed, theta_0=theta_0_mesh, theta_1=theta_1_mesh,\n",
    "                 intercept=reg_poly.intercept_) + l2(theta_0_mesh, theta_1_mesh, alpha=alpha)\n",
    "\n",
    "    ax.contourf(theta_0_mesh, theta_1_mesh, cost_contour, levels=10, zorder=0, cmap=\"inferno\")\n",
    "    ax.scatter(reg_poly.coef_[0], reg_poly.coef_[1], c=\"gray\", marker=\"+\", s=200, zorder=0)\n",
    "    # [...] Add axes, limits, titles, etc.\n",
    "    \n",
    "    ax.set_title(r\"$\\alpha$ = \" + f\"{alpha}\")\n",
    "    \n",
    "    ax.set_xlim(-200, 450)\n",
    "    ax.set_ylim(-200, 450)\n",
    "    \n",
    "    ax.axhline(0, c='#a9a9a9', zorder=1, linewidth=1)\n",
    "    ax.axvline(0, c='#a9a9a9', zorder=1, linewidth=1)\n",
    "    \n",
    "\n",
    "\n",
    "divider = make_axes_locatable(ax)\n",
    "cax = divider.append_axes('right', size='5%', pad=0.05)\n",
    "cbar = f.colorbar(contour_plot, cax=cax, orientation='vertical', format='%.0e')\n",
    "cbar.ax.get_yaxis().labelpad = 15\n",
    "cbar.ax.set_ylabel(r'Cost', rotation=270)\n",
    "plt.show()\n"
   ]
  },
  {
    "cell_type": "markdown",
   "metadata": {},
   "source": [
    "<img src=\"images/blank.png\" id=\"fig:ch06_output_contour_reg_l2\" alt=\"Figure 92: The MSE cost function with L^2 regularization. The cost (dark colors corresponds to small costs) is represented for each pair of parameters \\theta_0 and \\theta_1, and for different value of the regularization parameter \\alpha.\" />\n",
    "Figure 92: The MSE cost function with <span class=\"math inline\"><em>L</em><sup>2</sup></span> regularization. The cost (dark colors corresponds to small costs) is represented for each pair of parameters <span class=\"math inline\"><em>θ</em><sub>0</sub></span> and <span class=\"math inline\"><em>θ</em><sub>1</sub></span>, and for different value of the regularization parameter <span class=\"math inline\"><em>α</em></span>.\n",
    "\n",
    "Figure [92](#fig:ch06_output_contour_reg_l2) shows again that\n",
    "regularized cost functions tends to the $L^2$ term alone when the\n",
    "regularization parameter increases. However, unlike with $L^1$, the\n",
    "region where some parameters are equal to zero are not easily reached,\n",
    "leading to a decrease of all the parameter values.\n",
    "\n",
    "That’s great. I know there is a lot of things in this hands-on project\n",
    "and that it is clearly for people with some background in machine\n",
    "learning, so take some time on it. It shows you a practical case where\n",
    "understanding the mathematical concepts underlying a machine learning\n",
    "method can give you some insights on what is best in a specific\n",
    "situation.\n",
    "\n"
   ]
  }
 ],
 "metadata": {
  "language_info": {
   "codemirror_mode": {
    "name": "ipython",
    "version": 3
   },
   "file_extension": ".py",
   "mimetype": "text/x-python",
   "name": "python",
   "nbconvert_exporter": "python",
   "pygments_lexer": "ipython3",
   "version": "3.8.5"
  }
 },
 "nbformat": 4,
 "nbformat_minor": 5
}

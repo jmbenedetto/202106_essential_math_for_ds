{
 "cells": [
  {
   "cell_type": "code",
   "execution_count": 1,
   "metadata": {
    "execution": {
     "iopub.execute_input": "2021-03-23T10:38:48.114175Z",
     "iopub.status.busy": "2021-03-23T10:38:48.113324Z",
     "iopub.status.idle": "2021-03-23T10:38:48.666792Z",
     "shell.execute_reply": "2021-03-23T10:38:48.667299Z"
    }
   },
   "outputs": [],
   "source": [
    "# Basic imports\n",
    "import numpy as np\n",
    "import pandas as pd\n",
    "import matplotlib.pyplot as plt\n",
    "import matplotlib\n",
    "from mpl_toolkits.mplot3d import Axes3D\n",
    "from matplotlib import ticker\n",
    "\n",
    "# Display options\n",
    "from IPython.display import display\n",
    "pd.options.display.max_columns = None\n",
    "\n",
    "np.set_printoptions(threshold=30)\n",
    "\n",
    "# Plots style\n",
    "from cycler import cycler\n",
    "\n",
    "matplotlib.rcParams['lines.linewidth'] = 3\n",
    "matplotlib.rcParams['lines.markersize'] = 10\n",
    "\n",
    "matplotlib.rcParams['xtick.labelsize'] = 12\n",
    "matplotlib.rcParams['xtick.color'] = '#A9A9A9'\n",
    "matplotlib.rcParams['ytick.labelsize'] = 12\n",
    "matplotlib.rcParams['ytick.color'] = '#A9A9A9'\n",
    "\n",
    "matplotlib.rcParams['grid.color'] = '#ffffff'\n",
    "\n",
    "matplotlib.rcParams['axes.facecolor'] = '#ffffff'\n",
    "\n",
    "matplotlib.rcParams['axes.spines.left'] = False\n",
    "matplotlib.rcParams['axes.spines.right'] = False\n",
    "matplotlib.rcParams['axes.spines.top'] = False\n",
    "matplotlib.rcParams['axes.spines.bottom'] = False\n",
    "\n",
    "matplotlib.rcParams['axes.prop_cycle'] = cycler(color=['#2EBCE7', '#84EE29', '#FF8177'])"
   ]
  },
  {
    "cell_type": "markdown",
   "metadata": {},
   "source": [
    "$$\n",
    "\\def\\var{{\\text{Var}}} % Variance\n",
    "\\def\\corr{{\\text{Corr}}} % Correlation\n",
    "\\def\\cov{{\\text{Cov}}} % Covariance\n",
    "\\def\\expval{{\\mathbb{E}}}\n",
    "\\newcommand\\norm[1]{\\lVert#1\\rVert} % norm\n",
    "\\def\\setR{{\\rm I\\!R}} % Sets\n",
    "\\def\\rx{{\\textrm{X}}} % Scalar random variables\n",
    "\\def\\ry{{\\textrm{Y}}}\n",
    "\\def\\rz{{\\textrm{Z}}}\n",
    "\\def\\rvx{{\\textbf{X}}} % Vector random variables\n",
    "\\def\\rvy{{\\textbf{Y}}}\n",
    "\\def\\rvz{{\\textbf{Z}}}\n",
    "\\def\\vtheta{{\\boldsymbol{\\theta}}} % Vectors\n",
    "\\def\\va{{\\boldsymbol{a}}}\n",
    "\\def\\vb{{\\boldsymbol{b}}}\n",
    "\\def\\vi{{\\boldsymbol{i}}}\n",
    "\\def\\vj{{\\boldsymbol{j}}}\n",
    "\\def\\vp{{\\boldsymbol{p}}}\n",
    "\\def\\vq{{\\boldsymbol{q}}}\n",
    "\\def\\vu{{\\boldsymbol{u}}}\n",
    "\\def\\vv{{\\boldsymbol{v}}}\n",
    "\\def\\vw{{\\boldsymbol{w}}}\n",
    "\\def\\vx{{\\boldsymbol{x}}}\n",
    "\\def\\vy{{\\boldsymbol{y}}}\n",
    "\\def\\vz{{\\boldsymbol{z}}}\n",
    "\\def\\evu{{u}} % Elements of vectors\n",
    "\\def\\evv{{v}}\n",
    "\\def\\evw{{w}}\n",
    "\\def\\evx{{x}}\n",
    "\\def\\evy{{y}}\n",
    "\\def\\evz{{z}}\n",
    "\\def\\mA{{\\boldsymbol{A}}} % Matrices\n",
    "\\def\\mB{{\\boldsymbol{B}}}\n",
    "\\def\\mC{{\\boldsymbol{C}}}\n",
    "\\def\\mD{{\\boldsymbol{D}}}\n",
    "\\def\\mI{{\\boldsymbol{I}}}\n",
    "\\def\\mQ{{\\boldsymbol{Q}}}\n",
    "\\def\\mS{{\\boldsymbol{S}}}\n",
    "\\def\\mT{{\\boldsymbol{T}}}\n",
    "\\def\\mU{{\\boldsymbol{U}}}\n",
    "\\def\\mV{{\\boldsymbol{V}}}\n",
    "\\def\\mW{{\\boldsymbol{W}}}\n",
    "\\def\\mX{{\\boldsymbol{X}}}\n",
    "\\def\\mLambda{{\\boldsymbol{\\Lambda}}}\n",
    "\\def\\mSigma{{\\boldsymbol{\\Sigma}}}\n",
    "\\def\\emA{{A}} % Elements of matrices\n",
    "\\def\\emB{{B}}\n",
    "\\def\\emX{{X}}\n",
    "\\def\\tT{{T}} % Transformations\n",
    "\\def\\textless{<}\n",
    "$$\n",
    "\n",
    "\n",
    "\n",
    "Common Probability Distributions\n",
    "================================\n",
    "\n",
    "So far in this book, you’ve learned about different probability\n",
    "distributions, such as the normal and uniform distributions. In this\n",
    "chapter, you’ll learn about important discrete and continuous\n",
    "probability distribution functions.\n",
    "\n",
    "To specify the distribution of a random variable, we use the tilde\n",
    "symbol: $\\sim$. For instance, $\\rx \\sim \\mathcal{P}$ means that a random\n",
    "variable $\\rx$ has a distribution $\\mathcal{P}$.\n",
    "\n",
    "3.1 Uniform Distribution\n",
    "------------------------\n",
    "\n",
    "*Uniform distributions* describe random experiments where each possible\n",
    "outcome has the same probability of occurring.\n",
    "\n",
    "For instance, rolling a die or flipping a coin corresponds to discrete\n",
    "uniform distributions.\n",
    "\n",
    "Uniform distributions can also be continuous, as shown in Figure\n",
    "[46](#fig:ch04_uniform_distribution). With a continuous uniform\n",
    "distribution bounded between $a$ and $b$, the probability of getting a\n",
    "value less than $a$ or greater than $b$ is 0. For the values between $a$\n",
    "and $b$, each interval of the same size is associated with the same\n",
    "probability.\n",
    "\n",
    "<img src=\"images/ch04_uniform_distribution.png\" id=\"fig:ch04_uniform_distribution\" width=\"200\" alt=\"Figure 46: Continuous uniform distribution with bounds a and b.\" />\n",
    "Figure 46: Continuous uniform distribution with bounds <span class=\"math inline\"><em>a</em></span> and <span class=\"math inline\"><em>b</em></span>.\n",
    "\n",
    "3.2 Gaussian distribution\n",
    "-------------------------\n",
    "\n",
    "*Gaussian distributions*, also called *normal distributions* are one of\n",
    "the most important probability density functions. They are used to model\n",
    "the distribution of continuous random variables. Their shape looks like\n",
    "a bell (as shown in Figure [47](#fig:ch04_output_gaussian_example)):\n",
    "there is a peak of probability that decreases when you move off.\n",
    "\n",
    "In the context of machine learning, Gaussian distributions are used in\n",
    "various algorithms like Gaussian Mixture Models (GMM) or Gaussian\n",
    "Processes."
   ]
  },
  {
   "cell_type": "markdown",
   "metadata": {},
   "source": [
    "### 3.2.1 Formula\n",
    "\n",
    "The formula of the Gaussian distribution is described by the following\n",
    "equation:\n",
    "\n",
    "$$\n",
    "\\mathcal{N}(\\rx=x ; \\mu,\\,\\sigma^{2}) = \\frac{1}{\\sqrt{2\\pi \\sigma^2}}e^{-\\frac{1}{2\\sigma^2}(x - \\mu)^2}\n",
    "$$\n",
    "\n",
    "First, the stylized *N* ($\\mathcal{N}$) is the symbol representing the\n",
    "Gaussian distribution.\n",
    "\n",
    "The semicolon in $\\mathcal{N}(\\rx=x ; \\mu,\\,\\sigma^{2})$ indicates that\n",
    "the distribution is *parametrized* by the two parameters $\\mu$ (the mean\n",
    "of the distribution) and $\\sigma^2$ (the variance). (as usual, you can\n",
    "refer to Section 12\n",
    "for details about the notation. This notation is used for instance in\n",
    "Goodfellow, Ian, Yoshua Bengio, and Aaron Courville. Deep learning. MIT\n",
    "press, 2016.) These parameters $\\mu$ and $\\sigma$ are not random\n",
    "variables but determine the distribution (the mean shifts the curve and\n",
    "the variance changes the width of the bell, as you’ll see in this\n",
    "section).\n",
    "\n",
    "The distribution is a function of $x$, which is an outcome of the random\n",
    "variable $\\rx$. This is the input of the function.\n",
    "\n",
    "The part of the equation $\\frac{1}{\\sqrt{2\\pi \\sigma^2}}$ is used to\n",
    "normalize the curve so that the total area under the curve is equal to\n",
    "one.\n",
    "\n",
    "Let’s implement the Gaussian function:"
   ]
  },
  {
   "cell_type": "code",
   "execution_count": 2,
   "metadata": {
    "execution": {
     "iopub.execute_input": "2021-03-23T10:38:48.671347Z",
     "iopub.status.busy": "2021-03-23T10:38:48.670772Z",
     "iopub.status.idle": "2021-03-23T10:38:48.672485Z",
     "shell.execute_reply": "2021-03-23T10:38:48.672888Z"
    }
   },
   "outputs": [],
   "source": [
    "def gaussian(x, mu, sigma):\n",
    "    return (1 / np.sqrt(2 * np.pi * sigma ** 2)) *\\\n",
    "        np.exp(-(1 / (2 * sigma ** 2)) * (x - mu) ** 2)"
   ]
  },
  {
   "cell_type": "markdown",
   "metadata": {},
   "source": [
    "Let’s plot a Gaussian function with a mean of 0.5 and a standard\n",
    "deviation of 0.1. You can create an array (`x_axis`) using `np.arange()`\n",
    "containing values that will be evaluated by the function (the output\n",
    "will be stored in `y_axis`)."
   ]
  },
  {
   "cell_type": "code",
   "execution_count": 3,
   "metadata": {
    "execution": {
     "iopub.execute_input": "2021-03-23T10:38:48.713342Z",
     "iopub.status.busy": "2021-03-23T10:38:48.712818Z",
     "iopub.status.idle": "2021-03-23T10:38:48.983562Z",
     "shell.execute_reply": "2021-03-23T10:38:48.983937Z"
    }
   },
   "outputs": [
    {
     "data": {
      "image/png": "[encoded data removed]",
      "text/plain": [
       "<Figure size 432x288 with 1 Axes>"
      ]
     },
     "metadata": {
      "needs_background": "dark"
     },
     "output_type": "display_data"
    }
   ],
   "source": [
    "x_axis = np.arange(0, 1, 0.01)\n",
    "y_axis = gaussian(x_axis, 0.5, 0.1)\n",
    "plt.plot(x_axis, y_axis)\n",
    "\n",
    "plt.xlabel(\"$x$\")\n",
    "plt.show()\n"
   ]
  },
  {
    "cell_type": "markdown",
   "metadata": {},
   "source": [
    "<img src=\"images/blank.png\" id=\"fig:ch04_output_gaussian_example\" alt=\"Figure 47: An example of Gaussian distribution, with a mean of 0.5 and a standard deviation of 0.1.\" />\n",
    "Figure 47: An example of Gaussian distribution, with a mean of 0.5 and a standard deviation of 0.1.\n",
    "\n",
    "Figure [47](#fig:ch04_output_gaussian_example) shows a normal\n",
    "distribution with mean 0.5 and standard deviation 0.1."
   ]
  },
  {
   "cell_type": "markdown",
   "metadata": {},
   "source": [
    "### 3.2.2 Parameters\n",
    "\n",
    "You saw that Gaussian distributions are parametrized by two parameters:\n",
    "the mean ($\\mu$) and the variance ($\\sigma^2$).\n",
    "\n",
    "The width of the curve depends on the variance $\\sigma^2$: a wide bell\n",
    "shape corresponds to a large variance. (in addition, the inverse of the\n",
    "variance $\\frac{1}{\\sigma^2}$ is called the *precision*: a small\n",
    "precision corresponds to a wide bell shape)\n",
    "\n",
    "Let’s see the effect of $\\sigma$:"
   ]
  },
  {
   "cell_type": "code",
   "execution_count": 4,
   "metadata": {
    "execution": {
     "iopub.execute_input": "2021-03-23T10:38:49.022515Z",
     "iopub.status.busy": "2021-03-23T10:38:49.021975Z",
     "iopub.status.idle": "2021-03-23T10:38:49.213944Z",
     "shell.execute_reply": "2021-03-23T10:38:49.214415Z"
    }
   },
   "outputs": [
    {
     "data": {
      "image/png": "[encoded data removed]",
      "text/plain": [
       "<Figure size 432x288 with 1 Axes>"
      ]
     },
     "metadata": {
      "needs_background": "dark"
     },
     "output_type": "display_data"
    }
   ],
   "source": [
    "\n",
    "x_axis = np.arange(0, 1, 0.01)\n",
    "\n",
    "plt.plot(x_axis, gaussian(x_axis, 0.5, 0.1), label=\"$\\sigma=0.1$\")\n",
    "plt.plot(x_axis, gaussian(x_axis, 0.5, 0.15), label=\"$\\sigma=0.15$\")\n",
    "plt.plot(x_axis, gaussian(x_axis, 0.5, 0.2), label=\"$\\sigma=0.2$\")\n",
    "plt.legend()\n",
    "plt.show()\n"
   ]
  },
  {
    "cell_type": "markdown",
   "metadata": {},
   "source": [
    "<img src=\"images/blank.png\" id=\"fig:ch04_output_gaussian_effect_sigma\" alt=\"Figure 48: Effect of the standard deviation \\sigma on the scale of the normal distribution.\" />\n",
    "Figure 48: Effect of the standard deviation <span class=\"math inline\"><em>σ</em></span> on the scale of the normal distribution.\n",
    "\n",
    "Figure [48](#fig:ch04_output_gaussian_effect_sigma) shows the effect of\n",
    "the standard deviation on the shape of the normal distribution.\n",
    "\n",
    "Here is an example of the effect of the mean $\\mu$:"
   ]
  },
  {
   "cell_type": "code",
   "execution_count": 5,
   "metadata": {
    "execution": {
     "iopub.execute_input": "2021-03-23T10:38:49.253309Z",
     "iopub.status.busy": "2021-03-23T10:38:49.252780Z",
     "iopub.status.idle": "2021-03-23T10:38:49.456394Z",
     "shell.execute_reply": "2021-03-23T10:38:49.456983Z"
    }
   },
   "outputs": [
    {
     "data": {
      "image/png": "[encoded data removed]",
      "text/plain": [
       "<Figure size 432x288 with 1 Axes>"
      ]
     },
     "metadata": {
      "needs_background": "dark"
     },
     "output_type": "display_data"
    }
   ],
   "source": [
    "\n",
    "x_axis = np.arange(0, 1, 0.01)\n",
    "\n",
    "plt.plot(x_axis, gaussian(x_axis, 0.3, 0.1), label=\"$\\mu=0.3$\")\n",
    "plt.plot(x_axis, gaussian(x_axis, 0.5, 0.1), label=\"$\\mu=0.5$\")\n",
    "plt.plot(x_axis, gaussian(x_axis, 0.7, 0.1), label=\"$\\mu=0.7$\")\n",
    "plt.legend()\n",
    "plt.show()\n"
   ]
  },
  {
    "cell_type": "markdown",
   "metadata": {},
   "source": [
    "<img src=\"images/blank.png\" id=\"fig:ch04_output_gaussian_effect_mu\" alt=\"Figure 49: Effect of the mean \\mu on the normal distribution.\" />\n",
    "Figure 49: Effect of the mean <span class=\"math inline\"><em>μ</em></span> on the normal distribution.\n",
    "\n",
    "Figure [49](#fig:ch04_output_gaussian_effect_mu) shows that the mean\n",
    "shifts the curve without changing its shape."
   ]
  },
  {
   "cell_type": "markdown",
   "metadata": {},
   "source": [
    "### 3.2.3 Requirements\n",
    "\n",
    "The Gaussian function satisfies the requirements of probability density\n",
    "distributions.\n",
    "\n",
    "First, it returns only non-negative outputs:\n",
    "\n",
    "$$\n",
    "\\mathcal{N}(\\rx=x ; \\mu,\\,\\sigma^{2}) \\geq 0\n",
    "$$\n",
    "\n",
    "Second, the total area under the curve (corresponding to the total\n",
    "probability) is equal to 1:\n",
    "\n",
    "$$\n",
    "\\int_{-\\infty}^{+\\infty} \\mathcal{N}(x ; \\mu,\\,\\sigma^{2}) \\; dx = 1\n",
    "$$\n",
    "\n",
    "The normal distribution is widely used partly because a lot of random\n",
    "events are well described by it. One reason for that comes from the\n",
    "central limit theorem as you saw in the hands-on project in\n",
    "Section 2.7.\n",
    "\n",
    "3.3 Bernoulli Distribution\n",
    "--------------------------\n",
    "\n",
    "The *Bernoulli distribution*, named after the mathematician Jacob\n",
    "Bernoulli, describes binary experiments where outcomes can only be 0 or\n",
    "1 (such as a coin flip). This distribution has a single parameter $\\mu$\n",
    "(you can read other names denoting this parameter, such as $\\phi$ and\n",
    "$\\theta$), such as $0 \\leq \\mu \\leq 1$. This represents the probability\n",
    "that the outcome will be 1, so you have:\n",
    "\n",
    "$$\n",
    "P(\\rx=1 ; \\mu) = \\mu\n",
    "$$\n",
    "\n",
    "This means that the probability that the random variable $\\rx$ takes the\n",
    "value 1 is equal to $\\mu$ (because of the semicolon).\n",
    "\n",
    "Similarly, the probability that the random variable $\\rx$ takes the\n",
    "value 0 corresponds to $1 - \\mu$:\n",
    "\n",
    "$$\n",
    "P(\\rx=0 ; \\mu) = 1 - \\mu\n",
    "$$\n",
    "\n",
    "For instance, if you have a biased coin that lands ‘heads’ in 80% of the\n",
    "throws, and that a random variable $\\rx$ maps ‘heads’ to 1 and ‘tails’\n",
    "to 0, you have $\\mu=0.8$. The probability to land ‘tails’ is then\n",
    "$1-\\mu=1-0.8=0.2$, or 20%.\n",
    "\n",
    "The Bernoulli probability distribution can encode both of these\n",
    "probabilities ($P(\\rx=1 ; \\mu)$ and $P(\\rx=0 ; \\mu)$) in a single\n",
    "expression:\n",
    "\n",
    "$$\n",
    "\\text{Bern}(\\rx=x ; \\mu) = \\mu^x(1 - \\mu)^{1-x}\n",
    "$$\n",
    "\n",
    "This is the Bernoulli probability distribution. Since a number raised at\n",
    "the power 0 is equal to 1, and doesn’t change when it is raised to the\n",
    "power of 1, you can check that it works for the two possible outcomes 0\n",
    "and 1:\n",
    "\n",
    "$$\n",
    "\\text{Bern}(\\rx=0 ; \\mu) = \\mu^0(1 - \\mu)^{1-0} = 1 \\cdot (1 - \\mu) = 1 - \\mu\n",
    "$$\n",
    "\n",
    "and\n",
    "\n",
    "$$\n",
    "\\text{Bern}(\\rx=1 ; \\mu) = \\mu^1(1 - \\mu)^{1-1} = \\mu\n",
    "$$\n",
    "\n",
    "You can also check that the sum of the probabilities is equal to 1, as\n",
    "it should be for a probability distribution:\n",
    "\n",
    "$$\n",
    "\\begin{aligned}\n",
    "\\sum_{x=0}^1 \\text{Bern}(\\rx=x ; \\mu) &= \\text{Bern}(\\rx=0 ; \\mu) + \\text{Bern}(\\rx=1 ; \\mu) \\\\\\\\\n",
    "&= 1 - \\mu + \\mu \\\\\\\\\n",
    "&= 1\n",
    "\\end{aligned}\n",
    "$$\n",
    "\n",
    "3.4 Binomial Distribution\n",
    "-------------------------"
   ]
  },
  {
   "cell_type": "markdown",
   "metadata": {},
   "source": [
    "### 3.4.1 Description\n",
    "\n",
    "You can use *Binomial distributions* when a binary experiment is ran\n",
    "multiple times. You can use the binomial distribution to answer\n",
    "questions like: “What is the probability of getting ‘heads’ twice if you\n",
    "flip a coin three times?” Bernoulli distributions are a special case of\n",
    "binomial distributions, when the experiment is ran once.\n",
    "\n",
    "The binomial distribution is defined as follows:\n",
    "\n",
    "$$\n",
    "\\text{Bin}(m ;N, \\mu)  = \\binom{N}{m} \\mu^m (1-\\mu)^{N-m}\n",
    "$$\n",
    "\n",
    "The binomial distribution (denoted as $\\text{Bin}$) gives the\n",
    "probability of getting $m$ positive outcome over $N$ trials.\n",
    "\n",
    "To understand this expression, let’s consider the example of multiple\n",
    "coin flips: you want to know the probability of getting ‘heads’ twice in\n",
    "three coin flip. Let’s say that the outcome ‘heads’ is encoded as 1\n",
    "(positive trial) and ‘tails’ as 0. Since you ask for the probability to\n",
    "have two ‘heads’ and three trials, $m=2$ and $N=3$ in the formula. As\n",
    "with the Bernoulli distribution, $\\mu$ is the parameter corresponding to\n",
    "the probability to get the positive outcome (in our case, ‘heads’).\n",
    "Let’s say that the coin is fair, so $\\mu= 0.5$.\n",
    "\n",
    "First, $\\mu^m$ encodes the fact that you want $m$ ‘heads’, each having\n",
    "the probability $\\mu$ of occurring. Since the trials are independent,\n",
    "you can multiply the probabilities. In the example, the probability of\n",
    "getting two ‘heads’ is thus $\\mu \\times \\mu = \\mu^2$. More generally,\n",
    "the probability of getting $m$ ‘heads’ is $\\mu^m$.\n",
    "\n",
    "Second, $(1-\\mu)^{N-m}$ encodes the probabilities for the remaining\n",
    "trials. In the example, you still need to multiply by the probability of\n",
    "getting one ‘tails’ in the last trial: you don’t want three heads, but\n",
    "exactly two. This is expressed by the probability of getting ‘tails’\n",
    "($1-\\mu$) raised to the power of the number of times you want ‘tails’,\n",
    "which is the number of remaining trials: $N-m$.\n",
    "\n",
    "Note that with $\\mu^m (1-\\mu)^{N-m}$ you don’t consider the fact that\n",
    "multiple combinations are possible. For instance, if you get “heads”,\n",
    "“heads”, and “tails”, you have exactly two “heads”, but it is also\n",
    "possible to get “tails”, “heads”, and “heads”. This is the purpose of\n",
    "$\\binom{N}{m}$. It is pronounced “$N$ choose $m$” and it is called the\n",
    "*binomial coefficient*. It refers to the number of possible\n",
    "combinations, with $N$ being the number of trials (3 in our last\n",
    "example) and $m$ the number of positive outcomes (in our example, 2).\n",
    "\n",
    "It is calculated as follows:\n",
    "\n",
    "$$\n",
    "\\binom{N}{m} = \\frac{N!}{(N-m)!m!} \\text{ for } m \\leq N\n",
    "$$\n",
    "\n",
    "The exclamation point means *factorial* (for instance, $N!$ is\n",
    "pronounced “$N$ factorial”), which refers to multiplying the number by\n",
    "itself minus one until you reach one. For instance,\n",
    "\n",
    "$$\n",
    "4! = 4 \\cdot 3 \\cdot 2 \\cdot 1\n",
    "$$\n",
    "\n",
    "Note that $0!=1$ by convention.\n",
    "\n",
    "Let’s calculate the binomial coefficient for our last example:"
   ]
  },
  {
   "cell_type": "code",
   "execution_count": 6,
   "metadata": {
    "execution": {
     "iopub.execute_input": "2021-03-23T10:38:49.461504Z",
     "iopub.status.busy": "2021-03-23T10:38:49.460856Z",
     "iopub.status.idle": "2021-03-23T10:38:49.463095Z",
     "shell.execute_reply": "2021-03-23T10:38:49.462645Z"
    }
   },
   "outputs": [],
   "source": [
    "def binomial_coeff(N, m):\n",
    "    return np.math.factorial(N) / (np.math.factorial(N-m) * np.math.factorial(m))"
   ]
  },
  {
   "cell_type": "code",
   "execution_count": 7,
   "metadata": {
    "execution": {
     "iopub.execute_input": "2021-03-23T10:38:49.466990Z",
     "iopub.status.busy": "2021-03-23T10:38:49.466296Z",
     "iopub.status.idle": "2021-03-23T10:38:49.468969Z",
     "shell.execute_reply": "2021-03-23T10:38:49.469481Z"
    }
   },
   "outputs": [
    {
     "data": {
      "text/plain": [
       "3.0"
      ]
     },
     "execution_count": 1,
     "metadata": {},
     "output_type": "execute_result"
    }
   ],
   "source": [
    "binomial_coeff(N=3, m=2)"
   ]
  },
  {
   "cell_type": "markdown",
   "metadata": {},
   "source": [
    "This means that there are three possible ways to get two ‘heads’ with\n",
    "three flips.\n",
    "\n",
    "You can do it manually to understand this result. First, list the\n",
    "possible outcomes (‘heads’ is represented as “H” and ‘tails’ as “T”.):\n",
    "HHH, HHT, HTH, THH, HTT, THT, TTH, or TTT.\n",
    "\n",
    "So there are 8 possibilities. Listing the combinations where you get\n",
    "exactly two heads (HHT, HTH and THH) shows that there are three possible\n",
    "combinations that met the requirements.\n",
    "\n",
    "You can now implement the binomial function:"
   ]
  },
  {
   "cell_type": "code",
   "execution_count": 8,
   "metadata": {
    "execution": {
     "iopub.execute_input": "2021-03-23T10:38:49.473243Z",
     "iopub.status.busy": "2021-03-23T10:38:49.472654Z",
     "iopub.status.idle": "2021-03-23T10:38:49.474152Z",
     "shell.execute_reply": "2021-03-23T10:38:49.474565Z"
    }
   },
   "outputs": [],
   "source": [
    "def binomial(m, N, mu):\n",
    "    return binomial_coeff(N=N, m=m) * (mu ** m)  * ((1 - mu) ** (N - m))"
   ]
  },
  {
   "cell_type": "markdown",
   "metadata": {},
   "source": [
    "Note that this implementation is for illustration purpose but will\n",
    "overflow with larger values of $N$ and $m$."
   ]
  },
  {
   "cell_type": "code",
   "execution_count": 9,
   "metadata": {
    "execution": {
     "iopub.execute_input": "2021-03-23T10:38:49.478117Z",
     "iopub.status.busy": "2021-03-23T10:38:49.477529Z",
     "iopub.status.idle": "2021-03-23T10:38:49.479720Z",
     "shell.execute_reply": "2021-03-23T10:38:49.480298Z"
    }
   },
   "outputs": [
    {
     "data": {
      "text/plain": [
       "0.375"
      ]
     },
     "execution_count": 1,
     "metadata": {},
     "output_type": "execute_result"
    }
   ],
   "source": [
    "binomial(m=2, N=3, mu=0.5)"
   ]
  },
  {
   "cell_type": "markdown",
   "metadata": {},
   "source": [
    "You can also use the function `binom.pmf` from the `scipy.stats` module.\n",
    "(see the documentation here:\n",
    "https://docs.scipy.org/doc/scipy/reference/generated/scipy.stats.binom.html.\n",
    "Note that the name of the parameters are different.)"
   ]
  },
  {
   "cell_type": "code",
   "execution_count": 10,
   "metadata": {
    "execution": {
     "iopub.execute_input": "2021-03-23T10:38:49.483609Z",
     "iopub.status.busy": "2021-03-23T10:38:49.483030Z",
     "iopub.status.idle": "2021-03-23T10:38:49.852538Z",
     "shell.execute_reply": "2021-03-23T10:38:49.853001Z"
    }
   },
   "outputs": [
    {
     "data": {
      "text/plain": [
       "0.375"
      ]
     },
     "execution_count": 1,
     "metadata": {},
     "output_type": "execute_result"
    }
   ],
   "source": [
    "from scipy.stats import binom\n",
    "\n",
    "binom.pmf(2, 3, 0.5)"
   ]
  },
  {
   "cell_type": "markdown",
   "metadata": {},
   "source": [
    "You get $0.375=\\frac{3}{8}$, which corresponds also to what you\n",
    "calculated by listing the combinations manually."
   ]
  },
  {
   "cell_type": "markdown",
   "metadata": {},
   "source": [
    "### 3.4.2 Graphical Representation\n",
    "\n",
    "You can calculate the probability of getting various numbers of ‘heads’\n",
    "for, say 100 trials, and plot the distribution."
   ]
  },
  {
   "cell_type": "code",
   "execution_count": 11,
   "metadata": {
    "execution": {
     "iopub.execute_input": "2021-03-23T10:38:49.949549Z",
     "iopub.status.busy": "2021-03-23T10:38:49.949008Z",
     "iopub.status.idle": "2021-03-23T10:38:50.110021Z",
     "shell.execute_reply": "2021-03-23T10:38:50.110452Z"
    }
   },
   "outputs": [
    {
     "data": {
      "image/png": "[encoded data removed]",
      "text/plain": [
       "<Figure size 432x288 with 1 Axes>"
      ]
     },
     "metadata": {
      "needs_background": "dark"
     },
     "output_type": "display_data"
    }
   ],
   "source": [
    "N = 100\n",
    "all_binomial_proba = np.zeros(N + 1)\n",
    "for i in range(N + 1):\n",
    "    all_binomial_proba[i] = binom.pmf(i, N, 0.5)\n",
    "\n",
    "plt.bar(np.arange(len(all_binomial_proba)), all_binomial_proba, width=0.7)\n",
    "# [...] Add axes\n",
    "\n",
    "plt.xlabel(\"Number of Heads\")\n",
    "plt.ylabel(\"Probability\")\n",
    "plt.show()\n"
   ]
  },
  {
    "cell_type": "markdown",
   "metadata": {},
   "source": [
    "<img src=\"images/blank.png\" id=\"fig:ch04_output_binomial_distribution_large_number\" alt=\"Figure 50: Probability to get various numbers of N in 100 trials.\" />\n",
    "Figure 50: Probability to get various numbers of <span class=\"math inline\"><em>N</em></span> in 100 trials.\n",
    "\n",
    "Here is how you can interpret Figure\n",
    "[50](#fig:ch04_output_binomial_distribution_large_number): you have a\n",
    "large probability to get around 50 ‘heads’ (because in this example,\n",
    "$\\mu=0.5$). This probability decreases for a smaller or larger number of\n",
    "‘heads’. For instance, it is quite not probable to get 70 ‘heads’ over\n",
    "the 100 trials.\n",
    "\n",
    "You can see that when the number of trials is large enough, the\n",
    "distribution looks like the normal distribution. This shows that the\n",
    "binomial distribution can be approximated by normal distributions for\n",
    "large $N$.\n",
    "\n",
    "3.5 Poisson Distribution\n",
    "------------------------\n",
    "\n",
    "The *Poisson distribution*, named after the French mathematician Denis\n",
    "Simon Poisson, is a discrete distribution function describing the\n",
    "probability that an event will occur a certain number of times in a\n",
    "fixed time (or space) interval. It is used to model count-based data,\n",
    "like the number of emails arriving in your mailbox in one hour or the\n",
    "number of customers walking into a shop in one day, for instance."
   ]
  },
  {
    "cell_type": "markdown",
   "metadata": {},
   "source": [
    "### 3.5.1 Mathematical Definition\n",
    "\n",
    "Let’s start with an example, Figure [51](#fig:ch04_poisson_ex) shows the\n",
    "number of emails received by Sarah in intervals of one hour.\n",
    "\n",
    "<img src=\"images/ch04_poisson_ex.png\" id=\"fig:ch04_poisson_ex\" width=\"350\" alt=\"Figure 51: Emails received by Sarah in one-hour intervals for the last 100 hours.\" />\n",
    "Figure 51: Emails received by Sarah in one-hour intervals for the last 100 hours.\n",
    "\n",
    "The bar heights show the number of one-hour intervals in which Sarah\n",
    "observed the corresponding number of emails. For instance, the\n",
    "highlighted bar shows that there were around 15 one-hour slots where she\n",
    "received a single email.\n",
    "\n",
    "The Poisson distribution is parametrized by the expected number of\n",
    "events $\\lambda$ (pronounced “lambda”) in a time or space window. The\n",
    "distribution is a function that takes the number of occurrences of the\n",
    "event as input (the integer called $k$ in the next formula) and outputs\n",
    "the corresponding probability (the probability that there are $k$ events\n",
    "occurring).\n",
    "\n",
    "The Poisson distribution, denoted as $\\text{Poi}$ is expressed as\n",
    "follows:\n",
    "\n",
    "$$\n",
    "\\text{Poi}(k ; \\lambda) = \\frac{\\lambda^k e^{-\\lambda}}{k!}\n",
    "$$\n",
    "\n",
    "for $k=0, 1, 2, ...$.\n",
    "\n",
    "The formula of $\\text{Poi}(k ; \\lambda)$ returns the probability of\n",
    "observing $k$ events given the parameter $\\lambda$ which corresponds to\n",
    "the expected number of occurrences in that time slot.\n",
    "\n",
    "Note that both the binomial and the Poisson distributions are discrete:\n",
    "they give probabilities of discrete outcomes: the number of times an\n",
    "event occurs for the Poisson distribution and the number of successes\n",
    "for the binomial distribution. However, while the binomial calculates\n",
    "this discrete number for a discrete number of trials (like the number of\n",
    "coin tosses), the Poisson considers an infinite number of trials (each\n",
    "trial corresponds to a very small portion of time) leading to a very\n",
    "small probability associated with each event.\n",
    "\n",
    "You can refer to\n",
    "Section 3.5.3\n",
    "to see how the Poisson distribution is derived from the binomial\n",
    "distribution."
   ]
  },
  {
   "cell_type": "markdown",
   "metadata": {},
   "source": [
    "### 3.5.2 Example\n",
    "\n",
    "Priya is recording birds in a national park, using a microphone placed\n",
    "in a tree. She is counting the number of times a bird is recorded\n",
    "singing and wants to model the number of birds singing in a minute. For\n",
    "this task, she’ll assume the independence of the detected birds.\n",
    "\n",
    "Looking at the data of the last few hours, Priya observes that on\n",
    "average, there are two birds detected in an interval of one minute. So\n",
    "the value 2 could be a good candidate for the parameter of the\n",
    "distribution $\\lambda$. Her goal is to know the probability that a\n",
    "specific number of birds will sing in the next minute.\n",
    "\n",
    "Let’s implement the Poisson distribution function from the formula you\n",
    "saw above:"
   ]
  },
  {
   "cell_type": "code",
   "execution_count": 12,
   "metadata": {
    "execution": {
     "iopub.execute_input": "2021-03-23T10:38:50.114315Z",
     "iopub.status.busy": "2021-03-23T10:38:50.113717Z",
     "iopub.status.idle": "2021-03-23T10:38:50.115646Z",
     "shell.execute_reply": "2021-03-23T10:38:50.116059Z"
    }
   },
   "outputs": [],
   "source": [
    "def poisson_distribution(k, lambd):\n",
    "    return (lambd ** k * np.exp(-lambd)) / np.math.factorial(k)"
   ]
  },
  {
   "cell_type": "markdown",
   "metadata": {},
   "source": [
    "Remember that $\\lambda$ is the expected number of times a bird sings in\n",
    "a one-minute interval, so in this example, you have $\\lambda=2$. The\n",
    "function `poisson_distribution(k, lambd)` takes the value of $k$ and\n",
    "$\\lambda$ and returns the probability to observe $k$ occurrences (that\n",
    "is, to record $k$ birds singing).\n",
    "\n",
    "For instance, the probability of Priya observing 5 birds in the next\n",
    "minute would be:"
   ]
  },
  {
   "cell_type": "code",
   "execution_count": 13,
   "metadata": {
    "execution": {
     "iopub.execute_input": "2021-03-23T10:38:50.119673Z",
     "iopub.status.busy": "2021-03-23T10:38:50.119077Z",
     "iopub.status.idle": "2021-03-23T10:38:50.121392Z",
     "shell.execute_reply": "2021-03-23T10:38:50.121920Z"
    }
   },
   "outputs": [
    {
     "data": {
      "text/plain": [
       "0.03608940886309672"
      ]
     },
     "execution_count": 1,
     "metadata": {},
     "output_type": "execute_result"
    }
   ],
   "source": [
    "poisson_distribution(k=5, lambd=2)"
   ]
  },
  {
   "cell_type": "markdown",
   "metadata": {},
   "source": [
    "The probability that 5 birds will sing in the next minute is around\n",
    "0.036 (3.6%).\n",
    "\n",
    "As with the binomial function, this will overflow for larger values of\n",
    "$k$. For this reason, you might want to use `poisson` from the module\n",
    "`scipy.stats` (see the doc here:\n",
    "https://docs.scipy.org/doc/scipy/reference/generated/scipy.stats.poisson.html)\n",
    ", as follows:"
   ]
  },
  {
   "cell_type": "code",
   "execution_count": 14,
   "metadata": {
    "execution": {
     "iopub.execute_input": "2021-03-23T10:38:50.125771Z",
     "iopub.status.busy": "2021-03-23T10:38:50.125169Z",
     "iopub.status.idle": "2021-03-23T10:38:50.127452Z",
     "shell.execute_reply": "2021-03-23T10:38:50.127960Z"
    }
   },
   "outputs": [
    {
     "data": {
      "text/plain": [
       "0.03608940886309672"
      ]
     },
     "execution_count": 1,
     "metadata": {},
     "output_type": "execute_result"
    }
   ],
   "source": [
    "from scipy.stats import poisson\n",
    "\n",
    "poisson.pmf(5, 2)"
   ]
  },
  {
   "cell_type": "markdown",
   "metadata": {},
   "source": [
    "Let’s plot the distribution for various values of $k$:"
   ]
  },
  {
   "cell_type": "code",
   "execution_count": 15,
   "metadata": {
    "execution": {
     "iopub.execute_input": "2021-03-23T10:38:50.174269Z",
     "iopub.status.busy": "2021-03-23T10:38:50.161647Z",
     "iopub.status.idle": "2021-03-23T10:38:50.287839Z",
     "shell.execute_reply": "2021-03-23T10:38:50.288282Z"
    }
   },
   "outputs": [
    {
     "data": {
      "image/png": "[encoded data removed]",
      "text/plain": [
       "<Figure size 432x288 with 1 Axes>"
      ]
     },
     "metadata": {
      "needs_background": "dark"
     },
     "output_type": "display_data"
    }
   ],
   "source": [
    "lambd=2\n",
    "\n",
    "k_axis = np.arange(0, 25)\n",
    "distribution = np.zeros(k_axis.shape[0])\n",
    "for i in range(k_axis.shape[0]):\n",
    "    distribution[i] = poisson.pmf(i, lambd)\n",
    "\n",
    "plt.bar(k_axis, distribution)\n",
    "# [...] Add axes, labels...\n",
    "\n",
    "plt.xticks(np.arange(0, 20, 2))\n",
    "plt.xlabel(\"$k$\")\n",
    "plt.ylabel(\"Probability\")\n",
    "plt.show()\n"
   ]
  },
  {
    "cell_type": "markdown",
   "metadata": {},
   "source": [
    "<img src=\"images/blank.png\" id=\"fig:ch04_output_poisson_lambda_2\" alt=\"Figure 52: Poisson distribution for \\lambda=2.\" />\n",
    "Figure 52: Poisson distribution for <span class=\"math inline\"><em>λ</em> = 2</span>.\n",
    "\n",
    "The probabilities corresponding to the values of $k$ are summarized in\n",
    "the probability mass function shown in Figure\n",
    "[52](#fig:ch04_output_poisson_lambda_2). You can see that it is most\n",
    "probable that Priya will hear one or two birds singing in the next\n",
    "minute.\n",
    "\n",
    "Finally, you can plot the function for different values of $\\lambda$:"
   ]
  },
  {
   "cell_type": "code",
   "execution_count": 16,
   "metadata": {
    "execution": {
     "iopub.execute_input": "2021-03-23T10:38:50.392077Z",
     "iopub.status.busy": "2021-03-23T10:38:50.361754Z",
     "iopub.status.idle": "2021-03-23T10:38:51.256847Z",
     "shell.execute_reply": "2021-03-23T10:38:51.257271Z"
    }
   },
   "outputs": [
    {
     "data": {
      "image/png": "[encoded data removed]",
      "text/plain": [
       "<Figure size 432x576 with 7 Axes>"
      ]
     },
     "metadata": {},
     "output_type": "display_data"
    }
   ],
   "source": [
    "f, axes = plt.subplots(6, figsize=(6, 8), sharex=True)\n",
    "\n",
    "for lambd in range(1, 7):\n",
    "\n",
    "    k_axis = np.arange(0, 20)\n",
    "    distribution = np.zeros(k_axis.shape[0])\n",
    "    for i in range(k_axis.shape[0]):\n",
    "        distribution[i] = poisson.pmf(i, lambd)\n",
    "\n",
    "    axes[lambd-1].bar(k_axis, distribution)\n",
    "    axes[lambd-1].set_xticks(np.arange(0, 20, 2))\n",
    "    axes[lambd-1].set_title(f\"$\\lambda$: {lambd}\")\n",
    "    \n",
    "# Add axes labels etc.\n",
    "\n",
    "f.add_subplot(111, frameon=False)\n",
    "plt.tick_params(labelcolor='none', top='off', bottom='off', left='off', right='off')\n",
    "plt.grid(False)\n",
    "plt.xlabel(\"$k$\")\n",
    "plt.ylabel(\"Probability\")\n",
    "f.tight_layout(pad=2.0)\n",
    "plt.show()\n"
   ]
  },
  {
    "cell_type": "markdown",
   "metadata": {},
   "source": [
    "<img src=\"images/blank.png\" id=\"fig:ch04_output_poisson_lambda\" alt=\"Figure 53: Poisson distribution for various values of \\lambda.\" />\n",
    "Figure 53: Poisson distribution for various values of <span class=\"math inline\"><em>λ</em></span>.\n",
    "\n",
    "Figure [53](#fig:ch04_output_poisson_lambda) shows the Poisson\n",
    "distribution for various values of $\\lambda$, which looks a bit like a\n",
    "normal distribution in some cases. However, the Poisson distribution is\n",
    "discrete, not symmetric when the value of $\\lambda$ is low, and bounded\n",
    "to zero."
   ]
  },
  {
    "cell_type": "markdown",
   "metadata": {},
   "source": [
    "### 3.5.3 Bonus: Deriving the Poisson Distribution\n",
    "\n",
    "Let’s see how the Poisson distribution is derived from the Binomial\n",
    "distribution.\n",
    "\n",
    "You saw in Section 3.4 that\n",
    "if you run a random experiment multiple times, the probability to get\n",
    "$m$ successes over $N$ trials, with a probability of a success $\\mu$ at\n",
    "each trial, is calculated through the binomial distribution:\n",
    "\n",
    "$$\n",
    "\\text{Bin}(k ;N, \\mu)  = \\binom{N}{k} \\mu^k (1-\\mu)^{N-k}\n",
    "$$\n",
    "\n",
    "#### Problem Statement\n",
    "\n",
    "How can you use the binomial formula to model the probability to observe\n",
    "an event a certain number of times *in a given time interval* instead of\n",
    "in a certain number of trials? There are a few problems:\n",
    "\n",
    "1.  You don’t know $N$, since there is no specific number of trials,\n",
    "    only a time window.\n",
    "\n",
    "2.  You don’t know $\\mu$, but you have the expected number of times the\n",
    "    event will occur. For instance, you know that in the past 100 hours,\n",
    "    you received an average of 3 emails per hour, and you want to know\n",
    "    the probability of receiving 5 emails in the next hour.\n",
    "\n",
    "Let’s handle these issues mathematically (you can find more details on\n",
    "the process in Morin, David J. Probability: For the Enthusiastic\n",
    "Beginner. Createspace Independent Publishing Platform, 2016. p.209) .\n",
    "\n",
    "To address the first point, you can consider time as small discrete\n",
    "chunks. Let’s call these chunks $\\epsilon$ (pronounced “epsilon”), as\n",
    "shown in Figure [54](#fig:appC_split_time). If you consider each chunk\n",
    "as a trial, you have $N$ chunks.\n",
    "\n",
    "<img src=\"images/appC_split_time.png\" id=\"fig:appC_split_time\" width=\"200\" alt=\"Figure 54: You can split the continuous time in segments of length \\epsilon.\" />\n",
    "Figure 54: You can split the continuous time in segments of length <span class=\"math inline\"><em>ϵ</em></span>.\n",
    "\n",
    "The estimation of a continuous time scale is more accurate when\n",
    "$\\epsilon$ is very small. If $\\epsilon$ is small, the number of segments\n",
    "$N$ will be large. In addition, since the segments are small, the\n",
    "probability of success in each segment is also small.\n",
    "\n",
    "To summarize, you want to modify the binomial distribution to be able to\n",
    "model a very large number of trials, each with a very small probability\n",
    "of success. The trick is to consider that $N$ tends toward infinity\n",
    "(because continuous time is approximated by having a value of $\\epsilon$\n",
    "that tends toward zero).\n",
    "\n",
    "#### Update the Binomial Formula\n",
    "\n",
    "Let’s find $\\mu$ in this case and replace it in the binomial formula.\n",
    "You know the expected number of event in a period of time $t$, which\n",
    "we’ll call $\\lambda$ (pronounced “lambda”). Since you split $t$ into\n",
    "small intervals of length $\\epsilon$, you have the number of trials:\n",
    "\n",
    "$$\n",
    "N=t \\cdot \\epsilon\n",
    "$$\n",
    "\n",
    "You have $\\lambda$ as the number of successes in the $N$ trials. So the\n",
    "probability $\\mu$ to have a success in one trial is:\n",
    "\n",
    "$$\n",
    "\\mu = \\frac{\\lambda}{N}\n",
    "$$\n",
    "\n",
    "Replacing $\\mu$ in the binomial formula, you get:\n",
    "\n",
    "$$\n",
    "\\binom{N}{k} \\left(\\frac{\\lambda}{N} \\right)^k \\left(1 - \\frac{\\lambda}{N} \\right)^{N-k}\n",
    "$$\n",
    "\n",
    "Developing the expression, writing the binomial coefficient as\n",
    "factorials (as you did in\n",
    "Section 3.4), and using the\n",
    "fact $a^{b-c}=a^b a^{-c}$, you have:\n",
    "\n",
    "$$\n",
    "\\frac{N!}{(N-k)!k!} \\left(\\frac{\\lambda}{N} \\right)^k \\left(1 - \\frac{\\lambda}{N} \\right)^{N} \\left(1 - \\frac{\\lambda}{N} \\right)^{-k}\n",
    "$$\n",
    "\n",
    "Let’s consider the first element of this expression. If you state that\n",
    "$N$ tends toward infinity (because $\\epsilon$ tends toward zero), you\n",
    "have:\n",
    "\n",
    "$$\n",
    "\\lim_{N \\to +\\infty} \\frac{N!}{(N-k)!} = N^k\n",
    "$$\n",
    "\n",
    "This is because $k$ can be ignored when it is small in comparison to\n",
    "$N$. For instance, you have:\n",
    "\n",
    "$$\n",
    "\\frac{1,000,000!}{(1,000,000-3)!} = 1,000,000 \\cdot 999,999 \\cdot 999,998\n",
    "$$\n",
    "\n",
    "which approximates $1,000,000 \\cdot 1,000,000 \\cdot 1,000,000$\n",
    "\n",
    "So you the first ratio becomes:\n",
    "\n",
    "$$\n",
    "\\frac{N!}{(N-k)!k!} =  N^k \\cdot \\frac{1}{k!}\n",
    "$$\n",
    "\n",
    "Then, using the fact (you can see this link for an example of proof:\n",
    "https://math.stackexchange.com/questions/882741/limit-of-1-x-nn-when-n-tends-to-infinity)\n",
    "that $\\lim_{N \\to +\\infty}(1+\\frac{\\lambda}{N})^N=e^{\\lambda}$, you\n",
    "have:\n",
    "\n",
    "$$\n",
    "\\lim_{N \\to +\\infty} \\left(1 - \\frac{\\lambda}{N} \\right)^{N} = e^{-\\lambda}\n",
    "$$\n",
    "\n",
    "Finally, since $\\left(1- \\frac{\\lambda}{N} \\right)$ tends toward 1 when\n",
    "$N$ tends toward the infinity:\n",
    "\n",
    "$$\n",
    "\\lim_{N \\to +\\infty} \\left(1- \\frac{\\lambda}{N} \\right)^{-k} =  1^{-k} = 1\n",
    "$$\n",
    "\n",
    "Let’s replace all of this in the formula of the binomial distribution:\n",
    "\n",
    "$$\n",
    "\\begin{aligned}\n",
    "&\\lim_{N \\to +\\infty} \\frac{N!}{(N-k)!k!} \\left(\\frac{\\lambda}{N} \\right)^k \\left(1 - \\frac{\\lambda}{N} \\right)^{N} \\left(1 - \\frac{\\lambda}{N} \\right)^{-k} \\\\\\\\\n",
    "&= \\lim_{N \\to +\\infty} N^k \\cdot \\frac{1}{k!} \\cdot \\left(\\frac{\\lambda}{N} \\right)^k \\cdot e^{-\\lambda} \\cdot 1 \\\\\\\\\n",
    "&= \\lim_{N \\to +\\infty} \\frac{1}{k!} \\cdot \\left(N\\frac{\\lambda}{N} \\right)^k \\cdot e^{-\\lambda} \\\\\\\\\n",
    "&= \\frac{1}{k!} \\cdot \\lambda^k \\cdot e^{-\\lambda} \\\\\\\\\n",
    "&= \\frac{\\lambda^k e^{-\\lambda}}{k!} \\\\\\\\\n",
    "\\end{aligned}\n",
    "$$\n",
    "\n",
    "This is the Poisson distribution, denoted as $\\text{Poi}$:\n",
    "\n",
    "$$\n",
    "\\text{Poi}(k ; \\lambda) = \\frac{\\lambda^k e^{-\\lambda}}{k!}\n",
    "$$\n",
    "\n",
    "for $k=0, 1, 2, ...$.\n",
    "\n",
    "3.6 Exponential Distribution\n",
    "----------------------------\n",
    "\n",
    "You saw in Section 3.5 that a\n",
    "Poisson distribution describes the number of times an event occurs in a\n",
    "fixed interval of time. This number of occurrences corresponds to the\n",
    "parameter $\\lambda$. A related measure, which is modeled by the\n",
    "*exponential distribution*, is the amount of time between two\n",
    "occurrences, where you still assume that the events are independent.\n",
    "\n",
    "The probability density function of exponential distributions is\n",
    "mathematically expressed as:\n",
    "\n",
    "$$\n",
    "\\text{Exp}(x; \\lambda) =\n",
    "\\begin{cases}\n",
    "\\lambda e^{-\\lambda x} & x \\geq 0 \\\\\\\\\n",
    "0 & x \\textless 0\n",
    "\\end{cases}\n",
    "$$\n",
    "\n",
    "The value $\\lambda$ before the exponent tells you the starting point of\n",
    "the decay. You’ll see that this expression can be derived from the\n",
    "Poisson distribution."
   ]
  },
  {
   "cell_type": "markdown",
   "metadata": {},
   "source": [
    "### 3.6.1 Derivation from the Poisson Distribution\n",
    "\n",
    "The Poisson distribution describes the probability that the event will\n",
    "occur $k$ times in one unit of time. Remember from\n",
    "Section 3.5 that the formula\n",
    "of the Poisson distribution is:\n",
    "\n",
    "$$\n",
    "\\text{Poi}(k ; \\lambda) = \\frac{\\lambda^k e^{-\\lambda}}{k!}\n",
    "$$\n",
    "\n",
    "Exponential distribution, on the other hand, can describe the waiting\n",
    "time between events. For a specific waiting time, this can be\n",
    "reformulated as: “What is the probability that zero event will occur in\n",
    "this interval?” This corresponds to a Poisson distribution with $k=0$:\n",
    "\n",
    "$$\n",
    "\\text{Poi}(0 ; \\lambda) = \\frac{\\lambda^0 e^{-\\lambda}}{0!} = e^{-\\lambda}\n",
    "$$\n",
    "\n",
    "So $e^{-\\lambda}$ is the probability that no event will occur in one\n",
    "unit of time. Since events are assumed to be independent, the\n",
    "probability that no event will occur in two units of time is\n",
    "$e^{-\\lambda} \\cdot e^{-\\lambda}$. You can go further and calculate the\n",
    "probability that no event occurs in $x$ unit of times, which would be\n",
    "$e^{-\\lambda x}$.\n",
    "\n",
    "This is called the *survival function* and tells you the probability\n",
    "that no event will occur for at least $x$ time units. Similarly,\n",
    "$1-e^{-\\lambda x}$ is the cumulative distribution function corresponding\n",
    "to the probability that an event will occur in at least $x$ time units.\n",
    "Since probability distribution functions are derivatives of cumulative\n",
    "distribution function, the exponential probability distribution function\n",
    "is the derivative of $1-e^{-\\lambda x}$ with respect to $x$, which is\n",
    "$\\lambda e^{-\\lambda x}$. That is the exponential distribution."
   ]
  },
  {
   "cell_type": "markdown",
   "metadata": {},
   "source": [
    "### 3.6.2 Effect of $\\lambda$\n",
    "\n",
    "Let’s implement the exponential distribution function and visualize the\n",
    "effect of the expected number of events occurring in one unit of time\n",
    "$\\lambda$:"
   ]
  },
  {
   "cell_type": "code",
   "execution_count": 17,
   "metadata": {
    "execution": {
     "iopub.execute_input": "2021-03-23T10:38:51.261118Z",
     "iopub.status.busy": "2021-03-23T10:38:51.260437Z",
     "iopub.status.idle": "2021-03-23T10:38:51.262329Z",
     "shell.execute_reply": "2021-03-23T10:38:51.262750Z"
    }
   },
   "outputs": [],
   "source": [
    "def exponential(x, lambd):\n",
    "    return lambd * np.exp(-lambd * x)"
   ]
  },
  {
   "cell_type": "code",
   "execution_count": 18,
   "metadata": {
    "execution": {
     "iopub.execute_input": "2021-03-23T10:38:51.300888Z",
     "iopub.status.busy": "2021-03-23T10:38:51.300294Z",
     "iopub.status.idle": "2021-03-23T10:38:51.460561Z",
     "shell.execute_reply": "2021-03-23T10:38:51.460986Z"
    }
   },
   "outputs": [
    {
     "data": {
      "image/png": "[encoded data removed]",
      "text/plain": [
       "<Figure size 432x288 with 1 Axes>"
      ]
     },
     "metadata": {
      "needs_background": "dark"
     },
     "output_type": "display_data"
    }
   ],
   "source": [
    "x_axis = np.arange(0, 3, 0.01)\n",
    "plt.plot(x_axis, exponential(x_axis, lambd=1), label=\"$\\lambda$: 1\")\n",
    "plt.plot(x_axis, exponential(x_axis, lambd=3), label=\"$\\lambda$: 3\")\n",
    "plt.plot(x_axis, exponential(x_axis, lambd=5), label=\"$\\lambda$: 5\")\n",
    "\n",
    "plt.legend()\n",
    "plt.show()\n"
   ]
  },
  {
    "cell_type": "markdown",
   "metadata": {},
   "source": [
    "<img src=\"images/blank.png\" id=\"fig:ch04_output_exp_lambda\" alt=\"Figure 55: Exponential distribution for various values of \\lambda.\" />\n",
    "Figure 55: Exponential distribution for various values of <span class=\"math inline\"><em>λ</em></span>.\n",
    "\n",
    "Figure [55](#fig:ch04_output_exp_lambda) shows the effect of the\n",
    "parameter $\\lambda$ on the decay of the exponential distribution: you\n",
    "can see that a large $\\lambda$ corresponds to a fast decay.\n",
    "\n",
    "3.7 Hands-on Project: Waiting for the Bus\n",
    "-----------------------------------------\n",
    "\n",
    "Jamal wants to use the exponential distribution to model how long he\n",
    "would wait the bus. He takes the bus timetables of the bus route he’s\n",
    "interested in, and focuses on a 12-hour time interval (from 8 am to 8\n",
    "pm). He reads that there are 48 buses in this time period, corresponding\n",
    "to an average of 4 buses per hour.\n",
    "\n",
    "We’ll create an array with random samples drawn from a uniform\n",
    "distribution to simulate the buses arriving at Jamal’s stop."
   ]
  },
  {
   "cell_type": "code",
   "execution_count": 19,
   "metadata": {
    "execution": {
     "iopub.execute_input": "2021-03-23T10:38:51.464864Z",
     "iopub.status.busy": "2021-03-23T10:38:51.464262Z",
     "iopub.status.idle": "2021-03-23T10:38:51.466696Z",
     "shell.execute_reply": "2021-03-23T10:38:51.467126Z"
    }
   },
   "outputs": [
    {
     "data": {
      "text/plain": [
       "array([ 8.35763023,  3.43367202,  2.72221744, ...,  3.00546438,\n",
       "        5.79641117, 11.82671743])"
      ]
     },
     "execution_count": 1,
     "metadata": {},
     "output_type": "execute_result"
    }
   ],
   "source": [
    "\n",
    "np.random.seed(123)\n",
    "\n",
    "t = 12\n",
    "n_obs = 48\n",
    "points_in_time = np.random.uniform(0, t, n_obs)\n",
    "points_in_time"
   ]
  },
  {
   "cell_type": "markdown",
   "metadata": {},
   "source": [
    "The variable `points_in_time` contains our simulation of the time of\n",
    "arrivals between 0 (corresponding to 8 am in our example) and 12 (8 pm),\n",
    "so the time unit is one hour.\n",
    "\n",
    "Let’s represent the arrival times with a scatter plot:"
   ]
  },
  {
   "cell_type": "code",
   "execution_count": 20,
   "metadata": {
    "execution": {
     "iopub.execute_input": "2021-03-23T10:38:51.498288Z",
     "iopub.status.busy": "2021-03-23T10:38:51.494222Z",
     "iopub.status.idle": "2021-03-23T10:38:51.573575Z",
     "shell.execute_reply": "2021-03-23T10:38:51.573995Z"
    }
   },
   "outputs": [
    {
     "data": {
      "image/png": "[encoded data removed]",
      "text/plain": [
       "<Figure size 432x288 with 1 Axes>"
      ]
     },
     "metadata": {
      "needs_background": "dark"
     },
     "output_type": "display_data"
    }
   ],
   "source": [
    "plt.scatter(points_in_time, np.repeat(1, points_in_time.shape[0]), s=20)\n",
    "\n",
    "plt.show()\n"
   ]
  },
  {
    "cell_type": "markdown",
   "metadata": {},
   "source": [
    "<img src=\"images/blank.png\" id=\"fig:ch04_output_time_arrival\" alt=\"Figure 56: Time of arrival randomly drawn from a uniform distribution.\" />\n",
    "Figure 56: Time of arrival randomly drawn from a uniform distribution.\n",
    "\n",
    "The time of arrival of the 48 buses between 8 am and 8 pm is illustrated\n",
    "in Figure [56](#fig:ch04_output_time_arrival).\n",
    "\n",
    "The waiting time corresponds to the difference between two points (this\n",
    "is the waiting time between two buses). To model these waiting times,\n",
    "you need to calculate the time between each point. To do that, let’s\n",
    "sort the array and calculate the differences between each point and the\n",
    "one before:"
   ]
  },
  {
   "cell_type": "code",
   "execution_count": 21,
   "metadata": {
    "execution": {
     "iopub.execute_input": "2021-03-23T10:38:51.577596Z",
     "iopub.status.busy": "2021-03-23T10:38:51.577024Z",
     "iopub.status.idle": "2021-03-23T10:38:51.579044Z",
     "shell.execute_reply": "2021-03-23T10:38:51.579461Z"
    }
   },
   "outputs": [],
   "source": [
    "points_in_time = np.sort(points_in_time)\n",
    "diff = points_in_time[1:] - points_in_time[:-1]\n"
   ]
  },
  {
   "cell_type": "markdown",
   "metadata": {},
   "source": [
    "You can now look at the distribution of the waiting time.:"
   ]
  },
  {
   "cell_type": "code",
   "execution_count": 22,
   "metadata": {
    "execution": {
     "iopub.execute_input": "2021-03-23T10:38:51.615268Z",
     "iopub.status.busy": "2021-03-23T10:38:51.614752Z",
     "iopub.status.idle": "2021-03-23T10:38:51.685174Z",
     "shell.execute_reply": "2021-03-23T10:38:51.685539Z"
    }
   },
   "outputs": [
    {
     "data": {
      "image/png": "[encoded data removed]",
      "text/plain": [
       "<Figure size 432x288 with 1 Axes>"
      ]
     },
     "metadata": {
      "needs_background": "dark"
     },
     "output_type": "display_data"
    }
   ],
   "source": [
    "hist = plt.hist(diff, bins=10)"
   ]
  },
  {
    "cell_type": "markdown",
   "metadata": {},
   "source": [
    "<img src=\"images/blank.png\" id=\"fig:ch04_output_waiting_time_distribution\" alt=\"Figure 57: Distribution of the waiting times.\" />\n",
    "Figure 57: Distribution of the waiting times.\n",
    "\n",
    "You can see in Figure [57](#fig:ch04_output_waiting_time_distribution)\n",
    "that the distribution of the waiting times is characterized by more\n",
    "values around 0 and a rapid decay. This shape is actually the shape of\n",
    "an exponential function: an exponential decay, mathematically expressed\n",
    "with a negative value in the exponent. It shows that an exponential\n",
    "function can describe the duration between occurrences of an event (with\n",
    "the events occurring at a constant rate and independently, as we assume\n",
    "for Poisson distributed events).\n",
    "\n",
    "**More Observations**\n",
    "\n",
    "Jamal got more data and he now considers 100 days from 8 am to 8 pm\n",
    "(here, the data is still randomly generated with the function\n",
    "`np.random.uniform()`). You can use `density=True` in the `hist()`\n",
    "function of Matplotlib to have the density on the $y$-axis instead of\n",
    "the counts, and plot the exponential function as a line on the top of\n",
    "the histogram."
   ]
  },
  {
   "cell_type": "code",
   "execution_count": 23,
   "metadata": {
    "execution": {
     "iopub.execute_input": "2021-03-23T10:38:51.728380Z",
     "iopub.status.busy": "2021-03-23T10:38:51.702183Z",
     "iopub.status.idle": "2021-03-23T10:38:51.821166Z",
     "shell.execute_reply": "2021-03-23T10:38:51.821529Z"
    }
   },
   "outputs": [
    {
     "data": {
      "image/png": "[encoded data removed]",
      "text/plain": [
       "<Figure size 432x288 with 1 Axes>"
      ]
     },
     "metadata": {
      "needs_background": "dark"
     },
     "output_type": "display_data"
    }
   ],
   "source": [
    "np.random.seed(123)\n",
    "n_days = 100\n",
    "\n",
    "lambd = 1\n",
    "\n",
    "t = 12 * n_days\n",
    "n_obs = int(t / lambd)\n",
    "\n",
    "point_in_time = np.random.uniform(0, t, n_obs)\n",
    "point_in_time = np.sort(point_in_time)\n",
    "\n",
    "diff = point_in_time[1:] - point_in_time[:-1]\n",
    "hist = plt.hist(diff, bins=25, density=True,\n",
    "        range=(0, t / n_days))\n",
    "\n",
    "x_axis = np.arange(0, t / n_days, (t / n_days) / 100)\n",
    "plt.plot(x_axis, lambd * np.exp(- lambd * x_axis))\n",
    "\n",
    "plt.xlim(0, t / n_days)\n",
    "plt.ylim(0, 0.8)\n",
    "plt.show()"
   ]
  },
  {
    "cell_type": "markdown",
   "metadata": {},
   "source": [
    "<img src=\"images/blank.png\" id=\"fig:ch04_output_waiting_time_more_observations\" alt=\"Figure 58: Bus waiting time example with more observations.\" />\n",
    "Figure 58: Bus waiting time example with more observations.\n",
    "\n",
    "You can see in Figure\n",
    "[58](#fig:ch04_output_waiting_time_more_observations) that the histogram\n",
    "corresponds to the exponential probability density function.\n",
    "\n",
    "You saw in this hands-on project how exponential functions are good\n",
    "candidates to model events like waiting times. This concludes this\n",
    "chapter on common probability distributions: you learned about the\n",
    "uniform, the Gaussian, the Bernoulli, the binomial, the Poisson and the\n",
    "exponential distributions. You’ll need this knowledge about probability\n",
    "distributions in the next chapter, for instance to understand the notion\n",
    "of likelihood used to know the probability that some data comes from a\n",
    "specific distribution and parameters.\n",
    "\n"
   ]
  }
 ],
 "metadata": {
  "language_info": {
   "codemirror_mode": {
    "name": "ipython",
    "version": 3
   },
   "file_extension": ".py",
   "mimetype": "text/x-python",
   "name": "python",
   "nbconvert_exporter": "python",
   "pygments_lexer": "ipython3",
   "version": "3.8.5"
  }
 },
 "nbformat": 4,
 "nbformat_minor": 5
}

{
 "cells": [
  {
   "cell_type": "code",
   "execution_count": 1,
   "metadata": {
    "execution": {
     "iopub.execute_input": "2021-03-23T10:38:22.658193Z",
     "iopub.status.busy": "2021-03-23T10:38:22.657512Z",
     "iopub.status.idle": "2021-03-23T10:38:23.068213Z",
     "shell.execute_reply": "2021-03-23T10:38:23.068590Z"
    }
   },
   "outputs": [],
   "source": [
    "# Basic imports\n",
    "import numpy as np\n",
    "import pandas as pd\n",
    "import matplotlib.pyplot as plt\n",
    "import matplotlib\n",
    "from mpl_toolkits.mplot3d import Axes3D\n",
    "from matplotlib import ticker\n",
    "\n",
    "# Display options\n",
    "from IPython.display import display\n",
    "pd.options.display.max_columns = None\n",
    "\n",
    "np.set_printoptions(threshold=30)\n",
    "\n",
    "# Plots style\n",
    "from cycler import cycler\n",
    "\n",
    "matplotlib.rcParams['lines.linewidth'] = 3\n",
    "matplotlib.rcParams['lines.markersize'] = 10\n",
    "\n",
    "matplotlib.rcParams['xtick.labelsize'] = 12\n",
    "matplotlib.rcParams['xtick.color'] = '#A9A9A9'\n",
    "matplotlib.rcParams['ytick.labelsize'] = 12\n",
    "matplotlib.rcParams['ytick.color'] = '#A9A9A9'\n",
    "\n",
    "matplotlib.rcParams['grid.color'] = '#ffffff'\n",
    "\n",
    "matplotlib.rcParams['axes.facecolor'] = '#ffffff'\n",
    "\n",
    "matplotlib.rcParams['axes.spines.left'] = False\n",
    "matplotlib.rcParams['axes.spines.right'] = False\n",
    "matplotlib.rcParams['axes.spines.top'] = False\n",
    "matplotlib.rcParams['axes.spines.bottom'] = False\n",
    "\n",
    "matplotlib.rcParams['axes.prop_cycle'] = cycler(color=['#2EBCE7', '#84EE29', '#FF8177'])"
   ]
  },
  {
   "cell_type": "markdown",
   "metadata": {},
   "source": [
    "$$\n",
    "\\def\\var{{\\text{Var}}} % Variance\n",
    "\\def\\corr{{\\text{Corr}}} % Correlation\n",
    "\\def\\cov{{\\text{Cov}}} % Covariance\n",
    "\\DeclareMathOperator{\\expval}{\\mathbb{E}} % expected value\\n\n",
    "\\newcommand\\norm[1]{\\lVert#1\\rVert} % norm\n",
    "\\def\\setR{{\\rm I\\!R}} % Sets\n",
    "\\def\\rx{{\\textrm{X}}} % Scalar random variables\n",
    "\\def\\ry{{\\textrm{Y}}}\n",
    "\\def\\rz{{\\textrm{Z}}}\n",
    "\\def\\rvx{{\\textbf{X}}} % Vector random variables\n",
    "\\def\\rvy{{\\textbf{Y}}}\n",
    "\\def\\rvz{{\\textbf{Z}}}\n",
    "\\def\\vtheta{{\\boldsymbol{\\theta}}} % Vectors\n",
    "\\def\\va{{\\boldsymbol{a}}}\n",
    "\\def\\vb{{\\boldsymbol{b}}}\n",
    "\\def\\vi{{\\boldsymbol{i}}}\n",
    "\\def\\vj{{\\boldsymbol{j}}}\n",
    "\\def\\vp{{\\boldsymbol{p}}}\n",
    "\\def\\vq{{\\boldsymbol{q}}}\n",
    "\\def\\vu{{\\boldsymbol{u}}}\n",
    "\\def\\vv{{\\boldsymbol{v}}}\n",
    "\\def\\vw{{\\boldsymbol{w}}}\n",
    "\\def\\vx{{\\boldsymbol{x}}}\n",
    "\\def\\vy{{\\boldsymbol{y}}}\n",
    "\\def\\vz{{\\boldsymbol{z}}}\n",
    "\\def\\evu{{u}} % Elements of vectors\n",
    "\\def\\evv{{v}}\n",
    "\\def\\evw{{w}}\n",
    "\\def\\evx{{x}}\n",
    "\\def\\evy{{y}}\n",
    "\\def\\evz{{z}}\n",
    "\\def\\mA{{\\boldsymbol{A}}} % Matrices\n",
    "\\def\\mB{{\\boldsymbol{B}}}\n",
    "\\def\\mC{{\\boldsymbol{C}}}\n",
    "\\def\\mD{{\\boldsymbol{D}}}\n",
    "\\def\\mI{{\\boldsymbol{I}}}\n",
    "\\def\\mQ{{\\boldsymbol{Q}}}\n",
    "\\def\\mS{{\\boldsymbol{S}}}\n",
    "\\def\\mT{{\\boldsymbol{T}}}\n",
    "\\def\\mU{{\\boldsymbol{U}}}\n",
    "\\def\\mV{{\\boldsymbol{V}}}\n",
    "\\def\\mW{{\\boldsymbol{W}}}\n",
    "\\def\\mX{{\\boldsymbol{X}}}\n",
    "\\def\\mLambda{{\\boldsymbol{\\Lambda}}}\n",
    "\\def\\mSigma{{\\boldsymbol{\\Sigma}}}\n",
    "\\def\\emA{{A}} % Elements of matrices\n",
    "\\def\\emB{{B}}\n",
    "\\def\\emX{{X}}\n",
    "\\def\\tT{{T}} % Transformations\n",
    "$$\n",
    "\n",
    "\n",
    "\n",
    "One goal of data science is to find patterns in data. For instance, if\n",
    "you try to predict the price of an appartement, you can look at a lot of\n",
    "different appartements and their sell prices, and try to understand the\n",
    "link between the appartment features and prices. It is a common practice\n",
    "in science: using observations to understand systems.\n",
    "\n",
    "The goal of probability is to deal with uncertainty. To make sense of\n",
    "data through machine learning, you have to deal with uncertainty. There\n",
    "are multiple possible sources of uncertainty. It can comes from the data\n",
    "itself, from the data that you don’t have, from the inherent\n",
    "stochasticity of the system you want to model, from the simplicity of\n",
    "your model, etc. For instance, if you build a model predicting who will\n",
    "develop cancer using medical imaging, you are likely to miss a lot of\n",
    "features that might be useful to do the task, like health records,\n",
    "occupational hazards or environmental exposure. There are so many\n",
    "variables that you can’t measure, and that’s where the uncertainty lies.\n",
    "\n",
    "This is the reason why data science and machine learning needs\n",
    "mathematical frameworks to handle uncertainty. This is the goal of\n",
    "statistics and probability.\n",
    "\n",
    "Statistics and Probability Theory\n",
    "=================================\n",
    "\n",
    "Data have an inherent part of randomness due to generation or collection\n",
    "processes for instance. To model these data, you need to consider this\n",
    "randomness. The framework of probability theory helps you handle it\n",
    "mathematically.\n",
    "\n",
    "This chapter will introduce you to the basic concepts of probability\n",
    "that will prepare you to handle, study or quantify uncertainty, and\n",
    "allow you to manipulate concepts like random variables and probability\n",
    "distribution functions.\n",
    "\n",
    "2.1 Descriptive Statistics\n",
    "--------------------------\n",
    "\n",
    "It is crucial to summarize data samples into compact metrics to\n",
    "apprehend a dataset. Let’s review the basics of descriptive statistics\n",
    "useful to give you a first glance at your data."
   ]
  },
  {
   "cell_type": "markdown",
   "metadata": {},
   "source": [
    "### 2.1.1 Mean, Variance and Standard Deviation\n",
    "\n",
    "#### Mean\n",
    "\n",
    "The *mean* of a vector, usually denoted as $\\bar{x}$, is the mean of its\n",
    "elements, that is to say the sum of the components divided by the number\n",
    "of components. Mathematically, it can be expressed as:\n",
    "\n",
    "$$\n",
    "\\bar{x} = \\frac{1}{n} \\sum_i^n x_i\n",
    "$$\n",
    "\n",
    "#### Variance and Standard Deviation\n",
    "\n",
    "The *Variance* is a value describing how the data is spread around the\n",
    "mean. A dataset with a large variance means that data points are spread\n",
    "far away from the mean. A dataset with a small variance means that the\n",
    "data points are grouped closely around the mean.\n",
    "\n",
    "The variance is the mean of the squared differences to the mean.\n",
    "Mathematically, the variance of a variable $x$ (note that, in this\n",
    "context, we call variable a list of observations, and not a single\n",
    "value) is expressed with the following formula:\n",
    "\n",
    "$$\n",
    "\\var(x) = \\frac{1}{n}\\sum_{i=1}^n (x_i - \\bar{x})^2\n",
    "$$\n",
    "\n",
    "with $\\var(x)$ being the variance of the variable $x$, $n$ the number of\n",
    "data samples, $x_i$ the $i$th data sample and $\\bar{x}$ the mean of $x$.\n",
    "\n",
    "You can use the function `np.var()` from Numpy to calculate it:"
   ]
  },
  {
   "cell_type": "code",
   "execution_count": 2,
   "metadata": {
    "execution": {
     "iopub.execute_input": "2021-03-23T10:38:23.073729Z",
     "iopub.status.busy": "2021-03-23T10:38:23.073157Z",
     "iopub.status.idle": "2021-03-23T10:38:23.076856Z",
     "shell.execute_reply": "2021-03-23T10:38:23.077210Z"
    }
   },
   "outputs": [
    {
     "data": {
      "text/plain": [
       "2.9166666666666665"
      ]
     },
     "execution_count": 1,
     "metadata": {},
     "output_type": "execute_result"
    }
   ],
   "source": [
    "x = np.array([1, 2, 3, 4, 5, 6])\n",
    "np.var(x)"
   ]
  },
  {
   "cell_type": "markdown",
   "metadata": {},
   "source": [
    "The *standard deviation* is simply the square root of the variance. It\n",
    "is usually denoted as $\\sigma$:\n",
    "\n",
    "$$\n",
    "\\sigma(x) = \\sqrt{\\frac{1}{n}\\sum_{i=1}^n (x_i - \\bar{x})^2}\n",
    "$$\n",
    "\n",
    "We square root the variance to go back to the units of the observations.\n",
    "\n",
    "Both the variance and the standard deviation are *dispersion\n",
    "indicators*: they tell you if the observations are clustered around the\n",
    "mean.\n",
    "\n",
    "Note also that the variance and the standard deviation are always\n",
    "positive (it is like a distance, measuring how far away the data points\n",
    "are from the mean):\n",
    "\n",
    "$$\n",
    "\\var(x) \\geq 0\n",
    "$$\n",
    "\n",
    "and\n",
    "\n",
    "$$\n",
    "\\sigma(x) \\geq 0\n",
    "$$"
   ]
  },
  {
   "cell_type": "markdown",
   "metadata": {},
   "source": [
    "### 2.1.2 Covariance and Correlation\n",
    "\n",
    "As you saw in the last section, variance is expressed as differences\n",
    "from the mean. You can extend this idea and compare this difference\n",
    "between two variables. It leads to the idea of *covariance*. You’ll also\n",
    "see how it relates to *correlation*.\n",
    "\n",
    "#### Covariance\n",
    "\n",
    "The covariance between two variables tells if large values in one\n",
    "variable are associated with large values in the other and, conversely,\n",
    "if small values in one variable are associated with small values in the\n",
    "other.\n",
    "\n",
    "It is calculated by multiplying the differences from the mean for both\n",
    "variables and dividing by the number of samples:\n",
    "\n",
    "$$\n",
    "\\cov(x, y) = \\frac{1}{n}\\sum_{i=1}^n (x_i - \\bar{x})(y_i - \\bar{y})\n",
    "$$\n",
    "\n",
    "With $i$ being the current observation, $x$ and $y$ the two variables,\n",
    "and $\\bar{x}$ and $\\bar{y}$ the mean of $x$ and $y$ respectively.\n",
    "\n",
    "A positive covariance means that the two variables varies in the same\n",
    "direction: the first is large when the second is large and small when\n",
    "the second is small.\n",
    "\n",
    "A negative covariance means that large values of a variable are\n",
    "associated with small values of the other.\n",
    "\n",
    "Finally, a covariance close to 0 means that there is no linear\n",
    "relationship between the variables.\n",
    "\n",
    "Let’s look at a few examples with different situations.\n",
    "\n",
    "##### Positive covariance\n",
    "\n",
    "Let’s see an example of positive covariance between two variables: the\n",
    "beer consumption and the temperature. The beer dataset\n",
    "(https://www.kaggle.com/dongeorge/beer-consumption-sao-paulo) shows the\n",
    "consumption of beer in São Paulo, Brazil for the year 2015.\n",
    "\n",
    "Let’s start by loading the data and plot the consumption as a function\n",
    "of the maximal temperature:"
   ]
  },
  {
   "cell_type": "code",
   "execution_count": 3,
   "metadata": {
    "execution": {
     "iopub.execute_input": "2021-03-23T10:38:23.081443Z",
     "iopub.status.busy": "2021-03-23T10:38:23.080670Z",
     "iopub.status.idle": "2021-03-23T10:38:23.732986Z",
     "shell.execute_reply": "2021-03-23T10:38:23.733407Z"
    }
   },
   "outputs": [
    {
     "data": {
      "image/png": "[encoded data removed]",
      "text/plain": [
       "<Figure size 432x288 with 1 Axes>"
      ]
     },
     "metadata": {
      "needs_background": "dark"
     },
     "output_type": "display_data"
    }
   ],
   "source": [
    "data_beer = pd.read_csv(\"https://raw.githubusercontent.com/hadrienj/\" \\\n",
    "\"essential_math_for_data_science/master/data/beer_dataset.csv\")\n",
    "\n",
    "plt.scatter(data_beer['Temperatura Maxima (C)'],\n",
    "            data_beer['Consumo de cerveja (litros)'],\n",
    "            alpha=0.5)\n",
    "# [...] Add labels\n",
    "\n",
    "plt.xlabel(\"Maximal temperature ($\\degree$C)\")\n",
    "plt.ylabel(\"Consuption (liters)\")\n",
    "plt.show()\n"
   ]
  },
  {
    "cell_type": "markdown",
   "metadata": {},
   "source": [
    "<img src=\"images/blank.png\" id=\"fig:ch03_output_positive_covariance\" alt=\"Figure 24: Example of variables with a positive covariance. The consumption of beer as a function of the temperature of the day. There are one point per day for the whole year 2015.\" />\n",
    "Figure 24: Example of variables with a positive covariance. The consumption of beer as a function of the temperature of the day. There are one point per day for the whole year 2015.\n",
    "\n",
    "You can see in Figure [24](#fig:ch03_output_positive_covariance) that\n",
    "large values on the $x$-axis are associated with large values on the\n",
    "$y$-axis and small values on the $x$-axis are associated with small\n",
    "values on the $y$-axis. The consumption of beer increases when the\n",
    "temperature increases.\n",
    "\n",
    "Using the previous equation, you can calculate the covariance between\n",
    "the consumption of beer and the maximal temperature with:"
   ]
  },
  {
   "cell_type": "code",
   "execution_count": 4,
   "metadata": {
    "execution": {
     "iopub.execute_input": "2021-03-23T10:38:23.737576Z",
     "iopub.status.busy": "2021-03-23T10:38:23.736982Z",
     "iopub.status.idle": "2021-03-23T10:38:23.742974Z",
     "shell.execute_reply": "2021-03-23T10:38:23.743408Z"
    }
   },
   "outputs": [
    {
     "data": {
      "text/plain": [
       "12.172649474197785"
      ]
     },
     "execution_count": 1,
     "metadata": {},
     "output_type": "execute_result"
    }
   ],
   "source": [
    "x = data_beer['Temperatura Maxima (C)']\n",
    "y = data_beer['Consumo de cerveja (litros)']\n",
    "\n",
    "np.sum((x - x.mean()) * (y - y.mean())) / x.shape[0]"
   ]
  },
  {
   "cell_type": "markdown",
   "metadata": {},
   "source": [
    "You can also use the Numpy function `np.cov()`:"
   ]
  },
  {
   "cell_type": "code",
   "execution_count": 5,
   "metadata": {
    "execution": {
     "iopub.execute_input": "2021-03-23T10:38:23.746932Z",
     "iopub.status.busy": "2021-03-23T10:38:23.746333Z",
     "iopub.status.idle": "2021-03-23T10:38:23.750154Z",
     "shell.execute_reply": "2021-03-23T10:38:23.750575Z"
    }
   },
   "outputs": [
    {
     "data": {
      "text/plain": [
       "array([[18.63964745, 12.20609082],\n",
       "       [12.20609082, 19.35245652]])"
      ]
     },
     "execution_count": 1,
     "metadata": {},
     "output_type": "execute_result"
    }
   ],
   "source": [
    "np.cov(data_beer['Temperatura Maxima (C)'],\n",
    "       data_beer['Consumo de cerveja (litros)'])"
   ]
  },
  {
   "cell_type": "markdown",
   "metadata": {},
   "source": [
    "The function `np.cov()` returns a *covariance matrix* (more details in\n",
    "Section 2.1.3). The covariance is\n",
    "the value outside of the diagonal: again around 12.2. It is different\n",
    "than our result because it uses a correction named the *Bessel\n",
    "correction* (the goal is to correct for an underestimation of the value.\n",
    "You can find more details here:\n",
    "https://www.statisticshowto.com/bessels-correction/) where the division\n",
    "is done by the number of samples minus one. This can be changed setting\n",
    "the parameter *ddof* (delta degree of freedom) to 0.\n",
    "\n",
    "Note that since the covariance is calculated with the difference from\n",
    "the mean, this metric depends on the scale of the variables. For\n",
    "instance, large value for the variables leads to large covariance\n",
    "values.\n",
    "\n",
    "##### Negative covariance\n",
    "\n",
    "Let’s now consider happiness as a function of perception of corruption\n",
    "from the 2020 worldwide happiness report\n",
    "(https://worldhappiness.report/ed/2020/) . Let’s load and plot the data:"
   ]
  },
  {
   "cell_type": "code",
   "execution_count": 6,
   "metadata": {
    "execution": {
     "iopub.execute_input": "2021-03-23T10:38:23.762890Z",
     "iopub.status.busy": "2021-03-23T10:38:23.762223Z",
     "iopub.status.idle": "2021-03-23T10:38:24.205554Z",
     "shell.execute_reply": "2021-03-23T10:38:24.205920Z"
    }
   },
   "outputs": [
    {
     "data": {
      "image/png": "[encoded data removed]",
      "text/plain": [
       "<Figure size 432x288 with 1 Axes>"
      ]
     },
     "metadata": {
      "needs_background": "dark"
     },
     "output_type": "display_data"
    }
   ],
   "source": [
    "data_hap = pd.read_csv(\"https://raw.githubusercontent.com/hadrienj/\" \\\n",
    "\"essential_math_for_data_science/master/data/happiness_2020.csv\")\n",
    "\n",
    "plt.scatter(data_hap[\"Perceptions of corruption\"],\n",
    "            data_hap[\"Ladder score\"],\n",
    "            alpha=0.5)\n",
    "# [...] Add labels\n",
    "\n",
    "plt.xlabel(\"Perception of corruption\")\n",
    "plt.ylabel(\"Happiness score\")\n",
    "plt.show()\n"
   ]
  },
  {
    "cell_type": "markdown",
   "metadata": {},
   "source": [
    "<img src=\"images/blank.png\" id=\"fig:ch03_output_negative_covariance\" alt=\"Figure 25: Example of data with a negative covariance.\" />\n",
    "Figure 25: Example of data with a negative covariance.\n",
    "\n",
    "You can see in Figure [25](#fig:ch03_output_negative_covariance) that\n",
    "happiness decreases when perception of corruption increases. Let’s\n",
    "calculate the covariance:"
   ]
  },
  {
   "cell_type": "code",
   "execution_count": 7,
   "metadata": {
    "execution": {
     "iopub.execute_input": "2021-03-23T10:38:24.210369Z",
     "iopub.status.busy": "2021-03-23T10:38:24.209729Z",
     "iopub.status.idle": "2021-03-23T10:38:24.212009Z",
     "shell.execute_reply": "2021-03-23T10:38:24.212405Z"
    }
   },
   "outputs": [
    {
     "data": {
      "text/plain": [
       "array([[ 0.03068538, -0.08150217],\n",
       "       [-0.08150217,  1.23714494]])"
      ]
     },
     "execution_count": 1,
     "metadata": {},
     "output_type": "execute_result"
    }
   ],
   "source": [
    "np.cov(data_hap[\"Perceptions of corruption\"], data_hap[\"Ladder score\"])"
   ]
  },
  {
   "cell_type": "markdown",
   "metadata": {},
   "source": [
    "As expected, the value of the covariance is negative (around -0.08).\n",
    "\n",
    "#### Correlation\n",
    "\n",
    "The *correlation*, usually refering to the *Pearson’s correlation\n",
    "coefficient*, is a normalized version of the covariance. It is scaled\n",
    "between -1 and 1, unlike the covariance, which can take any value\n",
    "between negative infinity and positive infinity. A correlation of -1\n",
    "means that there is a perfect negative linear relationship and a\n",
    "correlation of 1 indicates a perfect positive linear relationship. A\n",
    "correlation of 0 indicates that the variables are uncorrelated (no\n",
    "linear relationship).\n",
    "\n",
    "Mathematically, the correlation coefficient is calculated by dividing\n",
    "the covariance by the product of the standard deviations of the two\n",
    "variables. For instance, for two variables $x$ and $y$:\n",
    "\n",
    "$$\n",
    "\\corr(x, y) = \\frac{\\cov(x, y)}{\\sigma_x \\sigma_y}\n",
    "$$\n",
    "\n",
    "Let’s take again the consumption of beer as a function of temperature,\n",
    "as plotted in Figure [24](#fig:ch03_output_positive_covariance). You can\n",
    "calculate the correlation between these variables with Numpy function\n",
    "`np.corrcoef()`:"
   ]
  },
  {
   "cell_type": "code",
   "execution_count": 8,
   "metadata": {
    "execution": {
     "iopub.execute_input": "2021-03-23T10:38:24.216605Z",
     "iopub.status.busy": "2021-03-23T10:38:24.215958Z",
     "iopub.status.idle": "2021-03-23T10:38:24.218515Z",
     "shell.execute_reply": "2021-03-23T10:38:24.218936Z"
    }
   },
   "outputs": [
    {
     "data": {
      "text/plain": [
       "array([[1.        , 0.64267247],\n",
       "       [0.64267247, 1.        ]])"
      ]
     },
     "execution_count": 1,
     "metadata": {},
     "output_type": "execute_result"
    }
   ],
   "source": [
    "np.corrcoef(data_beer['Temperatura Maxima (C)'],\n",
    "            data_beer['Consumo de cerveja (litros)'])"
   ]
  },
  {
   "cell_type": "markdown",
   "metadata": {},
   "source": [
    "Reading the value outside of the diagonal (which refer to the\n",
    "correlation of each variable with itself), you can see that the value\n",
    "obtained for the correlation coefficient is around 0.64.\n",
    "\n",
    "Correlation is advantageous because you can compare it between pairs of\n",
    "variables since it not depends on the scale of the data."
   ]
  },
  {
    "cell_type": "markdown",
   "metadata": {},
   "source": [
    "### 2.1.3 Covariance Matrix\n",
    "\n",
    "#### Definition\n",
    "\n",
    "When you previously used the function `np.cov()` from Numpy, it returned\n",
    "more than one value: this is what we call a *covariance matrix* or a\n",
    "*variance-covariance matrix*.\n",
    "\n",
    "The covariance matrix is a way to structure variance and covariance\n",
    "between two or more variables. With $n$ variables, the covariance matrix\n",
    "is a $n$ by $n$ matrix. The diagonal is filled with the variance of each\n",
    "variable, and the other cells correspond to the covariance between the\n",
    "pairs variables, as illustrated in Figure\n",
    "[26](#fig:ch03_covariance_matrix).\n",
    "\n",
    "<img src=\"images/ch03_covariance_matrix.png\" id=\"fig:ch03_covariance_matrix\" width=\"150\" alt=\"Figure 26: Illustration of a covariance matrix of the variables x, y.\" />\n",
    "Figure 26: Illustration of a covariance matrix of the variables <span class=\"math inline\"><em>x</em></span>, <span class=\"math inline\"><em>y</em></span>.\n",
    "\n",
    "The cells showing the covariance of a variable with itself, like the\n",
    "covariance of the variable $x$ with the variable $x$, correspond to the\n",
    "variance of this variable. Using the formula of the covariance and\n",
    "applying it to the same variable $x$, you have:\n",
    "\n",
    "$$\n",
    "\\begin{aligned}\n",
    "\\cov(x, x) &= \\frac{1}{n}\\sum_{i=1}^n (x_i - \\bar{x})(x_i - \\bar{x}) \\\\\\\\\n",
    "&= \\frac{1}{n}\\sum_{i=1}^n (x_i - \\bar{x})^2 \\\\\\\\\n",
    "&= \\var(x)\n",
    "\\end{aligned}\n",
    "$$\n",
    "\n",
    "This shows why the diagonal of the covariance matrix corresponds to the\n",
    "variance of the variables.\n",
    "\n",
    "2.2 Random Variables\n",
    "--------------------\n",
    "\n",
    "Unlike the variables you’re using in calculus, a *random variable* takes\n",
    "a value corresponding to the outcome of a random experiment (like a coin\n",
    "flip, for instance). The term *variable* tells us that the value is not\n",
    "fixed (it depends on the event), and the term *random* comes from the\n",
    "fact that the outcome is not fully determined: it can vary randomly.\n",
    "\n",
    "More formally, a random variable is a function that takes an outcome as\n",
    "input and returns a value. For instance, if you flip a coin, the two\n",
    "possible outcomes are ‘heads’ and ‘tails’. An example of random variable\n",
    "would map ‘heads’ to 0 and ‘tails to 1. As another example, let’s say\n",
    "that you flip the coin 10 times, you could have a random variable that\n",
    "maps the sequence of outcomes you get to the number of times you get\n",
    "’heads’."
   ]
  },
  {
    "cell_type": "markdown",
   "metadata": {},
   "source": [
    "### 2.2.1 Definitions and Notation\n",
    "\n",
    "#### Definitions\n",
    "\n",
    "It is worth defining some terms in the context of probability theory.\n",
    "Feel free to refer to these definition along your reading if needed.\n",
    "\n",
    "A *random experiment*, or simply *experiment* describes a process that\n",
    "gives you uncertain results, as a coin flip, for instance.\n",
    "\n",
    "The *outcome* of a random experiment is the result you obtain. If you\n",
    "flip a coin, the two possible outcomes are ‘heads’ and ‘tails’. If you\n",
    "pick a card in a deck of 52 playing cards, the 52 possible outcomes are\n",
    "the 52 playing cards. If you roll a six-sided die, the possible outcomes\n",
    "are 1, 2, 3, 4, 5, or 6.\n",
    "\n",
    "The *sample space* is the set of all possible outcomes. For instance,\n",
    "the sample space of a dice-rolling experiment is $\\{1, 2, 3, 4, 5, 6\\}$.\n",
    "The curly braces ($\\{\\}$) are used to denote sets (collections of\n",
    "things). In an experiment where you flip a coin two times, the sample\n",
    "space is\n",
    "$\\{\\text{heads-heads}, \\text{heads-tails}, \\text{tails-heads}, \\text{tails-tails}\\}$.\n",
    "The sample space is often denoted as $S$.\n",
    "\n",
    "An *event* is a set of outcomes, that is, a subset of the sample space.\n",
    "Intuitively, it corresponds to a question you can ask about the outcome\n",
    "of a random experiment. For instance, if you roll a die, you can ask:\n",
    "\n",
    "-   ‘Is the outcome a 3?’\n",
    "-   ‘Is the outcome in the set $\\{1, 3, 6\\}$?’\n",
    "\n",
    "These questions corresponds to individual events. An event has occurred\n",
    "when the outcome of the experiment is an element of the event.\n",
    "\n",
    "The *probability* associated with an event tells you how likely it is to\n",
    "occur. Probabilities must satisfy the following rules:\n",
    "\n",
    "-   It must be a non-negative real number.\n",
    "-   It cannot exceed 1.\n",
    "-   The probability that one of the possible outcomes will occur is 1.\n",
    "-   For two mutually exclusive events, the probability that either of\n",
    "    the events occurs is equal to the sum of the probability that each\n",
    "    event occurs.\n",
    "\n",
    "Roughly speaking, a probability of 1 means that the event will be always\n",
    "satisfied and a probability of 0 means that the event will never be\n",
    "satisfied. (however, in the case of continuous random variables where\n",
    "the sample space is infinite, a probability of 1 means that the event is\n",
    "*almost* certain to occur and a probability of 0 means that the event\n",
    "will *almost* never take place.)\n",
    "\n",
    "A *probability distribution function* (PDF) is a function that maps each\n",
    "outcome to its probability mass (for discrete variables) or to\n",
    "probability density (for continuous variable) to occur. You’ll see more\n",
    "details about probability mass and density in\n",
    "Section 2.3.\n",
    "\n",
    "#### Notation\n",
    "\n",
    "Now that we have defined the terms, let’s see the notation.\n",
    "\n",
    "We’ll denote random variables with uppercase letters, such as $\\rx$. The\n",
    "probability distribution associated with the random variable $\\rx$ is\n",
    "denoted as $P(\\rx)$. The probability that this random variable takes the\n",
    "value $x$ is denoted as $P(\\rx=x)$, or simply $P(x)$.\n",
    "\n",
    "<img src=\"images/ch03_definitions_proba.png\" id=\"fig:ch03_definitions_proba\" width=\"400\" alt=\"Figure 27: Summary of the relationship between the terms defined in the context of probability theory.\" />\n",
    "Figure 27: Summary of the relationship between the terms defined in the context of probability theory.\n",
    "\n",
    "Figure [27](#fig:ch03_definitions_proba) summarizes how the terms are\n",
    "related between each other. An experiment is associated with various\n",
    "possible outcomes. These outcomes are mapped to real values by a random\n",
    "variable. There is thus a single random variable associated with the\n",
    "experiment. Still in Figure [27](#fig:ch03_definitions_proba), the event\n",
    "$A$ is a set of outcomes, here corresponding to a single outcome\n",
    "(“outcome 1.”).\n",
    "\n",
    "Let’s take an example.\n",
    "\n",
    "<figure>\n",
    "<img src=\"images/ch03_definitions_proba_example.png\" id=\"fig:ch03_definitions_proba_example\" width=\"400\" alt=\"Figure 28: Example with a coin flip.\" /><figcaption aria-hidden=\"true\">Figure 28: Example with a coin flip.</figcaption>\n",
    "</figure>\n",
    "\n",
    "Figure [28](#fig:ch03_definitions_proba_example) shows the case of a\n",
    "coin flip experiment. The two possible outcomes are ‘heads’ or ‘tails’.\n",
    "The random variable $\\rx$ maps these outcomes to real values,\n",
    "respectively 0 and 1. The event $A$ corresponds to the following set of\n",
    "outcomes: {‘heads’}. This means that the probability that the outcome is\n",
    "‘head’ can be denoted as:\n",
    "\n",
    "$$\n",
    "P(\\rx=0) = P('heads') = P(A)\n",
    "$$"
   ]
  },
  {
   "cell_type": "markdown",
   "metadata": {},
   "source": [
    "### 2.2.2 Discrete and Continuous Random Variables\n",
    "\n",
    "It is important to distinguish *discrete random variables*, where the\n",
    "outcomes are in a *at most countable* list of possible values (meaning\n",
    "that this list can be infinite but each element can be associated to a\n",
    "natural number), and *continuous random variables*, which can take any\n",
    "value in an interval.\n",
    "\n",
    "##### Discrete Random Variables\n",
    "\n",
    "Let’s say that you roll a six-sided die and the outcome is a number\n",
    "between 1 and 6. You can model this experiment with a random variable\n",
    "$\\rx$ which can return the following values as possible outcome: 1, 2,\n",
    "3, 4, 5 or 6. In this example, the random variable is *discrete*: it\n",
    "takes discrete values between 1 and 6 (for instance, it can’t be 1.5).\n",
    "\n",
    "##### Continuous Random Variables\n",
    "\n",
    "Continuous random variables can take any value in a range. For instance,\n",
    "if you calculate the heights of randomly selected people, the number of\n",
    "possible outcomes is infinite (theoretically, because in the real world,\n",
    "the measure would be discretized, for instance by the precision of the\n",
    "measurement).\n",
    "\n",
    "2.3 Probability Distributions\n",
    "-----------------------------\n",
    "\n",
    "*Deterministic* processes give the same results when they are repeated\n",
    "multiple times. This is not the case for random variables, which\n",
    "describe *stochastic* events, in which randomness characterizes the\n",
    "process.\n",
    "\n",
    "This means that random variables can take various values. How can you\n",
    "describe and compare these values? One good way is to use the\n",
    "probability that each outcome will occur. The probability distribution\n",
    "of a random variable is a function that takes the sample space as input\n",
    "and returns probabilities: in other words, it maps possible outcomes to\n",
    "their probabilities.\n",
    "\n",
    "In this section, you’ll learn about probability distributions for\n",
    "discrete and continuous variables."
   ]
  },
  {
   "cell_type": "markdown",
   "metadata": {},
   "source": [
    "### 2.3.1 Probability Mass Functions\n",
    "\n",
    "Probability functions of discrete random variables are called\n",
    "*probability mass functions* (or PMF). For instance, let’s say that\n",
    "you’re running a dice-rolling experiment. You call $\\rx$ the random\n",
    "variable corresponding to this experiment. Assuming that the die is\n",
    "fair, each outcome is *equiprobable*: if you run the experiment a large\n",
    "number of times, you will get each outcome approximately the same number\n",
    "of times. Here, there are six possible outcomes, so you have one chance\n",
    "over six to draw each number.\n",
    "\n",
    "Thus, the probability mass function describing $\\rx$ returns\n",
    "$\\frac{1}{6}$ for each possible outcome and 0 otherwise (because you\n",
    "can’t get something different than 1, 2, 3, 4, 5 or 6).\n",
    "\n",
    "You can write $P(\\rx = 1) = \\frac{1}{6}$, $P(\\rx = 2) = \\frac{1}{6}$,\n",
    "and so on.\n",
    "\n",
    "#### Properties of Probability Mass Functions\n",
    "\n",
    "Not every function can be considered as a probability mass function. A\n",
    "probability mass function must satisfy the following two conditions:\n",
    "\n",
    "-   The function must return values between 0 and 1 for each possible\n",
    "    outcome:\n",
    "\n",
    "$$\n",
    "0 \\leq P(x) \\leq 1\n",
    "$$\n",
    "\n",
    "-   The sum of probabilities corresponding to all the possible outcomes\n",
    "    must be equal to 1:\n",
    "\n",
    "$$\n",
    "\\sum\\limits_{x \\in S} P(x) = 1\n",
    "$$\n",
    "\n",
    "The value of $x$ can be any real number because values outside of the\n",
    "sample space are associated with a probability of 0. Mathematically, for\n",
    "any value $x$ not in the sample space $S$, $P(x)=0$.\n",
    "\n",
    "#### Simulation of the Dice Experiment\n",
    "\n",
    "Let’s simulate a die experiment using the function\n",
    "`np.random.randint(low, high, size)` from Numpy which draw $n$ (`size`)\n",
    "random integers between `low` and `high` (excluded). Let’s simulate 20\n",
    "die rolls:"
   ]
  },
  {
   "cell_type": "code",
   "execution_count": 9,
   "metadata": {
    "execution": {
     "iopub.execute_input": "2021-03-23T10:38:24.223264Z",
     "iopub.status.busy": "2021-03-23T10:38:24.222628Z",
     "iopub.status.idle": "2021-03-23T10:38:24.224875Z",
     "shell.execute_reply": "2021-03-23T10:38:24.225280Z"
    }
   },
   "outputs": [
    {
     "data": {
      "text/plain": [
       "array([6, 3, 5, 3, 2, 4, 3, 4, 2, 2, 1, 2, 2, 1, 1, 2, 4, 6, 5, 1])"
      ]
     },
     "execution_count": 1,
     "metadata": {},
     "output_type": "execute_result"
    }
   ],
   "source": [
    "\n",
    "np.random.seed(123)\n",
    "\n",
    "rolls = np.random.randint(1, 7, 20)\n",
    "rolls"
   ]
  },
  {
   "cell_type": "markdown",
   "metadata": {},
   "source": [
    "This array contains the 20 outcomes of the experiment. Let’s call $\\rx$\n",
    "the discrete random variable corresponding to the die rolling\n",
    "experiment. The probability mass function of $\\rx$ is defined only for\n",
    "the possible outcomes and gives you the probability for each of them.\n",
    "\n",
    "Assuming the die is fair, you should have an *uniform distribution*,\n",
    "that is, equiprobable outcomes. (`np.random.randint()` draw samples from\n",
    "an uniform distribution) .\n",
    "\n",
    "Let’s visualize the quantity of each outcome you got in the random\n",
    "experiment. You can divide by the number of trials to get the\n",
    "probability. Let’s use `plt.stem()` from Matplotlib to visualize these\n",
    "probabilities:"
   ]
  },
  {
   "cell_type": "code",
   "execution_count": 10,
   "metadata": {
    "execution": {
     "iopub.execute_input": "2021-03-23T10:38:24.229031Z",
     "iopub.status.busy": "2021-03-23T10:38:24.228473Z",
     "iopub.status.idle": "2021-03-23T10:38:24.324397Z",
     "shell.execute_reply": "2021-03-23T10:38:24.324940Z"
    }
   },
   "outputs": [
    {
     "data": {
      "image/png": "[encoded data removed]",
      "text/plain": [
       "<Figure size 432x288 with 1 Axes>"
      ]
     },
     "metadata": {
      "needs_background": "dark"
     },
     "output_type": "display_data"
    }
   ],
   "source": [
    "val, counts = np.unique(rolls, return_counts=True)\n",
    "plt.stem(val, counts/len(rolls), basefmt=\"C2-\", use_line_collection=True)\n",
    "\n",
    "# Assure that ticks are displayed with a specific step\n",
    "ax = plt.gca()\n",
    "ax.xaxis.set_major_locator(ticker.MultipleLocator(1))\n",
    "ax.yaxis.set_major_locator(ticker.MultipleLocator(0.1))\n",
    "plt.show()\n"
   ]
  },
  {
    "cell_type": "markdown",
   "metadata": {},
   "source": [
    "<img src=\"images/blank.png\" id=\"fig:ch03_output_probability_function_discrete_estimated_10\" alt=\"Figure 29: Probability mass function of the random variable \\rx corresponding to a die rolling a six-sided die estimated from 20 rolls.\" />\n",
    "Figure 29: Probability mass function of the random variable <span class=\"math inline\">$\\rx$</span> corresponding to a die rolling a six-sided die estimated from 20 rolls.\n",
    "\n",
    "With a uniform distribution, the plot would have the same height for\n",
    "each outcome (since the height corresponds to the probability, which is\n",
    "the same for each outcome of a die throw). However, the distribution\n",
    "shown in Figure\n",
    "[29](#fig:ch03_output_probability_function_discrete_estimated_10)\n",
    "doesn’t look uniform. That’s because you didn’t repeat the experiment\n",
    "enough: the probabilities will stand when you repeat the experiment a\n",
    "large number of times (in theory, an infinite number of times).\n",
    "\n",
    "Let’s increase the number of trials:"
   ]
  },
  {
   "cell_type": "code",
   "execution_count": 11,
   "metadata": {
    "execution": {
     "iopub.execute_input": "2021-03-23T10:38:24.330075Z",
     "iopub.status.busy": "2021-03-23T10:38:24.329466Z",
     "iopub.status.idle": "2021-03-23T10:38:24.407695Z",
     "shell.execute_reply": "2021-03-23T10:38:24.408111Z"
    }
   },
   "outputs": [
    {
     "data": {
      "image/png": "[encoded data removed]",
      "text/plain": [
       "<Figure size 432x288 with 1 Axes>"
      ]
     },
     "metadata": {
      "needs_background": "dark"
     },
     "output_type": "display_data"
    }
   ],
   "source": [
    "\n",
    "np.random.seed(123)\n",
    "\n",
    "throws = np.random.randint(1, 7, 100000)\n",
    "val, counts = np.unique(throws, return_counts=True)\n",
    "plt.stem(val, counts/len(throws), basefmt=\"C2-\", use_line_collection=True)\n",
    "\n",
    "# Assure that ticks are displayed with a specific step\n",
    "ax = plt.gca()\n",
    "ax.xaxis.set_major_locator(ticker.MultipleLocator(1))\n",
    "ax.yaxis.set_major_locator(ticker.MultipleLocator(0.1))\n",
    "plt.show()\n"
   ]
  },
  {
    "cell_type": "markdown",
   "metadata": {},
   "source": [
    "<img src=\"images/blank.png\" id=\"fig:ch03_output_probability_function_discrete_estimated_100000\" alt=\"Figure 30: Probability mass function of the random variable \\rx corresponding to a die rolling experiment estimated from 100,000 rolls.\" />\n",
    "Figure 30: Probability mass function of the random variable <span class=\"math inline\">$\\rx$</span> corresponding to a die rolling experiment estimated from 100,000 rolls.\n",
    "\n",
    "With enough trials, the probability mass function showed in Figure\n",
    "[30](#fig:ch03_output_probability_function_discrete_estimated_100000)\n",
    "looks uniform. This underline the importance of the number of trials\n",
    "from a frequentist probability point of view."
   ]
  },
  {
   "cell_type": "markdown",
   "metadata": {},
   "source": [
    "### 2.3.2 Probability Density Functions\n",
    "\n",
    "With continuous variables, there is an infinite number of possible\n",
    "outcomes (limited by the number of decimals you use). For instance, if\n",
    "you were drawing a number between 0 and 1 you might get an outcome of,\n",
    "for example, 0.413949834. The probability of drawing each number tends\n",
    "towards zero: if you divide something by a very large number (the number\n",
    "of possible outcomes), the result will be very small, close to zero.\n",
    "This is not very helpful in describing random variables.\n",
    "\n",
    "It is better to consider the probability of getting a specific number\n",
    "within a range of values. The $y$-axis of probability density functions\n",
    "is not a probability. It is called a *probability density* or just\n",
    "*density*. Thus, probability distributions for continuous variables are\n",
    "called *probability density functions* (or PDF).\n",
    "\n",
    "The integral of the probability density function over a particular\n",
    "interval gives you the probability that a random variable takes a value\n",
    "in this interval. This probability is thus given by the area under the\n",
    "curve in this interval (as you saw in\n",
    "Section 1.2).\n",
    "\n",
    "#### Notation\n",
    "\n",
    "Here, I’ll denote probability density functions using a lowercase $p$.\n",
    "For instance, the function $p(x)$ gives you the density corresponding to\n",
    "the value $x$.\n",
    "\n",
    "#### Example\n",
    "\n",
    "Let’s inspect an example of probability density function. You can\n",
    "randomly draw data from a normal distribution using the Numpy function\n",
    "`np.random.normal` (you’ll find more details about the normal\n",
    "distribution in Section 3.2).\n",
    "\n",
    "You can choose the parameters of the normal distribution (the mean and\n",
    "the standard deviation) and the number of samples. Let’s create a\n",
    "variable `data` with 1,000 values drawn randomly from a normal\n",
    "distribution with a mean of 0.3 and a standard deviation of 0.1."
   ]
  },
  {
   "cell_type": "code",
   "execution_count": 12,
   "metadata": {
    "execution": {
     "iopub.execute_input": "2021-03-23T10:38:24.411767Z",
     "iopub.status.busy": "2021-03-23T10:38:24.411150Z",
     "iopub.status.idle": "2021-03-23T10:38:24.413001Z",
     "shell.execute_reply": "2021-03-23T10:38:24.413413Z"
    }
   },
   "outputs": [],
   "source": [
    "np.random.seed(123)\n",
    "data = np.random.normal(0.3, 0.1, 1000)"
   ]
  },
  {
   "cell_type": "markdown",
   "metadata": {},
   "source": [
    "Let’s look at the shape of the distribution using an histogram. The\n",
    "function `plt.hist()` returns the exact values for the $x$- and\n",
    "$y$-coordinates of the histogram. Let’s store this in a variable called\n",
    "`hist` for latter use:"
   ]
  },
  {
   "cell_type": "code",
   "execution_count": 13,
   "metadata": {
    "execution": {
     "iopub.execute_input": "2021-03-23T10:38:24.459004Z",
     "iopub.status.busy": "2021-03-23T10:38:24.458184Z",
     "iopub.status.idle": "2021-03-23T10:38:24.587180Z",
     "shell.execute_reply": "2021-03-23T10:38:24.587612Z"
    }
   },
   "outputs": [
    {
     "data": {
      "image/png": "[encoded data removed]",
      "text/plain": [
       "<Figure size 432x288 with 1 Axes>"
      ]
     },
     "metadata": {
      "needs_background": "dark"
     },
     "output_type": "display_data"
    }
   ],
   "source": [
    "hist = plt.hist(data, bins=13, range=(-0.3, 1))"
   ]
  },
  {
    "cell_type": "markdown",
   "metadata": {},
   "source": [
    "<img src=\"images/blank.png\" id=\"fig:ch03_output_histogram\" alt=\"Figure 31: Histogram of the data generated from a normal distribution. The x-axis is the value of the element in the vector and the y-axis the number of elements (count) that are in the corresponding range.\" />\n",
    "Figure 31: Histogram of the data generated from a normal distribution. The <span class=\"math inline\"><em>x</em></span>-axis is the value of the element in the vector and the <span class=\"math inline\"><em>y</em></span>-axis the number of elements (count) that are in the corresponding range.\n",
    "\n",
    "*Histograms* show how values are distributed. It is a way to model a\n",
    "probability distribution using a finite number of values from the\n",
    "distribution. Since we’re dealing with continuous distributions, this\n",
    "histogram corresponds to the number of values for specific intervals\n",
    "(the intervals depends on the parameter `bins` in the function\n",
    "`hist()`).\n",
    "\n",
    "For instance, Figure [31](#fig:ch03_output_histogram) shows that there\n",
    "are around 347 elements in the interval \\[0.2, 0.3\\]. Each bin\n",
    "corresponds to a width of 0.1, since we used 13 bins to represent data\n",
    "in the range -0.3 to 1.\n",
    "\n",
    "Let’s have a closer look at the distribution with more bins. You can use\n",
    "the parameter `density` to make the $y$-axis correspond to the\n",
    "probability density instead of the count of values in each bin:"
   ]
  },
  {
   "cell_type": "code",
   "execution_count": 14,
   "metadata": {
    "execution": {
     "iopub.execute_input": "2021-03-23T10:38:24.651372Z",
     "iopub.status.busy": "2021-03-23T10:38:24.650714Z",
     "iopub.status.idle": "2021-03-23T10:38:24.769240Z",
     "shell.execute_reply": "2021-03-23T10:38:24.769733Z"
    }
   },
   "outputs": [
    {
     "data": {
      "image/png": "[encoded data removed]",
      "text/plain": [
       "<Figure size 432x288 with 1 Axes>"
      ]
     },
     "metadata": {
      "needs_background": "dark"
     },
     "output_type": "display_data"
    }
   ],
   "source": [
    "hist = plt.hist(data, bins=24, range=(-0.2, 1), density=True)\n",
    "\n",
    "# Assure that ticks are displayed with a specific step\n",
    "ax = plt.gca()\n",
    "ax.xaxis.set_major_locator(ticker.MultipleLocator(0.1))\n"
   ]
  },
  {
    "cell_type": "markdown",
   "metadata": {},
   "source": [
    "<img src=\"images/blank.png\" id=\"fig:ch03_output_histogram_density\" alt=\"Figure 32: Histogram using 30 bins and density instead of counts.\" />\n",
    "Figure 32: Histogram using 30 bins and density instead of counts.\n",
    "\n",
    "You can see in Figure [32](#fig:ch03_output_histogram_density) that\n",
    "there are more bins in this histogram (24 instead of 13). This means\n",
    "that each bin has now a smaller width. The $y$-axis is also on a\n",
    "different scale: it corresponds to the density, not the counter of\n",
    "values as before.\n",
    "\n",
    "To calculate the probability to draw a value in a certain range from the\n",
    "density, you need to use the area under the curve. In the case of\n",
    "histograms, this is the area of the bars.\n",
    "\n",
    "Let’s take an example with the bar ranging from 0.2 to 0.25, associated\n",
    "with the following density:"
   ]
  },
  {
   "cell_type": "code",
   "execution_count": 15,
   "metadata": {
    "execution": {
     "iopub.execute_input": "2021-03-23T10:38:24.773983Z",
     "iopub.status.busy": "2021-03-23T10:38:24.773332Z",
     "iopub.status.idle": "2021-03-23T10:38:24.775678Z",
     "shell.execute_reply": "2021-03-23T10:38:24.776122Z"
    }
   },
   "outputs": [
    {
     "name": "stdout",
     "output_type": "stream",
     "text": [
      "Density: 2.8\n",
      "Range x: from 0.2 to 0.25\n"
     ]
    }
   ],
   "source": [
    "print(f\"Density: {hist[0][8].round(4)}\")\n",
    "print(f\"Range x: from {hist[1][8].round(4)} to {hist[1][9].round(4)}\")"
   ]
  },
  {
   "cell_type": "markdown",
   "metadata": {},
   "source": [
    "Since there are 24 bins and the range of possible outcomes is from -0.2\n",
    "to 1, each bar corresponds to a range of\n",
    "$\\frac{1-(-0.2)}{24}=\\frac{1.2}{24}=0.05$. In our example, the height of\n",
    "the bar (the one from 0.2 to 0.25) is around 2.8, so the area of this\n",
    "bar is $2.8 \\cdot 0.05 = 0.14$. This means that the probability of\n",
    "getting a value between 0.2 and 0.25 is around 0.14, or 14%.\n",
    "\n",
    "You saw that the sum of the probabilities must be equal to one, so the\n",
    "sum of the bar’s areas should be equal to one. Let’s check that: you can\n",
    "take the vector containing the densities (`hist[0]`) and multiply it by\n",
    "the bar width (0.05):"
   ]
  },
  {
   "cell_type": "code",
   "execution_count": 16,
   "metadata": {
    "execution": {
     "iopub.execute_input": "2021-03-23T10:38:24.780383Z",
     "iopub.status.busy": "2021-03-23T10:38:24.779721Z",
     "iopub.status.idle": "2021-03-23T10:38:24.782057Z",
     "shell.execute_reply": "2021-03-23T10:38:24.782557Z"
    }
   },
   "outputs": [
    {
     "data": {
      "text/plain": [
       "1.0"
      ]
     },
     "execution_count": 1,
     "metadata": {},
     "output_type": "execute_result"
    }
   ],
   "source": [
    "(hist[0] * 0.05).sum().round(4)"
   ]
  },
  {
    "cell_type": "markdown",
   "metadata": {},
   "source": [
    "All good: the sum of the probabilities is equal to one.\n",
    "\n",
    "#### From Histograms to Continuous Probability Density Functions\n",
    "\n",
    "Histograms represent a binned version of the probability density\n",
    "function. Figure [33](#fig:ch03_probability_density_function_area) shows\n",
    "a representation of the true probability density function. The blue\n",
    "shaded area in the figure corresponds to the probability of getting a\n",
    "number between 0 and 0.2 (the area under the curve between 0 and 0.2).\n",
    "\n",
    "<img src=\"images/ch03_probability_density_function_area.png\" id=\"fig:ch03_probability_density_function_area\" width=\"300\" alt=\"Figure 33: The probability to draw a number between 0 and 0.2 is the highlighted area under the curve.\" />\n",
    "Figure 33: The probability to draw a number between 0 and 0.2 is the highlighted area under the curve.\n",
    "\n",
    "#### Properties of Probability Density Functions\n",
    "\n",
    "Like probability mass functions, probability density functions must\n",
    "satisfy some requirements. The first is that it must return only non\n",
    "negative values. Mathematically written:\n",
    "\n",
    "$$\n",
    "p(x) \\geq 0\n",
    "$$\n",
    "\n",
    "The second requirement is that the total area under the curve of the\n",
    "probability density function must be equal to 1:\n",
    "\n",
    "$$\n",
    "\\int_{-\\infty}^{\\infty} p(x) \\; dx = 1\n",
    "$$\n",
    "\n",
    "In this part on probability distributions, you saw that probability mass\n",
    "functions are for discrete variables and probability density functions\n",
    "for continuous variables. Keep in mind that the value on the $y$ axis of\n",
    "probability mass functions are probabilities, which is not the case for\n",
    "probability density functions. Look at the density values (for instance\n",
    "in Figure [32](#fig:ch03_output_histogram_density)): they can be larger\n",
    "than one, which shows that they are not probabilities.\n",
    "\n",
    "2.4 Joint, Marginal, and Conditional Probability\n",
    "------------------------------------------------\n",
    "\n",
    "In some cases, you need to consider the probability that more than one\n",
    "event occurs. You’ll see here how to handle this situation."
   ]
  },
  {
    "cell_type": "markdown",
   "metadata": {},
   "source": [
    "### 2.4.1 Joint Probability\n",
    "\n",
    "*Joint probability* is the probability that two or more events occur.\n",
    "\n",
    "#### Notation\n",
    "\n",
    "The *joint probability* that the random variable $\\rx$ takes the value\n",
    "$x$ and that the random variable $\\ry$ takes the value $y$ is written:\n",
    "\n",
    "$$\n",
    "P(\\rx=x, \\ry=y)\n",
    "$$\n",
    "\n",
    "You must consider the dependence between these events. So, let’s first\n",
    "look at the concept of dependency between events.\n",
    "\n",
    "#### Dependent and Independent Events\n",
    "\n",
    "*Dependent events* are events that are related in the sense that the\n",
    "probability of one depends on the outcome of the other. For instance, if\n",
    "you randomly pick two balls from a bag without replacement, the\n",
    "probabilities associated with the second pick depend on the outcome of\n",
    "the first pick.\n",
    "\n",
    "<img src=\"images/ch03_dependent_events.png\" id=\"fig:ch03_dependent_events\" width=\"200\" alt=\"Figure 34: Examples of dependent events with a draw without replacement.\" />\n",
    "Figure 34: Examples of dependent events with a draw without replacement.\n",
    "\n",
    "Figure [34](#fig:ch03_dependent_events) illustrates the following\n",
    "example: there are 4 red balls and 2 blue balls in the bag. The\n",
    "probability of choosing a red ball is $\\frac{4}{6}$ and $\\frac{2}{6}$ to\n",
    "choose a blue ball.\n",
    "\n",
    "If you pick a red ball the first time, the probability of picking\n",
    "another red ball in the second draw is $\\frac{3}{5}$; that of picking a\n",
    "blue ball is $\\frac{2}{5}$ (as illustrated in the bottom right).\n",
    "However, if you get a blue ball at the first draw, the probability of\n",
    "picking a red ball on the second draw is $\\frac{4}{5}$ and $\\frac{1}{5}$\n",
    "to pick another blue ball (top right). The first draw has an influence\n",
    "on the probability distribution of the second.\n",
    "\n",
    "By contrast, *independent events* are events that don’t interfere with\n",
    "each other. For instance, if you roll two dice, you don’t expect that\n",
    "the outcome of one will affect the outcome of the other.\n",
    "\n",
    "#### Joint Probability of Independent and Dependent Events\n",
    "\n",
    "##### Independent Events\n",
    "\n",
    "If two random variables $\\rx$ and $\\ry$ are independent, their joint\n",
    "probability is equal to the product of the probability of each event.\n",
    "Mathematically, you can write:\n",
    "\n",
    "$$\n",
    "P(\\rx=x, \\ry=y) = P(\\rx=x) P(\\ry=y)\n",
    "$$\n",
    "\n",
    "##### Dependent Events\n",
    "\n",
    "For dependent events, you’ll need to use rules from conditional\n",
    "probabilities (as we’ll detail in\n",
    "Section 2.4.3) to calculate\n",
    "their joint probability.\n",
    "\n",
    "#### Example with Independent Events\n",
    "\n",
    "For instance, if you throw a die and toss a coin, what is the\n",
    "probability to get a 6 and ‘heads’?\n",
    "\n",
    "To answer this question, you need to consider both events. The joint\n",
    "probability is calculated by multiplying the probability of each event\n",
    "together:\n",
    "\n",
    "$$\n",
    "P(\\rx=6, \\ry=\\text{'heads'}) = \\frac{1}{6} \\times \\frac{1}{2} = \\frac{1}{12}\n",
    "$$\n",
    "\n",
    "Note that $P(\\ry=\\text{'heads'})$ is a shortcut because random variables\n",
    "maps outcomes to real values: it means that the experiment associated\n",
    "with the random variable $\\ry$ has the outcome ‘heads’."
   ]
  },
  {
    "cell_type": "markdown",
   "metadata": {},
   "source": [
    "### 2.4.2 Marginal Probability\n",
    "\n",
    "In some cases, you’ll have the joint probability of multiple events and\n",
    "you’ll want to calculate the probability of one of the events\n",
    "individually, without considering the others. Such probabilities are\n",
    "called *marginal probabilities*.\n",
    "\n",
    "In the preceding example of a coin toss and a die throw, the marginal\n",
    "probabilities are simply the probabilities of single events\n",
    "(respectively, $\\frac{1}{6}$ and $\\frac{1}{2}$).\n",
    "\n",
    "<img src=\"images/ch03_joint_marginal_probability.png\" id=\"fig:ch03_joint_marginal_probability\" width=\"400\" alt=\"Figure 35: Joint and marginal probability.\" />\n",
    "Figure 35: Joint and marginal probability.\n",
    "\n",
    "Figure [35](#fig:ch03_joint_marginal_probability) summarizes the joint\n",
    "and marginal probabilities for this example. Let’s see the rule of this\n",
    "calculation.\n",
    "\n",
    "#### The Sum Rule\n",
    "\n",
    "Marginal probabilities are obtained from joint probabilities by\n",
    "*marginalizing* the other variables using the *sum rule of probability*:\n",
    "you add the joint probabilities. Mathematically, it is defined as\n",
    "follows:\n",
    "\n",
    "$$\n",
    "P(\\rx=x) = \\sum_{y} P(\\rx=x, \\ry=y)\n",
    "$$\n",
    "\n",
    "The marginal probability $P(\\rx=x)$ is the probability that $\\rx=x$\n",
    "without considering the other variables. This is calculated as the sum\n",
    "of the probabilities that $\\rx=x$ and $\\ry=y$, for all values of $y$:\n",
    "$\\sum_{y} P(\\rx=x, \\ry=y)$.\n",
    "\n",
    "Let’s take again the case of a die throw and coin flip experiment. For\n",
    "instance, the marginal probability of $\\rx=6$ is the sum of the\n",
    "following joint probabilities: $P(\\rx=6, \\ry=\\text{'heads'})$ and\n",
    "$P(\\rx=6, \\ry=\\text{'tails'})$. It is thus:\n",
    "\n",
    "$$\n",
    "\\begin{aligned}\n",
    "\\sum_y P(\\rx=6, \\ry=y) &= P(\\rx=6, \\ry=\\text{'heads'}) + P(\\rx=6, \\ry=\\text{'tails'}) \\\\\\\\\n",
    "&= \\frac{1}{12} + \\frac{1}{12}\n",
    "= \\frac{1}{6}\n",
    "\\end{aligned}\n",
    "$$\n",
    "\n",
    "Looking at Figure [35](#fig:ch03_joint_marginal_probability), the\n",
    "marginal probability is the sum of the elements in the column\n",
    "corresponding to $\\rx=6$.\n",
    "\n",
    "#### Marginal Probability Density Functions\n",
    "\n",
    "In the case of continuous variables, you calculate the marginal\n",
    "probabilities by integrating the joint probability distribution with\n",
    "respect to one of the variables.\n",
    "\n",
    "Let’s visualize the join probability functions of two continuous random\n",
    "variables, $\\rx$ and $\\ry$, to understand how it works. Since there are\n",
    "two variables, the density needs to be represented on a\n",
    "three-dimensional plot.\n",
    "\n",
    "Note also that the joint probability distribution is constructed with\n",
    "the product of each probability density (you can refer to the code in\n",
    "the notebook). You’ll see that the density is calculated as\n",
    "`z = gaussian(xy[:, 0], 0.4, 0.1) * gaussian(xy[:, 1], 0.6, 0.05)`."
   ]
  },
  {
   "cell_type": "code",
   "execution_count": 17,
   "metadata": {
    "execution": {
     "iopub.execute_input": "2021-03-23T10:38:24.786980Z",
     "iopub.status.busy": "2021-03-23T10:38:24.786242Z",
     "iopub.status.idle": "2021-03-23T10:38:24.788122Z",
     "shell.execute_reply": "2021-03-23T10:38:24.788571Z"
    }
   },
   "outputs": [],
   "source": [
    "\n",
    "def gaussian(x, mu, sigma):\n",
    "    return (1 / np.sqrt(2 * np.pi * sigma ** 2)) *\\\n",
    "        np.exp((-1/2) * ((x - mu) / sigma) ** 2)\n"
   ]
  },
  {
   "cell_type": "code",
   "execution_count": 18,
   "metadata": {
    "execution": {
     "iopub.execute_input": "2021-03-23T10:38:24.794352Z",
     "iopub.status.busy": "2021-03-23T10:38:24.793333Z",
     "iopub.status.idle": "2021-03-23T10:38:25.101192Z",
     "shell.execute_reply": "2021-03-23T10:38:25.100809Z"
    }
   },
   "outputs": [
    {
     "data": {
      "image/png": "[encoded data removed]",
      "text/plain": [
       "<Figure size 432x288 with 1 Axes>"
      ]
     },
     "metadata": {
      "needs_background": "dark"
     },
     "output_type": "display_data"
    }
   ],
   "source": [
    "\n",
    "x, y = np.mgrid[0:1:0.01, 0:1:0.01]\n",
    "xy = np.column_stack([x.flat, y.flat])\n",
    "\n",
    "mu_x = 0.4\n",
    "sigma_x = 0.1\n",
    "mu_y = 0.6\n",
    "sigma_y = 0.05\n",
    "\n",
    "z = gaussian(xy[:, 0], mu_x, sigma_x) * gaussian(xy[:, 1], mu_y, sigma_y)\n",
    "z = z.reshape(x.shape)\n",
    "\n",
    "fig = plt.figure()\n",
    "ax = fig.add_subplot(111, projection='3d')\n",
    "ax.plot_surface(x, y, z)\n",
    "ax.set_ylim(0, 1)\n",
    "\n",
    "ax.set_xlabel('x')\n",
    "ax.set_ylabel('y')\n",
    "ax.set_zlabel('z')\n",
    "plt.show()\n"
   ]
  },
  {
    "cell_type": "markdown",
   "metadata": {},
   "source": [
    "<img src=\"images/blank.png\" id=\"fig:ch03_output_joint_distribution\" alt=\"Figure 36: Joint probability distribution of the random variables \\rx and \\ry.\" />\n",
    "Figure 36: Joint probability distribution of the random variables <span class=\"math inline\">$\\rx$</span> and <span class=\"math inline\">$\\ry$</span>.\n",
    "\n",
    "Figure [36](#fig:ch03_output_joint_distribution) shows the joint\n",
    "probability density function of $\\rx$ and $\\ry$. The total volume of\n",
    "this shape must be equal to one. This volume is calculated using a\n",
    "*double integral* (you first integrate with respect to one of the\n",
    "variables, and then with respect to the other. You can find here a great\n",
    "resource about double integrals:\n",
    "https://www.khanacademy.org/math/multivariable-calculus/integrating-multivariable-functions/double-integrals-a/a/double-integrals\n",
    ") .\n",
    "\n",
    "To find the marginal probability density of $\\ry$, you’ll need to\n",
    "integrate with respect to $\\rx$, meaning that you consider $\\ry$ as a\n",
    "constant. Graphically, it corresponds to do slices on the $x$-axis at\n",
    "different values of $\\ry$.\n",
    "\n",
    "<figure>\n",
    "<img src=\"images/ch03_joint_distribution_one_slice.png\" id=\"fig:ch03_joint_distribution_one_slice\" width=\"200\" alt=\"Figure 37: Distribution of \\rx at \\ry=0.55.\" /><figcaption aria-hidden=\"true\">Figure 37: Distribution of <span class=\"math inline\">$\\rx$</span> at <span class=\"math inline\">$\\ry=0.55$</span>.</figcaption>\n",
    "</figure>\n",
    "\n",
    "For instance, Figure [37](#fig:ch03_joint_distribution_one_slice) shows\n",
    "a slice at $\\ry=0.55$. This area is one point of the probability density\n",
    "function of $\\rx$.\n",
    "\n",
    "<figure>\n",
    "<img src=\"images/ch03_joint_distribution_10_slices_density.png\" id=\"fig:ch03_joint_distribution_10_slices_density\" width=\"200\" alt=\"Figure 38: The area under the curve of each slice corresponds to a point in the probability density function.\" /><figcaption aria-hidden=\"true\">Figure 38: The area under the curve of each slice corresponds to a point in the probability density function.</figcaption>\n",
    "</figure>\n",
    "\n",
    "If you repeat this for all values of $\\ry$, you get the whole\n",
    "probability density distribution: the probability density function of\n",
    "$\\ry$ is constructed as the areas of the slices, as illustrated in\n",
    "Figure [38](#fig:ch03_joint_distribution_10_slices_density).\n",
    "\n",
    "To summarize, when you integrate with respect to $\\rx$, denoted as\n",
    "$\\int p(x, y)dx$, you get a function that gives the area of the slice\n",
    "for a specific value of $\\ry$. This area corresponds to one point on the\n",
    "probability density distribution of $\\ry$.\n",
    "\n",
    "#### Example\n",
    "\n",
    "Let’s check the previous statement by comparing the slice areas and the\n",
    "density function of $\\ry$ with an example of the previous random\n",
    "variables $\\rx$ and $\\ry$.\n",
    "\n",
    "Let’s create the variable `z`, as in Figure\n",
    "[36](#fig:ch03_output_joint_distribution):"
   ]
  },
  {
   "cell_type": "code",
   "execution_count": 19,
   "metadata": {
    "execution": {
     "iopub.execute_input": "2021-03-23T10:38:25.105703Z",
     "iopub.status.busy": "2021-03-23T10:38:25.104977Z",
     "iopub.status.idle": "2021-03-23T10:38:25.108580Z",
     "shell.execute_reply": "2021-03-23T10:38:25.109079Z"
    }
   },
   "outputs": [
    {
     "data": {
      "text/plain": [
       "(100, 100)"
      ]
     },
     "execution_count": 1,
     "metadata": {},
     "output_type": "execute_result"
    }
   ],
   "source": [
    "x, y = np.mgrid[0:1:0.01, 0:1:0.01]\n",
    "xy = np.column_stack([x.flat, y.flat])\n",
    "\n",
    "z = gaussian(xy[:, 0], mu_x, sigma_x) * gaussian(xy[:, 1], mu_y, sigma_y)\n",
    "z = z.reshape(x.shape)\n",
    "\n",
    "z.shape"
   ]
  },
  {
   "cell_type": "markdown",
   "metadata": {},
   "source": [
    "You can extract slices from `z` with for instance `z[:, 0]`, which is\n",
    "the first slice, corresponding to $\\ry=0$. Slices are separated by 0.01.\n",
    "If you plot one of the slices, you get Figure\n",
    "[39](#fig:ch03_output_one_slice):"
   ]
  },
  {
   "cell_type": "code",
   "execution_count": 20,
   "metadata": {
    "execution": {
     "iopub.execute_input": "2021-03-23T10:38:25.144296Z",
     "iopub.status.busy": "2021-03-23T10:38:25.143701Z",
     "iopub.status.idle": "2021-03-23T10:38:25.242504Z",
     "shell.execute_reply": "2021-03-23T10:38:25.242976Z"
    }
   },
   "outputs": [
    {
     "data": {
      "image/png": "[encoded data removed]",
      "text/plain": [
       "<Figure size 432x288 with 1 Axes>"
      ]
     },
     "metadata": {
      "needs_background": "dark"
     },
     "output_type": "display_data"
    }
   ],
   "source": [
    "x_axis = np.linspace(0, 1, z.shape[0])\n",
    "plt.plot(x_axis, z[:, 0])\n",
    "\n",
    "plt.show()\n"
   ]
  },
  {
    "cell_type": "markdown",
   "metadata": {},
   "source": [
    "<img src=\"images/blank.png\" id=\"fig:ch03_output_one_slice\" alt=\"Figure 39: The first slice.\" />\n",
    "Figure 39: The first slice.\n",
    "\n",
    "You want to calculate the area under the curve shown in Figure\n",
    "[39](#fig:ch03_output_one_slice). To estimate it, simply calculate the\n",
    "sum of each value multiplied by the step (0.01 because you have one\n",
    "point every 0.01):"
   ]
  },
  {
   "cell_type": "code",
   "execution_count": 21,
   "metadata": {
    "execution": {
     "iopub.execute_input": "2021-03-23T10:38:25.247571Z",
     "iopub.status.busy": "2021-03-23T10:38:25.246857Z",
     "iopub.status.idle": "2021-03-23T10:38:25.249587Z",
     "shell.execute_reply": "2021-03-23T10:38:25.250230Z"
    }
   },
   "outputs": [
    {
     "data": {
      "text/plain": [
       "4.292658322616401e-31"
      ]
     },
     "execution_count": 1,
     "metadata": {},
     "output_type": "execute_result"
    }
   ],
   "source": [
    "(z[:, 0] * 0.01).sum()"
   ]
  },
  {
   "cell_type": "markdown",
   "metadata": {},
   "source": [
    "This value is the area under the curve of the first slice.\n",
    "\n",
    "Now that you’ve got the idea, let’s do this for every slice:"
   ]
  },
  {
   "cell_type": "code",
   "execution_count": 22,
   "metadata": {
    "execution": {
     "iopub.execute_input": "2021-03-23T10:38:25.255357Z",
     "iopub.status.busy": "2021-03-23T10:38:25.254614Z",
     "iopub.status.idle": "2021-03-23T10:38:25.256564Z",
     "shell.execute_reply": "2021-03-23T10:38:25.256993Z"
    }
   },
   "outputs": [],
   "source": [
    "estimated_probability_density = np.zeros(x_axis.shape[0])\n",
    "\n",
    "for i in range(z.shape[1]):\n",
    "    slice_area = (z[:, i] * 0.01).sum()\n",
    "    estimated_probability_density[i] = slice_area"
   ]
  },
  {
   "cell_type": "markdown",
   "metadata": {},
   "source": [
    "Let’s compare what you obtain with the true density distribution that\n",
    "you got as `density_y`:"
   ]
  },
  {
   "cell_type": "code",
   "execution_count": 23,
   "metadata": {
    "execution": {
     "iopub.execute_input": "2021-03-23T10:38:25.298695Z",
     "iopub.status.busy": "2021-03-23T10:38:25.298101Z",
     "iopub.status.idle": "2021-03-23T10:38:25.417801Z",
     "shell.execute_reply": "2021-03-23T10:38:25.418206Z"
    }
   },
   "outputs": [
    {
     "data": {
      "image/png": "[encoded data removed]",
      "text/plain": [
       "<Figure size 432x288 with 1 Axes>"
      ]
     },
     "metadata": {
      "needs_background": "dark"
     },
     "output_type": "display_data"
    }
   ],
   "source": [
    "density_y = gaussian(x_axis, mu_y, sigma_y)\n",
    "\n",
    "plt.plot(x_axis, estimated_probability_density, label=\"Estimated\")\n",
    "plt.plot(x_axis, density_y, linestyle=':', label=\"True\")\n",
    "\n",
    "plt.legend()\n",
    "plt.show()\n"
   ]
  },
  {
    "cell_type": "markdown",
   "metadata": {},
   "source": [
    "<img src=\"images/blank.png\" id=\"fig:ch03_output_comparison_estimated_true\" alt=\"Figure 40: Comparison of the estimated and true marginal probability functions.\" />\n",
    "Figure 40: Comparison of the estimated and true marginal probability functions.\n",
    "\n",
    "That’s good: you can see in Figure\n",
    "[40](#fig:ch03_output_comparison_estimated_true) that these two density\n",
    "functions are quite identical, showing that the marginal probability\n",
    "density function can be obtained from the joint probability\n",
    "distribution.\n",
    "\n",
    "#### Conclusion\n",
    "\n",
    "To go from the joint probability distribution to the marginal\n",
    "probability distribution, you calculate the integral of the joint\n",
    "probability distribution $p(x, y)$ with respect to one of the variable,\n",
    "such as:\n",
    "\n",
    "$$\n",
    "p(y) = \\int p(x, y) \\; dx\n",
    "$$\n",
    "\n",
    "and\n",
    "\n",
    "$$\n",
    "p(x) = \\int p(x, y) \\; dy\n",
    "$$\n",
    "\n",
    "In the previous example, we approximated the integral by calculating the\n",
    "area under the curve using slices as you saw in\n",
    "Section 1.2."
   ]
  },
  {
    "cell_type": "markdown",
   "metadata": {},
   "source": [
    "### 2.4.3 Conditional Probability\n",
    "\n",
    "In some cases, you will want to calculate the probability that an event\n",
    "will occur knowing that another event has already occurred. For\n",
    "instance, you can ask what is the probability to draw a pair of kings in\n",
    "a deck of playing cards. You need to calculate the probability of\n",
    "getting a king in the first draw, and then the probability to draw a\n",
    "second king. You want to know the probability of the second draw *under\n",
    "the condition* that you got a king in the first draw.\n",
    "\n",
    "This is called *conditional probability*: the probability of an event\n",
    "given that another event has occurred.\n",
    "\n",
    "#### Notation\n",
    "\n",
    "We refer to conditional probability using the vertical bar (“\\|”), as\n",
    "follows:\n",
    "\n",
    "$$\n",
    "P(\\ry=y | \\rx=x)\n",
    "$$\n",
    "\n",
    "The conditional probability $P(\\ry=y | \\rx=x)$ is the probability that\n",
    "the random variable $\\ry$ equals $y$ *given that* the random variable\n",
    "$\\rx$ equals $x$. Note that this notation differs from\n",
    "$P(\\ry=y, \\rx=x)$, which is the probability that both $\\rx=x$ and\n",
    "$\\ry=y$.\n",
    "\n",
    "#### Example\n",
    "\n",
    "Samantha’s car sometimes shows a warning light when there is a problem,\n",
    "but it is defective: sometimes the warning light comes on even when\n",
    "there is no problem, and sometimes the light is off but the car needs\n",
    "repair.\n",
    "\n",
    "Let’s call $P(\\text{warning light})$ the probability of the event “the\n",
    "warning light is on” and $P(\\text{needs repair})$ the probability of the\n",
    "event “the car needs repair”.\n",
    "\n",
    "<img src=\"images/ch03_conditional_proba.png\" id=\"fig:ch03_conditional_proba\" width=\"400\" alt=\"Figure 41: The probability that the car needs repair is illustrated in blue and the probability that the warning light is on is illustrated in red, for five observations.\" />\n",
    "Figure 41: The probability that the car needs repair is illustrated in blue and the probability that the warning light is on is illustrated in red, for five observations.\n",
    "\n",
    "Figure [41](#fig:ch03_conditional_proba) illustrates the probabilities\n",
    "that the car needs repair (in blue) and the probability that the warning\n",
    "light is on (in red). The figure shows the data for five observations\n",
    "(the five columns from ‘Obs. 1’ to ‘Obs. 5’). For each of them, Samantha\n",
    "looked at the status of the car (needs repair or not) and the warning\n",
    "light (on or off). A blue square tells that the car needed repair and a\n",
    "red square that the warning light was on. For instance, in the first\n",
    "observation, the car needed repair but the warning light was off (no red\n",
    "square).\n",
    "\n",
    "You can see that $P(\\text{needs repair})=\\frac{4}{5}$ because there are\n",
    "four observations where the car needed repair out of a total of five\n",
    "observations. Similarly, $P(\\text{warning light})=\\frac{2}{5}$ because\n",
    "there are two observations where the warning light was on. There is also\n",
    "an observation with a blue and a red square: the car needed repair and\n",
    "the warning light was on, so\n",
    "$P(\\text{needs repair}, \\text{warning light})=\\frac{1}{5}$.\n",
    "\n",
    "Let’s examine the conditional probabilities for this example. The\n",
    "statement $P(\\text{needs repair} | \\text{warning light})$ is the\n",
    "probability that the car needed repair given that the warning light was\n",
    "on. You can think of this probability as follows: you take only the\n",
    "observations where the warning light was on (‘Obs. 4’ and ‘Obs. 5’), and\n",
    "then you look at the proportion of observations where car needed repair.\n",
    "These conditions are met in one observation out of the two so\n",
    "$P(\\text{needs repair} | \\text{warning light})=\\frac{1}{2}$.\n",
    "\n",
    "The same idea can be used to find\n",
    "$P(\\text{warning light} | \\text{needs repair})$. You take the\n",
    "observations where the car needed repair and consider the number of\n",
    "times the warning light was on. You can see that this is one observation\n",
    "out of four.\n",
    "\n",
    "To summarize, conditional probability is the probability of a subset of\n",
    "the observations (depending on the condition). The link between\n",
    "conditional and joint probability is formalized in the next section.\n",
    "\n",
    "#### The Product Rule of Probability\n",
    "\n",
    "For discrete random variables, the probability that $\\rx=x$ *and*\n",
    "$\\ry=y$ (joint probability) equals the probability that $\\rx=x$\n",
    "multiplied by the probability that $\\ry=y$ given that $\\rx=x$\n",
    "(conditional probability). Mathematically, you have:\n",
    "\n",
    "$$\n",
    "P(\\rx=x, \\ry=y) = P(\\ry=y | \\rx=x) P(\\rx=x)\n",
    "$$\n",
    "\n",
    "This is the *product rule of probability*, also called the *chain rule\n",
    "of probability*. Equivalently, you can write:\n",
    "\n",
    "$$\n",
    "P(\\ry=y | \\rx=x) = \\frac{P(\\rx=x, \\ry=y)}{P(\\rx=x) }\n",
    "$$\n",
    "\n",
    "Let’s see the logic behind these two formulations of the product rule\n",
    "using the previous example.\n",
    "\n",
    "First, the joint probability\n",
    "$P(\\text{needs repair}, \\text{warning light})$ is:\n",
    "\n",
    "$$\n",
    "P(\\text{needs repair}, \\text{warning light}) = P(\\text{warning light} | \\text{needs repair}) P(\\text{needs repair})\n",
    "$$\n",
    "\n",
    "The probability that the car needs repair and the warning light is on\n",
    "($P(\\text{needs repair}, \\text{warning light})$) will be smaller than\n",
    "$P(\\text{warning light} | \\text{needs repair})$. To consider all\n",
    "observations, you need to multiply by the proportion of observations\n",
    "where the car needs repair ($P(\\text{needs repair})$).\n",
    "\n",
    "Let’s see the second statement with the same example:\n",
    "\n",
    "$$\n",
    "P(\\text{warning light} | \\text{needs repair}) = \\frac{P(\\text{needs repair}, \\text{warning light})}{P(\\text{needs repair}) }\n",
    "$$\n",
    "\n",
    "Similarly, to go from all observations to only the observations where\n",
    "the car needs repair, you need this time to divide by\n",
    "$P(\\text{needs repair})$.\n",
    "\n",
    "#### More Events\n",
    "\n",
    "We can generalize the product rule to more events. For instance, with\n",
    "three events $A$, $B$ and $C$, you would have:\n",
    "\n",
    "$$\n",
    "P(A, B, C) = P(A | B, C) P(B, C)\n",
    "$$\n",
    "\n",
    "This means that the probability that the events $A$, $B$ and $C$\n",
    "occurred is equal to the probability that $A$ occurred given that $B$\n",
    "and $C$ occurred multiplied by the probability that $B$ and $C$\n",
    "occurred.\n",
    "\n",
    "You can chain these probability products. Since the product rule says\n",
    "that:\n",
    "\n",
    "$$\n",
    "P(B, C) = P(B | C) P(C)\n",
    "$$\n",
    "\n",
    "You get:\n",
    "\n",
    "$$\n",
    "P(A, B, C) = P(A | B, C)  P(B | C) P(C)\n",
    "$$\n",
    "\n",
    "2.5 Cumulative Distribution Functions\n",
    "-------------------------------------\n",
    "\n",
    "*Cumulative distribution functions* (CDFs) are an alternative way to\n",
    "describe a random variable. The CDF corresponds to the probability that\n",
    "a random variable will take a value less than or equal to the value $x$.\n",
    "Let’s denote $F_{\\rx}(x)$ the CDF of the random variable $\\rx$:\n",
    "\n",
    "$$\n",
    "F_{\\rx}(x) = P(\\rx \\leq x)\n",
    "$$\n",
    "\n",
    "When $x$ increases, the probability necessarily increases because all\n",
    "values smaller than $x$ are considered (hence, the name *cumulative*).\n",
    "Thus, cumulative distribution functions are always non-decreasing going\n",
    "from 0 to 1.\n",
    "\n",
    "Let’s look at the following normal distribution (you can find more\n",
    "details on normal distribution in\n",
    "Section 3.2) and its CDF:"
   ]
  },
  {
   "cell_type": "code",
   "execution_count": 24,
   "metadata": {
    "execution": {
     "iopub.execute_input": "2021-03-23T10:38:25.445551Z",
     "iopub.status.busy": "2021-03-23T10:38:25.444915Z",
     "iopub.status.idle": "2021-03-23T10:38:25.579395Z",
     "shell.execute_reply": "2021-03-23T10:38:25.579722Z"
    }
   },
   "outputs": [
    {
     "data": {
      "image/png": "[encoded data removed]",
      "text/plain": [
       "<Figure size 360x288 with 2 Axes>"
      ]
     },
     "metadata": {
      "needs_background": "dark"
     },
     "output_type": "display_data"
    }
   ],
   "source": [
    "\n",
    "x_axis = np.arange(0, 1, 0.01)\n",
    "pdf = gaussian(x_axis, 0.5, 0.1)\n",
    "cdf = np.cumsum(pdf)\n",
    "cdf = (cdf - cdf.min()) / (cdf.max() - cdf.min())\n",
    "\n",
    "f, axes = plt.subplots(2, 1, figsize=(5, 4))\n",
    "axes[0].plot(x_axis, pdf)\n",
    "axes[0].set_title(\"PDF\")\n",
    "axes[1].plot(x_axis, cdf)\n",
    "axes[1].set_title(\"CDF\")\n",
    "plt.show()\n"
   ]
  },
  {
    "cell_type": "markdown",
   "metadata": {},
   "source": [
    "<img src=\"images/blank.png\" id=\"fig:ch03_output_pdf_cdf\" alt=\"Figure 42: Probability density function (top panel) and cumulative density function (bottom panel) for a normal distribution with a mean of 0.5 and a standard deviation of 0.1.\" />\n",
    "Figure 42: Probability density function (top panel) and cumulative density function (bottom panel) for a normal distribution with a mean of 0.5 and a standard deviation of 0.1.\n",
    "\n",
    "Figure [42](#fig:ch03_output_pdf_cdf) shows a plot of the probability\n",
    "density function using a normal distribution of mean 0.5 and standard\n",
    "deviation 0.1. The cumulative distribution function is shown in the\n",
    "bottom panel. The PDF corresponds to the derivative of the CDF.\n",
    "\n",
    "2.6 Expectation and Variance of Random Variables\n",
    "------------------------------------------------\n",
    "\n",
    "The *expected value*, or *expectation*, of a random variable is the\n",
    "average value you’ll get when you consider a large number of trials. The\n",
    "expected value of a random variable $\\rx$ is written as\n",
    "$\\expval[\\rx\\rbrack$."
   ]
  },
  {
   "cell_type": "markdown",
   "metadata": {},
   "source": [
    "### 2.6.1 Discrete Random Variables\n",
    "\n",
    "For a discrete variable, the expected value corresponds to the sum of\n",
    "each outcome weighted by its probability:\n",
    "\n",
    "$$\n",
    "\\expval[\\rx\\rbrack = \\sum_{i=1}^n P(x_i) x_i\n",
    "$$\n",
    "\n",
    "with $\\rx$ the random variable having $n$ possible outcomes, $x_i$ being\n",
    "the $i$th possible outcome that has a probability $P(x_i)$ to occur.\n",
    "\n",
    "#### Example\n",
    "\n",
    "For instance, let’s take a random variable $\\rx$ that can take the\n",
    "following values $x$: 1, 5, 10 or 100. Let’s say that the distribution\n",
    "is uniform: the outcomes are equiprobable, each with a probability of\n",
    "$\\frac{1}{4}$. The expected value is:\n",
    "\n",
    "$$\n",
    "\\begin{aligned}\n",
    "\\expval[\\rx\\rbrack &= P(\\rx=1) \\cdot 1 + P(\\rx=5) \\cdot 5 + P(\\rx=10) \\cdot 10 + P(\\rx=100) \\cdot 100 \\\\\\\\\n",
    "&= \\frac{1}{4} \\cdot 1 + \\frac{1}{4} \\cdot 5 + \\frac{1}{4} \\cdot 10 + \\frac{1}{4} \\cdot 100 \\\\\\\\\n",
    "&= \\frac{1}{4} + \\frac{5}{4} + \\frac{10}{4} + \\frac{100}{4}\n",
    "= \\frac{116}{4}\n",
    "= 29\n",
    "\\end{aligned}\n",
    "$$\n",
    "\n",
    "This means that if you repeat the experiment a large number of time,\n",
    "you’ll get in average a value of 29.\n",
    "\n",
    "You can simulate random trials with the function `np.random.choice()`\n",
    "and calculate the average of the outcomes. Let’s plot the average value\n",
    "in a function of the number of trials:"
   ]
  },
  {
   "cell_type": "code",
   "execution_count": 25,
   "metadata": {
    "execution": {
     "iopub.execute_input": "2021-03-23T10:38:25.738911Z",
     "iopub.status.busy": "2021-03-23T10:38:25.667708Z",
     "iopub.status.idle": "2021-03-23T10:38:28.161984Z",
     "shell.execute_reply": "2021-03-23T10:38:28.162367Z"
    }
   },
   "outputs": [],
   "source": [
    "np.random.seed(123)\n",
    "\n",
    "def run_trials(n_trials, choices):\n",
    "    outcomes = np.zeros(n_trials)\n",
    "\n",
    "    for i in range(n_trials):\n",
    "        outcomes[i] = np.random.choice(choices)\n",
    "\n",
    "    return outcomes.mean()\n",
    "\n",
    "n_trials = np.arange(1, 10000, 100)\n",
    "outcomes_average = np.zeros(n_trials.shape[0])\n",
    "count = 0\n",
    "for n_trial in n_trials:\n",
    "    outcomes_average[count] = run_trials(n_trials=n_trial, choices=[1, 5, 10, 100])\n",
    "    count += 1"
   ]
  },
  {
   "cell_type": "code",
   "execution_count": 26,
   "metadata": {
    "execution": {
     "iopub.execute_input": "2021-03-23T10:38:28.191321Z",
     "iopub.status.busy": "2021-03-23T10:38:28.174375Z",
     "iopub.status.idle": "2021-03-23T10:38:28.258824Z",
     "shell.execute_reply": "2021-03-23T10:38:28.259235Z"
    }
   },
   "outputs": [
    {
     "data": {
      "image/png": "[encoded data removed]",
      "text/plain": [
       "<Figure size 432x288 with 1 Axes>"
      ]
     },
     "metadata": {
      "needs_background": "dark"
     },
     "output_type": "display_data"
    }
   ],
   "source": [
    "plt.plot(n_trials, outcomes_average, zorder=0)\n",
    "plt.hlines(y=29, xmin=1, xmax=n_trials[-1], color='#84EE29')\n",
    "\n",
    "plt.show()\n"
   ]
  },
  {
    "cell_type": "markdown",
   "metadata": {},
   "source": [
    "<img src=\"images/blank.png\" id=\"fig:ch03_output_expected_value\" alt=\"Figure 43: The average of the outcomes (y-axis) of a random experiment for different number of trials (from 1 to 10000, as shown in the x-axis). The expected value previously calculated is represented as a green horizontal line.\" />\n",
    "Figure 43: The average of the outcomes (<span class=\"math inline\"><em>y</em></span>-axis) of a random experiment for different number of trials (from 1 to 10000, as shown in the <span class=\"math inline\"><em>x</em></span>-axis). The expected value previously calculated is represented as a green horizontal line.\n",
    "\n",
    "Figure [43](#fig:ch03_output_expected_value) shows that with enough\n",
    "trials, the result approaches the expected value you calculated (29)."
   ]
  },
  {
   "cell_type": "markdown",
   "metadata": {},
   "source": [
    "### 2.6.2 Continuous Random Variables\n",
    "\n",
    "For continuous variables, the idea is similar; you’ll just need to\n",
    "integrate instead of summing the weighted outcomes.\n",
    "\n",
    "$$\n",
    "\\expval[\\rx\\rbrack = \\int p(x) x \\; dx\n",
    "$$"
   ]
  },
  {
   "cell_type": "markdown",
   "metadata": {},
   "source": [
    "### 2.6.3 Variance of Random Variables\n",
    "\n",
    "The variance of a random variable is a metric describing the spread of\n",
    "the possible outcomes of the variable. You saw in\n",
    "Section 2.1.1 that\n",
    "the variance is the mean of the squared differences from the mean. With\n",
    "random variables, it is the expected value of the squared differences\n",
    "from the expected value:\n",
    "\n",
    "$$\n",
    "Var(\\rx) = \\expval[ (\\rx - \\expval[\\rx\\rbrack)^2 \\rbrack\n",
    "$$\n",
    "\n",
    "The variance of a random variable gives information about the\n",
    "variability of the samples, with a low value when the values agglomerate\n",
    "around the expected value and a large value when they are more spread.\n",
    "\n",
    "2.7 Hands-On Project: The Central Limit Theorem\n",
    "-----------------------------------------------\n",
    "\n",
    "For this hands-on project, you’ll need some knowledge about uniform and\n",
    "Gaussian distributions (you can refer respectively to\n",
    "Section 3.1 and\n",
    "Section 3.2).\n",
    "\n",
    "The *central limit theorem* says that, if you consider multiple\n",
    "independent random variables drawn from a distribution with $n$ large\n",
    "enough and average or sum their outcomes, the distribution of the\n",
    "results will be approximated by a Gaussian distribution."
   ]
  },
  {
   "cell_type": "markdown",
   "metadata": {},
   "source": [
    "### 2.7.1 Continuous Distribution\n",
    "\n",
    "Let’s implement an experiment to illustrate the central limit theorem\n",
    "with various number of random variables. At each of the 10000 trials of\n",
    "this experiment, you’ll get random values from uniform distributions for\n",
    "each random variables and average these values. So you’ll get one value\n",
    "per trial and look at the distribution of these values."
   ]
  },
  {
   "cell_type": "code",
   "execution_count": 27,
   "metadata": {
    "execution": {
     "iopub.execute_input": "2021-03-23T10:38:28.264301Z",
     "iopub.status.busy": "2021-03-23T10:38:28.263684Z",
     "iopub.status.idle": "2021-03-23T10:38:28.265852Z",
     "shell.execute_reply": "2021-03-23T10:38:28.266286Z"
    }
   },
   "outputs": [],
   "source": [
    "def mean_distribution_uniform(n_random_var):\n",
    "    n_trials = 10000\n",
    "    all_trials = np.zeros(n_trials)\n",
    "    for i in range(n_trials):\n",
    "        all_random_var = np.zeros(n_random_var)\n",
    "        for random_var in range(n_random_var):\n",
    "            all_random_var[random_var] = np.random.uniform(0, 1)\n",
    "        all_trials[i] = all_random_var.mean()\n",
    "\n",
    "    return all_trials"
   ]
  },
  {
   "cell_type": "markdown",
   "metadata": {},
   "source": [
    "This function allows us to do the experiment with various number of\n",
    "random variables (the parameter `n_random_var`). Let’s use it with one,\n",
    "two, and five random variables and look at the distribution of the\n",
    "results with histograms:"
   ]
  },
  {
   "cell_type": "code",
   "execution_count": 28,
   "metadata": {
    "execution": {
     "iopub.execute_input": "2021-03-23T10:38:28.353746Z",
     "iopub.status.busy": "2021-03-23T10:38:28.313457Z",
     "iopub.status.idle": "2021-03-23T10:38:28.998882Z",
     "shell.execute_reply": "2021-03-23T10:38:28.999308Z"
    }
   },
   "outputs": [
    {
     "data": {
      "image/png": "[encoded data removed]",
      "text/plain": [
       "<Figure size 864x144 with 3 Axes>"
      ]
     },
     "metadata": {
      "needs_background": "dark"
     },
     "output_type": "display_data"
    }
   ],
   "source": [
    "\n",
    "np.random.seed(123)\n",
    "\n",
    "random_var_uniform_1 = mean_distribution_uniform(1)\n",
    "random_var_uniform_2 = mean_distribution_uniform(2)\n",
    "random_var_uniform_5 = mean_distribution_uniform(5)\n",
    "\n",
    "f, axes = plt.subplots(1, 3, figsize=(12, 2))\n",
    "axes[0].hist(random_var_uniform_1, bins=20)\n",
    "axes[1].hist(random_var_uniform_2, bins=20) \n",
    "axes[2].hist(random_var_uniform_5, bins=20) \n",
    "# [...] Add titles, limits etc.\n",
    "\n",
    "axes[0].set_xlim(0, 1)\n",
    "axes[0].set_ylim(0, 1500)\n",
    "axes[0].set_title(\"One Random Variable\")\n",
    "axes[0].set_xlabel('Mean of the random variables')\n",
    "\n",
    "axes[1].set_xlim(0, 1)\n",
    "axes[1].set_ylim(0, 1500)\n",
    "axes[1].set_title(\"Two Random Variables\")\n",
    "axes[1].set_xlabel('Mean of the random variables')\n",
    "\n",
    "axes[2].set_xlim(0, 1)\n",
    "axes[2].set_ylim(0, 1500)\n",
    "axes[2].set_title(\"Five Random Variables\")\n",
    "axes[2].set_xlabel('Mean of the random variables')\n",
    "plt.show()\n"
   ]
  },
  {
    "cell_type": "markdown",
   "metadata": {},
   "source": [
    "<img src=\"images/blank.png\" id=\"fig:ch03_output_mean_random_variables_uniform\" alt=\"Figure 44: Histograms showing the distribution of the mean values over 1, 2 or 5 random variables.\" />\n",
    "Figure 44: Histograms showing the distribution of the mean values over 1, 2 or 5 random variables.\n",
    "\n",
    "Figure [44](#fig:ch03_output_mean_random_variables_uniform) shows that\n",
    "the distribution looks more and more like a Gaussian distribution as the\n",
    "number of random variables increases."
   ]
  },
  {
   "cell_type": "markdown",
   "metadata": {},
   "source": [
    "### 2.7.2 Discrete Distribution\n",
    "\n",
    "The central limit theorem can also be observed with discrete variables.\n",
    "Let’s say that we roll some dice and look at the sum of the outcomes (in\n",
    "the previous example, you looked at the mean of the outcomes: using the\n",
    "sum is equivalent). For instance, rolling two dice and getting 1 and 5\n",
    "would lead to a sum of 6.\n",
    "\n",
    "Let’s start by implementing the new trial function:"
   ]
  },
  {
   "cell_type": "code",
   "execution_count": 29,
   "metadata": {
    "execution": {
     "iopub.execute_input": "2021-03-23T10:38:29.003730Z",
     "iopub.status.busy": "2021-03-23T10:38:29.003215Z",
     "iopub.status.idle": "2021-03-23T10:38:29.005020Z",
     "shell.execute_reply": "2021-03-23T10:38:29.005380Z"
    }
   },
   "outputs": [],
   "source": [
    "def mean_distribution_dice(n_dice):\n",
    "    n_trials = 100000\n",
    "    all_trials = np.zeros(n_trials)\n",
    "    for i in range(n_trials):\n",
    "        all_dice = np.zeros(n_dice)\n",
    "        for dice in range(n_dice):\n",
    "            all_dice[dice] = np.random.choice([1, 2, 3, 4, 5, 6])\n",
    "        all_trials[i] = all_dice.sum()\n",
    "\n",
    "    return all_trials"
   ]
  },
  {
   "cell_type": "markdown",
   "metadata": {},
   "source": [
    "Now, you’ll use this function to evaluate the distribution of the sums\n",
    "for 1, 2 and 20 dice:"
   ]
  },
  {
   "cell_type": "code",
   "execution_count": 30,
   "metadata": {
    "execution": {
     "iopub.execute_input": "2021-03-23T10:38:29.010323Z",
     "iopub.status.busy": "2021-03-23T10:38:29.009421Z",
     "iopub.status.idle": "2021-03-23T10:38:43.086197Z",
     "shell.execute_reply": "2021-03-23T10:38:43.086920Z"
    }
   },
   "outputs": [
    {
     "data": {
      "image/png": "[encoded data removed]",
      "text/plain": [
       "<Figure size 864x144 with 3 Axes>"
      ]
     },
     "metadata": {
      "needs_background": "dark"
     },
     "output_type": "display_data"
    }
   ],
   "source": [
    "\n",
    "np.random.seed(123)\n",
    "\n",
    "random_var_dice_1 = mean_distribution_dice(1)\n",
    "random_var_dice_2 = mean_distribution_dice(2)\n",
    "random_var_dice_20 = mean_distribution_dice(20)\n",
    "\n",
    "f, axes = plt.subplots(1, 3, figsize=(12, 2))\n",
    "axes[0].hist(random_var_dice_1, bins=6) \n",
    "axes[1].hist(random_var_dice_2, bins=11) \n",
    "axes[2].hist(random_var_dice_20, bins=34) \n",
    "# [...] Add titles, limits etc.\n",
    "\n",
    "axes[0].set_ylim(0, 18000)\n",
    "axes[0].set_title(\"1 Dice\")\n",
    "axes[0].set_xlabel('Sum of the dice outcomes')\n",
    "\n",
    "axes[1].set_ylim(0, 18000)\n",
    "axes[1].set_title(\"2 Dice\")\n",
    "axes[1].set_xlabel('Sum of the dice outcomes')\n",
    "\n",
    "axes[2].set_ylim(0, 18000)\n",
    "axes[2].set_title(\"20 Dice\")\n",
    "axes[2].set_xlabel('Sum of the dice outcomes')\n",
    "plt.show()\n"
   ]
  },
  {
    "cell_type": "markdown",
   "metadata": {},
   "source": [
    "<img src=\"images/blank.png\" id=\"fig:ch03_output_mean_random_variables_dice\" alt=\"Figure 45: Histograms showing the distribution of the sums of the outcomes in the dice experiment.\" />\n",
    "Figure 45: Histograms showing the distribution of the sums of the outcomes in the dice experiment.\n",
    "\n",
    "You can see in Figure [45](#fig:ch03_output_mean_random_variables_dice)\n",
    "that the same phenomenon shown in Figure\n",
    "[44](#fig:ch03_output_mean_random_variables_uniform) occurs when\n",
    "variables are drawn from a discrete distribution.\n",
    "\n",
    "In the next chapter, you’ll see more details about the uniform and\n",
    "Gaussian distribution.\n",
    "\n"
   ]
  }
 ],
 "metadata": {
  "language_info": {
   "codemirror_mode": {
    "name": "ipython",
    "version": 3
   },
   "file_extension": ".py",
   "mimetype": "text/x-python",
   "name": "python",
   "nbconvert_exporter": "python",
   "pygments_lexer": "ipython3",
   "version": "3.8.5"
  }
 },
 "nbformat": 4,
 "nbformat_minor": 5
}
